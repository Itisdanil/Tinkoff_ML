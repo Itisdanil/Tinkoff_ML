{
  "nbformat": 4,
  "nbformat_minor": 0,
  "metadata": {
    "kernelspec": {
      "display_name": "Python 3",
      "language": "python",
      "name": "python3"
    },
    "language_info": {
      "codemirror_mode": {
        "name": "ipython",
        "version": 3
      },
      "file_extension": ".py",
      "mimetype": "text/x-python",
      "name": "python",
      "nbconvert_exporter": "python",
      "pygments_lexer": "ipython3",
      "version": "3.7.4"
    },
    "colab": {
      "name": "diabet.ipynb",
      "provenance": [],
      "collapsed_sections": [
        "4XH1eTP1u4oG",
        "U4ngGCN-3MaJ",
        "9-VBTBwi7grG"
      ]
    }
  },
  "cells": [
    {
      "cell_type": "markdown",
      "metadata": {
        "id": "-3bM9UzwfS9d"
      },
      "source": [
        "# ML T-Generation Занятие 3: Линейная регрессия.\n",
        "# Проблема переобучения. Кросс-валидация и регуляризация.\n"
      ]
    },
    {
      "cell_type": "markdown",
      "metadata": {
        "id": "HFPUzOI3fS-2"
      },
      "source": [
        "# Домашнее задание (6 баллов + гешефт за улучшения)"
      ]
    },
    {
      "cell_type": "code",
      "metadata": {
        "id": "rAJRlpm6fS-3"
      },
      "source": [
        "import numpy as np\n",
        "import pandas as pd\n",
        "import matplotlib.pyplot as plt\n",
        "import seaborn as sns\n",
        "\n",
        "%matplotlib inline"
      ],
      "execution_count": null,
      "outputs": []
    },
    {
      "cell_type": "markdown",
      "metadata": {
        "id": "kQuXaLGDfS-3"
      },
      "source": [
        "Для домашнего задания вы используете другой датасет."
      ]
    },
    {
      "cell_type": "code",
      "metadata": {
        "colab": {
          "base_uri": "https://localhost:8080/",
          "height": 204
        },
        "id": "_VRZazR-fS-4",
        "outputId": "08dcd048-3656-4d0e-e356-e2f77b6787f3"
      },
      "source": [
        "df = pd.read_csv('diabetes.data.csv', sep='\\t')\n",
        "df.head()"
      ],
      "execution_count": null,
      "outputs": [
        {
          "output_type": "execute_result",
          "data": {
            "text/html": [
              "<div>\n",
              "<style scoped>\n",
              "    .dataframe tbody tr th:only-of-type {\n",
              "        vertical-align: middle;\n",
              "    }\n",
              "\n",
              "    .dataframe tbody tr th {\n",
              "        vertical-align: top;\n",
              "    }\n",
              "\n",
              "    .dataframe thead th {\n",
              "        text-align: right;\n",
              "    }\n",
              "</style>\n",
              "<table border=\"1\" class=\"dataframe\">\n",
              "  <thead>\n",
              "    <tr style=\"text-align: right;\">\n",
              "      <th></th>\n",
              "      <th>AGE</th>\n",
              "      <th>SEX</th>\n",
              "      <th>BMI</th>\n",
              "      <th>BP</th>\n",
              "      <th>S1</th>\n",
              "      <th>S2</th>\n",
              "      <th>S3</th>\n",
              "      <th>S4</th>\n",
              "      <th>S5</th>\n",
              "      <th>S6</th>\n",
              "      <th>Y</th>\n",
              "    </tr>\n",
              "  </thead>\n",
              "  <tbody>\n",
              "    <tr>\n",
              "      <th>0</th>\n",
              "      <td>59</td>\n",
              "      <td>2</td>\n",
              "      <td>32.1</td>\n",
              "      <td>101.0</td>\n",
              "      <td>157</td>\n",
              "      <td>93.2</td>\n",
              "      <td>38.0</td>\n",
              "      <td>4.0</td>\n",
              "      <td>4.8598</td>\n",
              "      <td>87</td>\n",
              "      <td>151</td>\n",
              "    </tr>\n",
              "    <tr>\n",
              "      <th>1</th>\n",
              "      <td>48</td>\n",
              "      <td>1</td>\n",
              "      <td>21.6</td>\n",
              "      <td>87.0</td>\n",
              "      <td>183</td>\n",
              "      <td>103.2</td>\n",
              "      <td>70.0</td>\n",
              "      <td>3.0</td>\n",
              "      <td>3.8918</td>\n",
              "      <td>69</td>\n",
              "      <td>75</td>\n",
              "    </tr>\n",
              "    <tr>\n",
              "      <th>2</th>\n",
              "      <td>72</td>\n",
              "      <td>2</td>\n",
              "      <td>30.5</td>\n",
              "      <td>93.0</td>\n",
              "      <td>156</td>\n",
              "      <td>93.6</td>\n",
              "      <td>41.0</td>\n",
              "      <td>4.0</td>\n",
              "      <td>4.6728</td>\n",
              "      <td>85</td>\n",
              "      <td>141</td>\n",
              "    </tr>\n",
              "    <tr>\n",
              "      <th>3</th>\n",
              "      <td>24</td>\n",
              "      <td>1</td>\n",
              "      <td>25.3</td>\n",
              "      <td>84.0</td>\n",
              "      <td>198</td>\n",
              "      <td>131.4</td>\n",
              "      <td>40.0</td>\n",
              "      <td>5.0</td>\n",
              "      <td>4.8903</td>\n",
              "      <td>89</td>\n",
              "      <td>206</td>\n",
              "    </tr>\n",
              "    <tr>\n",
              "      <th>4</th>\n",
              "      <td>50</td>\n",
              "      <td>1</td>\n",
              "      <td>23.0</td>\n",
              "      <td>101.0</td>\n",
              "      <td>192</td>\n",
              "      <td>125.4</td>\n",
              "      <td>52.0</td>\n",
              "      <td>4.0</td>\n",
              "      <td>4.2905</td>\n",
              "      <td>80</td>\n",
              "      <td>135</td>\n",
              "    </tr>\n",
              "  </tbody>\n",
              "</table>\n",
              "</div>"
            ],
            "text/plain": [
              "   AGE  SEX   BMI     BP   S1     S2    S3   S4      S5  S6    Y\n",
              "0   59    2  32.1  101.0  157   93.2  38.0  4.0  4.8598  87  151\n",
              "1   48    1  21.6   87.0  183  103.2  70.0  3.0  3.8918  69   75\n",
              "2   72    2  30.5   93.0  156   93.6  41.0  4.0  4.6728  85  141\n",
              "3   24    1  25.3   84.0  198  131.4  40.0  5.0  4.8903  89  206\n",
              "4   50    1  23.0  101.0  192  125.4  52.0  4.0  4.2905  80  135"
            ]
          },
          "metadata": {
            "tags": []
          },
          "execution_count": 50
        }
      ]
    },
    {
      "cell_type": "markdown",
      "metadata": {
        "id": "Fo_0T_8ufS-4"
      },
      "source": [
        "В датасете приводится информация о пациентах и их состоянии при заболевании диабетом. Описание признаков можно прочитать [здесь](https://www4.stat.ncsu.edu/~boos/var.select/diabetes.html). Колонка Y - целевая переменная:"
      ]
    },
    {
      "cell_type": "markdown",
      "metadata": {
        "id": "fTFZlnMRuwRQ"
      },
      "source": [
        "# Версия 1"
      ]
    },
    {
      "cell_type": "code",
      "metadata": {
        "colab": {
          "base_uri": "https://localhost:8080/"
        },
        "id": "xsOL1fP0fS-5",
        "outputId": "9bc109c6-16e0-4ede-89ca-da54f3d3ad9d"
      },
      "source": [
        "df1 = pd.read_csv('diabetes.data.csv', sep='\\t')\n",
        "reg = LinearRegression()\n",
        "\n",
        "target = 'Y'\n",
        "X1 = df1.drop([target], axis=1)\n",
        "y1 = df1[target]\n",
        "\n",
        "reg.fit(X1, y1)\n",
        "\n",
        "print(\"Сдвиг={}\".format(reg.intercept_))\n",
        "for column, coef in zip(X1.columns, reg.coef_):\n",
        "    print(\"Коэффициент для {}={}\".format(column, coef))"
      ],
      "execution_count": null,
      "outputs": [
        {
          "output_type": "stream",
          "text": [
            "Сдвиг=-334.56713851878817\n",
            "Коэффициент для AGE=-0.03636122422361953\n",
            "Коэффициент для SEX=-22.859648090498382\n",
            "Коэффициент для BMI=5.602962091923707\n",
            "Коэффициент для BP=1.1168079933181883\n",
            "Коэффициент для S1=-1.0899963340632173\n",
            "Коэффициент для S2=0.7464504555142071\n",
            "Коэффициент для S3=0.3720047150891328\n",
            "Коэффициент для S4=6.533831935990336\n",
            "Коэффициент для S5=68.48312496478835\n",
            "Коэффициент для S6=0.280116989321499\n"
          ],
          "name": "stdout"
        }
      ]
    },
    {
      "cell_type": "code",
      "metadata": {
        "colab": {
          "base_uri": "https://localhost:8080/"
        },
        "id": "RaDzqZnvYrPc",
        "outputId": "4a58c299-54c3-42e9-daf7-3626fad79bd0"
      },
      "source": [
        "y_pred1 = reg.predict(X1)\n",
        "\n",
        "print(f'Ошибка на обучающей выборке: {mean_squared_error(y_pred1, y1)}')"
      ],
      "execution_count": null,
      "outputs": [
        {
          "output_type": "stream",
          "text": [
            "Ошибка на обучающей выборке: 2859.6963475867506\n"
          ],
          "name": "stdout"
        }
      ]
    },
    {
      "cell_type": "code",
      "metadata": {
        "colab": {
          "base_uri": "https://localhost:8080/"
        },
        "id": "MpgoT3JKZLt_",
        "outputId": "6ad620ac-4330-49de-b7d8-5d9ab5c7b2a4"
      },
      "source": [
        "from sklearn.model_selection import cross_val_score\n",
        "\n",
        "errors = -cross_val_score(LinearRegression(), X1, y1, cv=5, scoring='neg_mean_squared_error')\n",
        "print(f'Ошибка на тестовой выборке: {np.average(errors)}')"
      ],
      "execution_count": null,
      "outputs": [
        {
          "output_type": "stream",
          "text": [
            "Ошибка на тестовой выборке: 2993.0813104693325\n"
          ],
          "name": "stdout"
        }
      ]
    },
    {
      "cell_type": "code",
      "metadata": {
        "id": "8_-xfPZqZodW"
      },
      "source": [
        "def mode_Lasso(X, y, cv, array : np.ndarray):\n",
        "    lambdas_lasso = array\n",
        "    print(\"Все лямбды:\")\n",
        "    print(lambdas_lasso)\n",
        "\n",
        "    lambda_errors_lasso = []\n",
        "\n",
        "    for val in lambdas_lasso:\n",
        "        reg = Lasso(alpha=val).fit(X, y)\n",
        "        y_pred = reg.predict(X)\n",
        "        lambda_errors_lasso.append((val, mean_squared_error(y_pred, y)))\n",
        "        print(((val, mean_squared_error(y_pred, y))))\n",
        "        \n",
        "\n",
        "    min_val, min_train_error = min(lambda_errors_lasso, key=lambda x: x[1])\n",
        "\n",
        "    best_reg = Lasso(alpha=min_val)\n",
        "    cv_error = -np.average(cross_val_score(best_reg, X, y, cv=cv, scoring='neg_mean_squared_error'))\n",
        "\n",
        "    print(\"\\nОптимальная lambda:\")\n",
        "    print(\"Lambda={:.2f}, результат={:.2f}\".format(min_val, cv_error))"
      ],
      "execution_count": null,
      "outputs": []
    },
    {
      "cell_type": "code",
      "metadata": {
        "colab": {
          "base_uri": "https://localhost:8080/"
        },
        "id": "Sf3mLiVuxYxx",
        "outputId": "ebfbda67-9542-4786-9c68-3a1c7161c7b6"
      },
      "source": [
        "mode_Lasso(X1, y1, 5, np.arange(0.1, 3.0, 0.2))"
      ],
      "execution_count": null,
      "outputs": [
        {
          "output_type": "stream",
          "text": [
            "Все лямбды:\n",
            "[0.1 0.3 0.5 0.7 0.9 1.1 1.3 1.5 1.7 1.9 2.1 2.3 2.5 2.7 2.9]\n",
            "(0.1, 2860.290115907154)\n",
            "(0.30000000000000004, 2864.3674009095084)\n",
            "(0.5000000000000001, 2872.669752063161)\n",
            "(0.7000000000000001, 2882.7838890350013)\n",
            "(0.9000000000000001, 2893.625476198375)\n",
            "(1.1000000000000003, 2909.179842675001)\n",
            "(1.3000000000000003, 2925.645661489775)\n",
            "(1.5000000000000004, 2944.8551712883545)\n",
            "(1.7000000000000004, 2966.8064090598973)\n",
            "(1.9000000000000004, 2991.4995831986803)\n",
            "(2.1000000000000005, 3012.302185120677)\n",
            "(2.3000000000000007, 3016.8121676601004)\n",
            "(2.5000000000000004, 3021.7382690815975)\n",
            "(2.7000000000000006, 3027.0777539348337)\n",
            "(2.900000000000001, 3032.8279059937945)\n",
            "\n",
            "Оптимальная lambda:\n",
            "Lambda=0.10, результат=2993.80\n"
          ],
          "name": "stdout"
        }
      ]
    },
    {
      "cell_type": "code",
      "metadata": {
        "id": "s0R2-XbjZv8S"
      },
      "source": [
        "def mode_Ridge(X1, y1, cv, array : np.ndarray):\n",
        "    lambdas_ridge = array\n",
        "    print(\"Все лямбды:\")\n",
        "    print(lambdas_ridge)\n",
        "\n",
        "    lambda_errors_ridge = []\n",
        "\n",
        "    for val in lambdas_ridge:\n",
        "        reg = Ridge(alpha=val).fit(X1, y1)\n",
        "        y_pred1 = reg.predict(X1)\n",
        "        lambda_errors_ridge.append((val, mean_squared_error(y_pred1, y1)))\n",
        "        print(((val, mean_squared_error(y_pred1, y1))))\n",
        "        \n",
        "\n",
        "    min_val, min_train_error = min(lambda_errors_ridge, key=lambda x1: x1[1])\n",
        "\n",
        "    best_reg = Ridge(alpha=min_val)\n",
        "    cv_error = -np.average(cross_val_score(best_reg, X1, y1, cv=cv, scoring='neg_mean_squared_error'))\n",
        "\n",
        "    print(\"\\nОптимальная lambda:\")\n",
        "    print(\"Lambda={:.2f}, результат={:.2f}\".format(min_val, cv_error))"
      ],
      "execution_count": null,
      "outputs": []
    },
    {
      "cell_type": "code",
      "metadata": {
        "colab": {
          "base_uri": "https://localhost:8080/"
        },
        "id": "hyUqL-7yzIDJ",
        "outputId": "c46e3738-371e-42f5-9b51-118a9d660b00"
      },
      "source": [
        "mode_Ridge(X1, y1, 5, np.arange(0.1, 3.0, 0.2))"
      ],
      "execution_count": null,
      "outputs": [
        {
          "output_type": "stream",
          "text": [
            "Все лямбды:\n",
            "[0.1 0.3 0.5 0.7 0.9 1.1 1.3 1.5 1.7 1.9 2.1 2.3 2.5 2.7 2.9]\n",
            "(0.1, 2859.7052888408193)\n",
            "(0.30000000000000004, 2859.774235659144)\n",
            "(0.5000000000000001, 2859.905871794043)\n",
            "(0.7000000000000001, 2860.094257022983)\n",
            "(0.9000000000000001, 2860.334006114158)\n",
            "(1.1000000000000003, 2860.6202321466926)\n",
            "(1.3000000000000003, 2860.9484962393894)\n",
            "(1.5000000000000004, 2861.3147628889387)\n",
            "(1.7000000000000004, 2861.7153602275894)\n",
            "(1.9000000000000004, 2862.14694460314)\n",
            "(2.1000000000000005, 2862.6064689634472)\n",
            "(2.3000000000000007, 2863.0911545954873)\n",
            "(2.5000000000000004, 2863.5984658272505)\n",
            "(2.7000000000000006, 2864.126087350754)\n",
            "(2.900000000000001, 2864.6719038675715)\n",
            "\n",
            "Оптимальная lambda:\n",
            "Lambda=0.10, результат=2993.07\n"
          ],
          "name": "stdout"
        }
      ]
    },
    {
      "cell_type": "markdown",
      "metadata": {
        "id": "4XH1eTP1u4oG"
      },
      "source": [
        "## **Вывод**: Запустил с \"коробки\", с лоссом беда :("
      ]
    },
    {
      "cell_type": "markdown",
      "metadata": {
        "id": "C-hiPpffv0ju"
      },
      "source": [
        "# Версия 2"
      ]
    },
    {
      "cell_type": "code",
      "metadata": {
        "colab": {
          "base_uri": "https://localhost:8080/",
          "height": 142
        },
        "id": "WTGvimI1efnY",
        "outputId": "bd4fb928-fd7e-4432-dff4-d49b04c92cdb"
      },
      "source": [
        "df2 = pd.read_csv('diabetes.data.csv', sep='\\t')\n",
        "df2.head(3)"
      ],
      "execution_count": null,
      "outputs": [
        {
          "output_type": "execute_result",
          "data": {
            "text/html": [
              "<div>\n",
              "<style scoped>\n",
              "    .dataframe tbody tr th:only-of-type {\n",
              "        vertical-align: middle;\n",
              "    }\n",
              "\n",
              "    .dataframe tbody tr th {\n",
              "        vertical-align: top;\n",
              "    }\n",
              "\n",
              "    .dataframe thead th {\n",
              "        text-align: right;\n",
              "    }\n",
              "</style>\n",
              "<table border=\"1\" class=\"dataframe\">\n",
              "  <thead>\n",
              "    <tr style=\"text-align: right;\">\n",
              "      <th></th>\n",
              "      <th>AGE</th>\n",
              "      <th>SEX</th>\n",
              "      <th>BMI</th>\n",
              "      <th>BP</th>\n",
              "      <th>S1</th>\n",
              "      <th>S2</th>\n",
              "      <th>S3</th>\n",
              "      <th>S4</th>\n",
              "      <th>S5</th>\n",
              "      <th>S6</th>\n",
              "      <th>Y</th>\n",
              "    </tr>\n",
              "  </thead>\n",
              "  <tbody>\n",
              "    <tr>\n",
              "      <th>0</th>\n",
              "      <td>59</td>\n",
              "      <td>2</td>\n",
              "      <td>32.1</td>\n",
              "      <td>101.0</td>\n",
              "      <td>157</td>\n",
              "      <td>93.2</td>\n",
              "      <td>38.0</td>\n",
              "      <td>4.0</td>\n",
              "      <td>4.8598</td>\n",
              "      <td>87</td>\n",
              "      <td>151</td>\n",
              "    </tr>\n",
              "    <tr>\n",
              "      <th>1</th>\n",
              "      <td>48</td>\n",
              "      <td>1</td>\n",
              "      <td>21.6</td>\n",
              "      <td>87.0</td>\n",
              "      <td>183</td>\n",
              "      <td>103.2</td>\n",
              "      <td>70.0</td>\n",
              "      <td>3.0</td>\n",
              "      <td>3.8918</td>\n",
              "      <td>69</td>\n",
              "      <td>75</td>\n",
              "    </tr>\n",
              "    <tr>\n",
              "      <th>2</th>\n",
              "      <td>72</td>\n",
              "      <td>2</td>\n",
              "      <td>30.5</td>\n",
              "      <td>93.0</td>\n",
              "      <td>156</td>\n",
              "      <td>93.6</td>\n",
              "      <td>41.0</td>\n",
              "      <td>4.0</td>\n",
              "      <td>4.6728</td>\n",
              "      <td>85</td>\n",
              "      <td>141</td>\n",
              "    </tr>\n",
              "  </tbody>\n",
              "</table>\n",
              "</div>"
            ],
            "text/plain": [
              "   AGE  SEX   BMI     BP   S1     S2    S3   S4      S5  S6    Y\n",
              "0   59    2  32.1  101.0  157   93.2  38.0  4.0  4.8598  87  151\n",
              "1   48    1  21.6   87.0  183  103.2  70.0  3.0  3.8918  69   75\n",
              "2   72    2  30.5   93.0  156   93.6  41.0  4.0  4.6728  85  141"
            ]
          },
          "metadata": {
            "tags": []
          },
          "execution_count": 58
        }
      ]
    },
    {
      "cell_type": "code",
      "metadata": {
        "colab": {
          "base_uri": "https://localhost:8080/"
        },
        "id": "xdUocwpKUFUs",
        "outputId": "60d25915-f041-408a-cef2-9c7339d04c36"
      },
      "source": [
        "reg = LinearRegression()\n",
        "\n",
        "target = 'Y'\n",
        "X2 = df2.drop([target, 'AGE', 'S3', 'S6'], axis=1)\n",
        "y2 = df2[target]\n",
        "reg.fit(X2, y2)"
      ],
      "execution_count": null,
      "outputs": [
        {
          "output_type": "execute_result",
          "data": {
            "text/plain": [
              "LinearRegression(copy_X=True, fit_intercept=True, n_jobs=None, normalize=False)"
            ]
          },
          "metadata": {
            "tags": []
          },
          "execution_count": 59
        }
      ]
    },
    {
      "cell_type": "code",
      "metadata": {
        "colab": {
          "base_uri": "https://localhost:8080/"
        },
        "id": "w3jrBsaHSfID",
        "outputId": "2ede47fe-6fe4-4e8d-81c6-52ddf782d1f9"
      },
      "source": [
        "print(\"Сдвиг={}\".format(reg.intercept_))\n",
        "for column, coef in zip(X2.columns, reg.coef_):\n",
        "    print(\"Коэффициент для {}={}\".format(column, coef))"
      ],
      "execution_count": null,
      "outputs": [
        {
          "output_type": "stream",
          "text": [
            "Сдвиг=-296.3984003441918\n",
            "Коэффициент для SEX=-22.56440375948867\n",
            "Коэффициент для BMI=5.702224918559901\n",
            "Коэффициент для BP=1.149325682552682\n",
            "Коэффициент для S1=-0.8463136292465352\n",
            "Коэффициент для S2=0.5529637043798683\n",
            "Коэффициент для S4=4.991419010320271\n",
            "Коэффициент для S5=64.29184269402566\n"
          ],
          "name": "stdout"
        }
      ]
    },
    {
      "cell_type": "code",
      "metadata": {
        "colab": {
          "base_uri": "https://localhost:8080/"
        },
        "id": "vZ10_KEkUNVp",
        "outputId": "8f3ef9b0-e66c-45f0-9f7b-5f1a53b690c5"
      },
      "source": [
        "y_pred2 = reg.predict(X2)\n",
        "print(f'Ошибка на обучающей выборке после удаления колонок: {mean_squared_error(y_pred2, y2)}')"
      ],
      "execution_count": null,
      "outputs": [
        {
          "output_type": "stream",
          "text": [
            "Ошибка на обучающей выборке после удаления колонок: 2868.343466201382\n"
          ],
          "name": "stdout"
        }
      ]
    },
    {
      "cell_type": "code",
      "metadata": {
        "colab": {
          "base_uri": "https://localhost:8080/"
        },
        "id": "Tp9QauZKUblf",
        "outputId": "a4a63bd3-4706-4f21-e5d7-c8279def793d"
      },
      "source": [
        "errors = -cross_val_score(LinearRegression(), X2, y2, cv=4, scoring='neg_mean_squared_error')\n",
        "print(f'Ошибка на тестовой выборке после удаления колонок и изменения cv: {np.average(errors)}')"
      ],
      "execution_count": null,
      "outputs": [
        {
          "output_type": "stream",
          "text": [
            "Ошибка на тестовой выборке после удаления колонок и изменения cv: 2925.7913684126884\n"
          ],
          "name": "stdout"
        }
      ]
    },
    {
      "cell_type": "code",
      "metadata": {
        "colab": {
          "base_uri": "https://localhost:8080/",
          "height": 483
        },
        "id": "T4Ncp84QLzFJ",
        "outputId": "463fcaa1-7dab-4c51-b69c-b88affd8425b"
      },
      "source": [
        "plt.figure(figsize=(8,8))\n",
        "sns.histplot(X2);"
      ],
      "execution_count": null,
      "outputs": [
        {
          "output_type": "display_data",
          "data": {
            "image/png": "[encoded data removed]",
            "text/plain": [
              "<Figure size 576x576 with 1 Axes>"
            ]
          },
          "metadata": {
            "tags": [],
            "needs_background": "light"
          }
        }
      ]
    },
    {
      "cell_type": "markdown",
      "metadata": {
        "id": "082aHrmxQt08"
      },
      "source": [
        "P.S. Длинные хвосты у S1 и S2, надо избавляться"
      ]
    },
    {
      "cell_type": "markdown",
      "metadata": {
        "id": "U4ngGCN-3MaJ"
      },
      "source": [
        "## **Вывод**: Веса перед колонками \"AGE\", \"S3\", \"S6\" небольшие (выше в версии 1 вывел значения), попробовал удалить эти колонки, также изменил cv на 4, в итоге удалось улучшить MSE - было **2993.08** -> стало **2925.79** "
      ]
    },
    {
      "cell_type": "markdown",
      "metadata": {
        "id": "jF1YsAdQ4aNX"
      },
      "source": [
        "# Версия 3"
      ]
    },
    {
      "cell_type": "code",
      "metadata": {
        "colab": {
          "base_uri": "https://localhost:8080/",
          "height": 142
        },
        "id": "9rs_tWdO4M_8",
        "outputId": "893ea140-646b-4cc5-df22-c5dd1a3404df"
      },
      "source": [
        "df3 = pd.read_csv('diabetes.data.csv', sep='\\t')\n",
        "df3 = df3.astype(float)\n",
        "df3.head(3)"
      ],
      "execution_count": null,
      "outputs": [
        {
          "output_type": "execute_result",
          "data": {
            "text/html": [
              "<div>\n",
              "<style scoped>\n",
              "    .dataframe tbody tr th:only-of-type {\n",
              "        vertical-align: middle;\n",
              "    }\n",
              "\n",
              "    .dataframe tbody tr th {\n",
              "        vertical-align: top;\n",
              "    }\n",
              "\n",
              "    .dataframe thead th {\n",
              "        text-align: right;\n",
              "    }\n",
              "</style>\n",
              "<table border=\"1\" class=\"dataframe\">\n",
              "  <thead>\n",
              "    <tr style=\"text-align: right;\">\n",
              "      <th></th>\n",
              "      <th>AGE</th>\n",
              "      <th>SEX</th>\n",
              "      <th>BMI</th>\n",
              "      <th>BP</th>\n",
              "      <th>S1</th>\n",
              "      <th>S2</th>\n",
              "      <th>S3</th>\n",
              "      <th>S4</th>\n",
              "      <th>S5</th>\n",
              "      <th>S6</th>\n",
              "      <th>Y</th>\n",
              "    </tr>\n",
              "  </thead>\n",
              "  <tbody>\n",
              "    <tr>\n",
              "      <th>0</th>\n",
              "      <td>59.0</td>\n",
              "      <td>2.0</td>\n",
              "      <td>32.1</td>\n",
              "      <td>101.0</td>\n",
              "      <td>157.0</td>\n",
              "      <td>93.2</td>\n",
              "      <td>38.0</td>\n",
              "      <td>4.0</td>\n",
              "      <td>4.8598</td>\n",
              "      <td>87.0</td>\n",
              "      <td>151.0</td>\n",
              "    </tr>\n",
              "    <tr>\n",
              "      <th>1</th>\n",
              "      <td>48.0</td>\n",
              "      <td>1.0</td>\n",
              "      <td>21.6</td>\n",
              "      <td>87.0</td>\n",
              "      <td>183.0</td>\n",
              "      <td>103.2</td>\n",
              "      <td>70.0</td>\n",
              "      <td>3.0</td>\n",
              "      <td>3.8918</td>\n",
              "      <td>69.0</td>\n",
              "      <td>75.0</td>\n",
              "    </tr>\n",
              "    <tr>\n",
              "      <th>2</th>\n",
              "      <td>72.0</td>\n",
              "      <td>2.0</td>\n",
              "      <td>30.5</td>\n",
              "      <td>93.0</td>\n",
              "      <td>156.0</td>\n",
              "      <td>93.6</td>\n",
              "      <td>41.0</td>\n",
              "      <td>4.0</td>\n",
              "      <td>4.6728</td>\n",
              "      <td>85.0</td>\n",
              "      <td>141.0</td>\n",
              "    </tr>\n",
              "  </tbody>\n",
              "</table>\n",
              "</div>"
            ],
            "text/plain": [
              "    AGE  SEX   BMI     BP     S1     S2    S3   S4      S5    S6      Y\n",
              "0  59.0  2.0  32.1  101.0  157.0   93.2  38.0  4.0  4.8598  87.0  151.0\n",
              "1  48.0  1.0  21.6   87.0  183.0  103.2  70.0  3.0  3.8918  69.0   75.0\n",
              "2  72.0  2.0  30.5   93.0  156.0   93.6  41.0  4.0  4.6728  85.0  141.0"
            ]
          },
          "metadata": {
            "tags": []
          },
          "execution_count": 65
        }
      ]
    },
    {
      "cell_type": "code",
      "metadata": {
        "colab": {
          "base_uri": "https://localhost:8080/",
          "height": 282
        },
        "id": "dAvuFUHZWa0y",
        "outputId": "dd74ffd5-682c-4fee-9bcf-2f3be22705ea"
      },
      "source": [
        "plt.figure(figsize=(4,4))\n",
        "sns.histplot(df3['S4']); # Удалим еще S4, так как распределение далеко от нормального"
      ],
      "execution_count": null,
      "outputs": [
        {
          "output_type": "display_data",
          "data": {
            "image/png": "[encoded data removed]",
            "text/plain": [
              "<Figure size 288x288 with 1 Axes>"
            ]
          },
          "metadata": {
            "tags": [],
            "needs_background": "light"
          }
        }
      ]
    },
    {
      "cell_type": "code",
      "metadata": {
        "id": "M3-3XIFKTM_e"
      },
      "source": [
        "df3 = df3.drop(['AGE', 'S4', 'S3', 'S6'], axis=1)"
      ],
      "execution_count": null,
      "outputs": []
    },
    {
      "cell_type": "code",
      "metadata": {
        "id": "e2VJar85ICRf"
      },
      "source": [
        "target = 'Y'\n",
        "X3 = df3.drop([target], axis=1)\n",
        "y3 = df3[target]"
      ],
      "execution_count": null,
      "outputs": []
    },
    {
      "cell_type": "markdown",
      "metadata": {
        "id": "wUi_HPzw4ln1"
      },
      "source": [
        "![qX5jd.jpg](data:image/jpeg;base64,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)"
      ]
    },
    {
      "cell_type": "code",
      "metadata": {
        "colab": {
          "base_uri": "https://localhost:8080/",
          "height": 142
        },
        "id": "_R7tI0KZNqhb",
        "outputId": "be9cd2f8-872c-498d-bddf-b1bb2cc35745"
      },
      "source": [
        "Q1 = X3.quantile(0.25)\n",
        "Q3 = X3.quantile(0.75)\n",
        "IQR = Q3 - Q1\n",
        "for column in list(X3.columns):\n",
        "    for i in range(len(X3)):\n",
        "        if column == 'S1' or column == 'S2':\n",
        "            if ((X3[column].loc)[i] < (Q1[column] - 1.5*IQR[column])) or ((X3[column].loc)[i] > (Q3[column] + 1.5*IQR[column])):\n",
        "                (X3[column].loc)[i] = 0.0\n",
        "X3.head(3)"
      ],
      "execution_count": null,
      "outputs": [
        {
          "output_type": "execute_result",
          "data": {
            "text/html": [
              "<div>\n",
              "<style scoped>\n",
              "    .dataframe tbody tr th:only-of-type {\n",
              "        vertical-align: middle;\n",
              "    }\n",
              "\n",
              "    .dataframe tbody tr th {\n",
              "        vertical-align: top;\n",
              "    }\n",
              "\n",
              "    .dataframe thead th {\n",
              "        text-align: right;\n",
              "    }\n",
              "</style>\n",
              "<table border=\"1\" class=\"dataframe\">\n",
              "  <thead>\n",
              "    <tr style=\"text-align: right;\">\n",
              "      <th></th>\n",
              "      <th>SEX</th>\n",
              "      <th>BMI</th>\n",
              "      <th>BP</th>\n",
              "      <th>S1</th>\n",
              "      <th>S2</th>\n",
              "      <th>S5</th>\n",
              "    </tr>\n",
              "  </thead>\n",
              "  <tbody>\n",
              "    <tr>\n",
              "      <th>0</th>\n",
              "      <td>2.0</td>\n",
              "      <td>32.1</td>\n",
              "      <td>101.0</td>\n",
              "      <td>157.0</td>\n",
              "      <td>93.2</td>\n",
              "      <td>4.8598</td>\n",
              "    </tr>\n",
              "    <tr>\n",
              "      <th>1</th>\n",
              "      <td>1.0</td>\n",
              "      <td>21.6</td>\n",
              "      <td>87.0</td>\n",
              "      <td>183.0</td>\n",
              "      <td>103.2</td>\n",
              "      <td>3.8918</td>\n",
              "    </tr>\n",
              "    <tr>\n",
              "      <th>2</th>\n",
              "      <td>2.0</td>\n",
              "      <td>30.5</td>\n",
              "      <td>93.0</td>\n",
              "      <td>156.0</td>\n",
              "      <td>93.6</td>\n",
              "      <td>4.6728</td>\n",
              "    </tr>\n",
              "  </tbody>\n",
              "</table>\n",
              "</div>"
            ],
            "text/plain": [
              "   SEX   BMI     BP     S1     S2      S5\n",
              "0  2.0  32.1  101.0  157.0   93.2  4.8598\n",
              "1  1.0  21.6   87.0  183.0  103.2  3.8918\n",
              "2  2.0  30.5   93.0  156.0   93.6  4.6728"
            ]
          },
          "metadata": {
            "tags": []
          },
          "execution_count": 69
        }
      ]
    },
    {
      "cell_type": "code",
      "metadata": {
        "colab": {
          "base_uri": "https://localhost:8080/",
          "height": 142
        },
        "id": "_rYWWaEWONSW",
        "outputId": "931ac418-718a-4812-8530-3ce45df411a5"
      },
      "source": [
        "for column in list(X3.columns):\n",
        "    for i in range(len(X3)):\n",
        "        if column == 'S1' or column == 'S2':\n",
        "            if (X3[column].loc)[i] == 0.0:\n",
        "                (X3[column].loc)[i] = np.mean(X3[column])\n",
        "X3.head(3)"
      ],
      "execution_count": null,
      "outputs": [
        {
          "output_type": "execute_result",
          "data": {
            "text/html": [
              "<div>\n",
              "<style scoped>\n",
              "    .dataframe tbody tr th:only-of-type {\n",
              "        vertical-align: middle;\n",
              "    }\n",
              "\n",
              "    .dataframe tbody tr th {\n",
              "        vertical-align: top;\n",
              "    }\n",
              "\n",
              "    .dataframe thead th {\n",
              "        text-align: right;\n",
              "    }\n",
              "</style>\n",
              "<table border=\"1\" class=\"dataframe\">\n",
              "  <thead>\n",
              "    <tr style=\"text-align: right;\">\n",
              "      <th></th>\n",
              "      <th>SEX</th>\n",
              "      <th>BMI</th>\n",
              "      <th>BP</th>\n",
              "      <th>S1</th>\n",
              "      <th>S2</th>\n",
              "      <th>S5</th>\n",
              "    </tr>\n",
              "  </thead>\n",
              "  <tbody>\n",
              "    <tr>\n",
              "      <th>0</th>\n",
              "      <td>2.0</td>\n",
              "      <td>32.1</td>\n",
              "      <td>101.0</td>\n",
              "      <td>157.0</td>\n",
              "      <td>93.2</td>\n",
              "      <td>4.8598</td>\n",
              "    </tr>\n",
              "    <tr>\n",
              "      <th>1</th>\n",
              "      <td>1.0</td>\n",
              "      <td>21.6</td>\n",
              "      <td>87.0</td>\n",
              "      <td>183.0</td>\n",
              "      <td>103.2</td>\n",
              "      <td>3.8918</td>\n",
              "    </tr>\n",
              "    <tr>\n",
              "      <th>2</th>\n",
              "      <td>2.0</td>\n",
              "      <td>30.5</td>\n",
              "      <td>93.0</td>\n",
              "      <td>156.0</td>\n",
              "      <td>93.6</td>\n",
              "      <td>4.6728</td>\n",
              "    </tr>\n",
              "  </tbody>\n",
              "</table>\n",
              "</div>"
            ],
            "text/plain": [
              "   SEX   BMI     BP     S1     S2      S5\n",
              "0  2.0  32.1  101.0  157.0   93.2  4.8598\n",
              "1  1.0  21.6   87.0  183.0  103.2  3.8918\n",
              "2  2.0  30.5   93.0  156.0   93.6  4.6728"
            ]
          },
          "metadata": {
            "tags": []
          },
          "execution_count": 70
        }
      ]
    },
    {
      "cell_type": "code",
      "metadata": {
        "colab": {
          "base_uri": "https://localhost:8080/"
        },
        "id": "TzKdc1Nb407O",
        "outputId": "453f7e85-fee9-4450-bcfe-90730e5cdd3a"
      },
      "source": [
        "reg = LinearRegression()\n",
        "\n",
        "reg.fit(X3, y3)\n",
        "\n",
        "print(\"Сдвиг={}\".format(reg.intercept_))\n",
        "for column, coef in zip(X3.columns, reg.coef_):\n",
        "    print(\"Коэффициент для {}={}\".format(column, coef))"
      ],
      "execution_count": null,
      "outputs": [
        {
          "output_type": "stream",
          "text": [
            "Сдвиг=-305.98503136505997\n",
            "Коэффициент для SEX=-21.652814843156413\n",
            "Коэффициент для BMI=5.805821923870852\n",
            "Коэффициент для BP=1.0995745562150443\n",
            "Коэффициент для S1=-1.0188612662054615\n",
            "Коэффициент для S2=0.8251591534998743\n",
            "Коэффициент для S5=70.99494518436275\n"
          ],
          "name": "stdout"
        }
      ]
    },
    {
      "cell_type": "code",
      "metadata": {
        "colab": {
          "base_uri": "https://localhost:8080/"
        },
        "id": "XKJg1shz41F7",
        "outputId": "63a06c9b-74a2-4b63-f3aa-e74b0cbfcab8"
      },
      "source": [
        "y_pred3 = reg.predict(X3)\n",
        "\n",
        "print(f'Ошибка на обучающей выборке: {mean_squared_error(y_pred3, y3)}')"
      ],
      "execution_count": null,
      "outputs": [
        {
          "output_type": "stream",
          "text": [
            "Ошибка на обучающей выборке: 2855.6213866302164\n"
          ],
          "name": "stdout"
        }
      ]
    },
    {
      "cell_type": "code",
      "metadata": {
        "colab": {
          "base_uri": "https://localhost:8080/"
        },
        "id": "e8zjKM4o41JV",
        "outputId": "7faf5d29-898b-4b32-e325-fd3706ab7b21"
      },
      "source": [
        "from sklearn.model_selection import cross_val_score\n",
        "\n",
        "errors = -cross_val_score(LinearRegression(), X3, y3, cv=7, scoring='neg_mean_squared_error')\n",
        "print(f'Ошибка на тестовой выборке: {np.average(errors)}')"
      ],
      "execution_count": null,
      "outputs": [
        {
          "output_type": "stream",
          "text": [
            "Ошибка на тестовой выборке: 2912.0839331593925\n"
          ],
          "name": "stdout"
        }
      ]
    },
    {
      "cell_type": "code",
      "metadata": {
        "colab": {
          "base_uri": "https://localhost:8080/"
        },
        "id": "8YkkiN_G9CmR",
        "outputId": "82909a50-d72a-41b6-9ffc-abdb32afc749"
      },
      "source": [
        "mode_Ridge(X3, y3, 7, np.arange(1.0, 100.0, 10.0))"
      ],
      "execution_count": null,
      "outputs": [
        {
          "output_type": "stream",
          "text": [
            "Все лямбды:\n",
            "[ 1. 11. 21. 31. 41. 51. 61. 71. 81. 91.]\n",
            "(1.0, 2855.8292739617978)\n",
            "(11.0, 2873.9629282497567)\n",
            "(21.0, 2906.5200865394036)\n",
            "(31.0, 2942.8920825811974)\n",
            "(41.0, 2978.8693712373883)\n",
            "(51.0, 3012.815378773708)\n",
            "(61.0, 3044.185615112586)\n",
            "(71.0, 3072.9088718978696)\n",
            "(81.0, 3099.1145663810394)\n",
            "(91.0, 3123.008661603523)\n",
            "\n",
            "Оптимальная lambda:\n",
            "Lambda=1.00, результат=2911.77\n"
          ],
          "name": "stdout"
        }
      ]
    },
    {
      "cell_type": "code",
      "metadata": {
        "colab": {
          "base_uri": "https://localhost:8080/"
        },
        "id": "KjVIBVNi9dar",
        "outputId": "97447ec7-2ad5-4e55-9a24-17caed4217e5"
      },
      "source": [
        "mode_Lasso(X3, y3, 7, np.arange(1.0, 100.0, 10.0))"
      ],
      "execution_count": null,
      "outputs": [
        {
          "output_type": "stream",
          "text": [
            "Все лямбды:\n",
            "[ 1. 11. 21. 31. 41. 51. 61. 71. 81. 91.]\n",
            "(1.0, 2870.0706717554353)\n",
            "(11.0, 3584.5512634175143)\n",
            "(21.0, 3601.211999659931)\n",
            "(31.0, 3628.2764754416035)\n",
            "(41.0, 3665.749661365271)\n",
            "(51.0, 3713.631557430932)\n",
            "(61.0, 3771.9221636385864)\n",
            "(71.0, 3840.621479988236)\n",
            "(81.0, 3919.7295064798795)\n",
            "(91.0, 4009.2462431135164)\n",
            "\n",
            "Оптимальная lambda:\n",
            "Lambda=1.00, результат=2925.40\n"
          ],
          "name": "stdout"
        }
      ]
    },
    {
      "cell_type": "markdown",
      "metadata": {
        "id": "NdLiqRV19jTt"
      },
      "source": [
        "P.S. Ridge в одну \"калитку\" обыграл Lasso"
      ]
    },
    {
      "cell_type": "code",
      "metadata": {
        "colab": {
          "base_uri": "https://localhost:8080/",
          "height": 483
        },
        "id": "d4YCxmT2LZcM",
        "outputId": "5809eabc-7344-418a-81ec-0385b3432dc3"
      },
      "source": [
        "plt.figure(figsize=(8,8))\n",
        "sns.histplot(X3);"
      ],
      "execution_count": null,
      "outputs": [
        {
          "output_type": "display_data",
          "data": {
            "image/png": "[encoded data removed]",
            "text/plain": [
              "<Figure size 576x576 with 1 Axes>"
            ]
          },
          "metadata": {
            "tags": [],
            "needs_background": "light"
          }
        }
      ]
    },
    {
      "cell_type": "markdown",
      "metadata": {
        "id": "9-VBTBwi7grG"
      },
      "source": [
        "## **Вывод**:  теперь удалил хвосты у 'S1' и 'S2', а также удалил колонку 'S4' в виду не очень хорошего распределния, и дополнительно поигрался с cv, поставил равным 7, в итоге удалось улучшить MSE - было **2925.79** -> стало **2912.08**, а после применения Ridge стало **2911.77**"
      ]
    },
    {
      "cell_type": "markdown",
      "metadata": {
        "id": "Fel2cOfQG41N"
      },
      "source": [
        "# Версия 4"
      ]
    },
    {
      "cell_type": "code",
      "metadata": {
        "id": "Y3-RC9nXtjhh"
      },
      "source": [
        "from sklearn import preprocessing\n",
        "from itertools import combinations"
      ],
      "execution_count": null,
      "outputs": []
    },
    {
      "cell_type": "code",
      "metadata": {
        "colab": {
          "base_uri": "https://localhost:8080/",
          "height": 142
        },
        "id": "ojJ0FU0ed58f",
        "outputId": "afb5a14a-b67d-41b8-943f-01fab1cac6ad"
      },
      "source": [
        "df4 = pd.read_csv('diabetes.data.csv', sep='\\t')\n",
        "df4 = df4.astype(float)\n",
        "df4.head(3)"
      ],
      "execution_count": null,
      "outputs": [
        {
          "output_type": "execute_result",
          "data": {
            "text/html": [
              "<div>\n",
              "<style scoped>\n",
              "    .dataframe tbody tr th:only-of-type {\n",
              "        vertical-align: middle;\n",
              "    }\n",
              "\n",
              "    .dataframe tbody tr th {\n",
              "        vertical-align: top;\n",
              "    }\n",
              "\n",
              "    .dataframe thead th {\n",
              "        text-align: right;\n",
              "    }\n",
              "</style>\n",
              "<table border=\"1\" class=\"dataframe\">\n",
              "  <thead>\n",
              "    <tr style=\"text-align: right;\">\n",
              "      <th></th>\n",
              "      <th>AGE</th>\n",
              "      <th>SEX</th>\n",
              "      <th>BMI</th>\n",
              "      <th>BP</th>\n",
              "      <th>S1</th>\n",
              "      <th>S2</th>\n",
              "      <th>S3</th>\n",
              "      <th>S4</th>\n",
              "      <th>S5</th>\n",
              "      <th>S6</th>\n",
              "      <th>Y</th>\n",
              "    </tr>\n",
              "  </thead>\n",
              "  <tbody>\n",
              "    <tr>\n",
              "      <th>0</th>\n",
              "      <td>59.0</td>\n",
              "      <td>2.0</td>\n",
              "      <td>32.1</td>\n",
              "      <td>101.0</td>\n",
              "      <td>157.0</td>\n",
              "      <td>93.2</td>\n",
              "      <td>38.0</td>\n",
              "      <td>4.0</td>\n",
              "      <td>4.8598</td>\n",
              "      <td>87.0</td>\n",
              "      <td>151.0</td>\n",
              "    </tr>\n",
              "    <tr>\n",
              "      <th>1</th>\n",
              "      <td>48.0</td>\n",
              "      <td>1.0</td>\n",
              "      <td>21.6</td>\n",
              "      <td>87.0</td>\n",
              "      <td>183.0</td>\n",
              "      <td>103.2</td>\n",
              "      <td>70.0</td>\n",
              "      <td>3.0</td>\n",
              "      <td>3.8918</td>\n",
              "      <td>69.0</td>\n",
              "      <td>75.0</td>\n",
              "    </tr>\n",
              "    <tr>\n",
              "      <th>2</th>\n",
              "      <td>72.0</td>\n",
              "      <td>2.0</td>\n",
              "      <td>30.5</td>\n",
              "      <td>93.0</td>\n",
              "      <td>156.0</td>\n",
              "      <td>93.6</td>\n",
              "      <td>41.0</td>\n",
              "      <td>4.0</td>\n",
              "      <td>4.6728</td>\n",
              "      <td>85.0</td>\n",
              "      <td>141.0</td>\n",
              "    </tr>\n",
              "  </tbody>\n",
              "</table>\n",
              "</div>"
            ],
            "text/plain": [
              "    AGE  SEX   BMI     BP     S1     S2    S3   S4      S5    S6      Y\n",
              "0  59.0  2.0  32.1  101.0  157.0   93.2  38.0  4.0  4.8598  87.0  151.0\n",
              "1  48.0  1.0  21.6   87.0  183.0  103.2  70.0  3.0  3.8918  69.0   75.0\n",
              "2  72.0  2.0  30.5   93.0  156.0   93.6  41.0  4.0  4.6728  85.0  141.0"
            ]
          },
          "metadata": {
            "tags": []
          },
          "execution_count": 78
        }
      ]
    },
    {
      "cell_type": "code",
      "metadata": {
        "id": "YldWrhBoeN6d"
      },
      "source": [
        "target = 'Y'\n",
        "X4 = df4.drop([target], axis=1)\n",
        "y4 = df4[target]"
      ],
      "execution_count": null,
      "outputs": []
    },
    {
      "cell_type": "code",
      "metadata": {
        "id": "9JUB4ziguGjY"
      },
      "source": [
        "X4 = X4.drop(['SEX', 'S4'], axis=1)"
      ],
      "execution_count": null,
      "outputs": []
    },
    {
      "cell_type": "code",
      "metadata": {
        "colab": {
          "base_uri": "https://localhost:8080/",
          "height": 142
        },
        "id": "zVU_hVMVttRv",
        "outputId": "52135622-629b-4ff2-c48c-fe382c09b9f3"
      },
      "source": [
        "columns = X4.columns\n",
        "d = preprocessing.scale(X4)\n",
        "X4 = pd.DataFrame(d, columns=columns)\n",
        "X4.head(3)"
      ],
      "execution_count": null,
      "outputs": [
        {
          "output_type": "execute_result",
          "data": {
            "text/html": [
              "<div>\n",
              "<style scoped>\n",
              "    .dataframe tbody tr th:only-of-type {\n",
              "        vertical-align: middle;\n",
              "    }\n",
              "\n",
              "    .dataframe tbody tr th {\n",
              "        vertical-align: top;\n",
              "    }\n",
              "\n",
              "    .dataframe thead th {\n",
              "        text-align: right;\n",
              "    }\n",
              "</style>\n",
              "<table border=\"1\" class=\"dataframe\">\n",
              "  <thead>\n",
              "    <tr style=\"text-align: right;\">\n",
              "      <th></th>\n",
              "      <th>AGE</th>\n",
              "      <th>BMI</th>\n",
              "      <th>BP</th>\n",
              "      <th>S1</th>\n",
              "      <th>S2</th>\n",
              "      <th>S3</th>\n",
              "      <th>S5</th>\n",
              "      <th>S6</th>\n",
              "    </tr>\n",
              "  </thead>\n",
              "  <tbody>\n",
              "    <tr>\n",
              "      <th>0</th>\n",
              "      <td>0.800500</td>\n",
              "      <td>1.297088</td>\n",
              "      <td>0.459841</td>\n",
              "      <td>-0.929746</td>\n",
              "      <td>-0.732065</td>\n",
              "      <td>-0.912451</td>\n",
              "      <td>0.418531</td>\n",
              "      <td>-0.370989</td>\n",
              "    </tr>\n",
              "    <tr>\n",
              "      <th>1</th>\n",
              "      <td>-0.039567</td>\n",
              "      <td>-1.082180</td>\n",
              "      <td>-0.553505</td>\n",
              "      <td>-0.177624</td>\n",
              "      <td>-0.402886</td>\n",
              "      <td>1.564414</td>\n",
              "      <td>-1.436589</td>\n",
              "      <td>-1.938479</td>\n",
              "    </tr>\n",
              "    <tr>\n",
              "      <th>2</th>\n",
              "      <td>1.793307</td>\n",
              "      <td>0.934533</td>\n",
              "      <td>-0.119214</td>\n",
              "      <td>-0.958674</td>\n",
              "      <td>-0.718897</td>\n",
              "      <td>-0.680245</td>\n",
              "      <td>0.060156</td>\n",
              "      <td>-0.545154</td>\n",
              "    </tr>\n",
              "  </tbody>\n",
              "</table>\n",
              "</div>"
            ],
            "text/plain": [
              "        AGE       BMI        BP  ...        S3        S5        S6\n",
              "0  0.800500  1.297088  0.459841  ... -0.912451  0.418531 -0.370989\n",
              "1 -0.039567 -1.082180 -0.553505  ...  1.564414 -1.436589 -1.938479\n",
              "2  1.793307  0.934533 -0.119214  ... -0.680245  0.060156 -0.545154\n",
              "\n",
              "[3 rows x 8 columns]"
            ]
          },
          "metadata": {
            "tags": []
          },
          "execution_count": 81
        }
      ]
    },
    {
      "cell_type": "code",
      "metadata": {
        "colab": {
          "base_uri": "https://localhost:8080/",
          "height": 142
        },
        "id": "FWtnq_x3utXN",
        "outputId": "386e9a06-05e4-40a0-f3e9-5e87673fe5e5"
      },
      "source": [
        "X4['SEX'] = df4['SEX']\n",
        "X4['S4'] = df4['S4']\n",
        "X4.head(3)"
      ],
      "execution_count": null,
      "outputs": [
        {
          "output_type": "execute_result",
          "data": {
            "text/html": [
              "<div>\n",
              "<style scoped>\n",
              "    .dataframe tbody tr th:only-of-type {\n",
              "        vertical-align: middle;\n",
              "    }\n",
              "\n",
              "    .dataframe tbody tr th {\n",
              "        vertical-align: top;\n",
              "    }\n",
              "\n",
              "    .dataframe thead th {\n",
              "        text-align: right;\n",
              "    }\n",
              "</style>\n",
              "<table border=\"1\" class=\"dataframe\">\n",
              "  <thead>\n",
              "    <tr style=\"text-align: right;\">\n",
              "      <th></th>\n",
              "      <th>AGE</th>\n",
              "      <th>BMI</th>\n",
              "      <th>BP</th>\n",
              "      <th>S1</th>\n",
              "      <th>S2</th>\n",
              "      <th>S3</th>\n",
              "      <th>S5</th>\n",
              "      <th>S6</th>\n",
              "      <th>SEX</th>\n",
              "      <th>S4</th>\n",
              "    </tr>\n",
              "  </thead>\n",
              "  <tbody>\n",
              "    <tr>\n",
              "      <th>0</th>\n",
              "      <td>0.800500</td>\n",
              "      <td>1.297088</td>\n",
              "      <td>0.459841</td>\n",
              "      <td>-0.929746</td>\n",
              "      <td>-0.732065</td>\n",
              "      <td>-0.912451</td>\n",
              "      <td>0.418531</td>\n",
              "      <td>-0.370989</td>\n",
              "      <td>2.0</td>\n",
              "      <td>4.0</td>\n",
              "    </tr>\n",
              "    <tr>\n",
              "      <th>1</th>\n",
              "      <td>-0.039567</td>\n",
              "      <td>-1.082180</td>\n",
              "      <td>-0.553505</td>\n",
              "      <td>-0.177624</td>\n",
              "      <td>-0.402886</td>\n",
              "      <td>1.564414</td>\n",
              "      <td>-1.436589</td>\n",
              "      <td>-1.938479</td>\n",
              "      <td>1.0</td>\n",
              "      <td>3.0</td>\n",
              "    </tr>\n",
              "    <tr>\n",
              "      <th>2</th>\n",
              "      <td>1.793307</td>\n",
              "      <td>0.934533</td>\n",
              "      <td>-0.119214</td>\n",
              "      <td>-0.958674</td>\n",
              "      <td>-0.718897</td>\n",
              "      <td>-0.680245</td>\n",
              "      <td>0.060156</td>\n",
              "      <td>-0.545154</td>\n",
              "      <td>2.0</td>\n",
              "      <td>4.0</td>\n",
              "    </tr>\n",
              "  </tbody>\n",
              "</table>\n",
              "</div>"
            ],
            "text/plain": [
              "        AGE       BMI        BP        S1  ...        S5        S6  SEX   S4\n",
              "0  0.800500  1.297088  0.459841 -0.929746  ...  0.418531 -0.370989  2.0  4.0\n",
              "1 -0.039567 -1.082180 -0.553505 -0.177624  ... -1.436589 -1.938479  1.0  3.0\n",
              "2  1.793307  0.934533 -0.119214 -0.958674  ...  0.060156 -0.545154  2.0  4.0\n",
              "\n",
              "[3 rows x 10 columns]"
            ]
          },
          "metadata": {
            "tags": []
          },
          "execution_count": 82
        }
      ]
    },
    {
      "cell_type": "code",
      "metadata": {
        "id": "CBonJ75bwvP9"
      },
      "source": [
        "column_list = X4.columns\n",
        "interactions = list(combinations(column_list, 2))"
      ],
      "execution_count": null,
      "outputs": []
    },
    {
      "cell_type": "code",
      "metadata": {
        "colab": {
          "base_uri": "https://localhost:8080/"
        },
        "id": "1koG1jjexH4-",
        "outputId": "2f0b5a3a-1ba9-4231-db11-4ab22482a60c"
      },
      "source": [
        "interactions[:3]"
      ],
      "execution_count": null,
      "outputs": [
        {
          "output_type": "execute_result",
          "data": {
            "text/plain": [
              "[('AGE', 'BMI'), ('AGE', 'BP'), ('AGE', 'S1')]"
            ]
          },
          "metadata": {
            "tags": []
          },
          "execution_count": 84
        }
      ]
    },
    {
      "cell_type": "code",
      "metadata": {
        "id": "V9pohe-fxefq"
      },
      "source": [
        "interaction_dict = {}\n",
        "for interaction in interactions:\n",
        "   X_train = X4\n",
        "   X_train['CATEG'] = X_train[interaction[0]] * X_train[interaction[1]]\n",
        "   reg = LinearRegression()\n",
        "   reg.fit(X_train, y4)\n",
        "   interaction_dict[reg.score(X_train, y4)] = interaction"
      ],
      "execution_count": null,
      "outputs": []
    },
    {
      "cell_type": "code",
      "metadata": {
        "colab": {
          "base_uri": "https://localhost:8080/"
        },
        "id": "4XBtLzGS0m_J",
        "outputId": "2d0d0222-5a86-4aa3-b1f3-f03bad0bbcf3"
      },
      "source": [
        "top_5 = sorted(interaction_dict.keys(), reverse = True)[:10]\n",
        "for interaction in top_5:\n",
        "    print(interaction_dict[interaction])"
      ],
      "execution_count": null,
      "outputs": [
        {
          "output_type": "stream",
          "text": [
            "('AGE', 'SEX')\n",
            "('BMI', 'BP')\n",
            "('BMI', 'S6')\n",
            "('AGE', 'S5')\n",
            "('AGE', 'S6')\n",
            "('AGE', 'BP')\n",
            "('BP', 'SEX')\n",
            "('S5', 'S6')\n",
            "('BMI', 'SEX')\n",
            "('S6', 'S4')\n"
          ],
          "name": "stdout"
        }
      ]
    },
    {
      "cell_type": "code",
      "metadata": {
        "id": "COmKlH1R2a1a"
      },
      "source": [
        "X_train = X4\n",
        "X_train ['AGE_SEX'] = X_train['AGE'] * X_train['SEX']"
      ],
      "execution_count": null,
      "outputs": []
    },
    {
      "cell_type": "code",
      "metadata": {
        "id": "W5hFJBpO6fy1"
      },
      "source": [
        "X_train ['BMI_BP'] = X_train['BMI'] * X_train['BP']"
      ],
      "execution_count": null,
      "outputs": []
    },
    {
      "cell_type": "code",
      "metadata": {
        "id": "XGh0i8Hh7fF9"
      },
      "source": [
        "X_train ['BMI_S6'] = X_train['BMI'] * X_train['S6']"
      ],
      "execution_count": null,
      "outputs": []
    },
    {
      "cell_type": "code",
      "metadata": {
        "id": "9WNnwl3AVvYe"
      },
      "source": [
        "X_train ['AGE_S5'] = X_train['AGE'] * X_train['S5']"
      ],
      "execution_count": null,
      "outputs": []
    },
    {
      "cell_type": "code",
      "metadata": {
        "id": "QPbvKFjVV2GD"
      },
      "source": [
        "X_train ['AGE_BP'] = X_train['AGE'] * X_train['BP']"
      ],
      "execution_count": null,
      "outputs": []
    },
    {
      "cell_type": "code",
      "metadata": {
        "id": "ZHe-2PaLV_NY"
      },
      "source": [
        "X_train ['BP_SEX'] = X_train['BP'] * X_train['SEX']"
      ],
      "execution_count": null,
      "outputs": []
    },
    {
      "cell_type": "code",
      "metadata": {
        "colab": {
          "base_uri": "https://localhost:8080/"
        },
        "id": "O2NimNeyNNQF",
        "outputId": "ecdcc1a2-ea60-4237-cc81-839151e96021"
      },
      "source": [
        "reg = LinearRegression()\n",
        "\n",
        "reg.fit(X_train, y4)\n",
        "\n",
        "print(\"Сдвиг={}\".format(reg.intercept_))\n",
        "for column, coef in zip(X_train.columns, reg.coef_):\n",
        "    print(\"Коэффициент для {}={}\".format(column, coef))"
      ],
      "execution_count": null,
      "outputs": [
        {
          "output_type": "stream",
          "text": [
            "Сдвиг=111.95195253184906\n",
            "Коэффициент для AGE=-21.990469226256813\n",
            "Коэффициент для BMI=24.38702431612626\n",
            "Коэффициент для BP=5.987518010061278\n",
            "Коэффициент для S1=-54.62615204039564\n",
            "Коэффициент для S2=38.99338250564598\n",
            "Коэффициент для S3=13.386544648446591\n",
            "Коэффициент для S5=41.639736230243976\n",
            "Коэффициент для S6=3.2621830096861566\n",
            "Коэффициент для SEX=-0.5902523753726461\n",
            "Коэффициент для S4=16.389024688083055\n",
            "Коэффициент для CATEG=-5.390256006201176\n",
            "Коэффициент для AGE_SEX=15.765917732951243\n",
            "Коэффициент для BMI_BP=5.923849417191597\n",
            "Коэффициент для BMI_S6=3.6371632366820315\n",
            "Коэффициент для AGE_S5=4.441719308743439\n",
            "Коэффициент для AGE_BP=1.9847015906900602\n",
            "Коэффициент для BP_SEX=5.950033436188844\n"
          ],
          "name": "stdout"
        }
      ]
    },
    {
      "cell_type": "code",
      "metadata": {
        "colab": {
          "base_uri": "https://localhost:8080/"
        },
        "id": "9pRpPTVDNdCe",
        "outputId": "4b0e5d42-4de0-4b08-cf91-caa6e51382ae"
      },
      "source": [
        "y_pred4 = reg.predict(X_train)\n",
        "\n",
        "print(f'Ошибка на обучающей выборке: {mean_squared_error(y_pred4, y4)}')"
      ],
      "execution_count": null,
      "outputs": [
        {
          "output_type": "stream",
          "text": [
            "Ошибка на обучающей выборке: 2659.183039480778\n"
          ],
          "name": "stdout"
        }
      ]
    },
    {
      "cell_type": "code",
      "metadata": {
        "colab": {
          "base_uri": "https://localhost:8080/"
        },
        "id": "7Z7CozO1NmpT",
        "outputId": "f50ad0d0-0cf7-490c-80e1-044e2d18539e"
      },
      "source": [
        "from sklearn.model_selection import cross_val_score\n",
        "\n",
        "errors = -cross_val_score(LinearRegression(), X_train, y4, cv=4, scoring='neg_mean_squared_error')\n",
        "print(f'Ошибка на тестовой выборке: {np.average(errors)}')"
      ],
      "execution_count": null,
      "outputs": [
        {
          "output_type": "stream",
          "text": [
            "Ошибка на тестовой выборке: 2800.254585671904\n"
          ],
          "name": "stdout"
        }
      ]
    },
    {
      "cell_type": "code",
      "metadata": {
        "colab": {
          "base_uri": "https://localhost:8080/"
        },
        "id": "AXVHwSWACam7",
        "outputId": "888e83b0-e4d1-4f76-c252-39fe8a1f8d7b"
      },
      "source": [
        "mode_Ridge(X4, y4, 4, np.arange(1, 100, 10))"
      ],
      "execution_count": null,
      "outputs": [
        {
          "output_type": "stream",
          "text": [
            "Все лямбды:\n",
            "[ 1 11 21 31 41 51 61 71 81 91]\n",
            "(1, 2661.6285214516834)\n",
            "(11, 2690.5693418548)\n",
            "(21, 2704.239724250425)\n",
            "(31, 2714.249829360188)\n",
            "(41, 2722.9341651524746)\n",
            "(51, 2731.0558035407976)\n",
            "(61, 2738.9482982726313)\n",
            "(71, 2746.7782616176596)\n",
            "(81, 2754.633673241791)\n",
            "(91, 2762.5611241782644)\n",
            "\n",
            "Оптимальная lambda:\n",
            "Lambda=1.00, результат=2797.67\n"
          ],
          "name": "stdout"
        }
      ]
    },
    {
      "cell_type": "code",
      "metadata": {
        "id": "ms9Xd0Y08c0C"
      },
      "source": [
        "def Ridge_modernize(X, y, cv, array : np.ndarray):\n",
        "    lambdas_ridge = array\n",
        "\n",
        "    train, test = [], []\n",
        "\n",
        "    for val in lambdas_ridge:\n",
        "        reg = Ridge(alpha=val).fit(X, y)\n",
        "        y_pred = reg.predict(X)\n",
        "    \n",
        "        val_reg = Ridge(alpha=val)\n",
        "        cv_error = -np.average(cross_val_score(val_reg, X, y, cv=cv, scoring='neg_mean_squared_error'))\n",
        "        train.append(mean_squared_error(y_pred, y))\n",
        "        test.append(cv_error)\n",
        "    return train, test"
      ],
      "execution_count": null,
      "outputs": []
    },
    {
      "cell_type": "code",
      "metadata": {
        "id": "MpfKZ5Bv-KP4"
      },
      "source": [
        "val = Ridge_modernize(X4, y4, 4, np.arange(1, 100, 10))"
      ],
      "execution_count": null,
      "outputs": []
    },
    {
      "cell_type": "code",
      "metadata": {
        "id": "6mv42C1O5kCd"
      },
      "source": [
        "def MSE_lambda(val):\n",
        "  list_lambda = []\n",
        "  for i in range(1, 100, 10):\n",
        "    list_lambda.append(i)\n",
        "\n",
        "  plt.xlabel(\"lambda\")\n",
        "  plt.ylabel(\"MSE\")\n",
        "  plt.plot(list_lambda, val[0], 'b', list_lambda, val[1], 'r');"
      ],
      "execution_count": null,
      "outputs": []
    },
    {
      "cell_type": "code",
      "metadata": {
        "colab": {
          "base_uri": "https://localhost:8080/",
          "height": 279
        },
        "id": "Ek3hTNzdCB9G",
        "outputId": "0864e63a-a5d6-4905-f74b-6a9b84b816ba"
      },
      "source": [
        "MSE_lambda(val)"
      ],
      "execution_count": null,
      "outputs": [
        {
          "output_type": "display_data",
          "data": {
            "image/png": "[encoded data removed]",
            "text/plain": [
              "<Figure size 432x288 with 1 Axes>"
            ]
          },
          "metadata": {
            "tags": [],
            "needs_background": "light"
          }
        }
      ]
    },
    {
      "cell_type": "markdown",
      "metadata": {
        "id": "NeRj9VKOGo1G"
      },
      "source": [
        "## **Вывод**: теперь сформировал в пары все признаки и выделил топ-10 самых сильных взаимодействия между собой, добавил некоторые эти взаимодействия в наш DataFrame, качество заметно возросло! Было **2911.77** -> Стало **2800.25**, но я на этом не остановился, применил Ridge и в итоге конечный **MSE = 2797.67**  "
      ]
    }
  ]
}