{
 "cells": [
  {
   "cell_type": "markdown",
   "metadata": {
    "id": "eIEinMeIAHhV"
   },
   "source": [
    "# 1 - Бинарная классификация на примере детекции фрода на кредитных картах\n",
    "У вас есть информация о множесте транзакций. Нужно научиться предсказывать, какие из них мошеннические, а какие нет."
   ]
  },
  {
   "cell_type": "code",
   "execution_count": null,
   "metadata": {
    "id": "_x8nYdebpI2y"
   },
   "outputs": [],
   "source": [
    "import pandas as pd\n",
    "import numpy as np\n",
    "import seaborn as sns\n",
    "from matplotlib import pyplot as plt \n",
    "from sklearn.model_selection import train_test_split\n",
    "from sklearn.linear_model import LogisticRegression\n",
    "from sklearn.neighbors import KNeighborsClassifier\n",
    "from sklearn.metrics import accuracy_score, f1_score, precision_score, recall_score, roc_auc_score, plot_roc_curve, roc_curve, auc\n",
    "from sklearn.preprocessing import RobustScaler, StandardScaler\n",
    "from sklearn import preprocessing\n",
    "from itertools import combinations\n",
    "from sklearn.ensemble import RandomForestClassifier\n",
    "from sklearn.model_selection import GridSearchCV\n",
    "import warnings\n",
    "from tqdm.notebook import tqdm\n",
    "from collections import Counter\n",
    "from plotnine import ggplot\n",
    "warnings.filterwarnings(\"ignore\")\n",
    "plt.style.use('bmh')"
   ]
  },
  {
   "cell_type": "code",
   "execution_count": null,
   "metadata": {
    "colab": {
     "base_uri": "https://localhost:8080/"
    },
    "id": "V7MkphDQo2YQ",
    "outputId": "3a4bfde4-4e09-40c8-c04c-9b1ef42ac1bf"
   },
   "outputs": [
    {
     "name": "stdout",
     "output_type": "stream",
     "text": [
      "Mounted at /content/drive\n"
     ]
    }
   ],
   "source": [
    "from google.colab import drive\n",
    "drive.mount('/content/drive')"
   ]
  },
  {
   "cell_type": "code",
   "execution_count": null,
   "metadata": {
    "id": "vqwMS0OJAHhs"
   },
   "outputs": [],
   "source": [
    "df = pd.read_csv('/content/drive/MyDrive/creditcard.csv')"
   ]
  },
  {
   "cell_type": "code",
   "execution_count": null,
   "metadata": {
    "colab": {
     "base_uri": "https://localhost:8080/",
     "height": 155
    },
    "id": "zdQVggYJAHhu",
    "outputId": "db955e07-f364-4617-97e1-1445343b2874"
   },
   "outputs": [
    {
     "data": {
      "text/html": [
       "<div>\n",
       "<style scoped>\n",
       "    .dataframe tbody tr th:only-of-type {\n",
       "        vertical-align: middle;\n",
       "    }\n",
       "\n",
       "    .dataframe tbody tr th {\n",
       "        vertical-align: top;\n",
       "    }\n",
       "\n",
       "    .dataframe thead th {\n",
       "        text-align: right;\n",
       "    }\n",
       "</style>\n",
       "<table border=\"1\" class=\"dataframe\">\n",
       "  <thead>\n",
       "    <tr style=\"text-align: right;\">\n",
       "      <th></th>\n",
       "      <th>Time</th>\n",
       "      <th>V1</th>\n",
       "      <th>V2</th>\n",
       "      <th>V3</th>\n",
       "      <th>V4</th>\n",
       "      <th>V5</th>\n",
       "      <th>V6</th>\n",
       "      <th>V7</th>\n",
       "      <th>V8</th>\n",
       "      <th>V9</th>\n",
       "      <th>V10</th>\n",
       "      <th>V11</th>\n",
       "      <th>V12</th>\n",
       "      <th>V13</th>\n",
       "      <th>V14</th>\n",
       "      <th>V15</th>\n",
       "      <th>V16</th>\n",
       "      <th>V17</th>\n",
       "      <th>V18</th>\n",
       "      <th>V19</th>\n",
       "      <th>V20</th>\n",
       "      <th>V21</th>\n",
       "      <th>V22</th>\n",
       "      <th>V23</th>\n",
       "      <th>V24</th>\n",
       "      <th>V25</th>\n",
       "      <th>V26</th>\n",
       "      <th>V27</th>\n",
       "      <th>V28</th>\n",
       "      <th>Amount</th>\n",
       "      <th>Class</th>\n",
       "    </tr>\n",
       "  </thead>\n",
       "  <tbody>\n",
       "    <tr>\n",
       "      <th>0</th>\n",
       "      <td>0.0</td>\n",
       "      <td>-1.359807</td>\n",
       "      <td>-0.072781</td>\n",
       "      <td>2.536347</td>\n",
       "      <td>1.378155</td>\n",
       "      <td>-0.338321</td>\n",
       "      <td>0.462388</td>\n",
       "      <td>0.239599</td>\n",
       "      <td>0.098698</td>\n",
       "      <td>0.363787</td>\n",
       "      <td>0.090794</td>\n",
       "      <td>-0.551600</td>\n",
       "      <td>-0.617801</td>\n",
       "      <td>-0.991390</td>\n",
       "      <td>-0.311169</td>\n",
       "      <td>1.468177</td>\n",
       "      <td>-0.470401</td>\n",
       "      <td>0.207971</td>\n",
       "      <td>0.025791</td>\n",
       "      <td>0.403993</td>\n",
       "      <td>0.251412</td>\n",
       "      <td>-0.018307</td>\n",
       "      <td>0.277838</td>\n",
       "      <td>-0.110474</td>\n",
       "      <td>0.066928</td>\n",
       "      <td>0.128539</td>\n",
       "      <td>-0.189115</td>\n",
       "      <td>0.133558</td>\n",
       "      <td>-0.021053</td>\n",
       "      <td>149.62</td>\n",
       "      <td>0</td>\n",
       "    </tr>\n",
       "    <tr>\n",
       "      <th>1</th>\n",
       "      <td>0.0</td>\n",
       "      <td>1.191857</td>\n",
       "      <td>0.266151</td>\n",
       "      <td>0.166480</td>\n",
       "      <td>0.448154</td>\n",
       "      <td>0.060018</td>\n",
       "      <td>-0.082361</td>\n",
       "      <td>-0.078803</td>\n",
       "      <td>0.085102</td>\n",
       "      <td>-0.255425</td>\n",
       "      <td>-0.166974</td>\n",
       "      <td>1.612727</td>\n",
       "      <td>1.065235</td>\n",
       "      <td>0.489095</td>\n",
       "      <td>-0.143772</td>\n",
       "      <td>0.635558</td>\n",
       "      <td>0.463917</td>\n",
       "      <td>-0.114805</td>\n",
       "      <td>-0.183361</td>\n",
       "      <td>-0.145783</td>\n",
       "      <td>-0.069083</td>\n",
       "      <td>-0.225775</td>\n",
       "      <td>-0.638672</td>\n",
       "      <td>0.101288</td>\n",
       "      <td>-0.339846</td>\n",
       "      <td>0.167170</td>\n",
       "      <td>0.125895</td>\n",
       "      <td>-0.008983</td>\n",
       "      <td>0.014724</td>\n",
       "      <td>2.69</td>\n",
       "      <td>0</td>\n",
       "    </tr>\n",
       "    <tr>\n",
       "      <th>2</th>\n",
       "      <td>1.0</td>\n",
       "      <td>-1.358354</td>\n",
       "      <td>-1.340163</td>\n",
       "      <td>1.773209</td>\n",
       "      <td>0.379780</td>\n",
       "      <td>-0.503198</td>\n",
       "      <td>1.800499</td>\n",
       "      <td>0.791461</td>\n",
       "      <td>0.247676</td>\n",
       "      <td>-1.514654</td>\n",
       "      <td>0.207643</td>\n",
       "      <td>0.624501</td>\n",
       "      <td>0.066084</td>\n",
       "      <td>0.717293</td>\n",
       "      <td>-0.165946</td>\n",
       "      <td>2.345865</td>\n",
       "      <td>-2.890083</td>\n",
       "      <td>1.109969</td>\n",
       "      <td>-0.121359</td>\n",
       "      <td>-2.261857</td>\n",
       "      <td>0.524980</td>\n",
       "      <td>0.247998</td>\n",
       "      <td>0.771679</td>\n",
       "      <td>0.909412</td>\n",
       "      <td>-0.689281</td>\n",
       "      <td>-0.327642</td>\n",
       "      <td>-0.139097</td>\n",
       "      <td>-0.055353</td>\n",
       "      <td>-0.059752</td>\n",
       "      <td>378.66</td>\n",
       "      <td>0</td>\n",
       "    </tr>\n",
       "  </tbody>\n",
       "</table>\n",
       "</div>"
      ],
      "text/plain": [
       "   Time        V1        V2        V3  ...       V27       V28  Amount  Class\n",
       "0   0.0 -1.359807 -0.072781  2.536347  ...  0.133558 -0.021053  149.62      0\n",
       "1   0.0  1.191857  0.266151  0.166480  ... -0.008983  0.014724    2.69      0\n",
       "2   1.0 -1.358354 -1.340163  1.773209  ... -0.055353 -0.059752  378.66      0\n",
       "\n",
       "[3 rows x 31 columns]"
      ]
     },
     "execution_count": 4,
     "metadata": {
      "tags": []
     },
     "output_type": "execute_result"
    }
   ],
   "source": [
    "df.head(3)"
   ]
  },
  {
   "cell_type": "code",
   "execution_count": null,
   "metadata": {
    "colab": {
     "base_uri": "https://localhost:8080/"
    },
    "id": "NLc2WxTnWurw",
    "outputId": "6c604202-0c86-432f-a481-70b55f20949c"
   },
   "outputs": [
    {
     "data": {
      "text/plain": [
       "Time      0\n",
       "V1        0\n",
       "V2        0\n",
       "V3        0\n",
       "V4        0\n",
       "V5        0\n",
       "V6        0\n",
       "V7        0\n",
       "V8        0\n",
       "V9        0\n",
       "V10       0\n",
       "V11       0\n",
       "V12       0\n",
       "V13       0\n",
       "V14       0\n",
       "V15       0\n",
       "V16       0\n",
       "V17       0\n",
       "V18       0\n",
       "V19       0\n",
       "V20       0\n",
       "V21       0\n",
       "V22       0\n",
       "V23       0\n",
       "V24       0\n",
       "V25       0\n",
       "V26       0\n",
       "V27       0\n",
       "V28       0\n",
       "Amount    0\n",
       "Class     0\n",
       "dtype: int64"
      ]
     },
     "execution_count": 5,
     "metadata": {
      "tags": []
     },
     "output_type": "execute_result"
    }
   ],
   "source": [
    "df.isnull().sum()"
   ]
  },
  {
   "cell_type": "markdown",
   "metadata": {
    "id": "ipMAsW3blCMw"
   },
   "source": [
    "Пропусков в данных нет"
   ]
  },
  {
   "cell_type": "code",
   "execution_count": null,
   "metadata": {
    "colab": {
     "base_uri": "https://localhost:8080/",
     "height": 279
    },
    "id": "g_ihVt-j1PXj",
    "outputId": "d9db114e-d393-4e9f-9b71-89deabf610b8"
   },
   "outputs": [
    {
     "data": {
      "image/png": "[encoded data removed]",
      "text/plain": [
       "<Figure size 432x288 with 1 Axes>"
      ]
     },
     "metadata": {
      "needs_background": "light",
      "tags": []
     },
     "output_type": "display_data"
    }
   ],
   "source": [
    "sns.countplot(x='Class', data=df);"
   ]
  },
  {
   "cell_type": "markdown",
   "metadata": {
    "id": "Yhi59Mt16ENY"
   },
   "source": [
    "По гистограмме мы видим явную несбалансированность классов, мошеннических транзакций много меньше обычных"
   ]
  },
  {
   "cell_type": "markdown",
   "metadata": {
    "id": "-JXKf_gMCQ_L"
   },
   "source": [
    "Колонки V1-V28 уже преобразованы с помощью PCA, теперь надо посмотреть на распределение колонок время ('Time') и сумму транзакций ('Amount')"
   ]
  },
  {
   "cell_type": "code",
   "execution_count": null,
   "metadata": {
    "colab": {
     "base_uri": "https://localhost:8080/",
     "height": 399
    },
    "id": "WaCnzLaTCyq4",
    "outputId": "5e124332-0a86-45cf-c9f7-6a45e07d3e31"
   },
   "outputs": [
    {
     "data": {
      "image/png": "[encoded data removed]",
      "text/plain": [
       "<Figure size 1080x432 with 2 Axes>"
      ]
     },
     "metadata": {
      "needs_background": "light",
      "tags": []
     },
     "output_type": "display_data"
    }
   ],
   "source": [
    "figure, (ax1, ax2) = plt.subplots(1, 2, figsize=(15, 6))\n",
    "ax1 = sns.distplot(df['Time'], ax=ax1, color='y')\n",
    "ax2 = sns.distplot(df['Amount'], ax=ax2)"
   ]
  },
  {
   "cell_type": "code",
   "execution_count": null,
   "metadata": {
    "id": "XK-zaNZgFMzn"
   },
   "outputs": [],
   "source": [
    "rs = RobustScaler()\n",
    "df['New_Amount'] = rs.fit_transform(df['Amount'].values.reshape(-1,1))\n",
    "df['New_Time'] = rs.fit_transform(df['Time'].values.reshape(-1,1))\n",
    "df.drop(['Time', 'Amount'], axis=1, inplace=True)"
   ]
  },
  {
   "cell_type": "markdown",
   "metadata": {
    "id": "YHzSb9h4AHhv"
   },
   "source": [
    "### Обучим несколько моделей, посмотрим на метрики."
   ]
  },
  {
   "cell_type": "code",
   "execution_count": null,
   "metadata": {
    "id": "pm5GvgvM8NrC"
   },
   "outputs": [],
   "source": [
    "X = df.drop('Class', axis=1)\n",
    "y = df['Class']"
   ]
  },
  {
   "cell_type": "code",
   "execution_count": null,
   "metadata": {
    "id": "Et3piKb18yU4"
   },
   "outputs": [],
   "source": [
    "X_train, X_test, y_train, y_test = train_test_split(X, y, test_size=0.2, stratify=y, random_state=42)"
   ]
  },
  {
   "cell_type": "markdown",
   "metadata": {
    "id": "w1tC_lJW_4ke"
   },
   "source": [
    "#### LogisticRegression"
   ]
  },
  {
   "cell_type": "code",
   "execution_count": null,
   "metadata": {
    "id": "TmHL8z1Umnb7"
   },
   "outputs": [],
   "source": [
    "def metrics(model, X_train, X_test, y_train, y_test):\n",
    "    model.fit(X_train, y_train)\n",
    "    y_pred = model.predict(X_test)\n",
    "    print(f'accuracy: {accuracy_score(y_test, y_pred)}')\n",
    "    print(f'precision: {precision_score(y_test, y_pred)}')\n",
    "    print(f'recall: {recall_score(y_test, y_pred)}')\n",
    "    print(f'f1-score: {f1_score(y_test, y_pred)}')\n",
    "    print(f'roc_auc: {roc_auc_score(y_test, y_pred)}')\n",
    "    return model"
   ]
  },
  {
   "cell_type": "code",
   "execution_count": null,
   "metadata": {
    "colab": {
     "base_uri": "https://localhost:8080/",
     "height": 385
    },
    "id": "wji_x9GNzF5V",
    "outputId": "67000e79-248f-460d-8575-dac50d610f59"
   },
   "outputs": [
    {
     "name": "stdout",
     "output_type": "stream",
     "text": [
      "accuracy: 0.9991748885221726\n",
      "precision: 0.8311688311688312\n",
      "recall: 0.6530612244897959\n",
      "f1-score: 0.7314285714285713\n",
      "roc_auc: 0.8264163044227257\n"
     ]
    },
    {
     "data": {
      "image/png": "[encoded data removed]",
      "text/plain": [
       "<Figure size 432x288 with 1 Axes>"
      ]
     },
     "metadata": {
      "needs_background": "light",
      "tags": []
     },
     "output_type": "display_data"
    }
   ],
   "source": [
    "plot_roc_curve(metrics(LogisticRegression(), X_train, X_test, y_train, y_test), X_test, y_test)\n",
    "plt.title('ROC curve LogisticRegression');"
   ]
  },
  {
   "cell_type": "markdown",
   "metadata": {
    "id": "11RPS5Be_7tH"
   },
   "source": [
    "#### KNeighborsClassifier"
   ]
  },
  {
   "cell_type": "code",
   "execution_count": null,
   "metadata": {
    "colab": {
     "base_uri": "https://localhost:8080/",
     "height": 385
    },
    "id": "Khzl99jF2pd6",
    "outputId": "3dea3663-a6f4-4806-90f8-f7881a4ba3ab"
   },
   "outputs": [
    {
     "name": "stdout",
     "output_type": "stream",
     "text": [
      "accuracy: 0.9995084442259752\n",
      "precision: 0.9166666666666666\n",
      "recall: 0.7857142857142857\n",
      "f1-score: 0.8461538461538461\n",
      "roc_auc: 0.8927955924913578\n"
     ]
    },
    {
     "data": {
      "image/png": "[encoded data removed]",
      "text/plain": [
       "<Figure size 432x288 with 1 Axes>"
      ]
     },
     "metadata": {
      "needs_background": "light",
      "tags": []
     },
     "output_type": "display_data"
    }
   ],
   "source": [
    "plot_roc_curve(metrics(KNeighborsClassifier(), X_train, X_test, y_train, y_test), X_test, y_test)\n",
    "plt.title('ROC curve KNeighborsClassifier');"
   ]
  },
  {
   "cell_type": "markdown",
   "metadata": {
    "id": "QhlCEhJjVDY3"
   },
   "source": [
    "#### Constant"
   ]
  },
  {
   "cell_type": "code",
   "execution_count": null,
   "metadata": {
    "colab": {
     "base_uri": "https://localhost:8080/"
    },
    "id": "ALvpei0TAHhx",
    "outputId": "896a4800-980f-4a06-c36c-cb863c97cfcf"
   },
   "outputs": [
    {
     "name": "stdout",
     "output_type": "stream",
     "text": [
      "Const\n",
      "accuracy: 0.9982795547909132\n",
      "precision: 0.0\n",
      "recall: 0.0\n",
      "f1-score: 0.0\n",
      "roc_auc: 0.5\n"
     ]
    }
   ],
   "source": [
    "print('Const')\n",
    "y_pred = np.zeros(len(X_test))\n",
    "print(f'accuracy: {accuracy_score(y_test, y_pred)}')\n",
    "print(f'precision: {precision_score(y_test, y_pred)}')\n",
    "print(f'recall: {recall_score(y_test, y_pred)}')\n",
    "print(f'f1-score: {f1_score(y_test, y_pred)}')\n",
    "print(f'roc_auc: {roc_auc_score(y_test, y_pred)}')"
   ]
  },
  {
   "cell_type": "code",
   "execution_count": null,
   "metadata": {
    "colab": {
     "base_uri": "https://localhost:8080/",
     "height": 296
    },
    "id": "GSBAeOwEfGlX",
    "outputId": "1b1c1d46-2ac2-46f4-ed45-43d4bf571389"
   },
   "outputs": [
    {
     "data": {
      "image/png": "[encoded data removed]",
      "text/plain": [
       "<Figure size 432x288 with 1 Axes>"
      ]
     },
     "metadata": {
      "needs_background": "light",
      "tags": []
     },
     "output_type": "display_data"
    }
   ],
   "source": [
    "fpr, tpr, threshold = roc_curve(y_test, y_pred)\n",
    "auc = np.trapz(fpr, tpr)\n",
    "plt.plot(fpr, tpr, label=\"Constant (AUC)=\"+str(auc))\n",
    "plt.xlabel(\"False Positive Rate\")\n",
    "plt.ylabel(\"True Positive Rate\")\n",
    "plt.title(\"ROC curve Constant\")\n",
    "plt.legend(loc=4);"
   ]
  },
  {
   "cell_type": "markdown",
   "metadata": {
    "id": "Sh5lasFlAFBA"
   },
   "source": [
    "#### RandomForest"
   ]
  },
  {
   "cell_type": "code",
   "execution_count": null,
   "metadata": {
    "colab": {
     "base_uri": "https://localhost:8080/",
     "height": 385
    },
    "id": "vZyLMwYHoA1i",
    "outputId": "86a97d07-975e-4313-cbea-c947c9e013e6"
   },
   "outputs": [
    {
     "name": "stdout",
     "output_type": "stream",
     "text": [
      "accuracy: 0.9996137776061234\n",
      "precision: 0.9418604651162791\n",
      "recall: 0.826530612244898\n",
      "f1-score: 0.8804347826086957\n",
      "roc_auc: 0.9132213415754596\n"
     ]
    },
    {
     "data": {
      "image/png": "[encoded data removed]",
      "text/plain": [
       "<Figure size 432x288 with 1 Axes>"
      ]
     },
     "metadata": {
      "needs_background": "light",
      "tags": []
     },
     "output_type": "display_data"
    }
   ],
   "source": [
    "plot_roc_curve(metrics(RandomForestClassifier(), X_train, X_test, y_train, y_test), X_test, y_test)\n",
    "plt.title('ROC curve');"
   ]
  },
  {
   "cell_type": "markdown",
   "metadata": {
    "id": "90ASCXK-AHhy"
   },
   "source": [
    "### Выбрать одну метрику, которую будем максимизировать\n",
    "\n",
    "Представьте, что вы решаете задачу автоматического поиска мошеннических транзакций, чтобы ваш робот автоматически банил пользователей, который их осуществляют.\n",
    "\n",
    "Обоснуйте свой выбор."
   ]
  },
  {
   "cell_type": "markdown",
   "metadata": {
    "id": "djhtoDHwZKF7"
   },
   "source": [
    "**Ответ:** Буду максимизировать f1-score."
   ]
  },
  {
   "cell_type": "markdown",
   "metadata": {
    "id": "FDFqJ-uQZfBl"
   },
   "source": [
    "**Пояснение**: Давайте разбираться на примерах. **1.** Почему я не выбрал **accuracy**? В этом датасете очень сильная несбалансированность классов, мошеннических транзакций мало, и поэтому **accuracy** близка к 1, но это не значит, что эта метрика хорошо работает, она просто хорошо показывает немошеннические транзакции. **2.** Почему я не выбрал **precision**? Допустим мы будем максимизировать **precision** для нашего алгоритма и получим, что количество предсказанного алгоритмом класса близко к количеству элементов реального класса, вроде бы все хорошо, метрика **precision** близка к единице, но не тут то было! Пусть алгоритм предсказал 5 транзакций мошенническими и все они реально оказались таковыми, но из этого не следует, что все отлично, ведь по-настоящему может быть, что таких транзакций, например, 100, да, мы предсказали 5 верно, но 95 даже не заметили, и мошенники останутся безнаказанными, это очень плохо! **3.** Почему я не выбрал только **recall**? Допустим у нас всего мошеннических транзакций 5, и наш алгоритм предсказал 100 мошеннических транзакций, среди которых затесались те самые 5 мошеннических, вроде хорошо, **recall** равен 1, но попутно мы нахватали обычных 95 пользователей, которых просто так заблокируем, это тоже очень плохо! Поэтому будем максимизировать среднее гармоническое этих метрик - **f1-score**"
   ]
  },
  {
   "cell_type": "code",
   "execution_count": null,
   "metadata": {
    "id": "xpYmvv1RBHSe"
   },
   "outputs": [],
   "source": [
    "def f1score(model, X_train, X_test, y_train, y_test):\n",
    "    model.fit(X_train, y_train)\n",
    "    y_pred = model.predict(X_test)\n",
    "    return f1_score(y_test, y_pred)"
   ]
  },
  {
   "cell_type": "markdown",
   "metadata": {
    "id": "UUtEoz7YAHh0"
   },
   "source": [
    "### Перебор гиперпараметров разных моделей"
   ]
  },
  {
   "cell_type": "code",
   "execution_count": null,
   "metadata": {
    "id": "mExrVBKEci1h"
   },
   "outputs": [],
   "source": [
    "def model_fit(model, X_train, X_test, y_train, y_test):\n",
    "    model.fit(X_train, y_train)\n",
    "    return model"
   ]
  },
  {
   "cell_type": "markdown",
   "metadata": {
    "id": "szF-cOd8cJsR"
   },
   "source": [
    "#### LogisticRegression"
   ]
  },
  {
   "cell_type": "markdown",
   "metadata": {
    "id": "XMemPaKFcUFn"
   },
   "source": [
    "Попробуем посмотреть на взаимодействие переменных и подобавлять новые фичи в датасет"
   ]
  },
  {
   "cell_type": "code",
   "execution_count": null,
   "metadata": {
    "id": "ZS4ZSFaAqUGR"
   },
   "outputs": [],
   "source": [
    "def model_improve(model, X, y):\n",
    "    column_list = X.columns\n",
    "    interactions = list(combinations(column_list, 2))\n",
    "\n",
    "    interaction_dict = {}\n",
    "    for i in tqdm(range(len(interactions))):\n",
    "        X_new = X\n",
    "        X_new['NEW'] = X_new[interactions[i][0]] * X_new[interactions[i][1]]\n",
    "        model.fit(X_new, y)\n",
    "        interaction_dict[model.score(X_new, y)] = interactions[i]\n",
    "    \n",
    "    top_5 = sorted(interaction_dict.keys(), reverse = True)[:5]\n",
    "    for interaction in top_5:\n",
    "        print(interaction_dict[interaction])"
   ]
  },
  {
   "cell_type": "markdown",
   "metadata": {
    "id": "t4rEsyvIveYg"
   },
   "source": [
    "Топ-5 лучших взаимодействий фич для LogisticRegression"
   ]
  },
  {
   "cell_type": "code",
   "execution_count": null,
   "metadata": {
    "colab": {
     "base_uri": "https://localhost:8080/",
     "height": 156,
     "referenced_widgets": [
      "29c62a2c72844dea9738df72c4cf3c9d",
      "7f426d45d87c4215a93ca9f85c637d30",
      "cd4edafb0fd64b7a8a3fb7213c4cc505",
      "dac2d02efb5942ec9c41ff51f744ce22",
      "b927b066d5c44751aefacb04e158c514",
      "fe384832fccf44bdab32a4e14006e675",
      "0b783b52e76a4994a98abf14655d7507",
      "9b39c37078b9496a8174961d2a02f51f"
     ]
    },
    "id": "etmHsbbjrO6h",
    "outputId": "16a0c4ce-4a3b-463d-8170-119f65de0011"
   },
   "outputs": [
    {
     "data": {
      "application/vnd.jupyter.widget-view+json": {
       "model_id": "29c62a2c72844dea9738df72c4cf3c9d",
       "version_major": 2,
       "version_minor": 0
      },
      "text/plain": [
       "HBox(children=(FloatProgress(value=0.0, max=435.0), HTML(value='')))"
      ]
     },
     "metadata": {
      "tags": []
     },
     "output_type": "display_data"
    },
    {
     "name": "stdout",
     "output_type": "stream",
     "text": [
      "\n",
      "('V11', 'V17')\n",
      "('V11', 'V12')\n",
      "('V12', 'V17')\n",
      "('V12', 'V16')\n",
      "('V12', 'V14')\n"
     ]
    }
   ],
   "source": [
    "model_improve(LogisticRegression(), X, y)"
   ]
  },
  {
   "cell_type": "markdown",
   "metadata": {
    "id": "0p5GfFgovjn1"
   },
   "source": [
    "Перебрал некоторые пары из них и добавил 4 новые фичи в датасет"
   ]
  },
  {
   "cell_type": "code",
   "execution_count": null,
   "metadata": {
    "id": "Vfy9xahkpcxv"
   },
   "outputs": [],
   "source": [
    "X_new1 = X\n",
    "X_new1['V11_V17'] = X_new1['V11'] * X_new1['V17']\n",
    "X_new1['V11_V12'] = X_new1['V11'] * X_new1['V12']\n",
    "X_new1['V12_V17'] = X_new1['V12'] * X_new1['V17']\n",
    "X_new1['V12_V16'] = X_new1['V12'] * X_new1['V16']"
   ]
  },
  {
   "cell_type": "code",
   "execution_count": null,
   "metadata": {
    "id": "448t9P1vqIPe"
   },
   "outputs": [],
   "source": [
    "X_train1, X_test1, y_train1, y_test1 = train_test_split(X_new1, y, test_size=0.2, random_state=42)"
   ]
  },
  {
   "cell_type": "code",
   "execution_count": null,
   "metadata": {
    "colab": {
     "base_uri": "https://localhost:8080/"
    },
    "id": "cA01GIdiRdVn",
    "outputId": "9d1df71b-62da-4885-8ae0-9920aed3a9e4"
   },
   "outputs": [
    {
     "data": {
      "text/plain": [
       "0.7909604519774011"
      ]
     },
     "execution_count": 24,
     "metadata": {
      "tags": []
     },
     "output_type": "execute_result"
    }
   ],
   "source": [
    "f1score(LogisticRegression(), X_train1, X_test1, y_train1, y_test1)"
   ]
  },
  {
   "cell_type": "markdown",
   "metadata": {
    "id": "ljt9X1bHcKxG"
   },
   "source": [
    "Добавление фич улучшило результат с 0.695 до **0.79**"
   ]
  },
  {
   "cell_type": "markdown",
   "metadata": {
    "id": "1aihvTHW3RD3"
   },
   "source": [
    "Теперь попробуем подобрать лучшие гиперпараметры для Логистической регрессии!"
   ]
  },
  {
   "cell_type": "code",
   "execution_count": null,
   "metadata": {
    "id": "tlErV-JfcRsj"
   },
   "outputs": [],
   "source": [
    "def best_params_log(X_train1, y_train1, scoring, solver=['lbfgs']):\n",
    "    parameters = {\n",
    "                'penalty' : ['l1','l2'], \n",
    "                'class_weight' : ['balanced', None], \n",
    "                'C' : [0.1, 1, 5, 10],\n",
    "                'max_iter': [10, 100, 500],\n",
    "                'solver': solver\n",
    "                }\n",
    "    log_cv = GridSearchCV(LogisticRegression(), parameters, cv=5, scoring=scoring)\n",
    "    log_cv.fit(X_train1, y_train1)\n",
    "\n",
    "    best_parameters = log_cv.best_params_\n",
    "    print('The best parameters for using this model is', best_parameters)"
   ]
  },
  {
   "cell_type": "code",
   "execution_count": null,
   "metadata": {
    "colab": {
     "base_uri": "https://localhost:8080/"
    },
    "id": "rgNSdj4-jqMs",
    "outputId": "3dd29d1f-36f2-4117-dd9a-f27ac6084fea"
   },
   "outputs": [
    {
     "name": "stdout",
     "output_type": "stream",
     "text": [
      "The best parameters for using this model is {'C': 10, 'class_weight': None, 'max_iter': 100, 'penalty': 'l2', 'solver': 'lbfgs'}\n"
     ]
    }
   ],
   "source": [
    "best_params_log(X_train1, y_train1, scoring='f1')"
   ]
  },
  {
   "cell_type": "code",
   "execution_count": null,
   "metadata": {
    "id": "bIEaVZzx5d9A"
   },
   "outputs": [],
   "source": [
    "log_best = LogisticRegression(C = 10,\n",
    "                              penalty ='l2', \n",
    "                              class_weight = None,\n",
    "                              max_iter = 100)"
   ]
  },
  {
   "cell_type": "code",
   "execution_count": null,
   "metadata": {
    "colab": {
     "base_uri": "https://localhost:8080/"
    },
    "id": "LEAmmFJu57R1",
    "outputId": "0f652998-08fd-4942-aa24-970b9323b20c"
   },
   "outputs": [
    {
     "data": {
      "text/plain": [
       "0.8"
      ]
     },
     "execution_count": 27,
     "metadata": {
      "tags": []
     },
     "output_type": "execute_result"
    }
   ],
   "source": [
    "f1score(log_best, X_train1, X_test1, y_train1, y_test1)"
   ]
  },
  {
   "cell_type": "markdown",
   "metadata": {
    "id": "AfCdkzG29enj"
   },
   "source": [
    "Перебор гиперпараметров немного помог!"
   ]
  },
  {
   "cell_type": "code",
   "execution_count": null,
   "metadata": {
    "colab": {
     "base_uri": "https://localhost:8080/",
     "height": 296
    },
    "id": "RL1BkrOXKP8M",
    "outputId": "280d00a0-44e1-4fb1-9e37-01c1e0c994da"
   },
   "outputs": [
    {
     "data": {
      "image/png": "[encoded data removed]",
      "text/plain": [
       "<Figure size 432x288 with 1 Axes>"
      ]
     },
     "metadata": {
      "needs_background": "light",
      "tags": []
     },
     "output_type": "display_data"
    }
   ],
   "source": [
    "plot_roc_curve(model_fit(log_best, X_train1, X_test1, y_train1, y_test1), X_test1, y_test1)\n",
    "plt.title('ROC curve');"
   ]
  },
  {
   "cell_type": "code",
   "execution_count": null,
   "metadata": {
    "colab": {
     "base_uri": "https://localhost:8080/",
     "height": 279
    },
    "id": "6kzr0DpA4BrQ",
    "outputId": "28b876fa-2373-416e-d32c-91c035798966"
   },
   "outputs": [
    {
     "data": {
      "image/png": "[encoded data removed]",
      "text/plain": [
       "<Figure size 432x288 with 1 Axes>"
      ]
     },
     "metadata": {
      "needs_background": "light",
      "tags": []
     },
     "output_type": "display_data"
    }
   ],
   "source": [
    "log_reg = ['Old result', 'New result']\n",
    "log_reg_result = [f1score(LogisticRegression(), X_train, X_test, y_train, y_test), f1score(log_best, X_train1, X_test1, y_train1, y_test1)]\n",
    "log_reg_colors = [\"#F6AE6F\", \"#67AC87\"]\n",
    "plt.title('LogisticRegression')\n",
    "plt.bar(log_reg, log_reg_result, color=log_reg_colors);"
   ]
  },
  {
   "cell_type": "markdown",
   "metadata": {
    "id": "3aYMYXOry2s-"
   },
   "source": [
    "**Вывод**: Метрику f1-score удалось заметно улучшить с 0.73 до **0.8**"
   ]
  },
  {
   "cell_type": "markdown",
   "metadata": {
    "id": "sT19YnQOYljW"
   },
   "source": [
    "#### KNeighborsClassifier"
   ]
  },
  {
   "cell_type": "code",
   "execution_count": null,
   "metadata": {
    "colab": {
     "base_uri": "https://localhost:8080/"
    },
    "id": "XrnnuWZDcziO",
    "outputId": "4a2b2295-9386-45a2-c8c7-13acc5c06be2"
   },
   "outputs": [
    {
     "name": "stdout",
     "output_type": "stream",
     "text": [
      "Fitting 5 folds for each of 18 candidates, totalling 90 fits\n"
     ]
    },
    {
     "name": "stderr",
     "output_type": "stream",
     "text": [
      "[Parallel(n_jobs=-1)]: Using backend LokyBackend with 2 concurrent workers.\n",
      "[Parallel(n_jobs=-1)]: Done   1 tasks      | elapsed:  4.0min\n",
      "[Parallel(n_jobs=-1)]: Done   4 tasks      | elapsed:  7.8min\n",
      "[Parallel(n_jobs=-1)]: Done   9 tasks      | elapsed: 19.0min\n",
      "[Parallel(n_jobs=-1)]: Done  14 tasks      | elapsed: 28.1min\n",
      "[Parallel(n_jobs=-1)]: Done  21 tasks      | elapsed: 45.1min\n",
      "[Parallel(n_jobs=-1)]: Done  28 tasks      | elapsed: 59.5min\n",
      "[Parallel(n_jobs=-1)]: Done  37 tasks      | elapsed: 79.2min\n",
      "[Parallel(n_jobs=-1)]: Done  46 tasks      | elapsed: 96.1min\n",
      "[Parallel(n_jobs=-1)]: Done  57 tasks      | elapsed: 123.1min\n",
      "[Parallel(n_jobs=-1)]: Done  68 tasks      | elapsed: 166.5min\n",
      "[Parallel(n_jobs=-1)]: Done  81 tasks      | elapsed: 240.6min\n",
      "[Parallel(n_jobs=-1)]: Done  90 out of  90 | elapsed: 287.8min finished\n"
     ]
    },
    {
     "name": "stdout",
     "output_type": "stream",
     "text": [
      "The best parameters for using this model is {'metric': 'manhattan', 'n_neighbors': 5, 'weights': 'distance'}\n"
     ]
    }
   ],
   "source": [
    "param_grid = {\n",
    "            'n_neighbors': [5, 7, 9],\n",
    "            'weights': ['uniform', 'distance'],\n",
    "            'metric': ['minkowski', 'euclidean', 'manhattan']\n",
    "            }\n",
    "\n",
    "knn_cv = GridSearchCV(estimator = KNeighborsClassifier(), param_grid = param_grid, cv=5, scoring = 'f1', verbose = 10, n_jobs = -1)\n",
    "knn_cv.fit(X_train, y_train)\n",
    "\n",
    "best_parameters = knn_cv.best_params_\n",
    "print(\"The best parameters for using this model is\", best_parameters)"
   ]
  },
  {
   "cell_type": "code",
   "execution_count": null,
   "metadata": {
    "colab": {
     "base_uri": "https://localhost:8080/"
    },
    "id": "gyP6O0UTSmVE",
    "outputId": "4195cbd0-ccba-4806-c34a-94473b64767f"
   },
   "outputs": [
    {
     "data": {
      "text/plain": [
       "0.8555555555555556"
      ]
     },
     "execution_count": 29,
     "metadata": {
      "tags": []
     },
     "output_type": "execute_result"
    }
   ],
   "source": [
    "knn_best = KNeighborsClassifier(n_neighbors=5, metric='manhattan', weights='distance')\n",
    "knn_best.fit(X_train, y_train)\n",
    "y_pred = knn_best.predict(X_test)\n",
    "f1_score(y_test, y_pred)"
   ]
  },
  {
   "cell_type": "markdown",
   "metadata": {
    "id": "degX0fSfTaTq"
   },
   "source": [
    "Перебор гиперпараметров улучшил качество метрики!"
   ]
  },
  {
   "cell_type": "code",
   "execution_count": null,
   "metadata": {
    "colab": {
     "base_uri": "https://localhost:8080/",
     "height": 296
    },
    "id": "Hohd4QmB39VC",
    "outputId": "ebea6976-c3bb-49db-9354-79e762770024"
   },
   "outputs": [
    {
     "data": {
      "image/png": "[encoded data removed]",
      "text/plain": [
       "<Figure size 432x288 with 1 Axes>"
      ]
     },
     "metadata": {
      "needs_background": "light",
      "tags": []
     },
     "output_type": "display_data"
    }
   ],
   "source": [
    "plot_roc_curve(model_fit(knn_best, X_train, X_test, y_train, y_test), X_test, y_test)\n",
    "plt.title('ROC curve');"
   ]
  },
  {
   "cell_type": "code",
   "execution_count": null,
   "metadata": {
    "colab": {
     "base_uri": "https://localhost:8080/",
     "height": 279
    },
    "id": "yItlk0w01KY-",
    "outputId": "59415bba-c022-4614-bda3-c07a10615195"
   },
   "outputs": [
    {
     "data": {
      "image/png": "[encoded data removed]",
      "text/plain": [
       "<Figure size 432x288 with 1 Axes>"
      ]
     },
     "metadata": {
      "needs_background": "light",
      "tags": []
     },
     "output_type": "display_data"
    }
   ],
   "source": [
    "knn = ['Old result', 'New result']\n",
    "knn_result = [f1score(KNeighborsClassifier(), X_train, X_test, y_train, y_test), f1_score(y_test, y_pred)]\n",
    "knn_colors = [\"#C980FA\", \"#E5ED73\"]\n",
    "plt.title('KNeighborsClassifier')\n",
    "plt.bar(knn, knn_result, color=knn_colors);"
   ]
  },
  {
   "cell_type": "markdown",
   "metadata": {
    "id": "u-l2Ken7WJtS"
   },
   "source": [
    "**Вывод**: реультат KNN удалось улучшить перебором гиперпараметров, c 0.846 до **0.86**, добавление новых фич и передача модели в функцию model_improve занимает необъятно дорогое количество времени (tqdm выдало более суток), поэтому для KNN это не использовал"
   ]
  },
  {
   "cell_type": "markdown",
   "metadata": {
    "id": "iWzTkGt8Qe25"
   },
   "source": [
    "#### RandomForest"
   ]
  },
  {
   "cell_type": "code",
   "execution_count": null,
   "metadata": {
    "id": "_AvLiO4Yee6t"
   },
   "outputs": [],
   "source": [
    "X2 = df.drop('Class', axis=1)\n",
    "y2 = df['Class']"
   ]
  },
  {
   "cell_type": "code",
   "execution_count": null,
   "metadata": {
    "id": "a2_Nw_2Mlhhx"
   },
   "outputs": [],
   "source": [
    "X_train3, X_test3, y_train3, y_test3 = train_test_split(X2, y2, test_size=0.2, stratify=y2, random_state=42)"
   ]
  },
  {
   "cell_type": "code",
   "execution_count": null,
   "metadata": {
    "colab": {
     "base_uri": "https://localhost:8080/"
    },
    "id": "weBuSb2xcUe2",
    "outputId": "1c5eef58-abf7-4b92-f0a3-61652e16822b"
   },
   "outputs": [
    {
     "data": {
      "text/plain": [
       "0.8743169398907105"
      ]
     },
     "execution_count": 35,
     "metadata": {
      "tags": []
     },
     "output_type": "execute_result"
    }
   ],
   "source": [
    "rf = RandomForestClassifier(n_jobs=-1)\n",
    "rf.fit(X_train3, y_train3)\n",
    "y_pred3 = rf.predict(X_test3)\n",
    "f1_score(y_test3, y_pred3)"
   ]
  },
  {
   "cell_type": "markdown",
   "metadata": {
    "id": "3YJMmYOmflMU"
   },
   "source": [
    "Визуализируем важность каждого признака в датафрейме"
   ]
  },
  {
   "cell_type": "code",
   "execution_count": null,
   "metadata": {
    "colab": {
     "base_uri": "https://localhost:8080/",
     "height": 645
    },
    "id": "opzfRa2qbX8X",
    "outputId": "c4258b4f-162e-4776-825d-0f5ea0c4305e"
   },
   "outputs": [
    {
     "data": {
      "image/png": "[encoded data removed]",
      "text/plain": [
       "<Figure size 864x720 with 1 Axes>"
      ]
     },
     "metadata": {
      "tags": []
     },
     "output_type": "display_data"
    }
   ],
   "source": [
    "feats = {}\n",
    "for feature, importance in zip(X2.columns, rf.feature_importances_):\n",
    "    feats[feature] = importance\n",
    "importances = pd.DataFrame.from_dict(feats, orient='index').rename(columns={0: 'Gini-Importance'})\n",
    "importances = importances.sort_values(by='Gini-Importance', ascending=False)\n",
    "importances = importances.reset_index()\n",
    "importances = importances.rename(columns={'index': 'Features'})\n",
    "sns.set(font_scale = 5)\n",
    "sns.set(style=\"whitegrid\", color_codes=True, font_scale = 1.7)\n",
    "fig, ax = plt.subplots()\n",
    "fig.set_size_inches(12,10)\n",
    "sns.barplot(x=importances['Gini-Importance'], y=importances['Features'], data=importances, color=\"#B881F7\")\n",
    "plt.xlabel('Importance', fontsize=18, weight = 'bold')\n",
    "plt.ylabel('Features', fontsize=18, weight = 'bold')\n",
    "plt.title('Feature Importance', fontsize=18, weight = 'bold');"
   ]
  },
  {
   "cell_type": "markdown",
   "metadata": {
    "id": "JoRL233opR2E"
   },
   "source": [
    "Попробуем выкинуть признаки, которые оказывают малое влияние в нашем датафрейме, оставим около 95% от влияния всех признаков на наши данные"
   ]
  },
  {
   "cell_type": "code",
   "execution_count": null,
   "metadata": {
    "colab": {
     "base_uri": "https://localhost:8080/"
    },
    "id": "FPRM3FHnngsV",
    "outputId": "c9e9736d-35ad-4b58-9f2c-7ba7a2806d68"
   },
   "outputs": [
    {
     "name": "stdout",
     "output_type": "stream",
     "text": [
      "24\n"
     ]
    }
   ],
   "source": [
    "sum = 0\n",
    "for i in range(len(importances['Gini-Importance'])):\n",
    "    if sum >= 0.95:\n",
    "        break\n",
    "    sum += importances['Gini-Importance'][i]\n",
    "    k = i\n",
    "print(k)"
   ]
  },
  {
   "cell_type": "code",
   "execution_count": null,
   "metadata": {
    "id": "0g00HmAXhtla"
   },
   "outputs": [],
   "source": [
    "df_rf = df.drop(['New_Amount', 'V22', 'V28', 'V25', 'V24', 'V23'], axis=1)"
   ]
  },
  {
   "cell_type": "code",
   "execution_count": null,
   "metadata": {
    "id": "_i8FiodurHJM"
   },
   "outputs": [],
   "source": [
    "X_rf = df_rf.drop('Class', axis=1)\n",
    "y_rf = df_rf['Class']"
   ]
  },
  {
   "cell_type": "code",
   "execution_count": null,
   "metadata": {
    "id": "M4GIbYc-rRTN"
   },
   "outputs": [],
   "source": [
    "X_train4, X_test4, y_train4, y_test4 = train_test_split(X_rf, y_rf, test_size=0.2, stratify=y_rf, random_state=42)"
   ]
  },
  {
   "cell_type": "code",
   "execution_count": null,
   "metadata": {
    "colab": {
     "base_uri": "https://localhost:8080/"
    },
    "id": "DXIBeEmhrNUM",
    "outputId": "4f0c74a3-7980-4d65-d03b-e0532f1ce4fa"
   },
   "outputs": [
    {
     "data": {
      "text/plain": [
       "0.8743169398907105"
      ]
     },
     "execution_count": 41,
     "metadata": {
      "tags": []
     },
     "output_type": "execute_result"
    }
   ],
   "source": [
    "rf_new = RandomForestClassifier(n_jobs=-1)\n",
    "rf_new.fit(X_train4, y_train4)\n",
    "y_pred4 = rf_new.predict(X_test4)\n",
    "f1_score(y_test4, y_pred4)"
   ]
  },
  {
   "cell_type": "markdown",
   "metadata": {
    "id": "p5gdYaMypEQ6"
   },
   "source": [
    "Попробовал уменьшить размерность, чтобы быстрее перебирались гиперпараметры "
   ]
  },
  {
   "cell_type": "code",
   "execution_count": null,
   "metadata": {
    "colab": {
     "base_uri": "https://localhost:8080/"
    },
    "id": "t_TyRiQ6PHhP",
    "outputId": "1491822d-4672-457c-91a8-9a97ce4d677c"
   },
   "outputs": [
    {
     "name": "stdout",
     "output_type": "stream",
     "text": [
      "Fitting 5 folds for each of 16 candidates, totalling 80 fits\n"
     ]
    },
    {
     "name": "stderr",
     "output_type": "stream",
     "text": [
      "[Parallel(n_jobs=-1)]: Using backend LokyBackend with 2 concurrent workers.\n",
      "[Parallel(n_jobs=-1)]: Done   1 tasks      | elapsed:    1.4s\n",
      "[Parallel(n_jobs=-1)]: Done   4 tasks      | elapsed:    1.8s\n",
      "[Parallel(n_jobs=-1)]: Done   9 tasks      | elapsed:    2.9s\n",
      "[Parallel(n_jobs=-1)]: Done  14 tasks      | elapsed:  7.4min\n",
      "[Parallel(n_jobs=-1)]: Done  21 tasks      | elapsed: 29.2min\n",
      "[Parallel(n_jobs=-1)]: Done  28 tasks      | elapsed: 29.3min\n",
      "[Parallel(n_jobs=-1)]: Done  37 tasks      | elapsed: 51.0min\n",
      "[Parallel(n_jobs=-1)]: Done  46 tasks      | elapsed: 60.4min\n",
      "[Parallel(n_jobs=-1)]: Done  57 tasks      | elapsed: 92.6min\n",
      "[Parallel(n_jobs=-1)]: Done  68 tasks      | elapsed: 106.3min\n",
      "[Parallel(n_jobs=-1)]: Done  80 out of  80 | elapsed: 160.5min finished\n"
     ]
    },
    {
     "name": "stdout",
     "output_type": "stream",
     "text": [
      "The best parameters for using this model is {'max_features': 3, 'min_samples_leaf': 2, 'min_samples_split': 5, 'n_estimators': 200}\n"
     ]
    }
   ],
   "source": [
    "param_grid = {\n",
    "            'n_estimators': [200, 500],\n",
    "            'max_features': [2, 3],\n",
    "            'min_samples_leaf': [2, 4],\n",
    "            'min_samples_split': [1, 5]\n",
    "            }\n",
    "\n",
    "rf_cv = GridSearchCV(estimator = rf_new, param_grid = param_grid, scoring = 'f1', verbose = 10, n_jobs = -1)\n",
    "rf_cv.fit(X_train4, y_train4)\n",
    "\n",
    "best_parameters = rf_cv.best_params_\n",
    "print(\"The best parameters for using this model is\", best_parameters)"
   ]
  },
  {
   "cell_type": "code",
   "execution_count": null,
   "metadata": {
    "colab": {
     "base_uri": "https://localhost:8080/"
    },
    "id": "r8M8ItMweafg",
    "outputId": "6e83e930-e32c-4890-f0db-a0cb51136b97"
   },
   "outputs": [
    {
     "data": {
      "text/plain": [
       "0.8729281767955801"
      ]
     },
     "execution_count": 42,
     "metadata": {
      "tags": []
     },
     "output_type": "execute_result"
    }
   ],
   "source": [
    "rf_best = RandomForestClassifier(n_estimators=200, max_features=3, min_samples_leaf=2, min_samples_split=5, n_jobs=-1)\n",
    "rf_best.fit(X_train4, y_train4)\n",
    "y_pred4 = rf_best.predict(X_test4)\n",
    "f1_score(y_test4, y_pred4)"
   ]
  },
  {
   "cell_type": "markdown",
   "metadata": {
    "id": "M0ra2BXXWWTp"
   },
   "source": [
    "Как видно перебор небольшого количества гиперпараметров RandomForest не помог, результат ухудшился"
   ]
  },
  {
   "cell_type": "code",
   "execution_count": null,
   "metadata": {
    "colab": {
     "base_uri": "https://localhost:8080/",
     "height": 301
    },
    "id": "BZGj4rv9CClq",
    "outputId": "a8642c8a-d25e-4329-f155-c762cc393df0"
   },
   "outputs": [
    {
     "data": {
      "image/png": "[encoded data removed]",
      "text/plain": [
       "<Figure size 432x288 with 1 Axes>"
      ]
     },
     "metadata": {
      "tags": []
     },
     "output_type": "display_data"
    }
   ],
   "source": [
    "plt.style.use('bmh')\n",
    "sns.set()\n",
    "plot_roc_curve(model_fit(rf_new, X_train4, X_test4, y_train4, y_test4), X_test4, y_test4)\n",
    "plt.title('ROC curve');"
   ]
  },
  {
   "cell_type": "code",
   "execution_count": null,
   "metadata": {
    "colab": {
     "base_uri": "https://localhost:8080/",
     "height": 284
    },
    "id": "j77T4S_2F7qE",
    "outputId": "738b158a-eb62-42e1-c4ac-e9bc306ced65"
   },
   "outputs": [
    {
     "data": {
      "image/png": "[encoded data removed]",
      "text/plain": [
       "<Figure size 432x288 with 1 Axes>"
      ]
     },
     "metadata": {
      "tags": []
     },
     "output_type": "display_data"
    }
   ],
   "source": [
    "rand_for = ['Old result', 'New result']\n",
    "rand_for_result = [f1score(RandomForestClassifier(), X_train, X_test, y_train, y_test), f1_score(y_test4, y_pred4)]\n",
    "rand_for_colors = [\"#81AEE8\", \"#5DCBC0\"]\n",
    "plt.title('RandomForestClassifier')\n",
    "sns.set()\n",
    "plt.bar(rand_for, rand_for_result, color=rand_for_colors);"
   ]
  },
  {
   "cell_type": "markdown",
   "metadata": {
    "id": "-HaYmCeuT3rG"
   },
   "source": [
    "**Вывод**: преобразованиями метрику f1_score улучшить не удалось, лучший разультат остался **0.88**"
   ]
  },
  {
   "cell_type": "markdown",
   "metadata": {
    "id": "6X_7deSKETLS"
   },
   "source": [
    "### **Вывод**: Наилучшего качество метрики удалось достичь у RandomForest - 0.88, что касается улучшений, в сторону лучшего результата удалось вывести модели LogisticRegression и KNeighborsClassifier"
   ]
  },
  {
   "cell_type": "markdown",
   "metadata": {
    "id": "ofx7dm2QAHh4"
   },
   "source": [
    "# 2 - Небинарная классификация на датасете про здоровье плода при рождении"
   ]
  },
  {
   "cell_type": "markdown",
   "metadata": {
    "id": "oIUl_Ia7gI-U"
   },
   "source": [
    "Про датасет: Классифицировать здоровье плода с целью предотвращения детской и материнской смертности."
   ]
  },
  {
   "cell_type": "markdown",
   "metadata": {
    "id": "RDHGB4bdgiy2"
   },
   "source": [
    "Датасет разделен на 3 класса:\n",
    "1.0 - Обычный,\n",
    "2.0 - Подозрение,\n",
    "3.0 - Патология"
   ]
  },
  {
   "cell_type": "code",
   "execution_count": null,
   "metadata": {
    "id": "zGOXjwSuAHh5"
   },
   "outputs": [],
   "source": [
    "data = pd.read_csv('/content/drive/MyDrive/fetal_health.csv')"
   ]
  },
  {
   "cell_type": "code",
   "execution_count": null,
   "metadata": {
    "colab": {
     "base_uri": "https://localhost:8080/",
     "height": 172
    },
    "id": "o9kCvp8XAHh6",
    "outputId": "13043d07-52dd-42c8-ceaa-80b9cb8d5561"
   },
   "outputs": [
    {
     "data": {
      "text/html": [
       "<div>\n",
       "<style scoped>\n",
       "    .dataframe tbody tr th:only-of-type {\n",
       "        vertical-align: middle;\n",
       "    }\n",
       "\n",
       "    .dataframe tbody tr th {\n",
       "        vertical-align: top;\n",
       "    }\n",
       "\n",
       "    .dataframe thead th {\n",
       "        text-align: right;\n",
       "    }\n",
       "</style>\n",
       "<table border=\"1\" class=\"dataframe\">\n",
       "  <thead>\n",
       "    <tr style=\"text-align: right;\">\n",
       "      <th></th>\n",
       "      <th>baseline value</th>\n",
       "      <th>accelerations</th>\n",
       "      <th>fetal_movement</th>\n",
       "      <th>uterine_contractions</th>\n",
       "      <th>light_decelerations</th>\n",
       "      <th>severe_decelerations</th>\n",
       "      <th>prolongued_decelerations</th>\n",
       "      <th>abnormal_short_term_variability</th>\n",
       "      <th>mean_value_of_short_term_variability</th>\n",
       "      <th>percentage_of_time_with_abnormal_long_term_variability</th>\n",
       "      <th>mean_value_of_long_term_variability</th>\n",
       "      <th>histogram_width</th>\n",
       "      <th>histogram_min</th>\n",
       "      <th>histogram_max</th>\n",
       "      <th>histogram_number_of_peaks</th>\n",
       "      <th>histogram_number_of_zeroes</th>\n",
       "      <th>histogram_mode</th>\n",
       "      <th>histogram_mean</th>\n",
       "      <th>histogram_median</th>\n",
       "      <th>histogram_variance</th>\n",
       "      <th>histogram_tendency</th>\n",
       "      <th>fetal_health</th>\n",
       "    </tr>\n",
       "  </thead>\n",
       "  <tbody>\n",
       "    <tr>\n",
       "      <th>0</th>\n",
       "      <td>120.0</td>\n",
       "      <td>0.000</td>\n",
       "      <td>0.0</td>\n",
       "      <td>0.000</td>\n",
       "      <td>0.000</td>\n",
       "      <td>0.0</td>\n",
       "      <td>0.0</td>\n",
       "      <td>73.0</td>\n",
       "      <td>0.5</td>\n",
       "      <td>43.0</td>\n",
       "      <td>2.4</td>\n",
       "      <td>64.0</td>\n",
       "      <td>62.0</td>\n",
       "      <td>126.0</td>\n",
       "      <td>2.0</td>\n",
       "      <td>0.0</td>\n",
       "      <td>120.0</td>\n",
       "      <td>137.0</td>\n",
       "      <td>121.0</td>\n",
       "      <td>73.0</td>\n",
       "      <td>1.0</td>\n",
       "      <td>2.0</td>\n",
       "    </tr>\n",
       "    <tr>\n",
       "      <th>1</th>\n",
       "      <td>132.0</td>\n",
       "      <td>0.006</td>\n",
       "      <td>0.0</td>\n",
       "      <td>0.006</td>\n",
       "      <td>0.003</td>\n",
       "      <td>0.0</td>\n",
       "      <td>0.0</td>\n",
       "      <td>17.0</td>\n",
       "      <td>2.1</td>\n",
       "      <td>0.0</td>\n",
       "      <td>10.4</td>\n",
       "      <td>130.0</td>\n",
       "      <td>68.0</td>\n",
       "      <td>198.0</td>\n",
       "      <td>6.0</td>\n",
       "      <td>1.0</td>\n",
       "      <td>141.0</td>\n",
       "      <td>136.0</td>\n",
       "      <td>140.0</td>\n",
       "      <td>12.0</td>\n",
       "      <td>0.0</td>\n",
       "      <td>1.0</td>\n",
       "    </tr>\n",
       "    <tr>\n",
       "      <th>2</th>\n",
       "      <td>133.0</td>\n",
       "      <td>0.003</td>\n",
       "      <td>0.0</td>\n",
       "      <td>0.008</td>\n",
       "      <td>0.003</td>\n",
       "      <td>0.0</td>\n",
       "      <td>0.0</td>\n",
       "      <td>16.0</td>\n",
       "      <td>2.1</td>\n",
       "      <td>0.0</td>\n",
       "      <td>13.4</td>\n",
       "      <td>130.0</td>\n",
       "      <td>68.0</td>\n",
       "      <td>198.0</td>\n",
       "      <td>5.0</td>\n",
       "      <td>1.0</td>\n",
       "      <td>141.0</td>\n",
       "      <td>135.0</td>\n",
       "      <td>138.0</td>\n",
       "      <td>13.0</td>\n",
       "      <td>0.0</td>\n",
       "      <td>1.0</td>\n",
       "    </tr>\n",
       "  </tbody>\n",
       "</table>\n",
       "</div>"
      ],
      "text/plain": [
       "   baseline value  accelerations  ...  histogram_tendency  fetal_health\n",
       "0           120.0          0.000  ...                 1.0           2.0\n",
       "1           132.0          0.006  ...                 0.0           1.0\n",
       "2           133.0          0.003  ...                 0.0           1.0\n",
       "\n",
       "[3 rows x 22 columns]"
      ]
     },
     "execution_count": 50,
     "metadata": {
      "tags": []
     },
     "output_type": "execute_result"
    }
   ],
   "source": [
    "data.head(3)"
   ]
  },
  {
   "cell_type": "code",
   "execution_count": null,
   "metadata": {
    "colab": {
     "base_uri": "https://localhost:8080/",
     "height": 692
    },
    "id": "3251eilbh4Cm",
    "outputId": "82ceef43-0590-4ac0-ed17-5d60ac5a41df"
   },
   "outputs": [
    {
     "data": {
      "text/html": [
       "<div>\n",
       "<style scoped>\n",
       "    .dataframe tbody tr th:only-of-type {\n",
       "        vertical-align: middle;\n",
       "    }\n",
       "\n",
       "    .dataframe tbody tr th {\n",
       "        vertical-align: top;\n",
       "    }\n",
       "\n",
       "    .dataframe thead th {\n",
       "        text-align: right;\n",
       "    }\n",
       "</style>\n",
       "<table border=\"1\" class=\"dataframe\">\n",
       "  <thead>\n",
       "    <tr style=\"text-align: right;\">\n",
       "      <th></th>\n",
       "      <th>count</th>\n",
       "      <th>mean</th>\n",
       "      <th>std</th>\n",
       "      <th>min</th>\n",
       "      <th>25%</th>\n",
       "      <th>50%</th>\n",
       "      <th>75%</th>\n",
       "      <th>max</th>\n",
       "    </tr>\n",
       "  </thead>\n",
       "  <tbody>\n",
       "    <tr>\n",
       "      <th>baseline value</th>\n",
       "      <td>2126.0</td>\n",
       "      <td>133.303857</td>\n",
       "      <td>9.840844</td>\n",
       "      <td>106.0</td>\n",
       "      <td>126.000</td>\n",
       "      <td>133.000</td>\n",
       "      <td>140.000</td>\n",
       "      <td>160.000</td>\n",
       "    </tr>\n",
       "    <tr>\n",
       "      <th>accelerations</th>\n",
       "      <td>2126.0</td>\n",
       "      <td>0.003178</td>\n",
       "      <td>0.003866</td>\n",
       "      <td>0.0</td>\n",
       "      <td>0.000</td>\n",
       "      <td>0.002</td>\n",
       "      <td>0.006</td>\n",
       "      <td>0.019</td>\n",
       "    </tr>\n",
       "    <tr>\n",
       "      <th>fetal_movement</th>\n",
       "      <td>2126.0</td>\n",
       "      <td>0.009481</td>\n",
       "      <td>0.046666</td>\n",
       "      <td>0.0</td>\n",
       "      <td>0.000</td>\n",
       "      <td>0.000</td>\n",
       "      <td>0.003</td>\n",
       "      <td>0.481</td>\n",
       "    </tr>\n",
       "    <tr>\n",
       "      <th>uterine_contractions</th>\n",
       "      <td>2126.0</td>\n",
       "      <td>0.004366</td>\n",
       "      <td>0.002946</td>\n",
       "      <td>0.0</td>\n",
       "      <td>0.002</td>\n",
       "      <td>0.004</td>\n",
       "      <td>0.007</td>\n",
       "      <td>0.015</td>\n",
       "    </tr>\n",
       "    <tr>\n",
       "      <th>light_decelerations</th>\n",
       "      <td>2126.0</td>\n",
       "      <td>0.001889</td>\n",
       "      <td>0.002960</td>\n",
       "      <td>0.0</td>\n",
       "      <td>0.000</td>\n",
       "      <td>0.000</td>\n",
       "      <td>0.003</td>\n",
       "      <td>0.015</td>\n",
       "    </tr>\n",
       "    <tr>\n",
       "      <th>severe_decelerations</th>\n",
       "      <td>2126.0</td>\n",
       "      <td>0.000003</td>\n",
       "      <td>0.000057</td>\n",
       "      <td>0.0</td>\n",
       "      <td>0.000</td>\n",
       "      <td>0.000</td>\n",
       "      <td>0.000</td>\n",
       "      <td>0.001</td>\n",
       "    </tr>\n",
       "    <tr>\n",
       "      <th>prolongued_decelerations</th>\n",
       "      <td>2126.0</td>\n",
       "      <td>0.000159</td>\n",
       "      <td>0.000590</td>\n",
       "      <td>0.0</td>\n",
       "      <td>0.000</td>\n",
       "      <td>0.000</td>\n",
       "      <td>0.000</td>\n",
       "      <td>0.005</td>\n",
       "    </tr>\n",
       "    <tr>\n",
       "      <th>abnormal_short_term_variability</th>\n",
       "      <td>2126.0</td>\n",
       "      <td>46.990122</td>\n",
       "      <td>17.192814</td>\n",
       "      <td>12.0</td>\n",
       "      <td>32.000</td>\n",
       "      <td>49.000</td>\n",
       "      <td>61.000</td>\n",
       "      <td>87.000</td>\n",
       "    </tr>\n",
       "    <tr>\n",
       "      <th>mean_value_of_short_term_variability</th>\n",
       "      <td>2126.0</td>\n",
       "      <td>1.332785</td>\n",
       "      <td>0.883241</td>\n",
       "      <td>0.2</td>\n",
       "      <td>0.700</td>\n",
       "      <td>1.200</td>\n",
       "      <td>1.700</td>\n",
       "      <td>7.000</td>\n",
       "    </tr>\n",
       "    <tr>\n",
       "      <th>percentage_of_time_with_abnormal_long_term_variability</th>\n",
       "      <td>2126.0</td>\n",
       "      <td>9.846660</td>\n",
       "      <td>18.396880</td>\n",
       "      <td>0.0</td>\n",
       "      <td>0.000</td>\n",
       "      <td>0.000</td>\n",
       "      <td>11.000</td>\n",
       "      <td>91.000</td>\n",
       "    </tr>\n",
       "    <tr>\n",
       "      <th>mean_value_of_long_term_variability</th>\n",
       "      <td>2126.0</td>\n",
       "      <td>8.187629</td>\n",
       "      <td>5.628247</td>\n",
       "      <td>0.0</td>\n",
       "      <td>4.600</td>\n",
       "      <td>7.400</td>\n",
       "      <td>10.800</td>\n",
       "      <td>50.700</td>\n",
       "    </tr>\n",
       "    <tr>\n",
       "      <th>histogram_width</th>\n",
       "      <td>2126.0</td>\n",
       "      <td>70.445908</td>\n",
       "      <td>38.955693</td>\n",
       "      <td>3.0</td>\n",
       "      <td>37.000</td>\n",
       "      <td>67.500</td>\n",
       "      <td>100.000</td>\n",
       "      <td>180.000</td>\n",
       "    </tr>\n",
       "    <tr>\n",
       "      <th>histogram_min</th>\n",
       "      <td>2126.0</td>\n",
       "      <td>93.579492</td>\n",
       "      <td>29.560212</td>\n",
       "      <td>50.0</td>\n",
       "      <td>67.000</td>\n",
       "      <td>93.000</td>\n",
       "      <td>120.000</td>\n",
       "      <td>159.000</td>\n",
       "    </tr>\n",
       "    <tr>\n",
       "      <th>histogram_max</th>\n",
       "      <td>2126.0</td>\n",
       "      <td>164.025400</td>\n",
       "      <td>17.944183</td>\n",
       "      <td>122.0</td>\n",
       "      <td>152.000</td>\n",
       "      <td>162.000</td>\n",
       "      <td>174.000</td>\n",
       "      <td>238.000</td>\n",
       "    </tr>\n",
       "    <tr>\n",
       "      <th>histogram_number_of_peaks</th>\n",
       "      <td>2126.0</td>\n",
       "      <td>4.068203</td>\n",
       "      <td>2.949386</td>\n",
       "      <td>0.0</td>\n",
       "      <td>2.000</td>\n",
       "      <td>3.000</td>\n",
       "      <td>6.000</td>\n",
       "      <td>18.000</td>\n",
       "    </tr>\n",
       "    <tr>\n",
       "      <th>histogram_number_of_zeroes</th>\n",
       "      <td>2126.0</td>\n",
       "      <td>0.323612</td>\n",
       "      <td>0.706059</td>\n",
       "      <td>0.0</td>\n",
       "      <td>0.000</td>\n",
       "      <td>0.000</td>\n",
       "      <td>0.000</td>\n",
       "      <td>10.000</td>\n",
       "    </tr>\n",
       "    <tr>\n",
       "      <th>histogram_mode</th>\n",
       "      <td>2126.0</td>\n",
       "      <td>137.452023</td>\n",
       "      <td>16.381289</td>\n",
       "      <td>60.0</td>\n",
       "      <td>129.000</td>\n",
       "      <td>139.000</td>\n",
       "      <td>148.000</td>\n",
       "      <td>187.000</td>\n",
       "    </tr>\n",
       "    <tr>\n",
       "      <th>histogram_mean</th>\n",
       "      <td>2126.0</td>\n",
       "      <td>134.610536</td>\n",
       "      <td>15.593596</td>\n",
       "      <td>73.0</td>\n",
       "      <td>125.000</td>\n",
       "      <td>136.000</td>\n",
       "      <td>145.000</td>\n",
       "      <td>182.000</td>\n",
       "    </tr>\n",
       "    <tr>\n",
       "      <th>histogram_median</th>\n",
       "      <td>2126.0</td>\n",
       "      <td>138.090310</td>\n",
       "      <td>14.466589</td>\n",
       "      <td>77.0</td>\n",
       "      <td>129.000</td>\n",
       "      <td>139.000</td>\n",
       "      <td>148.000</td>\n",
       "      <td>186.000</td>\n",
       "    </tr>\n",
       "    <tr>\n",
       "      <th>histogram_variance</th>\n",
       "      <td>2126.0</td>\n",
       "      <td>18.808090</td>\n",
       "      <td>28.977636</td>\n",
       "      <td>0.0</td>\n",
       "      <td>2.000</td>\n",
       "      <td>7.000</td>\n",
       "      <td>24.000</td>\n",
       "      <td>269.000</td>\n",
       "    </tr>\n",
       "    <tr>\n",
       "      <th>histogram_tendency</th>\n",
       "      <td>2126.0</td>\n",
       "      <td>0.320320</td>\n",
       "      <td>0.610829</td>\n",
       "      <td>-1.0</td>\n",
       "      <td>0.000</td>\n",
       "      <td>0.000</td>\n",
       "      <td>1.000</td>\n",
       "      <td>1.000</td>\n",
       "    </tr>\n",
       "    <tr>\n",
       "      <th>fetal_health</th>\n",
       "      <td>2126.0</td>\n",
       "      <td>1.304327</td>\n",
       "      <td>0.614377</td>\n",
       "      <td>1.0</td>\n",
       "      <td>1.000</td>\n",
       "      <td>1.000</td>\n",
       "      <td>1.000</td>\n",
       "      <td>3.000</td>\n",
       "    </tr>\n",
       "  </tbody>\n",
       "</table>\n",
       "</div>"
      ],
      "text/plain": [
       "                                                     count  ...      max\n",
       "baseline value                                      2126.0  ...  160.000\n",
       "accelerations                                       2126.0  ...    0.019\n",
       "fetal_movement                                      2126.0  ...    0.481\n",
       "uterine_contractions                                2126.0  ...    0.015\n",
       "light_decelerations                                 2126.0  ...    0.015\n",
       "severe_decelerations                                2126.0  ...    0.001\n",
       "prolongued_decelerations                            2126.0  ...    0.005\n",
       "abnormal_short_term_variability                     2126.0  ...   87.000\n",
       "mean_value_of_short_term_variability                2126.0  ...    7.000\n",
       "percentage_of_time_with_abnormal_long_term_vari...  2126.0  ...   91.000\n",
       "mean_value_of_long_term_variability                 2126.0  ...   50.700\n",
       "histogram_width                                     2126.0  ...  180.000\n",
       "histogram_min                                       2126.0  ...  159.000\n",
       "histogram_max                                       2126.0  ...  238.000\n",
       "histogram_number_of_peaks                           2126.0  ...   18.000\n",
       "histogram_number_of_zeroes                          2126.0  ...   10.000\n",
       "histogram_mode                                      2126.0  ...  187.000\n",
       "histogram_mean                                      2126.0  ...  182.000\n",
       "histogram_median                                    2126.0  ...  186.000\n",
       "histogram_variance                                  2126.0  ...  269.000\n",
       "histogram_tendency                                  2126.0  ...    1.000\n",
       "fetal_health                                        2126.0  ...    3.000\n",
       "\n",
       "[22 rows x 8 columns]"
      ]
     },
     "execution_count": 51,
     "metadata": {
      "tags": []
     },
     "output_type": "execute_result"
    }
   ],
   "source": [
    "data.describe().T"
   ]
  },
  {
   "cell_type": "markdown",
   "metadata": {
    "id": "k5gyr-Rr2u2U"
   },
   "source": [
    "Во всех колонках count=2126.0 => Пропусков в данных нет"
   ]
  },
  {
   "cell_type": "code",
   "execution_count": null,
   "metadata": {
    "colab": {
     "base_uri": "https://localhost:8080/",
     "height": 285
    },
    "id": "jbryHfl-lXB6",
    "outputId": "e3ea3d01-1272-4f58-a028-4ae31fb7605c"
   },
   "outputs": [
    {
     "data": {
      "image/png": "[encoded data removed]",
      "text/plain": [
       "<Figure size 432x288 with 1 Axes>"
      ]
     },
     "metadata": {
      "tags": []
     },
     "output_type": "display_data"
    }
   ],
   "source": [
    "sns.set()\n",
    "sns.countplot(x='fetal_health', data=data);"
   ]
  },
  {
   "cell_type": "markdown",
   "metadata": {
    "id": "g6jiglEdKBNj"
   },
   "source": [
    "По гистограмме видно, что здоровый плод встречаеся чем плод с отклонениями"
   ]
  },
  {
   "cell_type": "code",
   "execution_count": null,
   "metadata": {
    "colab": {
     "base_uri": "https://localhost:8080/",
     "height": 794
    },
    "id": "DENcvejQz5mg",
    "outputId": "19e1ac4f-ecbd-4665-ec6f-1128916a5e38"
   },
   "outputs": [
    {
     "data": {
      "image/png": "[encoded data removed]",
      "text/plain": [
       "<Figure size 1152x576 with 1 Axes>"
      ]
     },
     "metadata": {
      "tags": []
     },
     "output_type": "display_data"
    }
   ],
   "source": [
    "sns.set()\n",
    "colors =[\"#23C3CE\",\"#13DFA8\",\"#EFEF19\", \"#F29306\", \"#F90D3C\", \"#4C72DB\", \"#4B9A33\", \"#C8BC50\", \"#6C3B72\", \"#E397E3\", \"#AE7AF2\", \"#869077\", \"#D7447A\"]\n",
    "plt.figure(figsize=(16,8))\n",
    "sns.boxenplot(data=data.drop('fetal_health', axis=1), palette=colors)\n",
    "plt.xticks(rotation=90);"
   ]
  },
  {
   "cell_type": "markdown",
   "metadata": {
    "id": "Qylr46UOAHh6"
   },
   "source": [
    "### Обучим несколько моделей, посмотрим на метрики."
   ]
  },
  {
   "cell_type": "code",
   "execution_count": null,
   "metadata": {
    "id": "dmY3AT71AX8V"
   },
   "outputs": [],
   "source": [
    "def accuracy(model, X_train, X_test, y_train, y_test):\n",
    "    model.fit(X_train, y_train)\n",
    "    y_pred = model.predict(X_test)\n",
    "    return accuracy_score(y_test, y_pred)"
   ]
  },
  {
   "cell_type": "code",
   "execution_count": null,
   "metadata": {
    "id": "qDjLQ0BH525K"
   },
   "outputs": [],
   "source": [
    "def precision_recall(model, average):\n",
    "    model.fit(X_train4, y_train4)\n",
    "    y_pred4 = model.predict(X_test4)\n",
    "    print(f'precision - {average}: {precision_score(y_test4, y_pred4, average=average)}')\n",
    "    print(f'recall - {average}: {recall_score(y_test4, y_pred4, average=average)}')\n",
    "    print(f'f1-score - {average}: {f1_score(y_test4, y_pred4, average=average)}')"
   ]
  },
  {
   "cell_type": "code",
   "execution_count": null,
   "metadata": {
    "id": "xHy5SxXI-pSm"
   },
   "outputs": [],
   "source": [
    "def result_prec_rec(model, precision_recall):\n",
    "    precision_recall(model, 'micro')\n",
    "    print('--------------------------------------')\n",
    "    precision_recall(model, 'macro')\n",
    "    print('--------------------------------------')\n",
    "    precision_recall(model, 'weighted')\n"
   ]
  },
  {
   "cell_type": "code",
   "execution_count": null,
   "metadata": {
    "id": "OnVwMXJ4cCyS"
   },
   "outputs": [],
   "source": [
    "def plot_metrics(model, X_train, X_test, y_train, y_test):\n",
    "    model.fit(X_train, y_train)\n",
    "    y_pred = model.predict(X_test)\n",
    "    precision_colors = [\"#8DCDF8\", \"#BFE5FE\", \"#4BA2DB\"]\n",
    "    precision = ['micro', 'macro', 'weighted']\n",
    "    precision_result = [precision_score(y_test, y_pred, average='micro'), precision_score(y_test, y_pred, average='macro'), precision_score(y_test, y_pred, average='weighted')]\n",
    "    recall_colors = [\"#6BC454\", \"#8DE278\", \"#6BC454\"]\n",
    "    recall = ['micro', 'macro', 'weighted']\n",
    "    recall_result = [recall_score(y_test, y_pred, average='micro'), recall_score(y_test, y_pred, average='macro'), recall_score(y_test, y_pred, average='weighted')]\n",
    "    f1_colors = [\"#C974DF\", \"#E59DF7\", \"#AE55C4\"]\n",
    "    f1 = ['micro', 'macro', 'weighted']\n",
    "    f1_result = [f1_score(y_test, y_pred, average='micro'), f1_score(y_test, y_pred, average='macro'), f1_score(y_test, y_pred, average='weighted')]\n",
    "    fig, (ax1,ax2, ax3) = plt.subplots(1, 3, figsize=(20, 4))\n",
    "    ax1.bar(precision,precision_result, color=precision_colors)\n",
    "    ax1.set_title(f'precision')\n",
    "    ax2.bar(recall,recall_result, color=recall_colors)\n",
    "    ax2.set_title(f'recall')\n",
    "    ax3.bar(f1,f1_result, color=f1_colors)\n",
    "    ax3.set_title(f'f1-score');"
   ]
  },
  {
   "cell_type": "code",
   "execution_count": null,
   "metadata": {
    "id": "5CebciZzlBIm"
   },
   "outputs": [],
   "source": [
    "X2 = data.drop('fetal_health', axis=1)\n",
    "y2 = data['fetal_health']"
   ]
  },
  {
   "cell_type": "code",
   "execution_count": null,
   "metadata": {
    "id": "k4K2GRKSGFQv"
   },
   "outputs": [],
   "source": [
    "X_tr, X_te, y_tr, y_te = train_test_split(X2, y2, test_size=0.2, random_state=42)"
   ]
  },
  {
   "cell_type": "code",
   "execution_count": null,
   "metadata": {
    "colab": {
     "base_uri": "https://localhost:8080/"
    },
    "id": "MkeAwUqyFtYR",
    "outputId": "b5a40ea2-02e8-48ec-bcce-b8463b377ef0"
   },
   "outputs": [
    {
     "name": "stdout",
     "output_type": "stream",
     "text": [
      "LogisticRegression accuracy without changes dataset: 0.8685446009389671\n"
     ]
    }
   ],
   "source": [
    "print(f'LogisticRegression accuracy without changes dataset: {accuracy(LogisticRegression(), X_tr, X_te, y_tr, y_te)}')"
   ]
  },
  {
   "cell_type": "code",
   "execution_count": null,
   "metadata": {
    "colab": {
     "base_uri": "https://localhost:8080/"
    },
    "id": "pSdLQ5aCGkpy",
    "outputId": "862376ae-681f-43bd-fab8-a689d198e4b5"
   },
   "outputs": [
    {
     "name": "stdout",
     "output_type": "stream",
     "text": [
      "KNeighborsClassifier accuracy without changes dataset: 0.8732394366197183\n"
     ]
    }
   ],
   "source": [
    "print(f'KNeighborsClassifier accuracy without changes dataset: {accuracy(KNeighborsClassifier(), X_tr, X_te, y_tr, y_te)}')"
   ]
  },
  {
   "cell_type": "code",
   "execution_count": null,
   "metadata": {
    "colab": {
     "base_uri": "https://localhost:8080/"
    },
    "id": "mpR-_me2Gxk8",
    "outputId": "af067b2a-b959-4e1e-bc13-857a8aa92d12"
   },
   "outputs": [
    {
     "name": "stdout",
     "output_type": "stream",
     "text": [
      "RandomForestClassifier accuracy without changes dataset: 0.9460093896713615\n"
     ]
    }
   ],
   "source": [
    "print(f'RandomForestClassifier accuracy without changes dataset: {accuracy(RandomForestClassifier(random_state=42), X_tr, X_te, y_tr, y_te)}')"
   ]
  },
  {
   "cell_type": "markdown",
   "metadata": {
    "id": "DbnV5FYO4DJq"
   },
   "source": [
    "Делаю стандартизацию данных"
   ]
  },
  {
   "cell_type": "code",
   "execution_count": null,
   "metadata": {
    "colab": {
     "base_uri": "https://localhost:8080/",
     "height": 172
    },
    "id": "879mV3Rs3bj1",
    "outputId": "a9e63249-b75f-43ce-fddf-132175510557"
   },
   "outputs": [
    {
     "data": {
      "text/html": [
       "<div>\n",
       "<style scoped>\n",
       "    .dataframe tbody tr th:only-of-type {\n",
       "        vertical-align: middle;\n",
       "    }\n",
       "\n",
       "    .dataframe tbody tr th {\n",
       "        vertical-align: top;\n",
       "    }\n",
       "\n",
       "    .dataframe thead th {\n",
       "        text-align: right;\n",
       "    }\n",
       "</style>\n",
       "<table border=\"1\" class=\"dataframe\">\n",
       "  <thead>\n",
       "    <tr style=\"text-align: right;\">\n",
       "      <th></th>\n",
       "      <th>baseline value</th>\n",
       "      <th>accelerations</th>\n",
       "      <th>fetal_movement</th>\n",
       "      <th>uterine_contractions</th>\n",
       "      <th>light_decelerations</th>\n",
       "      <th>severe_decelerations</th>\n",
       "      <th>prolongued_decelerations</th>\n",
       "      <th>abnormal_short_term_variability</th>\n",
       "      <th>mean_value_of_short_term_variability</th>\n",
       "      <th>percentage_of_time_with_abnormal_long_term_variability</th>\n",
       "      <th>mean_value_of_long_term_variability</th>\n",
       "      <th>histogram_width</th>\n",
       "      <th>histogram_min</th>\n",
       "      <th>histogram_max</th>\n",
       "      <th>histogram_number_of_peaks</th>\n",
       "      <th>histogram_number_of_zeroes</th>\n",
       "      <th>histogram_mode</th>\n",
       "      <th>histogram_mean</th>\n",
       "      <th>histogram_median</th>\n",
       "      <th>histogram_variance</th>\n",
       "      <th>histogram_tendency</th>\n",
       "    </tr>\n",
       "  </thead>\n",
       "  <tbody>\n",
       "    <tr>\n",
       "      <th>0</th>\n",
       "      <td>-1.352220</td>\n",
       "      <td>-0.822388</td>\n",
       "      <td>-0.20321</td>\n",
       "      <td>-1.482465</td>\n",
       "      <td>-0.638438</td>\n",
       "      <td>-0.057476</td>\n",
       "      <td>-0.268754</td>\n",
       "      <td>1.513190</td>\n",
       "      <td>-0.943095</td>\n",
       "      <td>1.802542</td>\n",
       "      <td>-1.028560</td>\n",
       "      <td>-0.165507</td>\n",
       "      <td>-1.068562</td>\n",
       "      <td>-2.119592</td>\n",
       "      <td>-0.701397</td>\n",
       "      <td>-0.458444</td>\n",
       "      <td>-1.065614</td>\n",
       "      <td>0.153270</td>\n",
       "      <td>-1.181642</td>\n",
       "      <td>1.870569</td>\n",
       "      <td>1.112980</td>\n",
       "    </tr>\n",
       "    <tr>\n",
       "      <th>1</th>\n",
       "      <td>-0.132526</td>\n",
       "      <td>0.730133</td>\n",
       "      <td>-0.20321</td>\n",
       "      <td>0.554627</td>\n",
       "      <td>0.375243</td>\n",
       "      <td>-0.057476</td>\n",
       "      <td>-0.268754</td>\n",
       "      <td>-1.744751</td>\n",
       "      <td>0.868841</td>\n",
       "      <td>-0.535361</td>\n",
       "      <td>0.393176</td>\n",
       "      <td>1.529124</td>\n",
       "      <td>-0.865539</td>\n",
       "      <td>1.893794</td>\n",
       "      <td>0.655137</td>\n",
       "      <td>0.958201</td>\n",
       "      <td>0.216638</td>\n",
       "      <td>0.089126</td>\n",
       "      <td>0.132038</td>\n",
       "      <td>-0.234998</td>\n",
       "      <td>-0.524526</td>\n",
       "    </tr>\n",
       "    <tr>\n",
       "      <th>2</th>\n",
       "      <td>-0.030884</td>\n",
       "      <td>-0.046128</td>\n",
       "      <td>-0.20321</td>\n",
       "      <td>1.233657</td>\n",
       "      <td>0.375243</td>\n",
       "      <td>-0.057476</td>\n",
       "      <td>-0.268754</td>\n",
       "      <td>-1.802928</td>\n",
       "      <td>0.868841</td>\n",
       "      <td>-0.535361</td>\n",
       "      <td>0.926327</td>\n",
       "      <td>1.529124</td>\n",
       "      <td>-0.865539</td>\n",
       "      <td>1.893794</td>\n",
       "      <td>0.316003</td>\n",
       "      <td>0.958201</td>\n",
       "      <td>0.216638</td>\n",
       "      <td>0.024982</td>\n",
       "      <td>-0.006244</td>\n",
       "      <td>-0.200481</td>\n",
       "      <td>-0.524526</td>\n",
       "    </tr>\n",
       "  </tbody>\n",
       "</table>\n",
       "</div>"
      ],
      "text/plain": [
       "   baseline value  accelerations  ...  histogram_variance  histogram_tendency\n",
       "0       -1.352220      -0.822388  ...            1.870569            1.112980\n",
       "1       -0.132526       0.730133  ...           -0.234998           -0.524526\n",
       "2       -0.030884      -0.046128  ...           -0.200481           -0.524526\n",
       "\n",
       "[3 rows x 21 columns]"
      ]
     },
     "execution_count": 76,
     "metadata": {
      "tags": []
     },
     "output_type": "execute_result"
    }
   ],
   "source": [
    "columns = X2.columns\n",
    "d = preprocessing.scale(X2)\n",
    "X2 = pd.DataFrame(d, columns=columns)\n",
    "X2.head(3)"
   ]
  },
  {
   "cell_type": "code",
   "execution_count": null,
   "metadata": {
    "colab": {
     "base_uri": "https://localhost:8080/",
     "height": 794
    },
    "id": "gtxdEElk3oGF",
    "outputId": "f98b03e4-ac71-4a74-f776-d3de64c79782"
   },
   "outputs": [
    {
     "data": {
      "image/png": "[encoded data removed]",
      "text/plain": [
       "<Figure size 1152x576 with 1 Axes>"
      ]
     },
     "metadata": {
      "tags": []
     },
     "output_type": "display_data"
    }
   ],
   "source": [
    "colors =[\"#23C3CE\",\"#13DFA8\",\"#EFEF19\", \"#F29306\", \"#F90D3C\", \"#4C72DB\", \"#4B9A33\", \"#C8BC50\", \"#6C3B72\", \"#E397E3\", \"#AE7AF2\", \"#869077\", \"#D7447A\"]\n",
    "plt.figure(figsize=(16,8))\n",
    "sns.boxenplot(data=X2, palette=colors)\n",
    "plt.xticks(rotation=90);"
   ]
  },
  {
   "cell_type": "code",
   "execution_count": null,
   "metadata": {
    "id": "I9AK09uIAHh7"
   },
   "outputs": [],
   "source": [
    "X_train4, X_test4, y_train4, y_test4 = train_test_split(X2, y2, test_size=0.2, random_state=42)"
   ]
  },
  {
   "cell_type": "markdown",
   "metadata": {
    "id": "WTfO57ROApDv"
   },
   "source": [
    "#### LogisticRegression"
   ]
  },
  {
   "cell_type": "code",
   "execution_count": null,
   "metadata": {
    "colab": {
     "base_uri": "https://localhost:8080/"
    },
    "id": "s4xHWieJ6SAX",
    "outputId": "b12845fa-5369-485f-f7f6-2547dcedf895"
   },
   "outputs": [
    {
     "data": {
      "text/plain": [
       "0.8779342723004695"
      ]
     },
     "execution_count": 79,
     "metadata": {
      "tags": []
     },
     "output_type": "execute_result"
    }
   ],
   "source": [
    "accuracy(LogisticRegression(), X_train4, X_test4, y_train4, y_test4)"
   ]
  },
  {
   "cell_type": "code",
   "execution_count": null,
   "metadata": {
    "colab": {
     "base_uri": "https://localhost:8080/"
    },
    "id": "So9WntNPClRC",
    "outputId": "fdaaaf08-1b51-463e-d88f-d33e49a1edbb"
   },
   "outputs": [
    {
     "name": "stdout",
     "output_type": "stream",
     "text": [
      "precision - micro: 0.8779342723004695\n",
      "recall - micro: 0.8779342723004695\n",
      "f1-score - micro: 0.8779342723004695\n",
      "--------------------------------------\n",
      "precision - macro: 0.7678932011258296\n",
      "recall - macro: 0.7777265411963686\n",
      "f1-score - macro: 0.7727228715149653\n",
      "--------------------------------------\n",
      "precision - weighted: 0.8791433134141954\n",
      "recall - weighted: 0.8779342723004695\n",
      "f1-score - weighted: 0.878511822006233\n"
     ]
    }
   ],
   "source": [
    "result_prec_rec(LogisticRegression(), precision_recall)"
   ]
  },
  {
   "cell_type": "code",
   "execution_count": null,
   "metadata": {
    "colab": {
     "base_uri": "https://localhost:8080/",
     "height": 302
    },
    "id": "AILEEHSVcm7w",
    "outputId": "f579a942-0600-4b0f-946e-5cb275794546"
   },
   "outputs": [
    {
     "name": "stdout",
     "output_type": "stream",
     "text": [
      "LogisticRegression\n"
     ]
    },
    {
     "data": {
      "image/png": "[encoded data removed]",
      "text/plain": [
       "<Figure size 1440x288 with 3 Axes>"
      ]
     },
     "metadata": {
      "tags": []
     },
     "output_type": "display_data"
    }
   ],
   "source": [
    "print('LogisticRegression')\n",
    "plot_metrics(LogisticRegression(), X_train4, X_test4, y_train4, y_test4)"
   ]
  },
  {
   "cell_type": "markdown",
   "metadata": {
    "id": "6OGxaN26BkEf"
   },
   "source": [
    "#### KNeighborsClassifier"
   ]
  },
  {
   "cell_type": "code",
   "execution_count": null,
   "metadata": {
    "colab": {
     "base_uri": "https://localhost:8080/"
    },
    "id": "QCXftfUeCDgc",
    "outputId": "c167296b-ffc3-42a3-9bfc-76ae52ac6d12"
   },
   "outputs": [
    {
     "data": {
      "text/plain": [
       "0.9154929577464789"
      ]
     },
     "execution_count": 82,
     "metadata": {
      "tags": []
     },
     "output_type": "execute_result"
    }
   ],
   "source": [
    "accuracy(KNeighborsClassifier(), X_train4, X_test4, y_train4, y_test4)"
   ]
  },
  {
   "cell_type": "code",
   "execution_count": null,
   "metadata": {
    "colab": {
     "base_uri": "https://localhost:8080/"
    },
    "id": "Rf3rVPwlCeWL",
    "outputId": "6568ec17-6e4b-4326-e62d-fe1f9a1b8066"
   },
   "outputs": [
    {
     "name": "stdout",
     "output_type": "stream",
     "text": [
      "precision - micro: 0.9154929577464789\n",
      "recall - micro: 0.9154929577464789\n",
      "f1-score - micro: 0.9154929577464789\n",
      "--------------------------------------\n",
      "precision - macro: 0.8474631885484598\n",
      "recall - macro: 0.8063645542093818\n",
      "f1-score - macro: 0.8249521650222912\n",
      "--------------------------------------\n",
      "precision - weighted: 0.9121441251586464\n",
      "recall - weighted: 0.9154929577464789\n",
      "f1-score - weighted: 0.9127943115001805\n"
     ]
    }
   ],
   "source": [
    "result_prec_rec(KNeighborsClassifier(), precision_recall)"
   ]
  },
  {
   "cell_type": "code",
   "execution_count": null,
   "metadata": {
    "colab": {
     "base_uri": "https://localhost:8080/",
     "height": 302
    },
    "id": "mQUxgtI1dXJF",
    "outputId": "f6b5a3d5-ae33-4ab9-8ad3-70f8a8622142"
   },
   "outputs": [
    {
     "name": "stdout",
     "output_type": "stream",
     "text": [
      "KNeighborsClassifier\n"
     ]
    },
    {
     "data": {
      "image/png": "[encoded data removed]",
      "text/plain": [
       "<Figure size 1440x288 with 3 Axes>"
      ]
     },
     "metadata": {
      "tags": []
     },
     "output_type": "display_data"
    }
   ],
   "source": [
    "print('KNeighborsClassifier')\n",
    "plot_metrics(KNeighborsClassifier(), X_train4, X_test4, y_train4, y_test4)"
   ]
  },
  {
   "cell_type": "markdown",
   "metadata": {
    "id": "S_6k_rK2C4SW"
   },
   "source": [
    "#### Constant"
   ]
  },
  {
   "cell_type": "code",
   "execution_count": null,
   "metadata": {
    "colab": {
     "base_uri": "https://localhost:8080/"
    },
    "id": "JO-yJkJiDyLt",
    "outputId": "fa910ccb-bcd4-4de0-bd5f-5fdfe172dd1c"
   },
   "outputs": [
    {
     "data": {
      "text/plain": [
       "Counter({1.0: 1322, 2.0: 231, 3.0: 147})"
      ]
     },
     "execution_count": 85,
     "metadata": {
      "tags": []
     },
     "output_type": "execute_result"
    }
   ],
   "source": [
    "Counter(y_train4)"
   ]
  },
  {
   "cell_type": "code",
   "execution_count": null,
   "metadata": {
    "colab": {
     "base_uri": "https://localhost:8080/"
    },
    "id": "W24pYDoLFyGg",
    "outputId": "1baa97b7-1c50-4f78-fc1d-906127195448"
   },
   "outputs": [
    {
     "data": {
      "text/plain": [
       "0.7816901408450704"
      ]
     },
     "execution_count": 86,
     "metadata": {
      "tags": []
     },
     "output_type": "execute_result"
    }
   ],
   "source": [
    "y_pred_const = np.ones(len(X_test4))\n",
    "accuracy_score(y_test4, y_pred_const)"
   ]
  },
  {
   "cell_type": "code",
   "execution_count": null,
   "metadata": {
    "colab": {
     "base_uri": "https://localhost:8080/"
    },
    "id": "9LalcI21GYQ_",
    "outputId": "3090464d-c76e-4b97-abcf-a42c90ef5239"
   },
   "outputs": [
    {
     "name": "stdout",
     "output_type": "stream",
     "text": [
      "precision - micro: 0.7816901408450704\n",
      "recall - micro: 0.7816901408450704\n",
      "f1-score - micro: 0.7816901408450704\n",
      "--------------------------------------\n",
      "precision - macro: 0.2605633802816901\n",
      "recall - macro: 0.3333333333333333\n",
      "f1-score - macro: 0.2924901185770751\n",
      "--------------------------------------\n",
      "precision - weighted: 0.611039476294386\n",
      "recall - weighted: 0.7816901408450704\n",
      "f1-score - weighted: 0.6859099259589155\n"
     ]
    }
   ],
   "source": [
    "def precision_recall_const(average):\n",
    "    y_pred_const = np.ones(len(X_test4))\n",
    "    print(f'precision - {average}: {precision_score(y_test4, y_pred_const, average=average)}')\n",
    "    print(f'recall - {average}: {recall_score(y_test4, y_pred_const, average=average)}')\n",
    "    print(f'f1-score - {average}: {f1_score(y_test4, y_pred_const, average=average)}')\n",
    "\n",
    "def result_prec_rec_const(precision_recall):\n",
    "    precision_recall_const('micro')\n",
    "    print('--------------------------------------')\n",
    "    precision_recall_const('macro')\n",
    "    print('--------------------------------------')\n",
    "    precision_recall_const('weighted')\n",
    "\n",
    "result_prec_rec_const(precision_recall)"
   ]
  },
  {
   "cell_type": "code",
   "execution_count": null,
   "metadata": {
    "colab": {
     "base_uri": "https://localhost:8080/",
     "height": 302
    },
    "id": "jZkwfdVYq4nY",
    "outputId": "74769f41-9acf-48a6-e1fe-33a04f6a4828"
   },
   "outputs": [
    {
     "name": "stdout",
     "output_type": "stream",
     "text": [
      "Constant\n"
     ]
    },
    {
     "data": {
      "image/png": "[encoded data removed]",
      "text/plain": [
       "<Figure size 1440x288 with 3 Axes>"
      ]
     },
     "metadata": {
      "tags": []
     },
     "output_type": "display_data"
    }
   ],
   "source": [
    "print('Constant')\n",
    "precision_colors = [\"#8DCDF8\", \"#BFE5FE\", \"#4BA2DB\"]\n",
    "precision = ['micro', 'macro', 'weighted']\n",
    "precision_result = [precision_score(y_test4, y_pred_const, average='micro'), precision_score(y_test4, y_pred_const, average='macro'), precision_score(y_test4, y_pred_const, average='weighted')]\n",
    "recall_colors = [\"#6BC454\", \"#8DE278\", \"#6BC454\"]\n",
    "recall = ['micro', 'macro', 'weighted']\n",
    "recall_result = [recall_score(y_test4, y_pred_const, average='micro'), recall_score(y_test4, y_pred_const, average='macro'), recall_score(y_test4, y_pred_const, average='weighted')]\n",
    "f1_colors = [\"#C974DF\", \"#E59DF7\", \"#AE55C4\"]\n",
    "f1 = ['micro', 'macro', 'weighted']\n",
    "f1_result = [f1_score(y_test4, y_pred_const, average='micro'), f1_score(y_test4, y_pred_const, average='macro'), f1_score(y_test4, y_pred_const, average='weighted')]\n",
    "fig, (ax1,ax2, ax3) = plt.subplots(1, 3, figsize=(20, 4))\n",
    "ax1.bar(precision,precision_result, color=precision_colors)\n",
    "ax1.set_title(f'precision')\n",
    "ax2.bar(recall,recall_result, color=recall_colors)\n",
    "ax2.set_title(f'recall')\n",
    "ax3.bar(f1,f1_result, color=f1_colors)\n",
    "ax3.set_title(f'f1-score');"
   ]
  },
  {
   "cell_type": "markdown",
   "metadata": {
    "id": "hz_0LoZtIo0n"
   },
   "source": [
    "#### RandomForest"
   ]
  },
  {
   "cell_type": "code",
   "execution_count": null,
   "metadata": {
    "colab": {
     "base_uri": "https://localhost:8080/"
    },
    "id": "xZ4B4Ok4Ir8q",
    "outputId": "a370a044-b7b0-4c2e-8f54-902a13804d00"
   },
   "outputs": [
    {
     "data": {
      "text/plain": [
       "0.9460093896713615"
      ]
     },
     "execution_count": 101,
     "metadata": {
      "tags": []
     },
     "output_type": "execute_result"
    }
   ],
   "source": [
    "accuracy(RandomForestClassifier(random_state=42), X_train4, X_test4, y_train4, y_test4)"
   ]
  },
  {
   "cell_type": "code",
   "execution_count": null,
   "metadata": {
    "colab": {
     "base_uri": "https://localhost:8080/"
    },
    "id": "ikpAxhsfIsCS",
    "outputId": "a9177e98-fe1d-4226-88e2-f6c015024029"
   },
   "outputs": [
    {
     "name": "stdout",
     "output_type": "stream",
     "text": [
      "precision - micro: 0.9553990610328639\n",
      "recall - micro: 0.9553990610328639\n",
      "f1-score - micro: 0.9553990610328639\n",
      "--------------------------------------\n",
      "precision - macro: 0.9232154930937893\n",
      "recall - macro: 0.8918029020399709\n",
      "f1-score - macro: 0.9067048258683719\n",
      "--------------------------------------\n",
      "precision - weighted: 0.9523435546779617\n",
      "recall - weighted: 0.9530516431924883\n",
      "f1-score - weighted: 0.9521854330681289\n"
     ]
    }
   ],
   "source": [
    "result_prec_rec(RandomForestClassifier(), precision_recall)"
   ]
  },
  {
   "cell_type": "code",
   "execution_count": null,
   "metadata": {
    "colab": {
     "base_uri": "https://localhost:8080/",
     "height": 302
    },
    "id": "wrEq1eENoddU",
    "outputId": "9d787c8f-754b-432e-cd56-b8f2b1fe75c0"
   },
   "outputs": [
    {
     "name": "stdout",
     "output_type": "stream",
     "text": [
      "RandomForestClassifier\n"
     ]
    },
    {
     "data": {
      "image/png": "[encoded data removed]",
      "text/plain": [
       "<Figure size 1440x288 with 3 Axes>"
      ]
     },
     "metadata": {
      "tags": []
     },
     "output_type": "display_data"
    }
   ],
   "source": [
    "print('RandomForestClassifier')\n",
    "plot_metrics(RandomForestClassifier(), X_train4, X_test4, y_train4, y_test4)"
   ]
  },
  {
   "cell_type": "markdown",
   "metadata": {
    "id": "XwSvNqVRJsYO"
   },
   "source": [
    "**Вывод**: в этой части сначала запустил модели без изменений датасета, потом сделал стандартизацию, результаты чуть улучшились, дальше буду пытаться еще улучшить модели"
   ]
  },
  {
   "cell_type": "markdown",
   "metadata": {
    "id": "uZ_-7UUYAHh8"
   },
   "source": [
    "### Выбрать метрику, которую нужно максимизировать. Перебрать гиперпараметры моделей"
   ]
  },
  {
   "cell_type": "markdown",
   "metadata": {
    "id": "bnXGSoNgnOmI"
   },
   "source": [
    "**Ответ**: Запустив модели, можно заметить, что accuracy, precision, recall, f1_score - примерно равны одному и тому же с параметрами \"micro\" и \"weighted\"."
   ]
  },
  {
   "cell_type": "markdown",
   "metadata": {
    "id": "7_6buVL2py-i"
   },
   "source": [
    "\"macro\" отличается, потому что этот параметр не учитывает дисбаланс классов, хоть он здесь и не такой огромный, как в датасете с мошенническими транзакциями, но все же дисбаланс есть"
   ]
  },
  {
   "cell_type": "markdown",
   "metadata": {
    "id": "V3sdgunkp1k1"
   },
   "source": [
    "Поэтому в этом датасете можно было максимизировать и accuracy, и, например, f1_score, результаты исследования были бы хорошими, что не скажешь про мошеннические транзакции, там accuracy использовать для выводов не нужно. А вот в этом датасете попробую максимизировать **accuracy**"
   ]
  },
  {
   "cell_type": "markdown",
   "metadata": {
    "id": "31jhYCwfwSf9"
   },
   "source": [
    "Будем пользоваться похожими методами, как в датасете с мошенническими транзакциями, а именно:\n",
    "**Общий метод** - Для X сделал стандартизацию данных\n",
    "- Для **LogisticRegression** пробую добавлять новые фичи в датасет, также с помощью GridsearchCV попробую перебрать гиперпараметры\n",
    "- Для **KNeighborsClassifier** пробую добавлять новые фичи в датасет, также с помощью GridsearchCV попробую перебрать гиперпараметры\n",
    "- Для **RandomForest** с помощью GridsearchCV попробую перебрать гиперпараметры"
   ]
  },
  {
   "cell_type": "markdown",
   "metadata": {
    "id": "stvhJRwo2Otv"
   },
   "source": [
    "#### LogisticRegression"
   ]
  },
  {
   "cell_type": "code",
   "execution_count": null,
   "metadata": {
    "colab": {
     "base_uri": "https://localhost:8080/",
     "height": 156,
     "referenced_widgets": [
      "ff86fdd646d6449286c62b71646ee7b9",
      "4b1ce1bdcb2a4208a0bc459722f15790",
      "116a4a396a924b51b07cd574d7a8fb0f",
      "b9b082d16a144046af02116ea0171643",
      "e8630d8a837c4d49a72fe30d13d90197",
      "49985a8ec89841378af1790235d8d15c",
      "55ea797672954047b4f283190bee88df",
      "615c19c9277e4bb2bf6077752cff9b3b"
     ]
    },
    "id": "aWud5AG9AHh9",
    "outputId": "deb280e7-4e22-40d1-8920-1bff0256f507"
   },
   "outputs": [
    {
     "data": {
      "application/vnd.jupyter.widget-view+json": {
       "model_id": "ff86fdd646d6449286c62b71646ee7b9",
       "version_major": 2,
       "version_minor": 0
      },
      "text/plain": [
       "HBox(children=(FloatProgress(value=0.0, max=210.0), HTML(value='')))"
      ]
     },
     "metadata": {
      "tags": []
     },
     "output_type": "display_data"
    },
    {
     "name": "stdout",
     "output_type": "stream",
     "text": [
      "\n",
      "('uterine_contractions', 'abnormal_short_term_variability')\n",
      "('histogram_min', 'histogram_mode')\n",
      "('histogram_min', 'histogram_mean')\n",
      "('histogram_median', 'histogram_tendency')\n",
      "('histogram_mode', 'histogram_variance')\n"
     ]
    }
   ],
   "source": [
    "model_improve(LogisticRegression(), X2, y2)"
   ]
  },
  {
   "cell_type": "code",
   "execution_count": null,
   "metadata": {
    "id": "a--woJLp26li"
   },
   "outputs": [],
   "source": [
    "X_new2 = X2\n",
    "X_new2['uc_astv'] = X_new2['uterine_contractions'] * X_new2['abnormal_short_term_variability']\n",
    "X_new2['hmin_hmode'] = X_new2['histogram_min'] * X_new2['histogram_mode']\n",
    "X_new2['hmin_hmean'] = X_new2['histogram_min'] * X_new2['histogram_mean']\n",
    "X_new2['hmed_ht'] = X_new2['histogram_median'] * X_new2['histogram_tendency']\n",
    "X_new2['hmode_hvar'] = X_new2['histogram_mode'] * X_new2['histogram_variance']"
   ]
  },
  {
   "cell_type": "code",
   "execution_count": null,
   "metadata": {
    "id": "sjjCBYtyAHh-"
   },
   "outputs": [],
   "source": [
    "X_train5, X_test5, y_train5, y_test5 = train_test_split(X_new2, y2, test_size=0.2, random_state=42)"
   ]
  },
  {
   "cell_type": "code",
   "execution_count": null,
   "metadata": {
    "colab": {
     "base_uri": "https://localhost:8080/"
    },
    "id": "Ll1pw02_4762",
    "outputId": "9d7e2ee8-759e-4bbf-d367-c81653586d54"
   },
   "outputs": [
    {
     "data": {
      "text/plain": [
       "0.9014084507042254"
      ]
     },
     "execution_count": 105,
     "metadata": {
      "tags": []
     },
     "output_type": "execute_result"
    }
   ],
   "source": [
    "accuracy(LogisticRegression(), X_train5, X_test5, y_train5, y_test5)"
   ]
  },
  {
   "cell_type": "markdown",
   "metadata": {
    "id": "Fg0Yyztq9dzo"
   },
   "source": [
    "Добавление фич в датасет заметно улучшило качество!"
   ]
  },
  {
   "cell_type": "markdown",
   "metadata": {
    "id": "VMFt2F9D9uZv"
   },
   "source": [
    "Теперь переберу некоторые гиперпараметры и попробую найти лучшие"
   ]
  },
  {
   "cell_type": "code",
   "execution_count": null,
   "metadata": {
    "colab": {
     "base_uri": "https://localhost:8080/"
    },
    "id": "yqZIp9Yj9R3S",
    "outputId": "ed7be001-19b5-49ea-ecf3-1684b03522e2"
   },
   "outputs": [
    {
     "name": "stdout",
     "output_type": "stream",
     "text": [
      "The best parameters for using this model is {'C': 5, 'class_weight': None, 'max_iter': 100, 'penalty': 'l1', 'solver': 'liblinear'}\n"
     ]
    }
   ],
   "source": [
    "best_params_log(X_train5, y_train5, scoring='accuracy', solver=['newton-cg', 'lbfgs', 'liblinear', 'sag', 'saga'])"
   ]
  },
  {
   "cell_type": "code",
   "execution_count": null,
   "metadata": {
    "colab": {
     "base_uri": "https://localhost:8080/"
    },
    "id": "fTd4y76NDihX",
    "outputId": "3e67bf6a-c6de-4a17-c530-3617ef5f697e"
   },
   "outputs": [
    {
     "data": {
      "text/plain": [
       "0.8943661971830986"
      ]
     },
     "execution_count": 106,
     "metadata": {
      "tags": []
     },
     "output_type": "execute_result"
    }
   ],
   "source": [
    "accuracy(LogisticRegression(C=5, class_weight=None, max_iter=100, penalty='l1', solver='liblinear'), X_train5, X_test5, y_train5, y_test5)"
   ]
  },
  {
   "cell_type": "markdown",
   "metadata": {
    "id": "tBdpXUsWCBIl"
   },
   "source": [
    "Получается лучшие гиперпараметры остались изначальные"
   ]
  },
  {
   "cell_type": "code",
   "execution_count": null,
   "metadata": {
    "colab": {
     "base_uri": "https://localhost:8080/",
     "height": 284
    },
    "id": "nsQe7tS68Hy5",
    "outputId": "8a36dffb-9d03-474d-8b33-ac13f2e53561"
   },
   "outputs": [
    {
     "data": {
      "image/png": "[encoded data removed]",
      "text/plain": [
       "<Figure size 432x288 with 1 Axes>"
      ]
     },
     "metadata": {
      "tags": []
     },
     "output_type": "display_data"
    }
   ],
   "source": [
    "plt.plot([accuracy(LogisticRegression(), X_tr, X_te, y_tr, y_te), accuracy(LogisticRegression(), X_train4, X_test4, y_train4, y_test4), \n",
    "          accuracy(LogisticRegression(), X_train5, X_test5, y_train5, y_test5)], color='#722B8B');\n",
    "plt.ylabel('accuracy')\n",
    "plt.title('LogisticRegression accuracy changing')\n",
    "plt.scatter(0.0, accuracy(LogisticRegression(), X_tr, X_te, y_tr, y_te), color='#FE9F10', s=60, marker='o')\n",
    "plt.scatter(1.0, accuracy(LogisticRegression(), X_train4, X_test4, y_train4, y_test4), color='#FE9F10', s=60, marker='o')\n",
    "plt.scatter(2.0, accuracy(LogisticRegression(), X_train5, X_test5, y_train5, y_test5), color='#FE9F10', s=60, marker='o')\n",
    "plt.text(-0.1, 0.872, 'No changes')\n",
    "plt.text(0.5, 0.88, 'Scale dataset')\n",
    "plt.text(1.3, 0.9, 'Added features');"
   ]
  },
  {
   "cell_type": "markdown",
   "metadata": {
    "id": "OVJtPbf-C-Ox"
   },
   "source": [
    "**Вывод**: удалось улучшить accuracy c 0.87 до **0.9** после добавления фич"
   ]
  },
  {
   "cell_type": "markdown",
   "metadata": {
    "id": "uspj5-vBlpW7"
   },
   "source": [
    "#### KNeighborsClassifier"
   ]
  },
  {
   "cell_type": "markdown",
   "metadata": {
    "id": "K2ueTdCoqm5I"
   },
   "source": [
    "Попробуем выявить наиболее сильную зависимость признаков между собой, а потом добавить объединить объединение некоторых фич"
   ]
  },
  {
   "cell_type": "code",
   "execution_count": null,
   "metadata": {
    "id": "XXDchgnlmEdn"
   },
   "outputs": [],
   "source": [
    "X2 = X2.drop(['uc_astv', 'hmin_hmode', 'hmin_hmean', 'hmed_ht', 'hmode_hvar'], axis=1)"
   ]
  },
  {
   "cell_type": "code",
   "execution_count": null,
   "metadata": {
    "colab": {
     "base_uri": "https://localhost:8080/",
     "height": 156,
     "referenced_widgets": [
      "20b045c4e9a2443daa0027b345cbbf0c",
      "191fde837b4640019eb4608000a64979",
      "5de6fd8a1fc44495a5da7693e9a03d3c",
      "dc7f358e95754f6f833f2d28f23ad8da",
      "ee7469b4cbca4bed8f36dcc67b2bae84",
      "bfbc4652afd44da0b455b4aa8e0ed636",
      "dda7acb730a44175bcfdf28b7e19f34b",
      "afb4b0ee25d54e05843dac098e896c48"
     ]
    },
    "id": "RNYssI_SmE8_",
    "outputId": "5e3f8bf4-b37b-45ed-e8b2-7a358e00ff0f"
   },
   "outputs": [
    {
     "data": {
      "application/vnd.jupyter.widget-view+json": {
       "model_id": "20b045c4e9a2443daa0027b345cbbf0c",
       "version_major": 2,
       "version_minor": 0
      },
      "text/plain": [
       "HBox(children=(FloatProgress(value=0.0, max=231.0), HTML(value='')))"
      ]
     },
     "metadata": {
      "tags": []
     },
     "output_type": "display_data"
    },
    {
     "name": "stdout",
     "output_type": "stream",
     "text": [
      "\n",
      "('abnormal_short_term_variability', 'NEW')\n",
      "('histogram_max', 'histogram_mean')\n",
      "('histogram_max', 'histogram_median')\n",
      "('histogram_median', 'NEW')\n",
      "('histogram_mean', 'histogram_variance')\n"
     ]
    }
   ],
   "source": [
    "model_improve(KNeighborsClassifier(), X2, y2)"
   ]
  },
  {
   "cell_type": "code",
   "execution_count": null,
   "metadata": {
    "id": "wYS0LyPVmj_U"
   },
   "outputs": [],
   "source": [
    "X_new3 = X2\n",
    "X_new3['hmax_hmean'] = X_new3['histogram_max'] * X_new3['histogram_mean']\n",
    "X_new3['hmax_hmed'] = X_new3['histogram_max'] * X_new3['histogram_median']\n",
    "X_new3['hmean_hned'] = X_new3['histogram_mean'] * X_new3['histogram_median']\n",
    "X_new3['hmean_hvar'] = X_new3['histogram_mean'] * X_new3['histogram_variance']"
   ]
  },
  {
   "cell_type": "code",
   "execution_count": null,
   "metadata": {
    "id": "HB04cR_lnhXJ"
   },
   "outputs": [],
   "source": [
    "X_train6, X_test6, y_train6, y_test6 = train_test_split(X_new3, y2, test_size=0.2, random_state=42)"
   ]
  },
  {
   "cell_type": "code",
   "execution_count": null,
   "metadata": {
    "colab": {
     "base_uri": "https://localhost:8080/"
    },
    "id": "zZeelC86nqbB",
    "outputId": "a1bb11a7-ce7b-463c-bd91-cc247e2ef367"
   },
   "outputs": [
    {
     "data": {
      "text/plain": [
       "0.9131455399061033"
      ]
     },
     "execution_count": 115,
     "metadata": {
      "tags": []
     },
     "output_type": "execute_result"
    }
   ],
   "source": [
    "accuracy(KNeighborsClassifier(), X_train6, X_test6, y_train6, y_test6)"
   ]
  },
  {
   "cell_type": "markdown",
   "metadata": {
    "id": "O50TM4eRrUJg"
   },
   "source": [
    "Как видно, это не помогло модели  KNeighborsClassifier, в отличие от LogisticRegression"
   ]
  },
  {
   "cell_type": "markdown",
   "metadata": {
    "id": "EadBQkoxrgN4"
   },
   "source": [
    "Теперь попробуем перебрать гиперпараметры с помощью GridSearchCV"
   ]
  },
  {
   "cell_type": "code",
   "execution_count": null,
   "metadata": {
    "id": "j420QValstEh"
   },
   "outputs": [],
   "source": [
    "X_train7, X_test7, y_train7, y_test7 = train_test_split(X2, y2, test_size=0.2, random_state=42)"
   ]
  },
  {
   "cell_type": "code",
   "execution_count": null,
   "metadata": {
    "colab": {
     "base_uri": "https://localhost:8080/"
    },
    "id": "yTk9I7YBre1g",
    "outputId": "e3bcf6fa-b7aa-436c-cbb8-dc4ebeb665a7"
   },
   "outputs": [
    {
     "name": "stdout",
     "output_type": "stream",
     "text": [
      "Fitting 5 folds for each of 24 candidates, totalling 120 fits\n"
     ]
    },
    {
     "name": "stderr",
     "output_type": "stream",
     "text": [
      "[Parallel(n_jobs=-1)]: Using backend LokyBackend with 2 concurrent workers.\n",
      "[Parallel(n_jobs=-1)]: Done   1 tasks      | elapsed:    1.1s\n",
      "[Parallel(n_jobs=-1)]: Done   4 tasks      | elapsed:    1.2s\n",
      "[Parallel(n_jobs=-1)]: Done   9 tasks      | elapsed:    1.4s\n",
      "[Parallel(n_jobs=-1)]: Done  14 tasks      | elapsed:    1.5s\n",
      "[Parallel(n_jobs=-1)]: Batch computation too fast (0.1935s.) Setting batch_size=2.\n",
      "[Parallel(n_jobs=-1)]: Done  22 tasks      | elapsed:    1.8s\n",
      "[Parallel(n_jobs=-1)]: Batch computation too fast (0.1787s.) Setting batch_size=4.\n",
      "[Parallel(n_jobs=-1)]: Done  44 tasks      | elapsed:    2.4s\n",
      "[Parallel(n_jobs=-1)]: Done  80 tasks      | elapsed:    3.4s\n"
     ]
    },
    {
     "name": "stdout",
     "output_type": "stream",
     "text": [
      "The best parameters for using this model is {'metric': 'manhattan', 'n_neighbors': 5, 'weights': 'distance'}\n"
     ]
    },
    {
     "name": "stderr",
     "output_type": "stream",
     "text": [
      "[Parallel(n_jobs=-1)]: Done 113 tasks      | elapsed:    4.5s\n",
      "[Parallel(n_jobs=-1)]: Done 120 out of 120 | elapsed:    4.6s finished\n"
     ]
    }
   ],
   "source": [
    "param_grid = {\n",
    "            'n_neighbors': [3, 5, 7, 9],\n",
    "            'weights': ['uniform', 'distance'],\n",
    "            'metric': ['minkowski', 'euclidean', 'manhattan']\n",
    "            }\n",
    "\n",
    "knn_cv = GridSearchCV(estimator = model_fit(KNeighborsClassifier(), X_train7, X_test7, y_train7, y_test7), param_grid = param_grid, scoring = 'accuracy', verbose = 10, n_jobs = -1)\n",
    "knn_cv.fit(X_train7, y_train7)\n",
    "\n",
    "best_parameters = knn_cv.best_params_\n",
    "print(\"The best parameters for using this model is\", best_parameters)"
   ]
  },
  {
   "cell_type": "code",
   "execution_count": null,
   "metadata": {
    "colab": {
     "base_uri": "https://localhost:8080/"
    },
    "id": "bwVnFGmeu4f7",
    "outputId": "3fe1d1cd-6c7f-4b14-8e48-e1d56b851c0b"
   },
   "outputs": [
    {
     "data": {
      "text/plain": [
       "0.9225352112676056"
      ]
     },
     "execution_count": 117,
     "metadata": {
      "tags": []
     },
     "output_type": "execute_result"
    }
   ],
   "source": [
    "accuracy(KNeighborsClassifier(n_neighbors=5, metric='manhattan', weights='distance'), X_train7, X_test7, y_train7, y_test7)"
   ]
  },
  {
   "cell_type": "markdown",
   "metadata": {
    "id": "wv9ez0n_vkhJ"
   },
   "source": [
    "Перебор гиперпараметров KNeighborsClassifier действительно помог! "
   ]
  },
  {
   "cell_type": "code",
   "execution_count": null,
   "metadata": {
    "colab": {
     "base_uri": "https://localhost:8080/",
     "height": 284
    },
    "id": "F5G32AIb1Yks",
    "outputId": "bac9dab3-68c2-4426-8c6d-0974483b2a61"
   },
   "outputs": [
    {
     "data": {
      "image/png": "[encoded data removed]",
      "text/plain": [
       "<Figure size 432x288 with 1 Axes>"
      ]
     },
     "metadata": {
      "tags": []
     },
     "output_type": "display_data"
    }
   ],
   "source": [
    "plt.plot([accuracy(KNeighborsClassifier(), X_tr, X_te, y_tr, y_te), accuracy(KNeighborsClassifier(), X_train4, X_test4, y_train4, y_test4), \n",
    "          accuracy(KNeighborsClassifier(n_neighbors=5, metric='manhattan', weights='distance'), X_train7, X_test7, y_train7, y_test7)], color='#722B8B');\n",
    "plt.ylabel('accuracy')\n",
    "plt.title('KNeighborsClassifier accuracy changing')\n",
    "plt.scatter(0.0, accuracy(KNeighborsClassifier(), X_tr, X_te, y_tr, y_te), color='#FE9F10', s=60, marker='o')\n",
    "plt.scatter(1.0, accuracy(KNeighborsClassifier(), X_train4, X_test4, y_train4, y_test4), color='#FE9F10', s=60, marker='o')\n",
    "plt.scatter(2.0, accuracy(KNeighborsClassifier(n_neighbors=5, metric='manhattan', weights='distance'), X_train7, X_test7, y_train7, y_test7), color='#FE9F10', s=60, marker='o')\n",
    "plt.text(0.12, accuracy(KNeighborsClassifier(), X_tr, X_te, y_tr, y_te), 'No changes')\n",
    "plt.text(0.4, accuracy(KNeighborsClassifier(), X_train4, X_test4, y_train4, y_test4), 'Scale dataset')\n",
    "plt.text(1.6, 0.915, 'Best parameters');"
   ]
  },
  {
   "cell_type": "markdown",
   "metadata": {
    "id": "-OuKrm6YwDrD"
   },
   "source": [
    "**Вывод**: удалось улучшить accuracy c 0.915 до **0.923** после перебора гиперпараметров"
   ]
  },
  {
   "cell_type": "markdown",
   "metadata": {
    "id": "8tEVgC3B-t2p"
   },
   "source": [
    "#### RandomForest"
   ]
  },
  {
   "cell_type": "code",
   "execution_count": null,
   "metadata": {
    "id": "h8hnRE5U-vxi"
   },
   "outputs": [],
   "source": [
    "X3 = data.drop('fetal_health', axis=1)\n",
    "y3 = data['fetal_health']"
   ]
  },
  {
   "cell_type": "code",
   "execution_count": null,
   "metadata": {
    "id": "N5uipKnFUmB4"
   },
   "outputs": [],
   "source": [
    "X_train8, X_test8, y_train8, y_test8 = train_test_split(X3, y3, test_size=0.2, random_state=42)"
   ]
  },
  {
   "cell_type": "code",
   "execution_count": null,
   "metadata": {
    "colab": {
     "base_uri": "https://localhost:8080/"
    },
    "id": "O18t1sNqUpcb",
    "outputId": "8b727c34-8071-42ee-8149-3459937dd210"
   },
   "outputs": [
    {
     "name": "stdout",
     "output_type": "stream",
     "text": [
      "Fitting 5 folds for each of 216 candidates, totalling 1080 fits\n"
     ]
    },
    {
     "name": "stderr",
     "output_type": "stream",
     "text": [
      "[Parallel(n_jobs=-1)]: Using backend LokyBackend with 2 concurrent workers.\n",
      "[Parallel(n_jobs=-1)]: Done   1 tasks      | elapsed:    0.4s\n",
      "[Parallel(n_jobs=-1)]: Done   4 tasks      | elapsed:    0.8s\n",
      "[Parallel(n_jobs=-1)]: Done   9 tasks      | elapsed:    2.3s\n",
      "[Parallel(n_jobs=-1)]: Done  14 tasks      | elapsed:    3.9s\n",
      "[Parallel(n_jobs=-1)]: Done  21 tasks      | elapsed:   10.5s\n",
      "[Parallel(n_jobs=-1)]: Done  28 tasks      | elapsed:   20.4s\n",
      "[Parallel(n_jobs=-1)]: Done  37 tasks      | elapsed:   24.1s\n",
      "[Parallel(n_jobs=-1)]: Done  46 tasks      | elapsed:   28.3s\n",
      "[Parallel(n_jobs=-1)]: Done  57 tasks      | elapsed:   40.9s\n",
      "[Parallel(n_jobs=-1)]: Done  68 tasks      | elapsed:   46.9s\n",
      "[Parallel(n_jobs=-1)]: Done  81 tasks      | elapsed:   55.3s\n",
      "[Parallel(n_jobs=-1)]: Done  94 tasks      | elapsed:  1.1min\n",
      "[Parallel(n_jobs=-1)]: Done 109 tasks      | elapsed:  1.3min\n",
      "[Parallel(n_jobs=-1)]: Done 124 tasks      | elapsed:  1.6min\n",
      "[Parallel(n_jobs=-1)]: Done 141 tasks      | elapsed:  1.7min\n",
      "[Parallel(n_jobs=-1)]: Done 158 tasks      | elapsed:  2.0min\n",
      "[Parallel(n_jobs=-1)]: Done 177 tasks      | elapsed:  2.3min\n",
      "[Parallel(n_jobs=-1)]: Done 196 tasks      | elapsed:  2.5min\n",
      "[Parallel(n_jobs=-1)]: Done 217 tasks      | elapsed:  2.9min\n",
      "[Parallel(n_jobs=-1)]: Done 238 tasks      | elapsed:  3.2min\n",
      "[Parallel(n_jobs=-1)]: Done 261 tasks      | elapsed:  3.5min\n",
      "[Parallel(n_jobs=-1)]: Done 284 tasks      | elapsed:  3.8min\n",
      "[Parallel(n_jobs=-1)]: Done 309 tasks      | elapsed:  4.3min\n",
      "[Parallel(n_jobs=-1)]: Done 334 tasks      | elapsed:  4.7min\n",
      "[Parallel(n_jobs=-1)]: Done 361 tasks      | elapsed:  5.2min\n",
      "[Parallel(n_jobs=-1)]: Done 388 tasks      | elapsed:  5.7min\n",
      "[Parallel(n_jobs=-1)]: Done 417 tasks      | elapsed:  6.1min\n",
      "[Parallel(n_jobs=-1)]: Done 446 tasks      | elapsed:  6.6min\n",
      "[Parallel(n_jobs=-1)]: Done 477 tasks      | elapsed:  7.1min\n",
      "[Parallel(n_jobs=-1)]: Done 508 tasks      | elapsed:  7.6min\n",
      "[Parallel(n_jobs=-1)]: Done 541 tasks      | elapsed:  8.2min\n",
      "[Parallel(n_jobs=-1)]: Done 574 tasks      | elapsed:  8.6min\n",
      "[Parallel(n_jobs=-1)]: Done 609 tasks      | elapsed:  9.1min\n",
      "[Parallel(n_jobs=-1)]: Done 644 tasks      | elapsed:  9.5min\n",
      "[Parallel(n_jobs=-1)]: Done 681 tasks      | elapsed: 10.1min\n",
      "[Parallel(n_jobs=-1)]: Done 718 tasks      | elapsed: 10.8min\n",
      "[Parallel(n_jobs=-1)]: Done 757 tasks      | elapsed: 11.5min\n",
      "[Parallel(n_jobs=-1)]: Done 796 tasks      | elapsed: 12.1min\n",
      "[Parallel(n_jobs=-1)]: Done 837 tasks      | elapsed: 12.9min\n",
      "[Parallel(n_jobs=-1)]: Done 878 tasks      | elapsed: 13.7min\n",
      "[Parallel(n_jobs=-1)]: Done 921 tasks      | elapsed: 14.4min\n",
      "[Parallel(n_jobs=-1)]: Done 964 tasks      | elapsed: 15.3min\n",
      "[Parallel(n_jobs=-1)]: Done 1009 tasks      | elapsed: 16.1min\n",
      "[Parallel(n_jobs=-1)]: Done 1054 tasks      | elapsed: 17.0min\n",
      "[Parallel(n_jobs=-1)]: Done 1080 out of 1080 | elapsed: 17.6min finished\n"
     ]
    },
    {
     "name": "stdout",
     "output_type": "stream",
     "text": [
      "The best parameters for using this model is {'criterion': 'entropy', 'max_depth': 12, 'max_features': 'sqrt', 'n_estimators': 150}\n"
     ]
    }
   ],
   "source": [
    "param_grid = {\n",
    "            'n_estimators': [100,150, 200,500,700,900],\n",
    "            'max_features': ['auto', 'sqrt', 'log2'],\n",
    "            'max_depth' : [4,6,8,12,14,16],\n",
    "            'criterion' :['gini', 'entropy'],\n",
    "             }\n",
    "\n",
    "rf_cv = GridSearchCV(estimator = RandomForestClassifier(), param_grid = param_grid, scoring = 'accuracy', cv=5, verbose = 10, n_jobs = -1)\n",
    "rf_cv.fit(X_train8, y_train8)\n",
    "\n",
    "best_parameters = rf_cv.best_params_\n",
    "print(\"The best parameters for using this model is\", best_parameters)"
   ]
  },
  {
   "cell_type": "code",
   "execution_count": null,
   "metadata": {
    "colab": {
     "base_uri": "https://localhost:8080/"
    },
    "id": "TmUDc2fbY3ZE",
    "outputId": "2c4cb0fb-99d6-4833-873b-6c80f73b6137"
   },
   "outputs": [
    {
     "data": {
      "text/plain": [
       "0.9530516431924883"
      ]
     },
     "execution_count": 145,
     "metadata": {
      "tags": []
     },
     "output_type": "execute_result"
    }
   ],
   "source": [
    "rf_best = RandomForestClassifier(n_estimators=150, max_features='sqrt', criterion='entropy', max_depth=12, random_state=42)\n",
    "rf_best.fit(X_train8, y_train8)\n",
    "y_pred8 = rf_best.predict(X_test8)\n",
    "accuracy_score(y_test8, y_pred8)"
   ]
  },
  {
   "cell_type": "code",
   "execution_count": null,
   "metadata": {
    "colab": {
     "base_uri": "https://localhost:8080/",
     "height": 284
    },
    "id": "TnoDJUNkZMAa",
    "outputId": "d1692110-a1b5-48fa-90f0-dedf0b613e12"
   },
   "outputs": [
    {
     "data": {
      "image/png": "[encoded data removed]",
      "text/plain": [
       "<Figure size 432x288 with 1 Axes>"
      ]
     },
     "metadata": {
      "tags": []
     },
     "output_type": "display_data"
    }
   ],
   "source": [
    "plt.plot([accuracy(RandomForestClassifier(random_state=42), X_tr, X_te, y_tr, y_te), accuracy(RandomForestClassifier(random_state=42), X_train4, X_test4, y_train4, y_test4), \n",
    "          accuracy_score(y_test8, y_pred8)], color='#722B8B');\n",
    "plt.ylabel('accuracy')\n",
    "plt.title('RandomForestClassifier accuracy changing')\n",
    "plt.scatter(0.0, accuracy(RandomForestClassifier(random_state=42), X_tr, X_te, y_tr, y_te), color='#FE9F10', s=60, marker='o')\n",
    "plt.scatter(1.0, accuracy(RandomForestClassifier(random_state=42), X_train4, X_test4, y_train4, y_test4), color='#FE9F10', s=60, marker='o')\n",
    "plt.scatter(2.0, accuracy_score(y_test8, y_pred8), color='#FE9F10', s=60, marker='o')\n",
    "plt.text(-0.05, 0.9465, 'No changes')\n",
    "plt.text(1.1, accuracy(RandomForestClassifier(random_state=42), X_train4, X_test4, y_train4, y_test4), 'Scale dataset')\n",
    "plt.text(1.2, 0.9528, 'Best parameters');"
   ]
  },
  {
   "cell_type": "markdown",
   "metadata": {
    "id": "cbeOmZu5Q6KL"
   },
   "source": [
    "### **Вывод**: Во всех трех моделях удалось улучшить качество accuracy, наилучший результат получился у RandomForest - **0.953**"
   ]
  }
 ],
 "metadata": {
  "colab": {
   "collapsed_sections": [],
   "name": "Копия блокнота \"Task 4.ipynb\"",
   "provenance": []
  },
  "kernelspec": {
   "display_name": "Python 3",
   "language": "python",
   "name": "python3"
  },
  "language_info": {
   "codemirror_mode": {
    "name": "ipython",
    "version": 3
   },
   "file_extension": ".py",
   "mimetype": "text/x-python",
   "name": "python",
   "nbconvert_exporter": "python",
   "pygments_lexer": "ipython3",
   "version": "3.8.5"
  },
  "widgets": {
   "application/vnd.jupyter.widget-state+json": {
    "0b783b52e76a4994a98abf14655d7507": {
     "model_module": "@jupyter-widgets/controls",
     "model_name": "DescriptionStyleModel",
     "state": {
      "_model_module": "@jupyter-widgets/controls",
      "_model_module_version": "1.5.0",
      "_model_name": "DescriptionStyleModel",
      "_view_count": null,
      "_view_module": "@jupyter-widgets/base",
      "_view_module_version": "1.2.0",
      "_view_name": "StyleView",
      "description_width": ""
     }
    },
    "116a4a396a924b51b07cd574d7a8fb0f": {
     "model_module": "@jupyter-widgets/controls",
     "model_name": "FloatProgressModel",
     "state": {
      "_dom_classes": [],
      "_model_module": "@jupyter-widgets/controls",
      "_model_module_version": "1.5.0",
      "_model_name": "FloatProgressModel",
      "_view_count": null,
      "_view_module": "@jupyter-widgets/controls",
      "_view_module_version": "1.5.0",
      "_view_name": "ProgressView",
      "bar_style": "success",
      "description": "100%",
      "description_tooltip": null,
      "layout": "IPY_MODEL_49985a8ec89841378af1790235d8d15c",
      "max": 210,
      "min": 0,
      "orientation": "horizontal",
      "style": "IPY_MODEL_e8630d8a837c4d49a72fe30d13d90197",
      "value": 210
     }
    },
    "191fde837b4640019eb4608000a64979": {
     "model_module": "@jupyter-widgets/base",
     "model_name": "LayoutModel",
     "state": {
      "_model_module": "@jupyter-widgets/base",
      "_model_module_version": "1.2.0",
      "_model_name": "LayoutModel",
      "_view_count": null,
      "_view_module": "@jupyter-widgets/base",
      "_view_module_version": "1.2.0",
      "_view_name": "LayoutView",
      "align_content": null,
      "align_items": null,
      "align_self": null,
      "border": null,
      "bottom": null,
      "display": null,
      "flex": null,
      "flex_flow": null,
      "grid_area": null,
      "grid_auto_columns": null,
      "grid_auto_flow": null,
      "grid_auto_rows": null,
      "grid_column": null,
      "grid_gap": null,
      "grid_row": null,
      "grid_template_areas": null,
      "grid_template_columns": null,
      "grid_template_rows": null,
      "height": null,
      "justify_content": null,
      "justify_items": null,
      "left": null,
      "margin": null,
      "max_height": null,
      "max_width": null,
      "min_height": null,
      "min_width": null,
      "object_fit": null,
      "object_position": null,
      "order": null,
      "overflow": null,
      "overflow_x": null,
      "overflow_y": null,
      "padding": null,
      "right": null,
      "top": null,
      "visibility": null,
      "width": null
     }
    },
    "20b045c4e9a2443daa0027b345cbbf0c": {
     "model_module": "@jupyter-widgets/controls",
     "model_name": "HBoxModel",
     "state": {
      "_dom_classes": [],
      "_model_module": "@jupyter-widgets/controls",
      "_model_module_version": "1.5.0",
      "_model_name": "HBoxModel",
      "_view_count": null,
      "_view_module": "@jupyter-widgets/controls",
      "_view_module_version": "1.5.0",
      "_view_name": "HBoxView",
      "box_style": "",
      "children": [
       "IPY_MODEL_5de6fd8a1fc44495a5da7693e9a03d3c",
       "IPY_MODEL_dc7f358e95754f6f833f2d28f23ad8da"
      ],
      "layout": "IPY_MODEL_191fde837b4640019eb4608000a64979"
     }
    },
    "29c62a2c72844dea9738df72c4cf3c9d": {
     "model_module": "@jupyter-widgets/controls",
     "model_name": "HBoxModel",
     "state": {
      "_dom_classes": [],
      "_model_module": "@jupyter-widgets/controls",
      "_model_module_version": "1.5.0",
      "_model_name": "HBoxModel",
      "_view_count": null,
      "_view_module": "@jupyter-widgets/controls",
      "_view_module_version": "1.5.0",
      "_view_name": "HBoxView",
      "box_style": "",
      "children": [
       "IPY_MODEL_cd4edafb0fd64b7a8a3fb7213c4cc505",
       "IPY_MODEL_dac2d02efb5942ec9c41ff51f744ce22"
      ],
      "layout": "IPY_MODEL_7f426d45d87c4215a93ca9f85c637d30"
     }
    },
    "49985a8ec89841378af1790235d8d15c": {
     "model_module": "@jupyter-widgets/base",
     "model_name": "LayoutModel",
     "state": {
      "_model_module": "@jupyter-widgets/base",
      "_model_module_version": "1.2.0",
      "_model_name": "LayoutModel",
      "_view_count": null,
      "_view_module": "@jupyter-widgets/base",
      "_view_module_version": "1.2.0",
      "_view_name": "LayoutView",
      "align_content": null,
      "align_items": null,
      "align_self": null,
      "border": null,
      "bottom": null,
      "display": null,
      "flex": null,
      "flex_flow": null,
      "grid_area": null,
      "grid_auto_columns": null,
      "grid_auto_flow": null,
      "grid_auto_rows": null,
      "grid_column": null,
      "grid_gap": null,
      "grid_row": null,
      "grid_template_areas": null,
      "grid_template_columns": null,
      "grid_template_rows": null,
      "height": null,
      "justify_content": null,
      "justify_items": null,
      "left": null,
      "margin": null,
      "max_height": null,
      "max_width": null,
      "min_height": null,
      "min_width": null,
      "object_fit": null,
      "object_position": null,
      "order": null,
      "overflow": null,
      "overflow_x": null,
      "overflow_y": null,
      "padding": null,
      "right": null,
      "top": null,
      "visibility": null,
      "width": null
     }
    },
    "4b1ce1bdcb2a4208a0bc459722f15790": {
     "model_module": "@jupyter-widgets/base",
     "model_name": "LayoutModel",
     "state": {
      "_model_module": "@jupyter-widgets/base",
      "_model_module_version": "1.2.0",
      "_model_name": "LayoutModel",
      "_view_count": null,
      "_view_module": "@jupyter-widgets/base",
      "_view_module_version": "1.2.0",
      "_view_name": "LayoutView",
      "align_content": null,
      "align_items": null,
      "align_self": null,
      "border": null,
      "bottom": null,
      "display": null,
      "flex": null,
      "flex_flow": null,
      "grid_area": null,
      "grid_auto_columns": null,
      "grid_auto_flow": null,
      "grid_auto_rows": null,
      "grid_column": null,
      "grid_gap": null,
      "grid_row": null,
      "grid_template_areas": null,
      "grid_template_columns": null,
      "grid_template_rows": null,
      "height": null,
      "justify_content": null,
      "justify_items": null,
      "left": null,
      "margin": null,
      "max_height": null,
      "max_width": null,
      "min_height": null,
      "min_width": null,
      "object_fit": null,
      "object_position": null,
      "order": null,
      "overflow": null,
      "overflow_x": null,
      "overflow_y": null,
      "padding": null,
      "right": null,
      "top": null,
      "visibility": null,
      "width": null
     }
    },
    "55ea797672954047b4f283190bee88df": {
     "model_module": "@jupyter-widgets/controls",
     "model_name": "DescriptionStyleModel",
     "state": {
      "_model_module": "@jupyter-widgets/controls",
      "_model_module_version": "1.5.0",
      "_model_name": "DescriptionStyleModel",
      "_view_count": null,
      "_view_module": "@jupyter-widgets/base",
      "_view_module_version": "1.2.0",
      "_view_name": "StyleView",
      "description_width": ""
     }
    },
    "5de6fd8a1fc44495a5da7693e9a03d3c": {
     "model_module": "@jupyter-widgets/controls",
     "model_name": "FloatProgressModel",
     "state": {
      "_dom_classes": [],
      "_model_module": "@jupyter-widgets/controls",
      "_model_module_version": "1.5.0",
      "_model_name": "FloatProgressModel",
      "_view_count": null,
      "_view_module": "@jupyter-widgets/controls",
      "_view_module_version": "1.5.0",
      "_view_name": "ProgressView",
      "bar_style": "success",
      "description": "100%",
      "description_tooltip": null,
      "layout": "IPY_MODEL_bfbc4652afd44da0b455b4aa8e0ed636",
      "max": 231,
      "min": 0,
      "orientation": "horizontal",
      "style": "IPY_MODEL_ee7469b4cbca4bed8f36dcc67b2bae84",
      "value": 231
     }
    },
    "615c19c9277e4bb2bf6077752cff9b3b": {
     "model_module": "@jupyter-widgets/base",
     "model_name": "LayoutModel",
     "state": {
      "_model_module": "@jupyter-widgets/base",
      "_model_module_version": "1.2.0",
      "_model_name": "LayoutModel",
      "_view_count": null,
      "_view_module": "@jupyter-widgets/base",
      "_view_module_version": "1.2.0",
      "_view_name": "LayoutView",
      "align_content": null,
      "align_items": null,
      "align_self": null,
      "border": null,
      "bottom": null,
      "display": null,
      "flex": null,
      "flex_flow": null,
      "grid_area": null,
      "grid_auto_columns": null,
      "grid_auto_flow": null,
      "grid_auto_rows": null,
      "grid_column": null,
      "grid_gap": null,
      "grid_row": null,
      "grid_template_areas": null,
      "grid_template_columns": null,
      "grid_template_rows": null,
      "height": null,
      "justify_content": null,
      "justify_items": null,
      "left": null,
      "margin": null,
      "max_height": null,
      "max_width": null,
      "min_height": null,
      "min_width": null,
      "object_fit": null,
      "object_position": null,
      "order": null,
      "overflow": null,
      "overflow_x": null,
      "overflow_y": null,
      "padding": null,
      "right": null,
      "top": null,
      "visibility": null,
      "width": null
     }
    },
    "7f426d45d87c4215a93ca9f85c637d30": {
     "model_module": "@jupyter-widgets/base",
     "model_name": "LayoutModel",
     "state": {
      "_model_module": "@jupyter-widgets/base",
      "_model_module_version": "1.2.0",
      "_model_name": "LayoutModel",
      "_view_count": null,
      "_view_module": "@jupyter-widgets/base",
      "_view_module_version": "1.2.0",
      "_view_name": "LayoutView",
      "align_content": null,
      "align_items": null,
      "align_self": null,
      "border": null,
      "bottom": null,
      "display": null,
      "flex": null,
      "flex_flow": null,
      "grid_area": null,
      "grid_auto_columns": null,
      "grid_auto_flow": null,
      "grid_auto_rows": null,
      "grid_column": null,
      "grid_gap": null,
      "grid_row": null,
      "grid_template_areas": null,
      "grid_template_columns": null,
      "grid_template_rows": null,
      "height": null,
      "justify_content": null,
      "justify_items": null,
      "left": null,
      "margin": null,
      "max_height": null,
      "max_width": null,
      "min_height": null,
      "min_width": null,
      "object_fit": null,
      "object_position": null,
      "order": null,
      "overflow": null,
      "overflow_x": null,
      "overflow_y": null,
      "padding": null,
      "right": null,
      "top": null,
      "visibility": null,
      "width": null
     }
    },
    "9b39c37078b9496a8174961d2a02f51f": {
     "model_module": "@jupyter-widgets/base",
     "model_name": "LayoutModel",
     "state": {
      "_model_module": "@jupyter-widgets/base",
      "_model_module_version": "1.2.0",
      "_model_name": "LayoutModel",
      "_view_count": null,
      "_view_module": "@jupyter-widgets/base",
      "_view_module_version": "1.2.0",
      "_view_name": "LayoutView",
      "align_content": null,
      "align_items": null,
      "align_self": null,
      "border": null,
      "bottom": null,
      "display": null,
      "flex": null,
      "flex_flow": null,
      "grid_area": null,
      "grid_auto_columns": null,
      "grid_auto_flow": null,
      "grid_auto_rows": null,
      "grid_column": null,
      "grid_gap": null,
      "grid_row": null,
      "grid_template_areas": null,
      "grid_template_columns": null,
      "grid_template_rows": null,
      "height": null,
      "justify_content": null,
      "justify_items": null,
      "left": null,
      "margin": null,
      "max_height": null,
      "max_width": null,
      "min_height": null,
      "min_width": null,
      "object_fit": null,
      "object_position": null,
      "order": null,
      "overflow": null,
      "overflow_x": null,
      "overflow_y": null,
      "padding": null,
      "right": null,
      "top": null,
      "visibility": null,
      "width": null
     }
    },
    "afb4b0ee25d54e05843dac098e896c48": {
     "model_module": "@jupyter-widgets/base",
     "model_name": "LayoutModel",
     "state": {
      "_model_module": "@jupyter-widgets/base",
      "_model_module_version": "1.2.0",
      "_model_name": "LayoutModel",
      "_view_count": null,
      "_view_module": "@jupyter-widgets/base",
      "_view_module_version": "1.2.0",
      "_view_name": "LayoutView",
      "align_content": null,
      "align_items": null,
      "align_self": null,
      "border": null,
      "bottom": null,
      "display": null,
      "flex": null,
      "flex_flow": null,
      "grid_area": null,
      "grid_auto_columns": null,
      "grid_auto_flow": null,
      "grid_auto_rows": null,
      "grid_column": null,
      "grid_gap": null,
      "grid_row": null,
      "grid_template_areas": null,
      "grid_template_columns": null,
      "grid_template_rows": null,
      "height": null,
      "justify_content": null,
      "justify_items": null,
      "left": null,
      "margin": null,
      "max_height": null,
      "max_width": null,
      "min_height": null,
      "min_width": null,
      "object_fit": null,
      "object_position": null,
      "order": null,
      "overflow": null,
      "overflow_x": null,
      "overflow_y": null,
      "padding": null,
      "right": null,
      "top": null,
      "visibility": null,
      "width": null
     }
    },
    "b927b066d5c44751aefacb04e158c514": {
     "model_module": "@jupyter-widgets/controls",
     "model_name": "ProgressStyleModel",
     "state": {
      "_model_module": "@jupyter-widgets/controls",
      "_model_module_version": "1.5.0",
      "_model_name": "ProgressStyleModel",
      "_view_count": null,
      "_view_module": "@jupyter-widgets/base",
      "_view_module_version": "1.2.0",
      "_view_name": "StyleView",
      "bar_color": null,
      "description_width": "initial"
     }
    },
    "b9b082d16a144046af02116ea0171643": {
     "model_module": "@jupyter-widgets/controls",
     "model_name": "HTMLModel",
     "state": {
      "_dom_classes": [],
      "_model_module": "@jupyter-widgets/controls",
      "_model_module_version": "1.5.0",
      "_model_name": "HTMLModel",
      "_view_count": null,
      "_view_module": "@jupyter-widgets/controls",
      "_view_module_version": "1.5.0",
      "_view_name": "HTMLView",
      "description": "",
      "description_tooltip": null,
      "layout": "IPY_MODEL_615c19c9277e4bb2bf6077752cff9b3b",
      "placeholder": "​",
      "style": "IPY_MODEL_55ea797672954047b4f283190bee88df",
      "value": " 210/210 [00:54&lt;00:00,  3.88it/s]"
     }
    },
    "bfbc4652afd44da0b455b4aa8e0ed636": {
     "model_module": "@jupyter-widgets/base",
     "model_name": "LayoutModel",
     "state": {
      "_model_module": "@jupyter-widgets/base",
      "_model_module_version": "1.2.0",
      "_model_name": "LayoutModel",
      "_view_count": null,
      "_view_module": "@jupyter-widgets/base",
      "_view_module_version": "1.2.0",
      "_view_name": "LayoutView",
      "align_content": null,
      "align_items": null,
      "align_self": null,
      "border": null,
      "bottom": null,
      "display": null,
      "flex": null,
      "flex_flow": null,
      "grid_area": null,
      "grid_auto_columns": null,
      "grid_auto_flow": null,
      "grid_auto_rows": null,
      "grid_column": null,
      "grid_gap": null,
      "grid_row": null,
      "grid_template_areas": null,
      "grid_template_columns": null,
      "grid_template_rows": null,
      "height": null,
      "justify_content": null,
      "justify_items": null,
      "left": null,
      "margin": null,
      "max_height": null,
      "max_width": null,
      "min_height": null,
      "min_width": null,
      "object_fit": null,
      "object_position": null,
      "order": null,
      "overflow": null,
      "overflow_x": null,
      "overflow_y": null,
      "padding": null,
      "right": null,
      "top": null,
      "visibility": null,
      "width": null
     }
    },
    "cd4edafb0fd64b7a8a3fb7213c4cc505": {
     "model_module": "@jupyter-widgets/controls",
     "model_name": "FloatProgressModel",
     "state": {
      "_dom_classes": [],
      "_model_module": "@jupyter-widgets/controls",
      "_model_module_version": "1.5.0",
      "_model_name": "FloatProgressModel",
      "_view_count": null,
      "_view_module": "@jupyter-widgets/controls",
      "_view_module_version": "1.5.0",
      "_view_name": "ProgressView",
      "bar_style": "success",
      "description": "100%",
      "description_tooltip": null,
      "layout": "IPY_MODEL_fe384832fccf44bdab32a4e14006e675",
      "max": 435,
      "min": 0,
      "orientation": "horizontal",
      "style": "IPY_MODEL_b927b066d5c44751aefacb04e158c514",
      "value": 435
     }
    },
    "dac2d02efb5942ec9c41ff51f744ce22": {
     "model_module": "@jupyter-widgets/controls",
     "model_name": "HTMLModel",
     "state": {
      "_dom_classes": [],
      "_model_module": "@jupyter-widgets/controls",
      "_model_module_version": "1.5.0",
      "_model_name": "HTMLModel",
      "_view_count": null,
      "_view_module": "@jupyter-widgets/controls",
      "_view_module_version": "1.5.0",
      "_view_name": "HTMLView",
      "description": "",
      "description_tooltip": null,
      "layout": "IPY_MODEL_9b39c37078b9496a8174961d2a02f51f",
      "placeholder": "​",
      "style": "IPY_MODEL_0b783b52e76a4994a98abf14655d7507",
      "value": " 435/435 [3:38:22&lt;00:00, 30.12s/it]"
     }
    },
    "dc7f358e95754f6f833f2d28f23ad8da": {
     "model_module": "@jupyter-widgets/controls",
     "model_name": "HTMLModel",
     "state": {
      "_dom_classes": [],
      "_model_module": "@jupyter-widgets/controls",
      "_model_module_version": "1.5.0",
      "_model_name": "HTMLModel",
      "_view_count": null,
      "_view_module": "@jupyter-widgets/controls",
      "_view_module_version": "1.5.0",
      "_view_name": "HTMLView",
      "description": "",
      "description_tooltip": null,
      "layout": "IPY_MODEL_afb4b0ee25d54e05843dac098e896c48",
      "placeholder": "​",
      "style": "IPY_MODEL_dda7acb730a44175bcfdf28b7e19f34b",
      "value": " 231/231 [01:18&lt;00:00,  2.94it/s]"
     }
    },
    "dda7acb730a44175bcfdf28b7e19f34b": {
     "model_module": "@jupyter-widgets/controls",
     "model_name": "DescriptionStyleModel",
     "state": {
      "_model_module": "@jupyter-widgets/controls",
      "_model_module_version": "1.5.0",
      "_model_name": "DescriptionStyleModel",
      "_view_count": null,
      "_view_module": "@jupyter-widgets/base",
      "_view_module_version": "1.2.0",
      "_view_name": "StyleView",
      "description_width": ""
     }
    },
    "e8630d8a837c4d49a72fe30d13d90197": {
     "model_module": "@jupyter-widgets/controls",
     "model_name": "ProgressStyleModel",
     "state": {
      "_model_module": "@jupyter-widgets/controls",
      "_model_module_version": "1.5.0",
      "_model_name": "ProgressStyleModel",
      "_view_count": null,
      "_view_module": "@jupyter-widgets/base",
      "_view_module_version": "1.2.0",
      "_view_name": "StyleView",
      "bar_color": null,
      "description_width": "initial"
     }
    },
    "ee7469b4cbca4bed8f36dcc67b2bae84": {
     "model_module": "@jupyter-widgets/controls",
     "model_name": "ProgressStyleModel",
     "state": {
      "_model_module": "@jupyter-widgets/controls",
      "_model_module_version": "1.5.0",
      "_model_name": "ProgressStyleModel",
      "_view_count": null,
      "_view_module": "@jupyter-widgets/base",
      "_view_module_version": "1.2.0",
      "_view_name": "StyleView",
      "bar_color": null,
      "description_width": "initial"
     }
    },
    "fe384832fccf44bdab32a4e14006e675": {
     "model_module": "@jupyter-widgets/base",
     "model_name": "LayoutModel",
     "state": {
      "_model_module": "@jupyter-widgets/base",
      "_model_module_version": "1.2.0",
      "_model_name": "LayoutModel",
      "_view_count": null,
      "_view_module": "@jupyter-widgets/base",
      "_view_module_version": "1.2.0",
      "_view_name": "LayoutView",
      "align_content": null,
      "align_items": null,
      "align_self": null,
      "border": null,
      "bottom": null,
      "display": null,
      "flex": null,
      "flex_flow": null,
      "grid_area": null,
      "grid_auto_columns": null,
      "grid_auto_flow": null,
      "grid_auto_rows": null,
      "grid_column": null,
      "grid_gap": null,
      "grid_row": null,
      "grid_template_areas": null,
      "grid_template_columns": null,
      "grid_template_rows": null,
      "height": null,
      "justify_content": null,
      "justify_items": null,
      "left": null,
      "margin": null,
      "max_height": null,
      "max_width": null,
      "min_height": null,
      "min_width": null,
      "object_fit": null,
      "object_position": null,
      "order": null,
      "overflow": null,
      "overflow_x": null,
      "overflow_y": null,
      "padding": null,
      "right": null,
      "top": null,
      "visibility": null,
      "width": null
     }
    },
    "ff86fdd646d6449286c62b71646ee7b9": {
     "model_module": "@jupyter-widgets/controls",
     "model_name": "HBoxModel",
     "state": {
      "_dom_classes": [],
      "_model_module": "@jupyter-widgets/controls",
      "_model_module_version": "1.5.0",
      "_model_name": "HBoxModel",
      "_view_count": null,
      "_view_module": "@jupyter-widgets/controls",
      "_view_module_version": "1.5.0",
      "_view_name": "HBoxView",
      "box_style": "",
      "children": [
       "IPY_MODEL_116a4a396a924b51b07cd574d7a8fb0f",
       "IPY_MODEL_b9b082d16a144046af02116ea0171643"
      ],
      "layout": "IPY_MODEL_4b1ce1bdcb2a4208a0bc459722f15790"
     }
    }
   }
  }
 },
 "nbformat": 4,
 "nbformat_minor": 1
}
