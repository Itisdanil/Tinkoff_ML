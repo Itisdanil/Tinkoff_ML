{
 "cells": [
  {
   "cell_type": "markdown",
   "metadata": {
    "id": "EADmNKm_ucFI"
   },
   "source": [
    "## Decision trees"
   ]
  },
  {
   "cell_type": "code",
   "execution_count": null,
   "metadata": {
    "colab": {
     "base_uri": "https://localhost:8080/"
    },
    "id": "wjurpt4KJmCh",
    "outputId": "8e3a3cfc-d3b0-4b8e-f828-e230bfea6e7f"
   },
   "outputs": [
    {
     "name": "stdout",
     "output_type": "stream",
     "text": [
      "--2021-04-11 06:30:03--  https://docs.google.com/uc?export=download&id=1OKFSv2GpuUFDphO0r8LdM7bl6MAWwBfX\n",
      "Resolving docs.google.com (docs.google.com)... 172.217.3.14, 2607:f8b0:4026:800::200e\n",
      "Connecting to docs.google.com (docs.google.com)|172.217.3.14|:443... connected.\n",
      "HTTP request sent, awaiting response... 302 Moved Temporarily\n",
      "Location: https://doc-04-ak-docs.googleusercontent.com/docs/securesc/ha0ro937gcuc7l7deffksulhg5h7mbp1/6ocvpr5tlvlk38resg4kf3j152bmrr3q/1618122600000/03856158561714992485/*/1OKFSv2GpuUFDphO0r8LdM7bl6MAWwBfX?e=download [following]\n",
      "Warning: wildcards not supported in HTTP.\n",
      "--2021-04-11 06:30:04--  https://doc-04-ak-docs.googleusercontent.com/docs/securesc/ha0ro937gcuc7l7deffksulhg5h7mbp1/6ocvpr5tlvlk38resg4kf3j152bmrr3q/1618122600000/03856158561714992485/*/1OKFSv2GpuUFDphO0r8LdM7bl6MAWwBfX?e=download\n",
      "Resolving doc-04-ak-docs.googleusercontent.com (doc-04-ak-docs.googleusercontent.com)... 216.58.192.65, 2607:f8b0:4026:802::2001\n",
      "Connecting to doc-04-ak-docs.googleusercontent.com (doc-04-ak-docs.googleusercontent.com)|216.58.192.65|:443... connected.\n",
      "HTTP request sent, awaiting response... 200 OK\n",
      "Length: unspecified [text/csv]\n",
      "Saving to: ‘data.csv’\n",
      "\n",
      "data.csv                [   <=>              ]  31.78M  66.0MB/s    in 0.5s    \n",
      "\n",
      "2021-04-11 06:30:05 (66.0 MB/s) - ‘data.csv’ saved [33322228]\n",
      "\n"
     ]
    }
   ],
   "source": [
    "!wget --no-check-certificate 'https://docs.google.com/uc?export=download&id=1OKFSv2GpuUFDphO0r8LdM7bl6MAWwBfX' -O data.csv"
   ]
  },
  {
   "cell_type": "markdown",
   "metadata": {
    "id": "UBAI5LS2xBSm"
   },
   "source": [
    "В этой работе вы будете предсказывать стоимость домов по их характеристикам.\n",
    "\n",
    "Метрика качества: `RMSE`"
   ]
  },
  {
   "cell_type": "markdown",
   "metadata": {
    "id": "aBZhr_dw6HAn"
   },
   "source": [
    "### Описание датасета\n",
    "\n",
    "Короткое описание данных:\n",
    "```\n",
    "price: sale price (this is the target variable)\n",
    "id: transaction id\n",
    "timestamp: date of transaction\n",
    "full_sq: total area in square meters, including loggias, balconies and other non-residential areas\n",
    "life_sq: living area in square meters, excluding loggias, balconies and other non-residential areas\n",
    "floor: for apartments, floor of the building\n",
    "max_floor: number of floors in the building\n",
    "material: wall material\n",
    "build_year: year built\n",
    "num_room: number of living rooms\n",
    "kitch_sq: kitchen area\n",
    "state: apartment condition\n",
    "product_type: owner-occupier purchase or investment\n",
    "sub_area: name of the district\n",
    "\n",
    "The dataset also includes a collection of features about each property's surrounding neighbourhood, and some features that are constant across each sub area (known as a Raion). Most of the feature names are self explanatory, with the following notes. See below for a complete list.\n",
    "\n",
    "full_all: subarea population\n",
    "male_f, female_f: subarea population by gender\n",
    "young_*: population younger than working age\n",
    "work_*: working-age population\n",
    "ekder_*: retirement-age population\n",
    "n_m_{all|male|female}: population between n and m years old\n",
    "build_count_*: buildings in the subarea by construction type or year\n",
    "x_count_500: the number of x within 500m of the property\n",
    "x_part_500: the share of x within 500m of the property\n",
    "_sqm_: square meters\n",
    "cafe_count_d_price_p: number of cafes within d meters of the property that have an average bill under p RUB\n",
    "trc_: shopping malls\n",
    "prom_: industrial zones\n",
    "green_: green zones\n",
    "metro_: subway\n",
    "_avto_: distances by car\n",
    "mkad_: Moscow Circle Auto Road\n",
    "ttk_: Third Transport Ring\n",
    "sadovoe_: Garden Ring\n",
    "bulvar_ring_: Boulevard Ring\n",
    "kremlin_: City center\n",
    "zd_vokzaly_: Train station\n",
    "oil_chemistry_: Dirty industry\n",
    "ts_: Power plant\n",
    "```"
   ]
  },
  {
   "cell_type": "markdown",
   "metadata": {
    "id": "TOPtM_06uyqv"
   },
   "source": [
    "### Setup"
   ]
  },
  {
   "cell_type": "code",
   "execution_count": null,
   "metadata": {
    "colab": {
     "base_uri": "https://localhost:8080/"
    },
    "id": "MCavF43hRz0j",
    "outputId": "d8f642b3-60cd-4e6b-f5e7-f75fa58d77e5"
   },
   "outputs": [
    {
     "name": "stdout",
     "output_type": "stream",
     "text": [
      "Requirement already satisfied: catboost in /usr/local/lib/python3.7/dist-packages (0.25.1)\n",
      "Requirement already satisfied: matplotlib in /usr/local/lib/python3.7/dist-packages (from catboost) (3.2.2)\n",
      "Requirement already satisfied: scipy in /usr/local/lib/python3.7/dist-packages (from catboost) (1.4.1)\n",
      "Requirement already satisfied: plotly in /usr/local/lib/python3.7/dist-packages (from catboost) (4.4.1)\n",
      "Requirement already satisfied: numpy>=1.16.0 in /usr/local/lib/python3.7/dist-packages (from catboost) (1.19.5)\n",
      "Requirement already satisfied: graphviz in /usr/local/lib/python3.7/dist-packages (from catboost) (0.10.1)\n",
      "Requirement already satisfied: pandas>=0.24.0 in /usr/local/lib/python3.7/dist-packages (from catboost) (1.1.5)\n",
      "Requirement already satisfied: six in /usr/local/lib/python3.7/dist-packages (from catboost) (1.15.0)\n",
      "Requirement already satisfied: cycler>=0.10 in /usr/local/lib/python3.7/dist-packages (from matplotlib->catboost) (0.10.0)\n",
      "Requirement already satisfied: pyparsing!=2.0.4,!=2.1.2,!=2.1.6,>=2.0.1 in /usr/local/lib/python3.7/dist-packages (from matplotlib->catboost) (2.4.7)\n",
      "Requirement already satisfied: kiwisolver>=1.0.1 in /usr/local/lib/python3.7/dist-packages (from matplotlib->catboost) (1.3.1)\n",
      "Requirement already satisfied: python-dateutil>=2.1 in /usr/local/lib/python3.7/dist-packages (from matplotlib->catboost) (2.8.1)\n",
      "Requirement already satisfied: retrying>=1.3.3 in /usr/local/lib/python3.7/dist-packages (from plotly->catboost) (1.3.3)\n",
      "Requirement already satisfied: pytz>=2017.2 in /usr/local/lib/python3.7/dist-packages (from pandas>=0.24.0->catboost) (2018.9)\n"
     ]
    }
   ],
   "source": [
    "pip install catboost"
   ]
  },
  {
   "cell_type": "code",
   "execution_count": null,
   "metadata": {
    "id": "9TpHMcn3u0MV"
   },
   "outputs": [],
   "source": [
    "import numpy as np\n",
    "import pandas as pd\n",
    "import matplotlib.pyplot as plt\n",
    "from sklearn.tree import DecisionTreeRegressor\n",
    "from sklearn.metrics import mean_squared_error\n",
    "from tqdm.notebook import tqdm\n",
    "from sklearn.ensemble import RandomForestRegressor\n",
    "import seaborn as sns\n",
    "import warnings\n",
    "warnings.filterwarnings(\"ignore\")\n",
    "plt.style.use(style='ggplot')\n",
    "from catboost import CatBoostRegressor\n",
    "from lightgbm import LGBMRegressor\n",
    "from xgboost import XGBRegressor\n",
    "from sklearn.model_selection import GridSearchCV\n",
    "from sklearn.linear_model import HuberRegressor"
   ]
  },
  {
   "cell_type": "code",
   "execution_count": null,
   "metadata": {
    "id": "-TLkVG3EwJzj"
   },
   "outputs": [],
   "source": [
    "df = pd.read_csv(\"data.csv\", parse_dates=[\"timestamp\"])"
   ]
  },
  {
   "cell_type": "markdown",
   "metadata": {
    "id": "znjwH9_mx3fZ"
   },
   "source": [
    "Разделите имеющиеся у вас данные на обучающую и тестовую выборки. В качестве обучающей выборки возьмите первые 80% данных, последние 20% - тестовая выборка."
   ]
  },
  {
   "cell_type": "code",
   "execution_count": null,
   "metadata": {
    "id": "VdmbEQyohmrt"
   },
   "outputs": [],
   "source": [
    "product_type = df['product_type']"
   ]
  },
  {
   "cell_type": "code",
   "execution_count": null,
   "metadata": {
    "id": "vzcd6oJeQKKu"
   },
   "outputs": [],
   "source": [
    "drop_columns = ['id', 'timestamp']\n",
    "cat_columns = ['product_type', 'material', 'state', 'sub_area', 'culture_objects_top_25', 'thermal_power_plant_raion', 'incineration_raion',        \n",
    "               'oil_chemistry_raion', 'radiation_raion', 'railroad_terminal_raion', 'big_market_raion', 'nuclear_reactor_raion', 'detention_facility_raion',  \n",
    "               'ID_metro', 'ID_railroad_station_walk', 'ID_railroad_station_avto', 'water_1line', 'ID_big_road1', 'big_road1_1line', 'ID_big_road2',              \n",
    "               'railroad_1line', 'ID_railroad_terminal', 'ID_bus_terminal', 'ecology']\n",
    "num_columns = list(set(df.columns).difference(set(cat_columns + drop_columns)))"
   ]
  },
  {
   "cell_type": "code",
   "execution_count": null,
   "metadata": {
    "id": "g-YDrZkAThXZ"
   },
   "outputs": [],
   "source": [
    "df_baseline = df.drop(cat_columns + drop_columns, axis=1)"
   ]
  },
  {
   "cell_type": "code",
   "execution_count": null,
   "metadata": {
    "id": "VRdmVI9KWegZ"
   },
   "outputs": [],
   "source": [
    "columns = list(df_baseline.columns)"
   ]
  },
  {
   "cell_type": "code",
   "execution_count": null,
   "metadata": {
    "id": "Ve-RJnv-UPTd"
   },
   "outputs": [],
   "source": [
    "for column in columns:\n",
    "    df_baseline[column] = df_baseline[column].fillna(np.mean(df_baseline[column]))"
   ]
  },
  {
   "cell_type": "code",
   "execution_count": null,
   "metadata": {
    "id": "hwfNR565wMKN"
   },
   "outputs": [],
   "source": [
    "df_train = df_baseline[:16000]\n",
    "df_test = df_baseline[16000:]"
   ]
  },
  {
   "cell_type": "code",
   "execution_count": null,
   "metadata": {
    "id": "za76TwXAChzc"
   },
   "outputs": [],
   "source": [
    "df_test = df_test.reset_index(drop=True)"
   ]
  },
  {
   "cell_type": "markdown",
   "metadata": {
    "id": "pL4dJJwZP86w"
   },
   "source": [
    "Возможно в ваших моделях вам придется указывать, какие колонки являются категориальными (например, в бустингах). Для упрощения предлагается разделить колонки по следующему принципу:\n",
    "```\n",
    "drop_columns = [\n",
    "    'id',           # May leak information\n",
    "    'timestamp',    # May leak information\n",
    "]\n",
    "cat_columns = [\n",
    "    'product_type',              #\n",
    "    'material',                  # Material of the wall\n",
    "    'state',                     # Satisfaction level\n",
    "    'sub_area',                  # District name\n",
    "    'culture_objects_top_25',    #\n",
    "    'thermal_power_plant_raion', #\n",
    "    'incineration_raion',        #\n",
    "    'oil_chemistry_raion',       #\n",
    "    'radiation_raion',           #\n",
    "    'railroad_terminal_raion',   #\n",
    "    'big_market_raion',          #\n",
    "    'nuclear_reactor_raion',     #\n",
    "    'detention_facility_raion',  #\n",
    "    'ID_metro',                  #\n",
    "    'ID_railroad_station_walk',  #\n",
    "    'ID_railroad_station_avto',  #\n",
    "    'water_1line',               #\n",
    "    'ID_big_road1',              #\n",
    "    'big_road1_1line',           #\n",
    "    'ID_big_road2',              #\n",
    "    'railroad_1line',            #\n",
    "    'ID_railroad_terminal',      #\n",
    "    'ID_bus_terminal',           #\n",
    "    'ecology',                   #\n",
    "]\n",
    "num_columns = list(set(df.columns).difference(set(cat_columns + drop_columns)))\n",
    "```"
   ]
  },
  {
   "cell_type": "markdown",
   "metadata": {
    "id": "oiOby6hNu92W"
   },
   "source": [
    "### Baseline\n",
    "\n",
    "В качестве Baseline обучите `DecisionTreeRegressor` из `sklearn`."
   ]
  },
  {
   "cell_type": "code",
   "execution_count": null,
   "metadata": {
    "id": "DN2Q_nbdFLjk"
   },
   "outputs": [],
   "source": [
    "X_train = df_train.drop('price', axis=1)\n",
    "y_train = df_train['price']\n",
    "X_test = df_test.drop('price', axis=1)\n",
    "y_test = df_test['price']"
   ]
  },
  {
   "cell_type": "code",
   "execution_count": null,
   "metadata": {
    "colab": {
     "base_uri": "https://localhost:8080/"
    },
    "id": "gJIDf3kn1Wfv",
    "outputId": "ce6d9ffc-fd3d-4995-a8a1-623ad157cb83"
   },
   "outputs": [
    {
     "data": {
      "text/plain": [
       "DecisionTreeRegressor(ccp_alpha=0.0, criterion='mse', max_depth=None,\n",
       "                      max_features=None, max_leaf_nodes=None,\n",
       "                      min_impurity_decrease=0.0, min_impurity_split=None,\n",
       "                      min_samples_leaf=1, min_samples_split=2,\n",
       "                      min_weight_fraction_leaf=0.0, presort='deprecated',\n",
       "                      random_state=42, splitter='best')"
      ]
     },
     "execution_count": 13,
     "metadata": {
      "tags": []
     },
     "output_type": "execute_result"
    }
   ],
   "source": [
    "model = DecisionTreeRegressor(random_state=42)\n",
    "model.fit(X_train, y_train)"
   ]
  },
  {
   "cell_type": "markdown",
   "metadata": {
    "id": "XUC7NFhw1X41"
   },
   "source": [
    "Проверьте качество на отложенной выборке."
   ]
  },
  {
   "cell_type": "code",
   "execution_count": null,
   "metadata": {
    "colab": {
     "base_uri": "https://localhost:8080/"
    },
    "id": "O_LCiQIN1bzD",
    "outputId": "2f3be544-fbb4-4e09-9d6f-191bf421accf"
   },
   "outputs": [
    {
     "name": "stdout",
     "output_type": "stream",
     "text": [
      "RMSE: 3830081.9700675923\n"
     ]
    }
   ],
   "source": [
    "y_pred = model.predict(X_test)\n",
    "print(f'RMSE: {(mean_squared_error(y_test, y_pred))**0.5}')"
   ]
  },
  {
   "cell_type": "markdown",
   "metadata": {
    "id": "3bezBBI7u_oF"
   },
   "source": [
    "### Feature Engineering\n",
    "\n",
    "Часто улучшить модель можно с помощью аккуратного Feature Engineering.\n",
    "\n",
    "Добавим в модель дополнительные признаки:\n",
    "* \"Как часто в этот год и этот месяц появлились объявления\"\n",
    "* \"Как часто в этот год и эту неделю появлялись объявления\""
   ]
  },
  {
   "cell_type": "code",
   "execution_count": null,
   "metadata": {
    "id": "_cJ6SBqUKC4C"
   },
   "outputs": [],
   "source": [
    "month_year = (df.timestamp.dt.month + df.timestamp.dt.year * 100)\n",
    "month_year_cnt_map = month_year.value_counts().to_dict()\n",
    "df[\"month_year_cnt\"] = month_year.map(month_year_cnt_map)\n",
    "\n",
    "week_year = (df.timestamp.dt.weekofyear + df.timestamp.dt.year * 100)\n",
    "week_year_cnt_map = week_year.value_counts().to_dict()\n",
    "df[\"week_year_cnt\"] = week_year.map(week_year_cnt_map)"
   ]
  },
  {
   "cell_type": "markdown",
   "metadata": {
    "id": "pCajk45_KDSz"
   },
   "source": [
    "Добавьте следующие дополнительные признаки:\n",
    "* Месяц (из колонки `timestamp`)\n",
    "* День недели (из колонки `timestamp`)\n",
    "* Отношение \"этаж / максимальный этаж в здании\" (колонки `floor` и `max_floor`)\n",
    "* Отношение \"площадь кухни / площадь квартиры\" (колонки `kitchen_sq` и `full_sq`)\n",
    "\n",
    "По желанию можно добавить и другие признаки."
   ]
  },
  {
   "cell_type": "code",
   "execution_count": null,
   "metadata": {
    "colab": {
     "base_uri": "https://localhost:8080/",
     "height": 66,
     "referenced_widgets": [
      "7c24dd981eec47c3816a19051ea5769a",
      "aaab0b75e6e24269aad52a6c45c7524d",
      "ff46129bfab84e4ca342c6345c2e67ff",
      "1e1daedeece349968aad9a68e05753f5",
      "1e967b204f4046aaa0b2131feb131769",
      "5b3931c254c740699d8def15b94d512a",
      "7734c8a3e8764681989e12a686efff21",
      "97696c344ace4ce8b5bf082a23898ac6"
     ]
    },
    "id": "2ZjC85SAbPC8",
    "outputId": "d28df93c-de0b-429a-cecb-50e933bc871c"
   },
   "outputs": [
    {
     "data": {
      "application/vnd.jupyter.widget-view+json": {
       "model_id": "7c24dd981eec47c3816a19051ea5769a",
       "version_major": 2,
       "version_minor": 0
      },
      "text/plain": [
       "HBox(children=(FloatProgress(value=0.0, max=20000.0), HTML(value='')))"
      ]
     },
     "metadata": {
      "tags": []
     },
     "output_type": "display_data"
    },
    {
     "name": "stdout",
     "output_type": "stream",
     "text": [
      "\n"
     ]
    }
   ],
   "source": [
    "month = []\n",
    "for i in tqdm(range(len(df))):\n",
    "    month.append(df['timestamp'].dt.month[i])"
   ]
  },
  {
   "cell_type": "code",
   "execution_count": null,
   "metadata": {
    "colab": {
     "base_uri": "https://localhost:8080/",
     "height": 66,
     "referenced_widgets": [
      "e86247f90aae4bfe93cfb3552442d5ad",
      "6c3b0e06e26246afb0a6a6ce8a1f8156",
      "9e6f0d13724f44cbb9f948e068ce238d",
      "09297619b5224b6b85d923ae191d8bf4",
      "3dd143f9351443d88117bdaaf80ef225",
      "2e7d3154008b49a0aa18dd76e4eaf226",
      "37ed7693318948b28a619996506da1be",
      "6f850bb42679401993bc08ebfb29bbee"
     ]
    },
    "id": "dXZkoUL8Kve6",
    "outputId": "f2b03bd0-2253-47cc-f2ce-b3d1d88a01ea"
   },
   "outputs": [
    {
     "data": {
      "application/vnd.jupyter.widget-view+json": {
       "model_id": "e86247f90aae4bfe93cfb3552442d5ad",
       "version_major": 2,
       "version_minor": 0
      },
      "text/plain": [
       "HBox(children=(FloatProgress(value=0.0, max=20000.0), HTML(value='')))"
      ]
     },
     "metadata": {
      "tags": []
     },
     "output_type": "display_data"
    },
    {
     "name": "stdout",
     "output_type": "stream",
     "text": [
      "\n"
     ]
    }
   ],
   "source": [
    "day = []\n",
    "for i in tqdm(range(len(df))):\n",
    "    day.append(df['timestamp'].dt.day[i])"
   ]
  },
  {
   "cell_type": "code",
   "execution_count": null,
   "metadata": {
    "id": "D8Fqga-TcIW3"
   },
   "outputs": [],
   "source": [
    "df['month'] = pd.DataFrame(month)\n",
    "df['day'] = pd.DataFrame(day)"
   ]
  },
  {
   "cell_type": "code",
   "execution_count": null,
   "metadata": {
    "id": "bCCjxY9Zcft6"
   },
   "outputs": [],
   "source": [
    "df = df.drop(cat_columns + drop_columns, axis=1)"
   ]
  },
  {
   "cell_type": "code",
   "execution_count": null,
   "metadata": {
    "id": "q1Ze_ZvvcmGI"
   },
   "outputs": [],
   "source": [
    "columns = list(df.columns)"
   ]
  },
  {
   "cell_type": "code",
   "execution_count": null,
   "metadata": {
    "id": "NfNJWhwOcpu7"
   },
   "outputs": [],
   "source": [
    "for column in columns:\n",
    "    df[column] = df[column].fillna(list(df[column].value_counts().index)[0])"
   ]
  },
  {
   "cell_type": "code",
   "execution_count": null,
   "metadata": {
    "id": "r4Tw_k27cyM0"
   },
   "outputs": [],
   "source": [
    "df = df.loc[df['max_floor'] != 0.0]"
   ]
  },
  {
   "cell_type": "code",
   "execution_count": null,
   "metadata": {
    "id": "ZPdi3k6wdWqW"
   },
   "outputs": [],
   "source": [
    "df = df.reset_index(drop=True)"
   ]
  },
  {
   "cell_type": "code",
   "execution_count": null,
   "metadata": {
    "id": "GiKkjf1edpe7"
   },
   "outputs": [],
   "source": [
    "df['floor_ratio'] = df['floor'] / df['max_floor']"
   ]
  },
  {
   "cell_type": "code",
   "execution_count": null,
   "metadata": {
    "id": "A8UsktY5fpW7"
   },
   "outputs": [],
   "source": [
    "df = df.loc[df['full_sq'] != 0.0]"
   ]
  },
  {
   "cell_type": "code",
   "execution_count": null,
   "metadata": {
    "id": "siA6rwQUfunm"
   },
   "outputs": [],
   "source": [
    "df = df.reset_index(drop=True)"
   ]
  },
  {
   "cell_type": "code",
   "execution_count": null,
   "metadata": {
    "id": "EBbpxPZ8eXOT"
   },
   "outputs": [],
   "source": [
    "df['sq_ratio'] = df['kitch_sq'] / df['full_sq']"
   ]
  },
  {
   "cell_type": "markdown",
   "metadata": {
    "id": "_-jCowvWLiXZ"
   },
   "source": [
    "Разделите выборку на обучающую и тестовую еще раз (потому что дополнительные признаки созданы для исходной выборки)."
   ]
  },
  {
   "cell_type": "code",
   "execution_count": null,
   "metadata": {
    "id": "o4G4NFJHLzEP"
   },
   "outputs": [],
   "source": [
    "df_train_eng = df[:15726]\n",
    "df_test_eng = df[15726:]"
   ]
  },
  {
   "cell_type": "markdown",
   "metadata": {
    "id": "CPtzkpFEvBw9"
   },
   "source": [
    "### Model Selection\n",
    "\n",
    "Посмотрите, какого качества можно добиться если использовать разные модели:\n",
    "* `DecisionTreeRegressor` из `sklearn`\n",
    "* `RandomForestRegressor` из `sklearn`\n",
    "* `CatBoostRegressor`\n",
    "\n",
    "Также вы можете попробовать линейные модели, другие бустинги (`LigthGBM` и `XGBoost`).\n",
    "\n",
    "Почти все библиотеки поддерживают удобный способ подбора гиперпараметров: посмотрите как это делать в [sklearn](https://scikit-learn.org/stable/modules/generated/sklearn.model_selection.GridSearchCV.html) или в [catboost](https://catboost.ai/docs/concepts/python-reference_catboostregressor_grid_search.html).\n",
    "\n",
    "Проверяйте качество каждой модели на тестовой выборке и выберите наилучшую."
   ]
  },
  {
   "cell_type": "code",
   "execution_count": null,
   "metadata": {
    "id": "Dc8LOY5kg9h1"
   },
   "outputs": [],
   "source": [
    "X_train_eng = df_train_eng.drop('price', axis=1)\n",
    "y_train_eng = df_train_eng['price']\n",
    "X_test_eng = df_test_eng.drop('price', axis=1)\n",
    "y_test_eng = df_test_eng['price']"
   ]
  },
  {
   "cell_type": "markdown",
   "metadata": {
    "id": "WcZIoIQUygBq"
   },
   "source": [
    "#### DecisionTreeRegressor"
   ]
  },
  {
   "cell_type": "code",
   "execution_count": null,
   "metadata": {
    "colab": {
     "base_uri": "https://localhost:8080/"
    },
    "id": "PZstXx6uNRfE",
    "outputId": "c6036d25-06a5-45df-89ca-21d72c3fde28"
   },
   "outputs": [
    {
     "name": "stdout",
     "output_type": "stream",
     "text": [
      "DecisionTreeRegressor RMSE: 3749391.0250316425\n"
     ]
    }
   ],
   "source": [
    "model1 = DecisionTreeRegressor(random_state=42)\n",
    "model1.fit(X_train_eng, y_train_eng)\n",
    "y_pred1 = model1.predict(X_test_eng)\n",
    "print(f'DecisionTreeRegressor RMSE: {(mean_squared_error(y_test_eng, y_pred1))**0.5}')"
   ]
  },
  {
   "cell_type": "code",
   "execution_count": null,
   "metadata": {
    "colab": {
     "base_uri": "https://localhost:8080/"
    },
    "id": "us8OPyc1zSmO",
    "outputId": "0fcda8c6-37bd-41c3-f21d-c2a26b6506fc"
   },
   "outputs": [
    {
     "name": "stdout",
     "output_type": "stream",
     "text": [
      "Fitting 5 folds for each of 27 candidates, totalling 135 fits\n"
     ]
    },
    {
     "name": "stderr",
     "output_type": "stream",
     "text": [
      "[Parallel(n_jobs=-1)]: Using backend LokyBackend with 2 concurrent workers.\n",
      "[Parallel(n_jobs=-1)]: Done   1 tasks      | elapsed:    2.2s\n",
      "[Parallel(n_jobs=-1)]: Done   4 tasks      | elapsed:    3.4s\n",
      "[Parallel(n_jobs=-1)]: Done   9 tasks      | elapsed:    3.9s\n",
      "[Parallel(n_jobs=-1)]: Done  14 tasks      | elapsed:    4.3s\n",
      "[Parallel(n_jobs=-1)]: Done  21 tasks      | elapsed:    7.5s\n",
      "[Parallel(n_jobs=-1)]: Done  28 tasks      | elapsed:    8.3s\n",
      "[Parallel(n_jobs=-1)]: Done  37 tasks      | elapsed:   12.9s\n",
      "[Parallel(n_jobs=-1)]: Done  46 tasks      | elapsed:   14.8s\n",
      "[Parallel(n_jobs=-1)]: Done  57 tasks      | elapsed:   16.8s\n",
      "[Parallel(n_jobs=-1)]: Done  68 tasks      | elapsed:   20.4s\n",
      "[Parallel(n_jobs=-1)]: Done  81 tasks      | elapsed:   25.5s\n",
      "[Parallel(n_jobs=-1)]: Done  94 tasks      | elapsed:   26.7s\n",
      "[Parallel(n_jobs=-1)]: Batch computation too fast (0.1982s.) Setting batch_size=2.\n",
      "[Parallel(n_jobs=-1)]: Done 109 tasks      | elapsed:   27.1s\n",
      "[Parallel(n_jobs=-1)]: Batch computation too fast (0.1292s.) Setting batch_size=4.\n",
      "[Parallel(n_jobs=-1)]: Done 135 out of 135 | elapsed:   27.6s finished\n"
     ]
    },
    {
     "name": "stdout",
     "output_type": "stream",
     "text": [
      "The best parameters for using this model is {'criterion': 'mse', 'max_depth': 6, 'max_features': 'auto'}\n"
     ]
    }
   ],
   "source": [
    "param_grid = {\n",
    "    'criterion' :['mse', 'friedman_mse', 'poisson'],\n",
    "    'max_features': ['auto', 'sqrt', 'log2'],\n",
    "    'max_depth' : [4, 6, 8]\n",
    "}\n",
    "\n",
    "dec_cv = GridSearchCV(model1, param_grid, cv=5, scoring='neg_mean_squared_error', verbose=10, n_jobs=-1)\n",
    "dec_cv.fit(X_train_eng, y_train_eng)\n",
    "\n",
    "best_parameters = dec_cv.best_params_\n",
    "print('The best parameters for using this model is', best_parameters)"
   ]
  },
  {
   "cell_type": "code",
   "execution_count": null,
   "metadata": {
    "colab": {
     "base_uri": "https://localhost:8080/"
    },
    "id": "-5EoVMZC8vto",
    "outputId": "e476e94f-345c-4c62-f9c8-4f2451f74e11"
   },
   "outputs": [
    {
     "name": "stdout",
     "output_type": "stream",
     "text": [
      "DecisionTreeRegressor RMSE: 3323020.017271318\n"
     ]
    }
   ],
   "source": [
    "model1_best = DecisionTreeRegressor(max_depth=6, max_features='auto')\n",
    "model1_best.fit(X_train_eng, y_train_eng)\n",
    "y_pred1_best = model1_best.predict(X_test_eng)\n",
    "print(f'DecisionTreeRegressor RMSE: {(mean_squared_error(y_test_eng, y_pred1_best))**0.5}')"
   ]
  },
  {
   "cell_type": "markdown",
   "metadata": {
    "id": "Z9JiWuqK9DBE"
   },
   "source": [
    "У DecisionTreeRegressor перебором гиперпараметров удалось заметно улучшить метрику RMSE!"
   ]
  },
  {
   "cell_type": "markdown",
   "metadata": {
    "id": "seviHoI4yj1W"
   },
   "source": [
    "#### RandomForestClassifier"
   ]
  },
  {
   "cell_type": "code",
   "execution_count": null,
   "metadata": {
    "colab": {
     "base_uri": "https://localhost:8080/"
    },
    "id": "3e6LgYCshnPk",
    "outputId": "6e15db41-5537-4805-e1cd-5fd0aef5a92b"
   },
   "outputs": [
    {
     "name": "stdout",
     "output_type": "stream",
     "text": [
      "RandomForestRegressor RMSE: 2780613.432684806\n"
     ]
    }
   ],
   "source": [
    "model2 = RandomForestRegressor(random_state=42, n_jobs=-1)\n",
    "model2.fit(X_train_eng, y_train_eng)\n",
    "y_pred2 = model2.predict(X_test_eng)\n",
    "print(f'RandomForestRegressor RMSE: {(mean_squared_error(y_test_eng, y_pred2))**0.5}')"
   ]
  },
  {
   "cell_type": "code",
   "execution_count": null,
   "metadata": {
    "colab": {
     "background_save": true,
     "base_uri": "https://localhost:8080/"
    },
    "id": "Il50R2TQ9s1N",
    "outputId": "5311a9a1-f9c5-468e-c24b-074e063dc663"
   },
   "outputs": [
    {
     "name": "stdout",
     "output_type": "stream",
     "text": [
      "Fitting 5 folds for each of 16 candidates, totalling 80 fits\n"
     ]
    },
    {
     "name": "stderr",
     "output_type": "stream",
     "text": [
      "[Parallel(n_jobs=-1)]: Using backend LokyBackend with 2 concurrent workers.\n",
      "[Parallel(n_jobs=-1)]: Done   1 tasks      | elapsed:   28.3s\n",
      "[Parallel(n_jobs=-1)]: Done   4 tasks      | elapsed:   56.6s\n",
      "[Parallel(n_jobs=-1)]: Done   9 tasks      | elapsed: 10.6min\n",
      "[Parallel(n_jobs=-1)]: Done  14 tasks      | elapsed: 12.8min\n",
      "[Parallel(n_jobs=-1)]: Done  21 tasks      | elapsed: 24.5min\n",
      "[Parallel(n_jobs=-1)]: Done  28 tasks      | elapsed: 34.1min\n",
      "[Parallel(n_jobs=-1)]: Done  37 tasks      | elapsed: 42.3min\n",
      "[Parallel(n_jobs=-1)]: Done  46 tasks      | elapsed: 48.8min\n",
      "[Parallel(n_jobs=-1)]: Done  57 tasks      | elapsed: 53.8min\n",
      "[Parallel(n_jobs=-1)]: Done  68 tasks      | elapsed: 59.1min\n",
      "[Parallel(n_jobs=-1)]: Done  80 out of  80 | elapsed: 64.4min finished\n"
     ]
    },
    {
     "name": "stdout",
     "output_type": "stream",
     "text": [
      "The best parameters for using this model is {'max_depth': None, 'min_samples_leaf': 2, 'min_samples_split': 2, 'n_estimators': 100}\n"
     ]
    }
   ],
   "source": [
    "param_grid = {\n",
    "    'n_estimators': [10, 100],\n",
    "    'max_depth' : [None, 6],\n",
    "    'min_samples_split': [2, 4],\n",
    "    'min_samples_leaf': [1, 2]\n",
    "}\n",
    "\n",
    "rf_cv = GridSearchCV(model2, param_grid, cv=5, scoring='neg_mean_squared_error', verbose=10, n_jobs=-1)\n",
    "rf_cv.fit(X_train_eng, y_train_eng)\n",
    "\n",
    "best_parameters = rf_cv.best_params_\n",
    "print('The best parameters for using this model is', best_parameters)"
   ]
  },
  {
   "cell_type": "code",
   "execution_count": null,
   "metadata": {
    "colab": {
     "base_uri": "https://localhost:8080/"
    },
    "id": "oomYnUus9_iF",
    "outputId": "5049eb9e-dd65-4b46-bd99-f4c6951bbc5b"
   },
   "outputs": [
    {
     "name": "stdout",
     "output_type": "stream",
     "text": [
      "RandomForestRegressor RMSE: 2775781.1415436487\n"
     ]
    }
   ],
   "source": [
    "model2 = RandomForestRegressor(random_state=42, min_samples_leaf=2, n_jobs=-1)\n",
    "model2.fit(X_train_eng, y_train_eng)\n",
    "y_pred2 = model2.predict(X_test_eng)\n",
    "print(f'RandomForestRegressor RMSE: {(mean_squared_error(y_test_eng, y_pred2))**0.5}')"
   ]
  },
  {
   "cell_type": "markdown",
   "metadata": {
    "id": "d-3cVJqCpHvt"
   },
   "source": [
    "У модели RandomForestRegressor также удалось улучшить качество перебором гиперпараметров"
   ]
  },
  {
   "cell_type": "markdown",
   "metadata": {
    "id": "CM3ON0TpyxvV"
   },
   "source": [
    "#### CatBoostRegressor"
   ]
  },
  {
   "cell_type": "code",
   "execution_count": null,
   "metadata": {
    "colab": {
     "base_uri": "https://localhost:8080/"
    },
    "id": "LOErnaFsszDC",
    "outputId": "46889669-425c-4473-e694-5ad1e9489973"
   },
   "outputs": [
    {
     "name": "stdout",
     "output_type": "stream",
     "text": [
      "CatBoostRegressor RMSE: 2652518.6627344983\n"
     ]
    }
   ],
   "source": [
    "model3 = CatBoostRegressor(random_state=42, silent=True)\n",
    "model3.fit(X_train_eng, y_train_eng)\n",
    "y_pred3 = model3.predict(X_test_eng)\n",
    "print(f'CatBoostRegressor RMSE: {(mean_squared_error(y_test_eng, y_pred3))**0.5}')"
   ]
  },
  {
   "cell_type": "code",
   "execution_count": null,
   "metadata": {
    "colab": {
     "base_uri": "https://localhost:8080/"
    },
    "id": "SRwdsUYC9U2F",
    "outputId": "80abbd90-f566-4f39-c506-42fe3fa1ab5d"
   },
   "outputs": [
    {
     "name": "stdout",
     "output_type": "stream",
     "text": [
      "Fitting 5 folds for each of 9 candidates, totalling 45 fits\n"
     ]
    },
    {
     "name": "stderr",
     "output_type": "stream",
     "text": [
      "[Parallel(n_jobs=-1)]: Using backend LokyBackend with 2 concurrent workers.\n",
      "[Parallel(n_jobs=-1)]: Done   1 tasks      | elapsed:   51.9s\n",
      "[Parallel(n_jobs=-1)]: Done   4 tasks      | elapsed:  1.7min\n",
      "[Parallel(n_jobs=-1)]: Done   9 tasks      | elapsed:  4.3min\n",
      "[Parallel(n_jobs=-1)]: Done  14 tasks      | elapsed:  6.0min\n",
      "[Parallel(n_jobs=-1)]: Done  21 tasks      | elapsed: 12.5min\n",
      "[Parallel(n_jobs=-1)]: Done  28 tasks      | elapsed: 19.1min\n",
      "[Parallel(n_jobs=-1)]: Done  37 tasks      | elapsed: 40.3min\n",
      "[Parallel(n_jobs=-1)]: Done  45 out of  45 | elapsed: 58.3min finished\n"
     ]
    },
    {
     "name": "stdout",
     "output_type": "stream",
     "text": [
      "The best parameters for using this model is {'depth': 8, 'learning_rate': 0.01}\n"
     ]
    }
   ],
   "source": [
    "param_grid = {\n",
    "    'learning_rate': [0.01, 0.001, 0.1],\n",
    "    'depth' : [4, 6, 8]\n",
    "}\n",
    "\n",
    "cb_cv = GridSearchCV(model3, param_grid, cv=5, scoring='neg_mean_squared_error', verbose=10, n_jobs=-1)\n",
    "cb_cv.fit(X_train_eng, y_train_eng)\n",
    "\n",
    "best_parameters = cb_cv.best_params_\n",
    "print('The best parameters for using this model is', best_parameters)"
   ]
  },
  {
   "cell_type": "code",
   "execution_count": null,
   "metadata": {
    "colab": {
     "base_uri": "https://localhost:8080/"
    },
    "id": "w6niwD2cS0YH",
    "outputId": "202cba4c-1b81-44e7-902d-0c2cf5d9414d"
   },
   "outputs": [
    {
     "name": "stdout",
     "output_type": "stream",
     "text": [
      "CatBoostRegressor RMSE: 2718032.042930009\n"
     ]
    }
   ],
   "source": [
    "model3_best = CatBoostRegressor(depth=8, learning_rate=0.01, random_state=42, silent=True)\n",
    "model3_best.fit(X_train_eng, y_train_eng)\n",
    "y_pred3_best = model3_best.predict(X_test_eng)\n",
    "print(f'CatBoostRegressor RMSE: {(mean_squared_error(y_test_eng, y_pred3_best))**0.5}')"
   ]
  },
  {
   "cell_type": "markdown",
   "metadata": {
    "id": "_QpXGvrQT5gy"
   },
   "source": [
    "У модели CatBoostRegressor перебором гиперпараметров не удалось улучшить метрику RMSE, лучшим качеством осталось первоначальное обучение"
   ]
  },
  {
   "cell_type": "markdown",
   "metadata": {
    "id": "w6Vb6TWryzn9"
   },
   "source": [
    "#### LGBMRegressor"
   ]
  },
  {
   "cell_type": "code",
   "execution_count": null,
   "metadata": {
    "colab": {
     "base_uri": "https://localhost:8080/"
    },
    "id": "pcO6O6bNqquG",
    "outputId": "a8053c80-53e9-4aec-9266-934a518b359a"
   },
   "outputs": [
    {
     "name": "stdout",
     "output_type": "stream",
     "text": [
      "LGBMRegressor RMSE: 2755589.764282879\n"
     ]
    }
   ],
   "source": [
    "model4 = LGBMRegressor(random_state=42)\n",
    "model4.fit(X_train_eng, y_train_eng)\n",
    "y_pred4 = model4.predict(X_test_eng)\n",
    "print(f'LGBMRegressor RMSE: {(mean_squared_error(y_test_eng, y_pred4))**0.5}')"
   ]
  },
  {
   "cell_type": "code",
   "execution_count": null,
   "metadata": {
    "colab": {
     "base_uri": "https://localhost:8080/"
    },
    "id": "zao4hM8fSopJ",
    "outputId": "1130a08c-68bc-4967-ca58-09d90eb1e909"
   },
   "outputs": [
    {
     "name": "stdout",
     "output_type": "stream",
     "text": [
      "Fitting 5 folds for each of 12 candidates, totalling 60 fits\n"
     ]
    },
    {
     "name": "stderr",
     "output_type": "stream",
     "text": [
      "[Parallel(n_jobs=-1)]: Using backend LokyBackend with 2 concurrent workers.\n",
      "[Parallel(n_jobs=-1)]: Done   1 tasks      | elapsed:   10.6s\n",
      "[Parallel(n_jobs=-1)]: Done   4 tasks      | elapsed:   19.9s\n",
      "[Parallel(n_jobs=-1)]: Done   9 tasks      | elapsed:  3.0min\n",
      "[Parallel(n_jobs=-1)]: Done  14 tasks      | elapsed:  3.8min\n",
      "[Parallel(n_jobs=-1)]: Done  21 tasks      | elapsed:  7.2min\n",
      "[Parallel(n_jobs=-1)]: Done  28 tasks      | elapsed:  9.7min\n",
      "[Parallel(n_jobs=-1)]: Done  37 tasks      | elapsed: 12.1min\n",
      "[Parallel(n_jobs=-1)]: Done  46 tasks      | elapsed: 15.6min\n",
      "[Parallel(n_jobs=-1)]: Done  57 tasks      | elapsed: 19.5min\n",
      "[Parallel(n_jobs=-1)]: Done  60 out of  60 | elapsed: 21.0min finished\n"
     ]
    },
    {
     "name": "stdout",
     "output_type": "stream",
     "text": [
      "The best parameters for using this model is {'depth': -1, 'learning_rate': 0.01, 'n_estimators': 1000}\n"
     ]
    }
   ],
   "source": [
    "param_grid = {\n",
    "    'learning_rate': [0.01, 0.001, 0.1],\n",
    "    'depth' : [-1, 6],\n",
    "    'n_estimators': [100, 1000]\n",
    "}\n",
    "\n",
    "lgb_cv = GridSearchCV(model4, param_grid, cv=5, scoring='neg_mean_squared_error', verbose=10, n_jobs=-1)\n",
    "lgb_cv.fit(X_train_eng, y_train_eng)\n",
    "\n",
    "best_parameters = lgb_cv.best_params_\n",
    "print('The best parameters for using this model is', best_parameters)"
   ]
  },
  {
   "cell_type": "code",
   "execution_count": null,
   "metadata": {
    "colab": {
     "base_uri": "https://localhost:8080/"
    },
    "id": "AKtTQG5gaEWR",
    "outputId": "11fe7418-7d08-4eff-8123-d45c77f231b6"
   },
   "outputs": [
    {
     "name": "stdout",
     "output_type": "stream",
     "text": [
      "LGBMRegressor RMSE: 2734973.215789504\n"
     ]
    }
   ],
   "source": [
    "model4_best = LGBMRegressor(learning_rate=0.01, n_estimators=1000, random_state=42)\n",
    "model4_best.fit(X_train_eng, y_train_eng)\n",
    "y_pred4_best = model4_best.predict(X_test_eng)\n",
    "print(f'LGBMRegressor RMSE: {(mean_squared_error(y_test_eng, y_pred4_best))**0.5}')"
   ]
  },
  {
   "cell_type": "markdown",
   "metadata": {
    "id": "1vzrpDn2almF"
   },
   "source": [
    "У модели LGBMRegressor удалось улучшить качество метрики"
   ]
  },
  {
   "cell_type": "markdown",
   "metadata": {
    "id": "3C6Yw_2py45R"
   },
   "source": [
    "#### XGBRegressor"
   ]
  },
  {
   "cell_type": "code",
   "execution_count": null,
   "metadata": {
    "colab": {
     "base_uri": "https://localhost:8080/"
    },
    "id": "Rg4HVX7LsSzk",
    "outputId": "176b0978-133b-4b3d-8c95-e0372df2ab6a"
   },
   "outputs": [
    {
     "name": "stdout",
     "output_type": "stream",
     "text": [
      "[06:46:54] WARNING: /workspace/src/objective/regression_obj.cu:152: reg:linear is now deprecated in favor of reg:squarederror.\n",
      "XGBRegressor RMSE: 2798649.1789921722\n"
     ]
    }
   ],
   "source": [
    "model5 = XGBRegressor(random_state=42)\n",
    "model5.fit(X_train_eng, y_train_eng)\n",
    "y_pred5 = model5.predict(X_test_eng)\n",
    "print(f'XGBRegressor RMSE: {(mean_squared_error(y_test_eng, y_pred5))**0.5}')"
   ]
  },
  {
   "cell_type": "code",
   "execution_count": null,
   "metadata": {
    "colab": {
     "base_uri": "https://localhost:8080/"
    },
    "id": "aVZEmwHma9BS",
    "outputId": "80b0697d-b1b1-4629-d040-2703841f1a4a"
   },
   "outputs": [
    {
     "name": "stdout",
     "output_type": "stream",
     "text": [
      "Fitting 5 folds for each of 18 candidates, totalling 90 fits\n"
     ]
    },
    {
     "name": "stderr",
     "output_type": "stream",
     "text": [
      "[Parallel(n_jobs=-1)]: Using backend LokyBackend with 2 concurrent workers.\n",
      "[Parallel(n_jobs=-1)]: Done   1 tasks      | elapsed:   12.2s\n",
      "[Parallel(n_jobs=-1)]: Done   4 tasks      | elapsed:   23.5s\n",
      "[Parallel(n_jobs=-1)]: Done   9 tasks      | elapsed:   59.0s\n",
      "[Parallel(n_jobs=-1)]: Done  14 tasks      | elapsed:  1.7min\n",
      "[Parallel(n_jobs=-1)]: Done  21 tasks      | elapsed:  3.3min\n",
      "[Parallel(n_jobs=-1)]: Done  28 tasks      | elapsed:  5.0min\n",
      "[Parallel(n_jobs=-1)]: Done  37 tasks      | elapsed:  6.2min\n",
      "[Parallel(n_jobs=-1)]: Done  46 tasks      | elapsed:  7.6min\n",
      "[Parallel(n_jobs=-1)]: Done  57 tasks      | elapsed: 10.4min\n",
      "[Parallel(n_jobs=-1)]: Done  68 tasks      | elapsed: 11.9min\n",
      "[Parallel(n_jobs=-1)]: Done  81 tasks      | elapsed: 14.2min\n",
      "[Parallel(n_jobs=-1)]: Done  90 out of  90 | elapsed: 16.6min finished\n"
     ]
    },
    {
     "name": "stdout",
     "output_type": "stream",
     "text": [
      "[05:27:52] WARNING: /workspace/src/objective/regression_obj.cu:152: reg:linear is now deprecated in favor of reg:squarederror.\n",
      "The best parameters for using this model is {'gamma': 0, 'max_depth': 6, 'subsample': 1}\n"
     ]
    }
   ],
   "source": [
    "param_grid = {'gamma':[0, 4, 8],\n",
    "              'subsample':[1, 0.5],\n",
    "              'max_depth': [2, 4, 6]\n",
    "}\n",
    "\n",
    "xgb_cv = GridSearchCV(model5, param_grid, cv=5, scoring='neg_mean_squared_error', verbose=10, n_jobs=-1)\n",
    "xgb_cv.fit(X_train_eng, y_train_eng)\n",
    "\n",
    "best_parameters = xgb_cv.best_params_\n",
    "print('The best parameters for using this model is', best_parameters)"
   ]
  },
  {
   "cell_type": "markdown",
   "metadata": {
    "id": "UgXWc4aWgTLu"
   },
   "source": [
    "Лучшие гиперпараметры оказались такие же, как и стоят по дефолту"
   ]
  },
  {
   "cell_type": "markdown",
   "metadata": {
    "id": "JxQnozbtvD6x"
   },
   "source": [
    "### Ensemble v.1\n",
    "\n",
    "Ансамбли иногда оказываются лучше чем одна большая модель.\n",
    "\n",
    "В колонке `product_type` содержится информация о том, каким является объявление: `Investment` (продажа квартиры как инвестиции) или `OwnerOccupier` (продажа квартиры для жилья). Логично предположить, что если сделать по модели на каждый из этих типов, то качество будет выше.\n",
    "\n",
    "Обучите свои лучшие модели на отдельно на `Investment` и `OwnerOccupier` (т.е. у вас будет `model_invest`, обученная на `(invest_train_X, invest_train_Y)` и `model_owner`, обученная на `(owner_train_X, owner_train_Y)`) и проверьте качество на отложенной выборке (т.е. на исходном `test_split`)."
   ]
  },
  {
   "cell_type": "code",
   "execution_count": null,
   "metadata": {
    "id": "tU6xKIxXhcDB"
   },
   "outputs": [],
   "source": [
    "df['product_type'] = product_type"
   ]
  },
  {
   "cell_type": "code",
   "execution_count": null,
   "metadata": {
    "id": "QTpcVoj7jf-w"
   },
   "outputs": [],
   "source": [
    "invest_train_X = (df[df['product_type'] == 'Investment']).drop('price', axis=1)\n",
    "invest_train_X = invest_train_X.drop('product_type', axis=1)\n",
    "invest_train_Y = (df[df['product_type'] == 'Investment'])['price']"
   ]
  },
  {
   "cell_type": "code",
   "execution_count": null,
   "metadata": {
    "id": "pAdgw0m4jhNs"
   },
   "outputs": [],
   "source": [
    "X_test = df.drop(['price', 'product_type'], axis=1)[15726:]\n",
    "y_test = df['price'][15726:]"
   ]
  },
  {
   "cell_type": "code",
   "execution_count": null,
   "metadata": {
    "id": "AbYV1qGTh3v6"
   },
   "outputs": [],
   "source": [
    "model_invest = CatBoostRegressor(random_state=42, silent=True)\n",
    "model_invest.fit(invest_train_X, invest_train_Y)\n",
    "y_pred_invest = model_invest.predict(X_test)"
   ]
  },
  {
   "cell_type": "code",
   "execution_count": null,
   "metadata": {
    "id": "zLbU1ipMkJJ8"
   },
   "outputs": [],
   "source": [
    "owner_train_X = (df[df['product_type'] == 'OwnerOccupier']).drop('price', axis=1)\n",
    "owner_train_X = owner_train_X.drop('product_type', axis=1)\n",
    "owner_train_Y = (df[df['product_type'] == 'OwnerOccupier'])['price']"
   ]
  },
  {
   "cell_type": "code",
   "execution_count": null,
   "metadata": {
    "id": "fwqfbGpxkZgg"
   },
   "outputs": [],
   "source": [
    "model_owner = CatBoostRegressor(random_state=42, silent=True)\n",
    "model_owner.fit(owner_train_X, owner_train_Y)\n",
    "y_pred_owner = model_owner.predict(X_test)"
   ]
  },
  {
   "cell_type": "code",
   "execution_count": null,
   "metadata": {
    "colab": {
     "base_uri": "https://localhost:8080/"
    },
    "id": "czCLhLEIk5ZL",
    "outputId": "d5a28b0e-5fa9-489f-a92d-99e9739e6b98"
   },
   "outputs": [
    {
     "name": "stdout",
     "output_type": "stream",
     "text": [
      "RMSE Ensembling: 1969791.4261275425\n"
     ]
    }
   ],
   "source": [
    "y_pred_mean = (y_pred_invest + y_pred_owner) / 2\n",
    "print(f'RMSE Ensembling: {mean_squared_error(y_test, y_pred_mean)**0.5}')"
   ]
  },
  {
   "cell_type": "markdown",
   "metadata": {
    "id": "3FrzJ7qpGMu8"
   },
   "source": [
    "Действительно Ансамблированием удается заметно улучшить качество метрики RMSE: 2652518.66 -> **1969791.43**"
   ]
  },
  {
   "cell_type": "markdown",
   "metadata": {
    "id": "J8t-klaK2A6s"
   },
   "source": [
    "### (*) Ensemble v.2\n",
    "\n",
    "Попробуйте сделать для `Investment` более сложную модель: обучите `CatBoostRegressor` и `HuberRegressor` из `sklearn`, а затем сложите их предсказания с весами `w_1` и `w_2` (выберите веса сами; сумма весов равняется 1)."
   ]
  },
  {
   "cell_type": "code",
   "execution_count": null,
   "metadata": {
    "colab": {
     "base_uri": "https://localhost:8080/"
    },
    "id": "JOKD-l8HuOgM",
    "outputId": "7f268e33-38cd-4b05-f4d4-67ae96726aa4"
   },
   "outputs": [
    {
     "name": "stdout",
     "output_type": "stream",
     "text": [
      "RMSE Investment: 2005368.158347318\n"
     ]
    }
   ],
   "source": [
    "model_invest2 = CatBoostRegressor(random_state=42, silent=True)\n",
    "model_invest2.fit(invest_train_X, invest_train_Y)\n",
    "y_pred_invest2 = model_invest2.predict(X_test)\n",
    "rmse_invest_cbr = mean_squared_error(y_test, y_pred_invest2)**0.5\n",
    "print(f'RMSE Investment: {rmse_invest_cbr}')"
   ]
  },
  {
   "cell_type": "code",
   "execution_count": null,
   "metadata": {
    "colab": {
     "base_uri": "https://localhost:8080/"
    },
    "id": "Ec5lO1wSHYE9",
    "outputId": "52395aa7-58cf-4ab8-9ccf-3ec8f9e2a3c6"
   },
   "outputs": [
    {
     "name": "stdout",
     "output_type": "stream",
     "text": [
      "RMSE Investment: 5127101.249236857\n"
     ]
    }
   ],
   "source": [
    "model_invest3 = HuberRegressor()\n",
    "model_invest3.fit(invest_train_X, invest_train_Y)\n",
    "y_pred_invest3 = model_invest3.predict(X_test)\n",
    "rmse_invest_hbr = mean_squared_error(y_test, y_pred_invest3)**0.5\n",
    "print(f'RMSE Investment: {rmse_invest_hbr}')"
   ]
  },
  {
   "cell_type": "code",
   "execution_count": null,
   "metadata": {
    "colab": {
     "base_uri": "https://localhost:8080/"
    },
    "id": "BLQYo_JvIbJv",
    "outputId": "2334fa0b-d520-4caa-ff44-47e7359010a2"
   },
   "outputs": [
    {
     "name": "stdout",
     "output_type": "stream",
     "text": [
      "RMSE Investment CatBoostRegressor + HuberRegressor: 2629714.7765252255\n"
     ]
    }
   ],
   "source": [
    "w1 = 0.8\n",
    "w2 = 0.2\n",
    "rmse = rmse_invest_cbr*w1 + rmse_invest_hbr*w2\n",
    "print(f'RMSE Investment CatBoostRegressor + HuberRegressor: {rmse}')"
   ]
  }
 ],
 "metadata": {
  "colab": {
   "collapsed_sections": [
    "aBZhr_dw6HAn"
   ],
   "name": "Копия блокнота \"Task.ipynb\"",
   "provenance": []
  },
  "kernelspec": {
   "display_name": "Python 3",
   "language": "python",
   "name": "python3"
  },
  "language_info": {
   "codemirror_mode": {
    "name": "ipython",
    "version": 3
   },
   "file_extension": ".py",
   "mimetype": "text/x-python",
   "name": "python",
   "nbconvert_exporter": "python",
   "pygments_lexer": "ipython3",
   "version": "3.8.5"
  },
  "widgets": {
   "application/vnd.jupyter.widget-state+json": {
    "09297619b5224b6b85d923ae191d8bf4": {
     "model_module": "@jupyter-widgets/controls",
     "model_name": "HTMLModel",
     "state": {
      "_dom_classes": [],
      "_model_module": "@jupyter-widgets/controls",
      "_model_module_version": "1.5.0",
      "_model_name": "HTMLModel",
      "_view_count": null,
      "_view_module": "@jupyter-widgets/controls",
      "_view_module_version": "1.5.0",
      "_view_name": "HTMLView",
      "description": "",
      "description_tooltip": null,
      "layout": "IPY_MODEL_6f850bb42679401993bc08ebfb29bbee",
      "placeholder": "​",
      "style": "IPY_MODEL_37ed7693318948b28a619996506da1be",
      "value": " 20000/20000 [00:54&lt;00:00, 365.71it/s]"
     }
    },
    "1e1daedeece349968aad9a68e05753f5": {
     "model_module": "@jupyter-widgets/controls",
     "model_name": "HTMLModel",
     "state": {
      "_dom_classes": [],
      "_model_module": "@jupyter-widgets/controls",
      "_model_module_version": "1.5.0",
      "_model_name": "HTMLModel",
      "_view_count": null,
      "_view_module": "@jupyter-widgets/controls",
      "_view_module_version": "1.5.0",
      "_view_name": "HTMLView",
      "description": "",
      "description_tooltip": null,
      "layout": "IPY_MODEL_97696c344ace4ce8b5bf082a23898ac6",
      "placeholder": "​",
      "style": "IPY_MODEL_7734c8a3e8764681989e12a686efff21",
      "value": " 20000/20000 [10:58&lt;00:00, 30.37it/s]"
     }
    },
    "1e967b204f4046aaa0b2131feb131769": {
     "model_module": "@jupyter-widgets/controls",
     "model_name": "ProgressStyleModel",
     "state": {
      "_model_module": "@jupyter-widgets/controls",
      "_model_module_version": "1.5.0",
      "_model_name": "ProgressStyleModel",
      "_view_count": null,
      "_view_module": "@jupyter-widgets/base",
      "_view_module_version": "1.2.0",
      "_view_name": "StyleView",
      "bar_color": null,
      "description_width": "initial"
     }
    },
    "2e7d3154008b49a0aa18dd76e4eaf226": {
     "model_module": "@jupyter-widgets/base",
     "model_name": "LayoutModel",
     "state": {
      "_model_module": "@jupyter-widgets/base",
      "_model_module_version": "1.2.0",
      "_model_name": "LayoutModel",
      "_view_count": null,
      "_view_module": "@jupyter-widgets/base",
      "_view_module_version": "1.2.0",
      "_view_name": "LayoutView",
      "align_content": null,
      "align_items": null,
      "align_self": null,
      "border": null,
      "bottom": null,
      "display": null,
      "flex": null,
      "flex_flow": null,
      "grid_area": null,
      "grid_auto_columns": null,
      "grid_auto_flow": null,
      "grid_auto_rows": null,
      "grid_column": null,
      "grid_gap": null,
      "grid_row": null,
      "grid_template_areas": null,
      "grid_template_columns": null,
      "grid_template_rows": null,
      "height": null,
      "justify_content": null,
      "justify_items": null,
      "left": null,
      "margin": null,
      "max_height": null,
      "max_width": null,
      "min_height": null,
      "min_width": null,
      "object_fit": null,
      "object_position": null,
      "order": null,
      "overflow": null,
      "overflow_x": null,
      "overflow_y": null,
      "padding": null,
      "right": null,
      "top": null,
      "visibility": null,
      "width": null
     }
    },
    "37ed7693318948b28a619996506da1be": {
     "model_module": "@jupyter-widgets/controls",
     "model_name": "DescriptionStyleModel",
     "state": {
      "_model_module": "@jupyter-widgets/controls",
      "_model_module_version": "1.5.0",
      "_model_name": "DescriptionStyleModel",
      "_view_count": null,
      "_view_module": "@jupyter-widgets/base",
      "_view_module_version": "1.2.0",
      "_view_name": "StyleView",
      "description_width": ""
     }
    },
    "3dd143f9351443d88117bdaaf80ef225": {
     "model_module": "@jupyter-widgets/controls",
     "model_name": "ProgressStyleModel",
     "state": {
      "_model_module": "@jupyter-widgets/controls",
      "_model_module_version": "1.5.0",
      "_model_name": "ProgressStyleModel",
      "_view_count": null,
      "_view_module": "@jupyter-widgets/base",
      "_view_module_version": "1.2.0",
      "_view_name": "StyleView",
      "bar_color": null,
      "description_width": "initial"
     }
    },
    "5b3931c254c740699d8def15b94d512a": {
     "model_module": "@jupyter-widgets/base",
     "model_name": "LayoutModel",
     "state": {
      "_model_module": "@jupyter-widgets/base",
      "_model_module_version": "1.2.0",
      "_model_name": "LayoutModel",
      "_view_count": null,
      "_view_module": "@jupyter-widgets/base",
      "_view_module_version": "1.2.0",
      "_view_name": "LayoutView",
      "align_content": null,
      "align_items": null,
      "align_self": null,
      "border": null,
      "bottom": null,
      "display": null,
      "flex": null,
      "flex_flow": null,
      "grid_area": null,
      "grid_auto_columns": null,
      "grid_auto_flow": null,
      "grid_auto_rows": null,
      "grid_column": null,
      "grid_gap": null,
      "grid_row": null,
      "grid_template_areas": null,
      "grid_template_columns": null,
      "grid_template_rows": null,
      "height": null,
      "justify_content": null,
      "justify_items": null,
      "left": null,
      "margin": null,
      "max_height": null,
      "max_width": null,
      "min_height": null,
      "min_width": null,
      "object_fit": null,
      "object_position": null,
      "order": null,
      "overflow": null,
      "overflow_x": null,
      "overflow_y": null,
      "padding": null,
      "right": null,
      "top": null,
      "visibility": null,
      "width": null
     }
    },
    "6c3b0e06e26246afb0a6a6ce8a1f8156": {
     "model_module": "@jupyter-widgets/base",
     "model_name": "LayoutModel",
     "state": {
      "_model_module": "@jupyter-widgets/base",
      "_model_module_version": "1.2.0",
      "_model_name": "LayoutModel",
      "_view_count": null,
      "_view_module": "@jupyter-widgets/base",
      "_view_module_version": "1.2.0",
      "_view_name": "LayoutView",
      "align_content": null,
      "align_items": null,
      "align_self": null,
      "border": null,
      "bottom": null,
      "display": null,
      "flex": null,
      "flex_flow": null,
      "grid_area": null,
      "grid_auto_columns": null,
      "grid_auto_flow": null,
      "grid_auto_rows": null,
      "grid_column": null,
      "grid_gap": null,
      "grid_row": null,
      "grid_template_areas": null,
      "grid_template_columns": null,
      "grid_template_rows": null,
      "height": null,
      "justify_content": null,
      "justify_items": null,
      "left": null,
      "margin": null,
      "max_height": null,
      "max_width": null,
      "min_height": null,
      "min_width": null,
      "object_fit": null,
      "object_position": null,
      "order": null,
      "overflow": null,
      "overflow_x": null,
      "overflow_y": null,
      "padding": null,
      "right": null,
      "top": null,
      "visibility": null,
      "width": null
     }
    },
    "6f850bb42679401993bc08ebfb29bbee": {
     "model_module": "@jupyter-widgets/base",
     "model_name": "LayoutModel",
     "state": {
      "_model_module": "@jupyter-widgets/base",
      "_model_module_version": "1.2.0",
      "_model_name": "LayoutModel",
      "_view_count": null,
      "_view_module": "@jupyter-widgets/base",
      "_view_module_version": "1.2.0",
      "_view_name": "LayoutView",
      "align_content": null,
      "align_items": null,
      "align_self": null,
      "border": null,
      "bottom": null,
      "display": null,
      "flex": null,
      "flex_flow": null,
      "grid_area": null,
      "grid_auto_columns": null,
      "grid_auto_flow": null,
      "grid_auto_rows": null,
      "grid_column": null,
      "grid_gap": null,
      "grid_row": null,
      "grid_template_areas": null,
      "grid_template_columns": null,
      "grid_template_rows": null,
      "height": null,
      "justify_content": null,
      "justify_items": null,
      "left": null,
      "margin": null,
      "max_height": null,
      "max_width": null,
      "min_height": null,
      "min_width": null,
      "object_fit": null,
      "object_position": null,
      "order": null,
      "overflow": null,
      "overflow_x": null,
      "overflow_y": null,
      "padding": null,
      "right": null,
      "top": null,
      "visibility": null,
      "width": null
     }
    },
    "7734c8a3e8764681989e12a686efff21": {
     "model_module": "@jupyter-widgets/controls",
     "model_name": "DescriptionStyleModel",
     "state": {
      "_model_module": "@jupyter-widgets/controls",
      "_model_module_version": "1.5.0",
      "_model_name": "DescriptionStyleModel",
      "_view_count": null,
      "_view_module": "@jupyter-widgets/base",
      "_view_module_version": "1.2.0",
      "_view_name": "StyleView",
      "description_width": ""
     }
    },
    "7c24dd981eec47c3816a19051ea5769a": {
     "model_module": "@jupyter-widgets/controls",
     "model_name": "HBoxModel",
     "state": {
      "_dom_classes": [],
      "_model_module": "@jupyter-widgets/controls",
      "_model_module_version": "1.5.0",
      "_model_name": "HBoxModel",
      "_view_count": null,
      "_view_module": "@jupyter-widgets/controls",
      "_view_module_version": "1.5.0",
      "_view_name": "HBoxView",
      "box_style": "",
      "children": [
       "IPY_MODEL_ff46129bfab84e4ca342c6345c2e67ff",
       "IPY_MODEL_1e1daedeece349968aad9a68e05753f5"
      ],
      "layout": "IPY_MODEL_aaab0b75e6e24269aad52a6c45c7524d"
     }
    },
    "97696c344ace4ce8b5bf082a23898ac6": {
     "model_module": "@jupyter-widgets/base",
     "model_name": "LayoutModel",
     "state": {
      "_model_module": "@jupyter-widgets/base",
      "_model_module_version": "1.2.0",
      "_model_name": "LayoutModel",
      "_view_count": null,
      "_view_module": "@jupyter-widgets/base",
      "_view_module_version": "1.2.0",
      "_view_name": "LayoutView",
      "align_content": null,
      "align_items": null,
      "align_self": null,
      "border": null,
      "bottom": null,
      "display": null,
      "flex": null,
      "flex_flow": null,
      "grid_area": null,
      "grid_auto_columns": null,
      "grid_auto_flow": null,
      "grid_auto_rows": null,
      "grid_column": null,
      "grid_gap": null,
      "grid_row": null,
      "grid_template_areas": null,
      "grid_template_columns": null,
      "grid_template_rows": null,
      "height": null,
      "justify_content": null,
      "justify_items": null,
      "left": null,
      "margin": null,
      "max_height": null,
      "max_width": null,
      "min_height": null,
      "min_width": null,
      "object_fit": null,
      "object_position": null,
      "order": null,
      "overflow": null,
      "overflow_x": null,
      "overflow_y": null,
      "padding": null,
      "right": null,
      "top": null,
      "visibility": null,
      "width": null
     }
    },
    "9e6f0d13724f44cbb9f948e068ce238d": {
     "model_module": "@jupyter-widgets/controls",
     "model_name": "FloatProgressModel",
     "state": {
      "_dom_classes": [],
      "_model_module": "@jupyter-widgets/controls",
      "_model_module_version": "1.5.0",
      "_model_name": "FloatProgressModel",
      "_view_count": null,
      "_view_module": "@jupyter-widgets/controls",
      "_view_module_version": "1.5.0",
      "_view_name": "ProgressView",
      "bar_style": "success",
      "description": "100%",
      "description_tooltip": null,
      "layout": "IPY_MODEL_2e7d3154008b49a0aa18dd76e4eaf226",
      "max": 20000,
      "min": 0,
      "orientation": "horizontal",
      "style": "IPY_MODEL_3dd143f9351443d88117bdaaf80ef225",
      "value": 20000
     }
    },
    "aaab0b75e6e24269aad52a6c45c7524d": {
     "model_module": "@jupyter-widgets/base",
     "model_name": "LayoutModel",
     "state": {
      "_model_module": "@jupyter-widgets/base",
      "_model_module_version": "1.2.0",
      "_model_name": "LayoutModel",
      "_view_count": null,
      "_view_module": "@jupyter-widgets/base",
      "_view_module_version": "1.2.0",
      "_view_name": "LayoutView",
      "align_content": null,
      "align_items": null,
      "align_self": null,
      "border": null,
      "bottom": null,
      "display": null,
      "flex": null,
      "flex_flow": null,
      "grid_area": null,
      "grid_auto_columns": null,
      "grid_auto_flow": null,
      "grid_auto_rows": null,
      "grid_column": null,
      "grid_gap": null,
      "grid_row": null,
      "grid_template_areas": null,
      "grid_template_columns": null,
      "grid_template_rows": null,
      "height": null,
      "justify_content": null,
      "justify_items": null,
      "left": null,
      "margin": null,
      "max_height": null,
      "max_width": null,
      "min_height": null,
      "min_width": null,
      "object_fit": null,
      "object_position": null,
      "order": null,
      "overflow": null,
      "overflow_x": null,
      "overflow_y": null,
      "padding": null,
      "right": null,
      "top": null,
      "visibility": null,
      "width": null
     }
    },
    "e86247f90aae4bfe93cfb3552442d5ad": {
     "model_module": "@jupyter-widgets/controls",
     "model_name": "HBoxModel",
     "state": {
      "_dom_classes": [],
      "_model_module": "@jupyter-widgets/controls",
      "_model_module_version": "1.5.0",
      "_model_name": "HBoxModel",
      "_view_count": null,
      "_view_module": "@jupyter-widgets/controls",
      "_view_module_version": "1.5.0",
      "_view_name": "HBoxView",
      "box_style": "",
      "children": [
       "IPY_MODEL_9e6f0d13724f44cbb9f948e068ce238d",
       "IPY_MODEL_09297619b5224b6b85d923ae191d8bf4"
      ],
      "layout": "IPY_MODEL_6c3b0e06e26246afb0a6a6ce8a1f8156"
     }
    },
    "ff46129bfab84e4ca342c6345c2e67ff": {
     "model_module": "@jupyter-widgets/controls",
     "model_name": "FloatProgressModel",
     "state": {
      "_dom_classes": [],
      "_model_module": "@jupyter-widgets/controls",
      "_model_module_version": "1.5.0",
      "_model_name": "FloatProgressModel",
      "_view_count": null,
      "_view_module": "@jupyter-widgets/controls",
      "_view_module_version": "1.5.0",
      "_view_name": "ProgressView",
      "bar_style": "success",
      "description": "100%",
      "description_tooltip": null,
      "layout": "IPY_MODEL_5b3931c254c740699d8def15b94d512a",
      "max": 20000,
      "min": 0,
      "orientation": "horizontal",
      "style": "IPY_MODEL_1e967b204f4046aaa0b2131feb131769",
      "value": 20000
     }
    }
   }
  }
 },
 "nbformat": 4,
 "nbformat_minor": 1
}
