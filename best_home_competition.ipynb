{
 "cells": [
  {
   "cell_type": "code",
   "execution_count": 1,
   "metadata": {
    "id": "GwNPBRsXkddN"
   },
   "outputs": [],
   "source": [
    "import pandas as pd\n",
    "import numpy as np\n",
    "import seaborn as sns\n",
    "from sklearn import preprocessing\n",
    "from itertools import combinations\n",
    "from tqdm.notebook import tqdm\n",
    "from matplotlib import pyplot as plt\n",
    "import warnings\n",
    "from sklearn.model_selection import GridSearchCV\n",
    "warnings.filterwarnings(\"ignore\")\n",
    "import xgboost as xgb"
   ]
  },
  {
   "cell_type": "code",
   "execution_count": 2,
   "metadata": {
    "id": "k9PhpX_5kwMg"
   },
   "outputs": [],
   "source": [
    "df_train = pd.read_csv('train-2.csv')\n",
    "df_test = pd.read_csv(\"test-2.csv\")"
   ]
  },
  {
   "cell_type": "code",
   "execution_count": 3,
   "metadata": {
    "colab": {
     "base_uri": "https://localhost:8080/",
     "height": 301
    },
    "id": "8hmb8puLkwSo",
    "outputId": "056aa9c0-11e3-45fb-f5aa-10059260c97a"
   },
   "outputs": [
    {
     "data": {
      "text/html": [
       "<div>\n",
       "<style scoped>\n",
       "    .dataframe tbody tr th:only-of-type {\n",
       "        vertical-align: middle;\n",
       "    }\n",
       "\n",
       "    .dataframe tbody tr th {\n",
       "        vertical-align: top;\n",
       "    }\n",
       "\n",
       "    .dataframe thead th {\n",
       "        text-align: right;\n",
       "    }\n",
       "</style>\n",
       "<table border=\"1\" class=\"dataframe\">\n",
       "  <thead>\n",
       "    <tr style=\"text-align: right;\">\n",
       "      <th></th>\n",
       "      <th>Id</th>\n",
       "      <th>bathrooms</th>\n",
       "      <th>bedrooms</th>\n",
       "      <th>building_id</th>\n",
       "      <th>created</th>\n",
       "      <th>description</th>\n",
       "      <th>display_address</th>\n",
       "      <th>features</th>\n",
       "      <th>latitude</th>\n",
       "      <th>listing_id</th>\n",
       "      <th>longitude</th>\n",
       "      <th>manager_id</th>\n",
       "      <th>photos</th>\n",
       "      <th>price</th>\n",
       "      <th>street_address</th>\n",
       "      <th>TARGET</th>\n",
       "    </tr>\n",
       "  </thead>\n",
       "  <tbody>\n",
       "    <tr>\n",
       "      <th>0</th>\n",
       "      <td>57094</td>\n",
       "      <td>1.0</td>\n",
       "      <td>3</td>\n",
       "      <td>0</td>\n",
       "      <td>2016-05-19 18:06:27</td>\n",
       "      <td>A FABULOUS 3BR IN MIDTOWN WEST!   PERFECT APAR...</td>\n",
       "      <td>HOW AMAZING IS THIS MIDTOWN WEST STEAL!! NO FE...</td>\n",
       "      <td>['Laundry In Unit', 'No Fee', 'Elevator']</td>\n",
       "      <td>40.7647</td>\n",
       "      <td>7039994</td>\n",
       "      <td>-73.9918</td>\n",
       "      <td>4bdc3d8c1aaa90d997ce2cb77680679b</td>\n",
       "      <td>['https://photos.renthop.com/2/7039994_07be01b...</td>\n",
       "      <td>4495</td>\n",
       "      <td>W 50 &amp; AVE 10</td>\n",
       "      <td>medium</td>\n",
       "    </tr>\n",
       "    <tr>\n",
       "      <th>1</th>\n",
       "      <td>33389</td>\n",
       "      <td>1.0</td>\n",
       "      <td>1</td>\n",
       "      <td>9225efdfb57a50bf3ec17ebab082f94a</td>\n",
       "      <td>2016-06-16 02:01:49</td>\n",
       "      <td>Renovated Kitchen and Bathroom!</td>\n",
       "      <td>55 River Drive South</td>\n",
       "      <td>['Dogs Allowed', 'Cats Allowed', 'No Fee']</td>\n",
       "      <td>40.7275</td>\n",
       "      <td>7166774</td>\n",
       "      <td>-74.0322</td>\n",
       "      <td>e5808a5e6cc13988fe596704428d38d5</td>\n",
       "      <td>['https://photos.renthop.com/2/7166774_03cf63a...</td>\n",
       "      <td>2570</td>\n",
       "      <td>55 River Drive South</td>\n",
       "      <td>medium</td>\n",
       "    </tr>\n",
       "  </tbody>\n",
       "</table>\n",
       "</div>"
      ],
      "text/plain": [
       "      Id  bathrooms  bedrooms                       building_id  \\\n",
       "0  57094        1.0         3                                 0   \n",
       "1  33389        1.0         1  9225efdfb57a50bf3ec17ebab082f94a   \n",
       "\n",
       "               created                                        description  \\\n",
       "0  2016-05-19 18:06:27  A FABULOUS 3BR IN MIDTOWN WEST!   PERFECT APAR...   \n",
       "1  2016-06-16 02:01:49                    Renovated Kitchen and Bathroom!   \n",
       "\n",
       "                                     display_address  \\\n",
       "0  HOW AMAZING IS THIS MIDTOWN WEST STEAL!! NO FE...   \n",
       "1                               55 River Drive South   \n",
       "\n",
       "                                     features  latitude  listing_id  \\\n",
       "0   ['Laundry In Unit', 'No Fee', 'Elevator']   40.7647     7039994   \n",
       "1  ['Dogs Allowed', 'Cats Allowed', 'No Fee']   40.7275     7166774   \n",
       "\n",
       "   longitude                        manager_id  \\\n",
       "0   -73.9918  4bdc3d8c1aaa90d997ce2cb77680679b   \n",
       "1   -74.0322  e5808a5e6cc13988fe596704428d38d5   \n",
       "\n",
       "                                              photos  price  \\\n",
       "0  ['https://photos.renthop.com/2/7039994_07be01b...   4495   \n",
       "1  ['https://photos.renthop.com/2/7166774_03cf63a...   2570   \n",
       "\n",
       "         street_address  TARGET  \n",
       "0         W 50 & AVE 10  medium  \n",
       "1  55 River Drive South  medium  "
      ]
     },
     "execution_count": 3,
     "metadata": {},
     "output_type": "execute_result"
    }
   ],
   "source": [
    "df_train.head(2)"
   ]
  },
  {
   "cell_type": "code",
   "execution_count": 4,
   "metadata": {
    "colab": {
     "base_uri": "https://localhost:8080/",
     "height": 284
    },
    "id": "ftiKXHq1ldhj",
    "outputId": "37cb2dd8-1e2b-4e7f-8afb-d31cbeed9f7f"
   },
   "outputs": [
    {
     "data": {
      "text/html": [
       "<div>\n",
       "<style scoped>\n",
       "    .dataframe tbody tr th:only-of-type {\n",
       "        vertical-align: middle;\n",
       "    }\n",
       "\n",
       "    .dataframe tbody tr th {\n",
       "        vertical-align: top;\n",
       "    }\n",
       "\n",
       "    .dataframe thead th {\n",
       "        text-align: right;\n",
       "    }\n",
       "</style>\n",
       "<table border=\"1\" class=\"dataframe\">\n",
       "  <thead>\n",
       "    <tr style=\"text-align: right;\">\n",
       "      <th></th>\n",
       "      <th>Id</th>\n",
       "      <th>bathrooms</th>\n",
       "      <th>bedrooms</th>\n",
       "      <th>building_id</th>\n",
       "      <th>created</th>\n",
       "      <th>description</th>\n",
       "      <th>display_address</th>\n",
       "      <th>features</th>\n",
       "      <th>latitude</th>\n",
       "      <th>listing_id</th>\n",
       "      <th>longitude</th>\n",
       "      <th>manager_id</th>\n",
       "      <th>photos</th>\n",
       "      <th>price</th>\n",
       "      <th>street_address</th>\n",
       "    </tr>\n",
       "  </thead>\n",
       "  <tbody>\n",
       "    <tr>\n",
       "      <th>0</th>\n",
       "      <td>19477</td>\n",
       "      <td>2.0</td>\n",
       "      <td>3</td>\n",
       "      <td>87c4e08083ac83618dd9fdbf849331fe</td>\n",
       "      <td>2016-06-21 03:21:59</td>\n",
       "      <td>Rent listed is net effective after one month f...</td>\n",
       "      <td>E 77 St.</td>\n",
       "      <td>['Pre-War', 'Laundry in Unit', 'Dishwasher', '...</td>\n",
       "      <td>40.7716</td>\n",
       "      <td>7189305</td>\n",
       "      <td>-73.9544</td>\n",
       "      <td>e6472c7237327dd3903b3d6f6a94515a</td>\n",
       "      <td>['https://photos.renthop.com/2/7189305_f47ed5c...</td>\n",
       "      <td>4675</td>\n",
       "      <td>339 E 77 St.</td>\n",
       "    </tr>\n",
       "    <tr>\n",
       "      <th>1</th>\n",
       "      <td>29937</td>\n",
       "      <td>1.0</td>\n",
       "      <td>2</td>\n",
       "      <td>850c3d4412aebb3335273ed95f3e4bd4</td>\n",
       "      <td>2016-06-11 03:47:06</td>\n",
       "      <td>A FABULOUS 2BR IN THE UPPER EAST SIDE! PERFECT...</td>\n",
       "      <td>E 112 Street</td>\n",
       "      <td>[]</td>\n",
       "      <td>40.7944</td>\n",
       "      <td>7140670</td>\n",
       "      <td>-73.9401</td>\n",
       "      <td>3e9f0fa34d67e5d61aae56776ecb8cee</td>\n",
       "      <td>['https://photos.renthop.com/2/7140670_6c5824f...</td>\n",
       "      <td>2100</td>\n",
       "      <td>252 E 112 Street</td>\n",
       "    </tr>\n",
       "  </tbody>\n",
       "</table>\n",
       "</div>"
      ],
      "text/plain": [
       "      Id  bathrooms  bedrooms                       building_id  \\\n",
       "0  19477        2.0         3  87c4e08083ac83618dd9fdbf849331fe   \n",
       "1  29937        1.0         2  850c3d4412aebb3335273ed95f3e4bd4   \n",
       "\n",
       "               created                                        description  \\\n",
       "0  2016-06-21 03:21:59  Rent listed is net effective after one month f...   \n",
       "1  2016-06-11 03:47:06  A FABULOUS 2BR IN THE UPPER EAST SIDE! PERFECT...   \n",
       "\n",
       "  display_address                                           features  \\\n",
       "0        E 77 St.  ['Pre-War', 'Laundry in Unit', 'Dishwasher', '...   \n",
       "1    E 112 Street                                                 []   \n",
       "\n",
       "   latitude  listing_id  longitude                        manager_id  \\\n",
       "0   40.7716     7189305   -73.9544  e6472c7237327dd3903b3d6f6a94515a   \n",
       "1   40.7944     7140670   -73.9401  3e9f0fa34d67e5d61aae56776ecb8cee   \n",
       "\n",
       "                                              photos  price    street_address  \n",
       "0  ['https://photos.renthop.com/2/7189305_f47ed5c...   4675      339 E 77 St.  \n",
       "1  ['https://photos.renthop.com/2/7140670_6c5824f...   2100  252 E 112 Street  "
      ]
     },
     "execution_count": 4,
     "metadata": {},
     "output_type": "execute_result"
    }
   ],
   "source": [
    "df_test.head(2)"
   ]
  },
  {
   "cell_type": "code",
   "execution_count": 5,
   "metadata": {
    "colab": {
     "base_uri": "https://localhost:8080/"
    },
    "id": "vc0AQFTbkwWr",
    "outputId": "fca00599-645a-4a2a-ba37-97974fc4c17b"
   },
   "outputs": [
    {
     "data": {
      "text/plain": [
       "array([2, 2, 1, ..., 1, 2, 2], dtype=int64)"
      ]
     },
     "execution_count": 5,
     "metadata": {},
     "output_type": "execute_result"
    }
   ],
   "source": [
    "le = preprocessing.LabelEncoder()\n",
    "le.fit(list(df_train['TARGET']))\n",
    "le.transform(list(df_train['TARGET']))"
   ]
  },
  {
   "cell_type": "code",
   "execution_count": 6,
   "metadata": {
    "id": "Yf2eJ0vIlTlq"
   },
   "outputs": [],
   "source": [
    "df_train['target'] = pd.DataFrame(le.transform(list(df_train['TARGET'])))\n",
    "df_train = df_train.drop('TARGET', axis=1)"
   ]
  },
  {
   "cell_type": "code",
   "execution_count": 7,
   "metadata": {
    "colab": {
     "base_uri": "https://localhost:8080/"
    },
    "id": "2iL0bBDNJprN",
    "outputId": "71398b5d-f813-4e60-a6c1-7bef5c481d7a"
   },
   "outputs": [
    {
     "data": {
      "text/plain": [
       "1    23999\n",
       "2     7860\n",
       "0     2687\n",
       "Name: target, dtype: int64"
      ]
     },
     "execution_count": 7,
     "metadata": {},
     "output_type": "execute_result"
    }
   ],
   "source": [
    "df_train['target'].value_counts()"
   ]
  },
  {
   "cell_type": "markdown",
   "metadata": {
    "id": "uEnRZZD_JiSo"
   },
   "source": [
    "Нужно бороться с дисбалансом классов"
   ]
  },
  {
   "cell_type": "code",
   "execution_count": 8,
   "metadata": {
    "id": "k0uxOkH9lTqh"
   },
   "outputs": [],
   "source": [
    "class0 = pd.concat([df_train[df_train['target'] == 0] , \n",
    "                    df_train[df_train['target'] == 0], \n",
    "                    df_train[df_train['target'] == 0], \n",
    "                    df_train[df_train['target'] == 0]])"
   ]
  },
  {
   "cell_type": "code",
   "execution_count": 9,
   "metadata": {
    "id": "x9-mE3tbmX7v"
   },
   "outputs": [],
   "source": [
    "class1 = df_train[df_train['target'] == 1].sample(11798)"
   ]
  },
  {
   "cell_type": "code",
   "execution_count": 10,
   "metadata": {
    "id": "iDYd2M91mYiY"
   },
   "outputs": [],
   "source": [
    "class2 = df_train[df_train['target'] == 2].sample(4140)"
   ]
  },
  {
   "cell_type": "code",
   "execution_count": 11,
   "metadata": {
    "id": "D73XrpaymYmm"
   },
   "outputs": [],
   "source": [
    "df_train_sample = pd.concat([class1, class2, class0, df_train[df_train['target'] == 2]]).sample(frac=1)"
   ]
  },
  {
   "cell_type": "code",
   "execution_count": 12,
   "metadata": {
    "id": "tNMV_vpEmYtQ"
   },
   "outputs": [],
   "source": [
    "df_train_sample = df_train_sample.reset_index(drop=True)"
   ]
  },
  {
   "cell_type": "code",
   "execution_count": 13,
   "metadata": {
    "colab": {
     "base_uri": "https://localhost:8080/"
    },
    "id": "eQY9pcwjmqoE",
    "outputId": "bd6ffa2b-fb47-4a7f-862d-fb3717e9aa9a"
   },
   "outputs": [
    {
     "data": {
      "text/plain": [
       "2    12000\n",
       "1    11798\n",
       "0    10748\n",
       "Name: target, dtype: int64"
      ]
     },
     "execution_count": 13,
     "metadata": {},
     "output_type": "execute_result"
    }
   ],
   "source": [
    "df_train_sample['target'].value_counts()"
   ]
  },
  {
   "cell_type": "code",
   "execution_count": 14,
   "metadata": {
    "id": "3DXb0omMmqsP"
   },
   "outputs": [],
   "source": [
    "X_train = pd.DataFrame(df_train_sample.drop('target', axis=1))"
   ]
  },
  {
   "cell_type": "code",
   "execution_count": 15,
   "metadata": {
    "colab": {
     "base_uri": "https://localhost:8080/",
     "height": 434
    },
    "id": "oGrd_0Pumqxx",
    "outputId": "64675dab-b60d-4ddd-bf2b-8bdaf5a8b909"
   },
   "outputs": [
    {
     "data": {
      "text/html": [
       "<div>\n",
       "<style scoped>\n",
       "    .dataframe tbody tr th:only-of-type {\n",
       "        vertical-align: middle;\n",
       "    }\n",
       "\n",
       "    .dataframe tbody tr th {\n",
       "        vertical-align: top;\n",
       "    }\n",
       "\n",
       "    .dataframe thead th {\n",
       "        text-align: right;\n",
       "    }\n",
       "</style>\n",
       "<table border=\"1\" class=\"dataframe\">\n",
       "  <thead>\n",
       "    <tr style=\"text-align: right;\">\n",
       "      <th></th>\n",
       "      <th>Id</th>\n",
       "      <th>bathrooms</th>\n",
       "      <th>bedrooms</th>\n",
       "      <th>building_id</th>\n",
       "      <th>created</th>\n",
       "      <th>description</th>\n",
       "      <th>display_address</th>\n",
       "      <th>features</th>\n",
       "      <th>latitude</th>\n",
       "      <th>listing_id</th>\n",
       "      <th>longitude</th>\n",
       "      <th>manager_id</th>\n",
       "      <th>photos</th>\n",
       "      <th>price</th>\n",
       "      <th>street_address</th>\n",
       "    </tr>\n",
       "  </thead>\n",
       "  <tbody>\n",
       "    <tr>\n",
       "      <th>0</th>\n",
       "      <td>53615</td>\n",
       "      <td>1.0</td>\n",
       "      <td>2</td>\n",
       "      <td>a01c99eb2cfdde327e1691e17d6696ba</td>\n",
       "      <td>2016-05-20 05:40:09</td>\n",
       "      <td>AMAZING and SPACIOUS 2 bedroom convertible. BE...</td>\n",
       "      <td>East 29th Street</td>\n",
       "      <td>['Balcony', 'Doorman', 'Elevator', 'Garden/Pat...</td>\n",
       "      <td>40.7412</td>\n",
       "      <td>7043777</td>\n",
       "      <td>-73.9772</td>\n",
       "      <td>1fb46c4a72bcf764ac35fc23f394760d</td>\n",
       "      <td>['https://photos.renthop.com/2/7043777_5ec00b8...</td>\n",
       "      <td>2965</td>\n",
       "      <td>340 East 29th Street</td>\n",
       "    </tr>\n",
       "    <tr>\n",
       "      <th>1</th>\n",
       "      <td>61143</td>\n",
       "      <td>2.0</td>\n",
       "      <td>4</td>\n",
       "      <td>d876f52470ecafaf62629e75349d439d</td>\n",
       "      <td>2016-05-05 05:50:19</td>\n",
       "      <td>LOW FEE!!!!! luxury HUGE! 4 bedroom conv. w/ l...</td>\n",
       "      <td>East 57th Street</td>\n",
       "      <td>['Dining Room', 'Doorman', 'Elevator', 'Dishwa...</td>\n",
       "      <td>40.7605</td>\n",
       "      <td>6969940</td>\n",
       "      <td>-73.9678</td>\n",
       "      <td>1fb46c4a72bcf764ac35fc23f394760d</td>\n",
       "      <td>['https://photos.renthop.com/2/6969940_1167992...</td>\n",
       "      <td>5000</td>\n",
       "      <td>157 East 57th Street</td>\n",
       "    </tr>\n",
       "    <tr>\n",
       "      <th>2</th>\n",
       "      <td>66599</td>\n",
       "      <td>1.0</td>\n",
       "      <td>1</td>\n",
       "      <td>2c844ae451aa68c1358c2cc4d78cff5e</td>\n",
       "      <td>2016-05-28 02:58:09</td>\n",
       "      <td>NO BROKER FEETHIS GORGEOUS 1 BEDROOM HAS A  MA...</td>\n",
       "      <td>Main Street</td>\n",
       "      <td>['Doorman', 'Elevator', 'Fitness Center', 'Gar...</td>\n",
       "      <td>40.7690</td>\n",
       "      <td>7078711</td>\n",
       "      <td>-73.9436</td>\n",
       "      <td>8ce0dca957ae00f6870a164ead5081f8</td>\n",
       "      <td>['https://photos.renthop.com/2/7078711_154d4f9...</td>\n",
       "      <td>2300</td>\n",
       "      <td>888 Main Street</td>\n",
       "    </tr>\n",
       "  </tbody>\n",
       "</table>\n",
       "</div>"
      ],
      "text/plain": [
       "      Id  bathrooms  bedrooms                       building_id  \\\n",
       "0  53615        1.0         2  a01c99eb2cfdde327e1691e17d6696ba   \n",
       "1  61143        2.0         4  d876f52470ecafaf62629e75349d439d   \n",
       "2  66599        1.0         1  2c844ae451aa68c1358c2cc4d78cff5e   \n",
       "\n",
       "               created                                        description  \\\n",
       "0  2016-05-20 05:40:09  AMAZING and SPACIOUS 2 bedroom convertible. BE...   \n",
       "1  2016-05-05 05:50:19  LOW FEE!!!!! luxury HUGE! 4 bedroom conv. w/ l...   \n",
       "2  2016-05-28 02:58:09  NO BROKER FEETHIS GORGEOUS 1 BEDROOM HAS A  MA...   \n",
       "\n",
       "    display_address                                           features  \\\n",
       "0  East 29th Street  ['Balcony', 'Doorman', 'Elevator', 'Garden/Pat...   \n",
       "1  East 57th Street  ['Dining Room', 'Doorman', 'Elevator', 'Dishwa...   \n",
       "2       Main Street  ['Doorman', 'Elevator', 'Fitness Center', 'Gar...   \n",
       "\n",
       "   latitude  listing_id  longitude                        manager_id  \\\n",
       "0   40.7412     7043777   -73.9772  1fb46c4a72bcf764ac35fc23f394760d   \n",
       "1   40.7605     6969940   -73.9678  1fb46c4a72bcf764ac35fc23f394760d   \n",
       "2   40.7690     7078711   -73.9436  8ce0dca957ae00f6870a164ead5081f8   \n",
       "\n",
       "                                              photos  price  \\\n",
       "0  ['https://photos.renthop.com/2/7043777_5ec00b8...   2965   \n",
       "1  ['https://photos.renthop.com/2/6969940_1167992...   5000   \n",
       "2  ['https://photos.renthop.com/2/7078711_154d4f9...   2300   \n",
       "\n",
       "         street_address  \n",
       "0  340 East 29th Street  \n",
       "1  157 East 57th Street  \n",
       "2       888 Main Street  "
      ]
     },
     "execution_count": 15,
     "metadata": {},
     "output_type": "execute_result"
    }
   ],
   "source": [
    "df = pd.concat([X_train, df_test])\n",
    "df = df.reset_index(drop=True)\n",
    "df.head(3)"
   ]
  },
  {
   "cell_type": "code",
   "execution_count": 16,
   "metadata": {
    "id": "QjtqVm2Mmq2H"
   },
   "outputs": [],
   "source": [
    "df = df.drop(['description', 'street_address', 'listing_id'], axis=1)"
   ]
  },
  {
   "cell_type": "code",
   "execution_count": 17,
   "metadata": {
    "id": "iIu0nbRkkdiC"
   },
   "outputs": [],
   "source": [
    "def encoder(df, column):\n",
    "    le = preprocessing.LabelEncoder()\n",
    "    le.fit(list(df[column]))\n",
    "    le.transform(list(df[column]))\n",
    "    return pd.DataFrame(le.transform(list(df[column])))"
   ]
  },
  {
   "cell_type": "code",
   "execution_count": 18,
   "metadata": {
    "id": "Ge7ImvS8nFW0"
   },
   "outputs": [],
   "source": [
    "df['build_id'] = encoder(df, 'building_id')\n",
    "df = df.drop('building_id', axis=1)"
   ]
  },
  {
   "cell_type": "code",
   "execution_count": 19,
   "metadata": {
    "id": "lfSPfh2HnFcJ"
   },
   "outputs": [],
   "source": [
    "df['dis_address'] = encoder(df, 'display_address')\n",
    "df = df.drop('display_address', axis=1)"
   ]
  },
  {
   "cell_type": "code",
   "execution_count": 20,
   "metadata": {
    "id": "05bc6ysDnFgX"
   },
   "outputs": [],
   "source": [
    "df['manag_id'] = encoder(df, 'manager_id')\n",
    "df = df.drop('manager_id', axis=1)"
   ]
  },
  {
   "cell_type": "code",
   "execution_count": 21,
   "metadata": {
    "id": "ViGiZw1VnFkI"
   },
   "outputs": [],
   "source": [
    "df['created'] = pd.to_datetime(df['created'], infer_datetime_format=True)"
   ]
  },
  {
   "cell_type": "code",
   "execution_count": 22,
   "metadata": {
    "colab": {
     "base_uri": "https://localhost:8080/",
     "height": 66,
     "referenced_widgets": [
      "542bc016ad3042f9b930e53ec26b1271",
      "39e67d37e7504080acf2c47b4cc77346",
      "b5ee071ad7c541ea9b40b7781ea7c5ca",
      "1621d32bfce249ce865830a621cc8761",
      "68bc469d36484a1796a94470b0ee1020",
      "f99d1f96532647e7a68d1e716cbad27a",
      "099354bb01ea41c7acdf125b639ce7c6",
      "db432e2225764a3db7a32e2693e0b164"
     ]
    },
    "id": "bSq6skmvnFqG",
    "outputId": "47e9d73c-3e9a-4642-cf69-62d0ded9a66d"
   },
   "outputs": [
    {
     "data": {
      "application/vnd.jupyter.widget-view+json": {
       "model_id": "9d03961dc97244ada20d6b2b2e318e75",
       "version_major": 2,
       "version_minor": 0
      },
      "text/plain": [
       "HBox(children=(HTML(value=''), FloatProgress(value=0.0, max=49352.0), HTML(value='')))"
      ]
     },
     "metadata": {},
     "output_type": "display_data"
    },
    {
     "name": "stdout",
     "output_type": "stream",
     "text": [
      "\n"
     ]
    }
   ],
   "source": [
    "month = []\n",
    "for i in tqdm(range(len(df))):\n",
    "    month.append(df['created'].dt.month[i])"
   ]
  },
  {
   "cell_type": "code",
   "execution_count": 23,
   "metadata": {
    "colab": {
     "base_uri": "https://localhost:8080/",
     "height": 66,
     "referenced_widgets": [
      "4ca3b1b8a8b240d6ab59c7e07a3ba9bc",
      "6962bba50cfa41c1ac9dd0ae22a6de41",
      "c19dc48092654cc7acf0154e24b3f67f",
      "484902ac371a4224a7c0e010014cf000",
      "74f55a0555ff4d2d8dca990f5ccd98b5",
      "1618367dccbb417eaac246c2cb70f086",
      "aee3390725a94212ab4b1cf1cf8942d9",
      "7f4c1fe44f1f4a5a8f51b30d398a6178"
     ]
    },
    "id": "59QYWN75ngbM",
    "outputId": "29baac51-e1d6-49dd-b195-710d2164debd"
   },
   "outputs": [
    {
     "data": {
      "application/vnd.jupyter.widget-view+json": {
       "model_id": "cbde4c4dc7c249249e032ec9339fd9b9",
       "version_major": 2,
       "version_minor": 0
      },
      "text/plain": [
       "HBox(children=(HTML(value=''), FloatProgress(value=0.0, max=49352.0), HTML(value='')))"
      ]
     },
     "metadata": {},
     "output_type": "display_data"
    },
    {
     "name": "stdout",
     "output_type": "stream",
     "text": [
      "\n"
     ]
    }
   ],
   "source": [
    "day = []\n",
    "for i in tqdm(range(len(df))):\n",
    "    day.append(df['created'].dt.day[i])"
   ]
  },
  {
   "cell_type": "code",
   "execution_count": 24,
   "metadata": {
    "colab": {
     "base_uri": "https://localhost:8080/",
     "height": 66,
     "referenced_widgets": [
      "af6511e004f7483fa5a4b535ad5ad0e4",
      "8ec6b98bbf0e4ff4bb15f4c6545bfbaf",
      "3c6808dc171845e8a60a623a41cfe569",
      "6ddb2e336262471e8c79d0bb67cd651e",
      "ec8881649d474f3d8b1af39bbc99056f",
      "ef0faf9c515a4b5b9e443addf805c9b9",
      "39d89b2e77f1453e8a0938e8beac6489",
      "dd61be7cc1164845a28ce8823a7bde15"
     ]
    },
    "id": "zGHp8m3JnggG",
    "outputId": "9f19c656-7a9d-4321-adc1-8920f07c417f"
   },
   "outputs": [
    {
     "data": {
      "application/vnd.jupyter.widget-view+json": {
       "model_id": "8ce93c3fbd3b4aabb66ee33d3504452b",
       "version_major": 2,
       "version_minor": 0
      },
      "text/plain": [
       "HBox(children=(HTML(value=''), FloatProgress(value=0.0, max=49352.0), HTML(value='')))"
      ]
     },
     "metadata": {},
     "output_type": "display_data"
    },
    {
     "name": "stdout",
     "output_type": "stream",
     "text": [
      "\n"
     ]
    }
   ],
   "source": [
    "hour = []\n",
    "for i in tqdm(range(len(df))):\n",
    "    hour.append(df['created'].dt.hour[i])"
   ]
  },
  {
   "cell_type": "code",
   "execution_count": 25,
   "metadata": {
    "id": "-NCwESJYnsxJ"
   },
   "outputs": [],
   "source": [
    "df['month'] = pd.DataFrame(month)\n",
    "df['day'] = pd.DataFrame(day)\n",
    "df['hour'] = pd.DataFrame(hour)"
   ]
  },
  {
   "cell_type": "code",
   "execution_count": 26,
   "metadata": {
    "colab": {
     "base_uri": "https://localhost:8080/",
     "height": 142
    },
    "id": "IuUKOas0ns1I",
    "outputId": "9287b407-ded7-413b-c78d-6406c51c5817"
   },
   "outputs": [],
   "source": [
    "df = df.drop('created', axis=1)"
   ]
  },
  {
   "cell_type": "markdown",
   "metadata": {},
   "source": [
    "Заменяю листы с ссылками фоток на количество ссылок в листах"
   ]
  },
  {
   "cell_type": "code",
   "execution_count": 27,
   "metadata": {
    "id": "v7COWv7mmYyO"
   },
   "outputs": [],
   "source": [
    "count_photos = []\n",
    "for i in range(len(df)):\n",
    "    count_photos.append(len(df['photos'][i]))"
   ]
  },
  {
   "cell_type": "code",
   "execution_count": 28,
   "metadata": {
    "id": "MzZkjvA5LRfX"
   },
   "outputs": [],
   "source": [
    "df = df.drop('photos', axis=1)\n",
    "df['count_photos'] = pd.DataFrame(count_photos, columns=['count_photos'])"
   ]
  },
  {
   "cell_type": "markdown",
   "metadata": {
    "id": "Jyhlyhwz1UO2"
   },
   "source": [
    "Заменяю колонку \"features\" на количество фичей в конкретном доме"
   ]
  },
  {
   "cell_type": "code",
   "execution_count": 29,
   "metadata": {
    "id": "2LX3S619LRk6"
   },
   "outputs": [],
   "source": [
    "features = []\n",
    "for j in range(len(df)):\n",
    "    spisok = []\n",
    "    if len(df['features'][j]) > 2:\n",
    "        for i in range(len((df['features'][j][2:-2]).split(\"'\"))):\n",
    "            if df['features'][j][2:-2].split(\"'\")[i][0] in ('ABCDEFGHIJKLMNOPQRSTUVWXYZ' or 'abcdefghijklmnopqrstuvwxyz'):\n",
    "                spisok.append(df['features'][j][2:-2].split(\"'\")[i])\n",
    "        features.append(spisok)\n",
    "    else:\n",
    "        features.append([])"
   ]
  },
  {
   "cell_type": "code",
   "execution_count": 30,
   "metadata": {
    "id": "9iqumq_hLTeE"
   },
   "outputs": [],
   "source": [
    "count_features = []\n",
    "for i in range(len(features)):\n",
    "    count_features.append(len(features[i]))\n",
    "df['count_features'] = pd.DataFrame(count_features)\n",
    "df = df.drop('features', axis=1)"
   ]
  },
  {
   "cell_type": "markdown",
   "metadata": {
    "id": "49gBH-hpVVJw"
   },
   "source": [
    "Добавляю новые фичи"
   ]
  },
  {
   "cell_type": "code",
   "execution_count": 31,
   "metadata": {
    "id": "EumruWtfL_d0"
   },
   "outputs": [],
   "source": [
    "df['price2'] = df['price'] * df['price']\n",
    "df['price_photos'] = df['price'] * df['count_photos']\n",
    "df['price_features'] = df['price'] * df['count_features']"
   ]
  },
  {
   "cell_type": "code",
   "execution_count": 32,
   "metadata": {
    "id": "adZQ-83SL_iY"
   },
   "outputs": [],
   "source": [
    "X_train = df[:34546]\n",
    "X_test = df[34546:]"
   ]
  },
  {
   "cell_type": "code",
   "execution_count": 33,
   "metadata": {
    "id": "YdfmdTWBMZup"
   },
   "outputs": [],
   "source": [
    "X_test = X_test.reset_index(drop=True)"
   ]
  },
  {
   "cell_type": "code",
   "execution_count": 34,
   "metadata": {
    "id": "AZOCUa3gMZys"
   },
   "outputs": [],
   "source": [
    "y_train = df_train_sample['target']"
   ]
  },
  {
   "cell_type": "code",
   "execution_count": 35,
   "metadata": {
    "id": "xOd8SqBSMZ4O"
   },
   "outputs": [
    {
     "name": "stdout",
     "output_type": "stream",
     "text": [
      "[14:13:00] WARNING: C:/Users/Administrator/workspace/xgboost-win64_release_1.3.0/src/learner.cc:1061: Starting in XGBoost 1.3.0, the default evaluation metric used with the objective 'multi:softprob' was changed from 'merror' to 'mlogloss'. Explicitly set eval_metric if you'd like to restore the old behavior.\n"
     ]
    }
   ],
   "source": [
    "model = xgb.XGBClassifier(n_estimators=1000, max_depth=4, objective='multi:softmax')\n",
    "model.fit(X_train, y_train)\n",
    "y_pred = model.predict(X_test)"
   ]
  },
  {
   "cell_type": "code",
   "execution_count": 36,
   "metadata": {
    "colab": {
     "base_uri": "https://localhost:8080/"
    },
    "id": "kbiLS0vMMaJI",
    "outputId": "902fa8c6-2dae-4cc4-ae91-38c9caca6d87"
   },
   "outputs": [
    {
     "data": {
      "text/plain": [
       "1    8719\n",
       "2    4811\n",
       "0    1276\n",
       "dtype: int64"
      ]
     },
     "execution_count": 36,
     "metadata": {},
     "output_type": "execute_result"
    }
   ],
   "source": [
    "pd.DataFrame(y_pred).value_counts()"
   ]
  },
  {
   "cell_type": "code",
   "execution_count": 37,
   "metadata": {
    "id": "lm-IPSMaLTuv"
   },
   "outputs": [],
   "source": [
    "submission = pd.DataFrame()\n",
    "submission['Id'] = X_test['Id']\n",
    "submission['TARGET'] = pd.DataFrame(le.inverse_transform(list(y_pred)))\n",
    "submission.to_csv('submission.csv', index=False)"
   ]
  }
 ],
 "metadata": {
  "colab": {
   "collapsed_sections": [
    "9CYhFdwkgi03",
    "pu-bBrHcgi07",
    "mC-F-LOSgi2I",
    "skzGb5IXgi2d",
    "IjJCyS7Ogi2d",
    "1o_m_medgi2e",
    "YmyQBePxgi2n",
    "XNvC_Pkfgi2u",
    "hZioudnCgi2z"
   ],
   "name": "inclass_feature_engineering.ipynb",
   "provenance": []
  },
  "kernelspec": {
   "display_name": "Python 3",
   "language": "python",
   "name": "python3"
  },
  "language_info": {
   "codemirror_mode": {
    "name": "ipython",
    "version": 3
   },
   "file_extension": ".py",
   "mimetype": "text/x-python",
   "name": "python",
   "nbconvert_exporter": "python",
   "pygments_lexer": "ipython3",
   "version": "3.8.5"
  },
  "widgets": {
   "application/vnd.jupyter.widget-state+json": {
    "099354bb01ea41c7acdf125b639ce7c6": {
     "model_module": "@jupyter-widgets/controls",
     "model_name": "DescriptionStyleModel",
     "state": {
      "_model_module": "@jupyter-widgets/controls",
      "_model_module_version": "1.5.0",
      "_model_name": "DescriptionStyleModel",
      "_view_count": null,
      "_view_module": "@jupyter-widgets/base",
      "_view_module_version": "1.2.0",
      "_view_name": "StyleView",
      "description_width": ""
     }
    },
    "1618367dccbb417eaac246c2cb70f086": {
     "model_module": "@jupyter-widgets/base",
     "model_name": "LayoutModel",
     "state": {
      "_model_module": "@jupyter-widgets/base",
      "_model_module_version": "1.2.0",
      "_model_name": "LayoutModel",
      "_view_count": null,
      "_view_module": "@jupyter-widgets/base",
      "_view_module_version": "1.2.0",
      "_view_name": "LayoutView",
      "align_content": null,
      "align_items": null,
      "align_self": null,
      "border": null,
      "bottom": null,
      "display": null,
      "flex": null,
      "flex_flow": null,
      "grid_area": null,
      "grid_auto_columns": null,
      "grid_auto_flow": null,
      "grid_auto_rows": null,
      "grid_column": null,
      "grid_gap": null,
      "grid_row": null,
      "grid_template_areas": null,
      "grid_template_columns": null,
      "grid_template_rows": null,
      "height": null,
      "justify_content": null,
      "justify_items": null,
      "left": null,
      "margin": null,
      "max_height": null,
      "max_width": null,
      "min_height": null,
      "min_width": null,
      "object_fit": null,
      "object_position": null,
      "order": null,
      "overflow": null,
      "overflow_x": null,
      "overflow_y": null,
      "padding": null,
      "right": null,
      "top": null,
      "visibility": null,
      "width": null
     }
    },
    "1621d32bfce249ce865830a621cc8761": {
     "model_module": "@jupyter-widgets/controls",
     "model_name": "HTMLModel",
     "state": {
      "_dom_classes": [],
      "_model_module": "@jupyter-widgets/controls",
      "_model_module_version": "1.5.0",
      "_model_name": "HTMLModel",
      "_view_count": null,
      "_view_module": "@jupyter-widgets/controls",
      "_view_module_version": "1.5.0",
      "_view_name": "HTMLView",
      "description": "",
      "description_tooltip": null,
      "layout": "IPY_MODEL_db432e2225764a3db7a32e2693e0b164",
      "placeholder": "​",
      "style": "IPY_MODEL_099354bb01ea41c7acdf125b639ce7c6",
      "value": " 49352/49352 [04:48&lt;00:00, 171.15it/s]"
     }
    },
    "39d89b2e77f1453e8a0938e8beac6489": {
     "model_module": "@jupyter-widgets/controls",
     "model_name": "DescriptionStyleModel",
     "state": {
      "_model_module": "@jupyter-widgets/controls",
      "_model_module_version": "1.5.0",
      "_model_name": "DescriptionStyleModel",
      "_view_count": null,
      "_view_module": "@jupyter-widgets/base",
      "_view_module_version": "1.2.0",
      "_view_name": "StyleView",
      "description_width": ""
     }
    },
    "39e67d37e7504080acf2c47b4cc77346": {
     "model_module": "@jupyter-widgets/base",
     "model_name": "LayoutModel",
     "state": {
      "_model_module": "@jupyter-widgets/base",
      "_model_module_version": "1.2.0",
      "_model_name": "LayoutModel",
      "_view_count": null,
      "_view_module": "@jupyter-widgets/base",
      "_view_module_version": "1.2.0",
      "_view_name": "LayoutView",
      "align_content": null,
      "align_items": null,
      "align_self": null,
      "border": null,
      "bottom": null,
      "display": null,
      "flex": null,
      "flex_flow": null,
      "grid_area": null,
      "grid_auto_columns": null,
      "grid_auto_flow": null,
      "grid_auto_rows": null,
      "grid_column": null,
      "grid_gap": null,
      "grid_row": null,
      "grid_template_areas": null,
      "grid_template_columns": null,
      "grid_template_rows": null,
      "height": null,
      "justify_content": null,
      "justify_items": null,
      "left": null,
      "margin": null,
      "max_height": null,
      "max_width": null,
      "min_height": null,
      "min_width": null,
      "object_fit": null,
      "object_position": null,
      "order": null,
      "overflow": null,
      "overflow_x": null,
      "overflow_y": null,
      "padding": null,
      "right": null,
      "top": null,
      "visibility": null,
      "width": null
     }
    },
    "3c6808dc171845e8a60a623a41cfe569": {
     "model_module": "@jupyter-widgets/controls",
     "model_name": "FloatProgressModel",
     "state": {
      "_dom_classes": [],
      "_model_module": "@jupyter-widgets/controls",
      "_model_module_version": "1.5.0",
      "_model_name": "FloatProgressModel",
      "_view_count": null,
      "_view_module": "@jupyter-widgets/controls",
      "_view_module_version": "1.5.0",
      "_view_name": "ProgressView",
      "bar_style": "success",
      "description": "100%",
      "description_tooltip": null,
      "layout": "IPY_MODEL_ef0faf9c515a4b5b9e443addf805c9b9",
      "max": 49352,
      "min": 0,
      "orientation": "horizontal",
      "style": "IPY_MODEL_ec8881649d474f3d8b1af39bbc99056f",
      "value": 49352
     }
    },
    "484902ac371a4224a7c0e010014cf000": {
     "model_module": "@jupyter-widgets/controls",
     "model_name": "HTMLModel",
     "state": {
      "_dom_classes": [],
      "_model_module": "@jupyter-widgets/controls",
      "_model_module_version": "1.5.0",
      "_model_name": "HTMLModel",
      "_view_count": null,
      "_view_module": "@jupyter-widgets/controls",
      "_view_module_version": "1.5.0",
      "_view_name": "HTMLView",
      "description": "",
      "description_tooltip": null,
      "layout": "IPY_MODEL_7f4c1fe44f1f4a5a8f51b30d398a6178",
      "placeholder": "​",
      "style": "IPY_MODEL_aee3390725a94212ab4b1cf1cf8942d9",
      "value": " 49352/49352 [09:52&lt;00:00, 83.29it/s]"
     }
    },
    "4ca3b1b8a8b240d6ab59c7e07a3ba9bc": {
     "model_module": "@jupyter-widgets/controls",
     "model_name": "HBoxModel",
     "state": {
      "_dom_classes": [],
      "_model_module": "@jupyter-widgets/controls",
      "_model_module_version": "1.5.0",
      "_model_name": "HBoxModel",
      "_view_count": null,
      "_view_module": "@jupyter-widgets/controls",
      "_view_module_version": "1.5.0",
      "_view_name": "HBoxView",
      "box_style": "",
      "children": [
       "IPY_MODEL_c19dc48092654cc7acf0154e24b3f67f",
       "IPY_MODEL_484902ac371a4224a7c0e010014cf000"
      ],
      "layout": "IPY_MODEL_6962bba50cfa41c1ac9dd0ae22a6de41"
     }
    },
    "542bc016ad3042f9b930e53ec26b1271": {
     "model_module": "@jupyter-widgets/controls",
     "model_name": "HBoxModel",
     "state": {
      "_dom_classes": [],
      "_model_module": "@jupyter-widgets/controls",
      "_model_module_version": "1.5.0",
      "_model_name": "HBoxModel",
      "_view_count": null,
      "_view_module": "@jupyter-widgets/controls",
      "_view_module_version": "1.5.0",
      "_view_name": "HBoxView",
      "box_style": "",
      "children": [
       "IPY_MODEL_b5ee071ad7c541ea9b40b7781ea7c5ca",
       "IPY_MODEL_1621d32bfce249ce865830a621cc8761"
      ],
      "layout": "IPY_MODEL_39e67d37e7504080acf2c47b4cc77346"
     }
    },
    "68bc469d36484a1796a94470b0ee1020": {
     "model_module": "@jupyter-widgets/controls",
     "model_name": "ProgressStyleModel",
     "state": {
      "_model_module": "@jupyter-widgets/controls",
      "_model_module_version": "1.5.0",
      "_model_name": "ProgressStyleModel",
      "_view_count": null,
      "_view_module": "@jupyter-widgets/base",
      "_view_module_version": "1.2.0",
      "_view_name": "StyleView",
      "bar_color": null,
      "description_width": "initial"
     }
    },
    "6962bba50cfa41c1ac9dd0ae22a6de41": {
     "model_module": "@jupyter-widgets/base",
     "model_name": "LayoutModel",
     "state": {
      "_model_module": "@jupyter-widgets/base",
      "_model_module_version": "1.2.0",
      "_model_name": "LayoutModel",
      "_view_count": null,
      "_view_module": "@jupyter-widgets/base",
      "_view_module_version": "1.2.0",
      "_view_name": "LayoutView",
      "align_content": null,
      "align_items": null,
      "align_self": null,
      "border": null,
      "bottom": null,
      "display": null,
      "flex": null,
      "flex_flow": null,
      "grid_area": null,
      "grid_auto_columns": null,
      "grid_auto_flow": null,
      "grid_auto_rows": null,
      "grid_column": null,
      "grid_gap": null,
      "grid_row": null,
      "grid_template_areas": null,
      "grid_template_columns": null,
      "grid_template_rows": null,
      "height": null,
      "justify_content": null,
      "justify_items": null,
      "left": null,
      "margin": null,
      "max_height": null,
      "max_width": null,
      "min_height": null,
      "min_width": null,
      "object_fit": null,
      "object_position": null,
      "order": null,
      "overflow": null,
      "overflow_x": null,
      "overflow_y": null,
      "padding": null,
      "right": null,
      "top": null,
      "visibility": null,
      "width": null
     }
    },
    "6ddb2e336262471e8c79d0bb67cd651e": {
     "model_module": "@jupyter-widgets/controls",
     "model_name": "HTMLModel",
     "state": {
      "_dom_classes": [],
      "_model_module": "@jupyter-widgets/controls",
      "_model_module_version": "1.5.0",
      "_model_name": "HTMLModel",
      "_view_count": null,
      "_view_module": "@jupyter-widgets/controls",
      "_view_module_version": "1.5.0",
      "_view_name": "HTMLView",
      "description": "",
      "description_tooltip": null,
      "layout": "IPY_MODEL_dd61be7cc1164845a28ce8823a7bde15",
      "placeholder": "​",
      "style": "IPY_MODEL_39d89b2e77f1453e8a0938e8beac6489",
      "value": " 49352/49352 [04:50&lt;00:00, 170.10it/s]"
     }
    },
    "74f55a0555ff4d2d8dca990f5ccd98b5": {
     "model_module": "@jupyter-widgets/controls",
     "model_name": "ProgressStyleModel",
     "state": {
      "_model_module": "@jupyter-widgets/controls",
      "_model_module_version": "1.5.0",
      "_model_name": "ProgressStyleModel",
      "_view_count": null,
      "_view_module": "@jupyter-widgets/base",
      "_view_module_version": "1.2.0",
      "_view_name": "StyleView",
      "bar_color": null,
      "description_width": "initial"
     }
    },
    "7f4c1fe44f1f4a5a8f51b30d398a6178": {
     "model_module": "@jupyter-widgets/base",
     "model_name": "LayoutModel",
     "state": {
      "_model_module": "@jupyter-widgets/base",
      "_model_module_version": "1.2.0",
      "_model_name": "LayoutModel",
      "_view_count": null,
      "_view_module": "@jupyter-widgets/base",
      "_view_module_version": "1.2.0",
      "_view_name": "LayoutView",
      "align_content": null,
      "align_items": null,
      "align_self": null,
      "border": null,
      "bottom": null,
      "display": null,
      "flex": null,
      "flex_flow": null,
      "grid_area": null,
      "grid_auto_columns": null,
      "grid_auto_flow": null,
      "grid_auto_rows": null,
      "grid_column": null,
      "grid_gap": null,
      "grid_row": null,
      "grid_template_areas": null,
      "grid_template_columns": null,
      "grid_template_rows": null,
      "height": null,
      "justify_content": null,
      "justify_items": null,
      "left": null,
      "margin": null,
      "max_height": null,
      "max_width": null,
      "min_height": null,
      "min_width": null,
      "object_fit": null,
      "object_position": null,
      "order": null,
      "overflow": null,
      "overflow_x": null,
      "overflow_y": null,
      "padding": null,
      "right": null,
      "top": null,
      "visibility": null,
      "width": null
     }
    },
    "8ec6b98bbf0e4ff4bb15f4c6545bfbaf": {
     "model_module": "@jupyter-widgets/base",
     "model_name": "LayoutModel",
     "state": {
      "_model_module": "@jupyter-widgets/base",
      "_model_module_version": "1.2.0",
      "_model_name": "LayoutModel",
      "_view_count": null,
      "_view_module": "@jupyter-widgets/base",
      "_view_module_version": "1.2.0",
      "_view_name": "LayoutView",
      "align_content": null,
      "align_items": null,
      "align_self": null,
      "border": null,
      "bottom": null,
      "display": null,
      "flex": null,
      "flex_flow": null,
      "grid_area": null,
      "grid_auto_columns": null,
      "grid_auto_flow": null,
      "grid_auto_rows": null,
      "grid_column": null,
      "grid_gap": null,
      "grid_row": null,
      "grid_template_areas": null,
      "grid_template_columns": null,
      "grid_template_rows": null,
      "height": null,
      "justify_content": null,
      "justify_items": null,
      "left": null,
      "margin": null,
      "max_height": null,
      "max_width": null,
      "min_height": null,
      "min_width": null,
      "object_fit": null,
      "object_position": null,
      "order": null,
      "overflow": null,
      "overflow_x": null,
      "overflow_y": null,
      "padding": null,
      "right": null,
      "top": null,
      "visibility": null,
      "width": null
     }
    },
    "aee3390725a94212ab4b1cf1cf8942d9": {
     "model_module": "@jupyter-widgets/controls",
     "model_name": "DescriptionStyleModel",
     "state": {
      "_model_module": "@jupyter-widgets/controls",
      "_model_module_version": "1.5.0",
      "_model_name": "DescriptionStyleModel",
      "_view_count": null,
      "_view_module": "@jupyter-widgets/base",
      "_view_module_version": "1.2.0",
      "_view_name": "StyleView",
      "description_width": ""
     }
    },
    "af6511e004f7483fa5a4b535ad5ad0e4": {
     "model_module": "@jupyter-widgets/controls",
     "model_name": "HBoxModel",
     "state": {
      "_dom_classes": [],
      "_model_module": "@jupyter-widgets/controls",
      "_model_module_version": "1.5.0",
      "_model_name": "HBoxModel",
      "_view_count": null,
      "_view_module": "@jupyter-widgets/controls",
      "_view_module_version": "1.5.0",
      "_view_name": "HBoxView",
      "box_style": "",
      "children": [
       "IPY_MODEL_3c6808dc171845e8a60a623a41cfe569",
       "IPY_MODEL_6ddb2e336262471e8c79d0bb67cd651e"
      ],
      "layout": "IPY_MODEL_8ec6b98bbf0e4ff4bb15f4c6545bfbaf"
     }
    },
    "b5ee071ad7c541ea9b40b7781ea7c5ca": {
     "model_module": "@jupyter-widgets/controls",
     "model_name": "FloatProgressModel",
     "state": {
      "_dom_classes": [],
      "_model_module": "@jupyter-widgets/controls",
      "_model_module_version": "1.5.0",
      "_model_name": "FloatProgressModel",
      "_view_count": null,
      "_view_module": "@jupyter-widgets/controls",
      "_view_module_version": "1.5.0",
      "_view_name": "ProgressView",
      "bar_style": "success",
      "description": "100%",
      "description_tooltip": null,
      "layout": "IPY_MODEL_f99d1f96532647e7a68d1e716cbad27a",
      "max": 49352,
      "min": 0,
      "orientation": "horizontal",
      "style": "IPY_MODEL_68bc469d36484a1796a94470b0ee1020",
      "value": 49352
     }
    },
    "c19dc48092654cc7acf0154e24b3f67f": {
     "model_module": "@jupyter-widgets/controls",
     "model_name": "FloatProgressModel",
     "state": {
      "_dom_classes": [],
      "_model_module": "@jupyter-widgets/controls",
      "_model_module_version": "1.5.0",
      "_model_name": "FloatProgressModel",
      "_view_count": null,
      "_view_module": "@jupyter-widgets/controls",
      "_view_module_version": "1.5.0",
      "_view_name": "ProgressView",
      "bar_style": "success",
      "description": "100%",
      "description_tooltip": null,
      "layout": "IPY_MODEL_1618367dccbb417eaac246c2cb70f086",
      "max": 49352,
      "min": 0,
      "orientation": "horizontal",
      "style": "IPY_MODEL_74f55a0555ff4d2d8dca990f5ccd98b5",
      "value": 49352
     }
    },
    "db432e2225764a3db7a32e2693e0b164": {
     "model_module": "@jupyter-widgets/base",
     "model_name": "LayoutModel",
     "state": {
      "_model_module": "@jupyter-widgets/base",
      "_model_module_version": "1.2.0",
      "_model_name": "LayoutModel",
      "_view_count": null,
      "_view_module": "@jupyter-widgets/base",
      "_view_module_version": "1.2.0",
      "_view_name": "LayoutView",
      "align_content": null,
      "align_items": null,
      "align_self": null,
      "border": null,
      "bottom": null,
      "display": null,
      "flex": null,
      "flex_flow": null,
      "grid_area": null,
      "grid_auto_columns": null,
      "grid_auto_flow": null,
      "grid_auto_rows": null,
      "grid_column": null,
      "grid_gap": null,
      "grid_row": null,
      "grid_template_areas": null,
      "grid_template_columns": null,
      "grid_template_rows": null,
      "height": null,
      "justify_content": null,
      "justify_items": null,
      "left": null,
      "margin": null,
      "max_height": null,
      "max_width": null,
      "min_height": null,
      "min_width": null,
      "object_fit": null,
      "object_position": null,
      "order": null,
      "overflow": null,
      "overflow_x": null,
      "overflow_y": null,
      "padding": null,
      "right": null,
      "top": null,
      "visibility": null,
      "width": null
     }
    },
    "dd61be7cc1164845a28ce8823a7bde15": {
     "model_module": "@jupyter-widgets/base",
     "model_name": "LayoutModel",
     "state": {
      "_model_module": "@jupyter-widgets/base",
      "_model_module_version": "1.2.0",
      "_model_name": "LayoutModel",
      "_view_count": null,
      "_view_module": "@jupyter-widgets/base",
      "_view_module_version": "1.2.0",
      "_view_name": "LayoutView",
      "align_content": null,
      "align_items": null,
      "align_self": null,
      "border": null,
      "bottom": null,
      "display": null,
      "flex": null,
      "flex_flow": null,
      "grid_area": null,
      "grid_auto_columns": null,
      "grid_auto_flow": null,
      "grid_auto_rows": null,
      "grid_column": null,
      "grid_gap": null,
      "grid_row": null,
      "grid_template_areas": null,
      "grid_template_columns": null,
      "grid_template_rows": null,
      "height": null,
      "justify_content": null,
      "justify_items": null,
      "left": null,
      "margin": null,
      "max_height": null,
      "max_width": null,
      "min_height": null,
      "min_width": null,
      "object_fit": null,
      "object_position": null,
      "order": null,
      "overflow": null,
      "overflow_x": null,
      "overflow_y": null,
      "padding": null,
      "right": null,
      "top": null,
      "visibility": null,
      "width": null
     }
    },
    "ec8881649d474f3d8b1af39bbc99056f": {
     "model_module": "@jupyter-widgets/controls",
     "model_name": "ProgressStyleModel",
     "state": {
      "_model_module": "@jupyter-widgets/controls",
      "_model_module_version": "1.5.0",
      "_model_name": "ProgressStyleModel",
      "_view_count": null,
      "_view_module": "@jupyter-widgets/base",
      "_view_module_version": "1.2.0",
      "_view_name": "StyleView",
      "bar_color": null,
      "description_width": "initial"
     }
    },
    "ef0faf9c515a4b5b9e443addf805c9b9": {
     "model_module": "@jupyter-widgets/base",
     "model_name": "LayoutModel",
     "state": {
      "_model_module": "@jupyter-widgets/base",
      "_model_module_version": "1.2.0",
      "_model_name": "LayoutModel",
      "_view_count": null,
      "_view_module": "@jupyter-widgets/base",
      "_view_module_version": "1.2.0",
      "_view_name": "LayoutView",
      "align_content": null,
      "align_items": null,
      "align_self": null,
      "border": null,
      "bottom": null,
      "display": null,
      "flex": null,
      "flex_flow": null,
      "grid_area": null,
      "grid_auto_columns": null,
      "grid_auto_flow": null,
      "grid_auto_rows": null,
      "grid_column": null,
      "grid_gap": null,
      "grid_row": null,
      "grid_template_areas": null,
      "grid_template_columns": null,
      "grid_template_rows": null,
      "height": null,
      "justify_content": null,
      "justify_items": null,
      "left": null,
      "margin": null,
      "max_height": null,
      "max_width": null,
      "min_height": null,
      "min_width": null,
      "object_fit": null,
      "object_position": null,
      "order": null,
      "overflow": null,
      "overflow_x": null,
      "overflow_y": null,
      "padding": null,
      "right": null,
      "top": null,
      "visibility": null,
      "width": null
     }
    },
    "f99d1f96532647e7a68d1e716cbad27a": {
     "model_module": "@jupyter-widgets/base",
     "model_name": "LayoutModel",
     "state": {
      "_model_module": "@jupyter-widgets/base",
      "_model_module_version": "1.2.0",
      "_model_name": "LayoutModel",
      "_view_count": null,
      "_view_module": "@jupyter-widgets/base",
      "_view_module_version": "1.2.0",
      "_view_name": "LayoutView",
      "align_content": null,
      "align_items": null,
      "align_self": null,
      "border": null,
      "bottom": null,
      "display": null,
      "flex": null,
      "flex_flow": null,
      "grid_area": null,
      "grid_auto_columns": null,
      "grid_auto_flow": null,
      "grid_auto_rows": null,
      "grid_column": null,
      "grid_gap": null,
      "grid_row": null,
      "grid_template_areas": null,
      "grid_template_columns": null,
      "grid_template_rows": null,
      "height": null,
      "justify_content": null,
      "justify_items": null,
      "left": null,
      "margin": null,
      "max_height": null,
      "max_width": null,
      "min_height": null,
      "min_width": null,
      "object_fit": null,
      "object_position": null,
      "order": null,
      "overflow": null,
      "overflow_x": null,
      "overflow_y": null,
      "padding": null,
      "right": null,
      "top": null,
      "visibility": null,
      "width": null
     }
    }
   }
  }
 },
 "nbformat": 4,
 "nbformat_minor": 1
}
