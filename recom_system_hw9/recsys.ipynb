{
 "cells": [
  {
   "cell_type": "markdown",
   "metadata": {
    "id": "CLG7clb8YKXI"
   },
   "source": [
    "# Рекомендательные системы"
   ]
  },
  {
   "cell_type": "markdown",
   "metadata": {
    "id": "Fx81LliDYKXS"
   },
   "source": [
    "Вам предлагается реализовать User-based рекомендательную систему. Так же требуется реализовать несколько вспомогательных функций, шаблоны которых вы можете найти в `utils.py`.\n",
    "\n",
    "Требования к выполнению задания:\n",
    "- Реализация функции из `utils.py` засчитывается, только если пройдены все соответствующие тесты из `test.py`. Запуск тестов: <font color='red'>pytest test.py</font>. Для тестов вам потребуются библиотеки `numpy`, `scipy`, `pytest` и `hypothesis`.\n",
    "- Плагиат запрещен. Если будет замечено, что часть задания списана, то 0 баллов ставится как списывающему, так и давшему списать.\n",
    "- Если пользуетесь кодом из открытых источников, то указывайте ссылки, откуда взяли решение. Иначе такой код может быть воспринят как плагиат.\n",
    "- При выполнении задания нельзя использовать библиотеку `scipy` и функцию `numpy.linalg.norm`"
   ]
  },
  {
   "cell_type": "markdown",
   "metadata": {
    "id": "VnTHjD5gYKXU"
   },
   "source": [
    "## 1. Метрика сходства\n",
    "<b>1.1.</b>\n",
    "\n",
    "Первое, с чем необходимо разобраться, при реализации User-based подхода, это с метрикой, с помощью которой будет решаться, насколько похожи пользователи. Вам предлагается реализовать 2 метрики: на основе евклидовой метрики и коэффициент корреляции Пирсона. Шаблоны для обоих функций можете найти в `utils.py`. Не забудьте проверить реализацию на тестах.\n",
    "\n",
    "Евклидова метрика:\n",
    "\\begin{equation}\n",
    "d(p,q)=\\sqrt{(p_1-q_1)^2+(p_2-q_2)^2+\\dots+(p_n-q_n)^2} = \\sqrt{\\sum_{k=1}^n (p_k-q_k)^2}\n",
    "\\end{equation}\n",
    "\n",
    "В этом случае $d(p, q) \\in [0, \\infty)$, при этом если $d(p, q) \\to 0$, то $sim(p, q) \\to 1$. С учетом этого конечная формула будет выглядеть следующим образом:\n",
    "\\begin{equation}\n",
    "sim(p, q) = \\frac{1}{1 + d(p, q)}\n",
    "\\end{equation}\n",
    "Так же в этой формуле не будет проблем с делением на 0.\n",
    "\n",
    "Коэффициент корреляции Пирсона:\n",
    "\\begin{equation}\n",
    "r_{xy} = \\frac {\\sum_{i=1}^{m} \\left( x_i-\\bar{x} \\right)\\left( y_i-\\bar{y} \\right)}{\\sqrt{\\sum_{i=1}^{m} \\left( x_i-\\bar{x} \\right)^2 \\sum_{i=1}^{m} \\left( y_i-\\bar{y} \\right)^2}}\n",
    "\\end{equation}"
   ]
  },
  {
   "cell_type": "markdown",
   "metadata": {
    "id": "ee5TAcefYKXV"
   },
   "source": [
    "<b>1.2.</b>\n",
    "\n",
    "Рассмотрим пользователей $u$ и $v$. Им соотвествуют векторы $x_u$ и $x_v$, где $x_u[i] = r_{ui}$ и $x_v[i] = r_{vi}$. Из лекции известно, что похожесть между векторами $x_u$ и $x_v$ вычисляются только для тех индексов i, для которых существует и $r_{ui}$, и $r_{vi}$. То есть верно следуюющее:\n",
    "\\begin{equation}\n",
    "sim(u, v) = sim(x_uI_{uv}, x_vI_{uv}),\n",
    "\\end{equation}\n",
    "где $I_{uv} = [i | \\exists r_{ui} \\& \\exists r_{vi}]$. При этом если $I_{uv} = \\emptyset$, то $sim(u, v) \\to -\\infty$.\n",
    "\n",
    "Реализуйте два новых метода, которые переиспользуют написанные вами `euclidean_distance` и `pearson_distance`, добавляющие условия на $x_u$ и $x_v$. Считается, что $x_u[i] = 0$, если $\\nexists r_{ui}$. То же верно для $x_v$.\n",
    "\n",
    "При реализации заданий можно как написать новые функции, так и использовать декораторы."
   ]
  },
  {
   "cell_type": "code",
   "execution_count": null,
   "metadata": {
    "id": "b7KxzJHKYKXW"
   },
   "outputs": [],
   "source": [
    "import numpy as np\n",
    "from utils import euclidean_similarity, pearson_similarity\n",
    "import scipy.sparse as scp\n",
    "from tqdm import tqdm"
   ]
  },
  {
   "cell_type": "code",
   "execution_count": null,
   "metadata": {
    "id": "_BDb_GoKiwaY"
   },
   "outputs": [],
   "source": [
    "def change(X):\n",
    "    return np.where(X == -1, 0, X)"
   ]
  },
  {
   "cell_type": "markdown",
   "metadata": {
    "id": "tXI43Dl-YKXY"
   },
   "source": [
    "## 2. User-based method\n",
    "<b>2.1. (3 балла)</b> \n",
    "\n",
    "Реализовать User-based подход, реализовав методы класса `UserBasedRecommendation`, основанного на использовании `NearestNeighbors`. В качестве метрики может для нахождения похожих пользователей может быть использована как евклидова метрика, так и коэффициент корреляции Пирсона.\n",
    "\n",
    "Не забывайте, что `NearestNeighbors` ищет минимум расстояния между элементами, поэтому логично в качестве метрики при инициализации `NearestNeighbors` использовать обратную метрике схожести. То есть такую, что когда $sim(u, v) \\to 1$, то $d(u, v) \\to 0$. Например: $d(u, v) = 1 - sim(u, v)$"
   ]
  },
  {
   "cell_type": "code",
   "execution_count": null,
   "metadata": {
    "id": "wiZITdhLYKXZ"
   },
   "outputs": [],
   "source": [
    "from sklearn.neighbors import NearestNeighbors\n",
    "from typing import Optional\n",
    "\n",
    "from collections import Counter\n",
    "\n",
    "\n",
    "class UserBasedRecommendation:\n",
    "    def __init__(self, metric: str = 'euclidean', n_recommendations: int = 5, alpha: float = 0.8):\n",
    "        \"\"\"\n",
    "        Args:\n",
    "            metric: name of metric: ['euclidean', 'pearson']\n",
    "            n_recommendations: number of recommendations. Also can be specified self.make_recommendation\n",
    "            alpha: similarity threshold: if sim(u, v) > alpha then u and v are similar\n",
    "        \"\"\"\n",
    "        self.metric = metric\n",
    "        self.n_recommendations = n_recommendations\n",
    "        self.alpha = alpha\n",
    "\n",
    "    def fit(self, X: np.array):\n",
    "        \"\"\"\n",
    "        Args:\n",
    "            X: matrix N x M where X[u, i] = r_{ui} if r_{ui} exists else X[u, i] = 0\n",
    "        \"\"\"\n",
    "        self.X = change(X)\n",
    "\n",
    "    def find_closest_users(self, user_id: int, n_closest_users: int):\n",
    "        scores_corr = []\n",
    "        if self.metric == 'euclidean':\n",
    "            for i in range(len(self.X)):\n",
    "                scores_corr.append((1 - euclidean_similarity(self.X[user_id], self.X[i]), i))\n",
    "            sort_scores_corr = (sorted(scores_corr))[1:n_closest_users+1]\n",
    "        elif self.metric == 'pearson':\n",
    "            for i in range(len(self.X)):\n",
    "                scores_corr.append((pearson_similarity(self.X[user_id], self.X[i]), i))\n",
    "            sort_scores_corr = (sorted(scores_corr, reverse=True))[1:n_closest_users+1]\n",
    "        sort_scores_corr = [item for item in sort_scores_corr if item[0] > self.alpha]\n",
    "        near_idx = list(map(lambda x: x[1], sort_scores_corr))\n",
    "        self.near_idx = near_idx\n",
    "        return self.near_idx\n",
    "\n",
    "    def make_recommendation(self, user_id: int, n_recommendations: Optional[int] = None):\n",
    "        \"\"\"\n",
    "        Args:\n",
    "            user_id: user id to whom you want to recommend\n",
    "            n_recommendations: number of recommendations\n",
    "        \"\"\"\n",
    "        rating = []\n",
    "        for i in range(self.X.shape[1]):\n",
    "            sum1, sum2 = 0, 0\n",
    "            for idx in self.near_idx:\n",
    "                if self.metric == 'euclidean': \n",
    "                    sum1 += euclidean_similarity(self.X[user_id], self.X[idx]) * (self.X[idx][i] - np.mean(self.X[idx]))\n",
    "                    sum2 += abs(euclidean_similarity(self.X[user_id], self.X[idx]))\n",
    "                elif self.metric == 'pearson':\n",
    "                    sum1 += pearson_similarity(self.X[user_id], self.X[idx]) * (self.X[idx][i] - np.mean(self.X[idx]))\n",
    "                    sum2 += abs(pearson_similarity(self.X[user_id], self.X[idx]))\n",
    "            if self.X[user_id][i] == 0:\n",
    "                rating.append(((np.mean(self.X[user_id][self.X[user_id] > 0]) + (sum1 / sum2)), i))\n",
    "        sort_rating = sorted(rating, reverse=True)\n",
    "        return sort_rating[:n_recommendations]"
   ]
  },
  {
   "cell_type": "markdown",
   "metadata": {
    "id": "iGeAfUR_YKXa"
   },
   "source": [
    "<b>2.2. (1 балл)</b>\n",
    "\n",
    "Приведите пример, для которого использование разных метрик будет давать разные рекомендации. Объясните свой пример."
   ]
  },
  {
   "cell_type": "markdown",
   "metadata": {
    "id": "K-j0o4Ab2GBZ"
   },
   "source": [
    "**Пример**: Допустим пользователи покупают товары и ставят им оценки.\n",
    "\n",
    "U - юзер, которому хотим порекомендовать товары, которые он не покупал\n",
    "\n",
    "Vi - i-ый юзер, который покупал товары\n",
    "\n",
    "\n",
    "| Пользователь | Товар 1 | Товар 2 | Товар 3 | Товар 4 | Товар 5 | Товар 6 |\n",
    "| :----------: | :-----: | :-----: | :-----: | :-----: | :-----: | :-----: |\n",
    "|      U       |   -1    |    6    |    7    |   -1    |    5    |   -1    |\n",
    "|      V1      |   8     |    4    |    2    |    7    |    6    |   -1    |\n",
    "|      V2      |   -1    |   10    |    9    |    9    |   10    |    8    |\n",
    "|      V3      |   5     |    4    |    6    |   -1    |    9    |    7    |\n",
    "|      V4      |   7     |    6    |    7    |    4    |    6    |    5    |\n",
    "\n",
    "P.S. Оценка -1 значит, что пользователь не покупал товар"
   ]
  },
  {
   "cell_type": "code",
   "execution_count": null,
   "metadata": {
    "id": "Si2pp1fkUTEb"
   },
   "outputs": [],
   "source": [
    "X = np.array([[-1, 6, 7, -1, 5, -1], [8, 4, 2, 7, 6, -1], [-1, 10, 9, 9, 10, 8], [5, 4, 6, -1, 9, 7], [7, 6, 7, 4, 6, 5]])"
   ]
  },
  {
   "cell_type": "markdown",
   "metadata": {
    "id": "vIlF6jZ9kgKM"
   },
   "source": [
    "Проверим работу класса на метрике 'euclidean'"
   ]
  },
  {
   "cell_type": "code",
   "execution_count": null,
   "metadata": {
    "colab": {
     "base_uri": "https://localhost:8080/"
    },
    "id": "9q9OARuGd_v9",
    "outputId": "4ab68ab4-9fcc-408f-ffe8-bfbe92d20da2"
   },
   "outputs": [
    {
     "data": {
      "text/plain": [
       "[(6.506495678375381, 0)]"
      ]
     },
     "execution_count": 6,
     "metadata": {
      "tags": []
     },
     "output_type": "execute_result"
    }
   ],
   "source": [
    "user_based = UserBasedRecommendation(metric='euclidean')\n",
    "user_based.fit(X)\n",
    "near_idx = user_based.find_closest_users(0, 2)\n",
    "user_based.make_recommendation(0, 1)"
   ]
  },
  {
   "cell_type": "markdown",
   "metadata": {
    "id": "rPvh2H8nk622"
   },
   "source": [
    "Сравним рекомендации сделанные на основе метрики 'euclidean' и 'pearson', зададим параметр alpha=0.5"
   ]
  },
  {
   "cell_type": "code",
   "execution_count": null,
   "metadata": {
    "id": "61nFTQ6mYNLq"
   },
   "outputs": [],
   "source": [
    "def recom(metric):\n",
    "    user_based = UserBasedRecommendation(metric=metric, alpha=0.5)\n",
    "    user_based.fit(X)\n",
    "    near_idx = user_based.find_closest_users(0, 2)\n",
    "    recom = user_based.make_recommendation(0, 1)\n",
    "    return [near_idx, recom]"
   ]
  },
  {
   "cell_type": "code",
   "execution_count": null,
   "metadata": {
    "id": "cHRV7Gtkarc-"
   },
   "outputs": [],
   "source": [
    "recom_eucl = recom('euclidean')\n",
    "recom_pear = recom('pearson')"
   ]
  },
  {
   "cell_type": "code",
   "execution_count": null,
   "metadata": {
    "colab": {
     "base_uri": "https://localhost:8080/"
    },
    "id": "LkAcdxADaB6H",
    "outputId": "650b84b1-630a-4de8-d63b-223983d619ac"
   },
   "outputs": [
    {
     "name": "stdout",
     "output_type": "stream",
     "text": [
      "Пользователи похожие на U: V4 и V3\n",
      "Рекомендуемый товар на основе Евклидовой метрики: 1\n"
     ]
    }
   ],
   "source": [
    "print(f'Пользователи похожие на U: V{recom_eucl[0][0]} и V{recom_eucl[0][1]}')\n",
    "print(f'Рекомендуемый товар на основе Евклидовой метрики: {recom_eucl[1][0][1] + 1}')"
   ]
  },
  {
   "cell_type": "code",
   "execution_count": null,
   "metadata": {
    "colab": {
     "base_uri": "https://localhost:8080/"
    },
    "id": "a7ixvArClT7A",
    "outputId": "72f7cd3d-60d6-4236-8e45-8aa5fbff520d"
   },
   "outputs": [
    {
     "name": "stdout",
     "output_type": "stream",
     "text": [
      "Пользователи похожие на U: V2 и V4\n",
      "Рекомендуемый товар на основе корреляции Пирсона: 4\n"
     ]
    }
   ],
   "source": [
    "print(f'Пользователи похожие на U: V{recom_pear[0][0]} и V{recom_pear[0][1]}')\n",
    "print(f'Рекомендуемый товар на основе корреляции Пирсона: {recom_pear[1][0][1] + 1}')"
   ]
  },
  {
   "cell_type": "markdown",
   "metadata": {
    "id": "0o3hNPVMYKXb"
   },
   "source": [
    "<b>Объяснение:</b> рекомендуемые товары для метрик 'euclidean' и 'pearson' различаются, потому что отличаются похожие пользователи, в метрике 'pearson' модель показала похожего соседа V2, вместо V3, потому что в этой метрике в числители используется средняя оценка, а так как у пользователя V2 в среднем она очень высокая, поэтому корреляция Пирсона высокая, в Евклидовой метрики среднее не учитывается, поэтому V2 не будет близким соседом"
   ]
  },
  {
   "cell_type": "markdown",
   "metadata": {
    "id": "GR10GlGSYKXb"
   },
   "source": [
    "## 3. Оценка качества\n",
    "\n",
    "Реализуйте Average Precision at k и Mean Average Precision at k. Шаблоны можете найти в `utils.py`.\n",
    "\\begin{align*}\n",
    "AP@K = \\frac{1}{m}\\sum_{k=1}^K P(k)*rel(k), \\\\\n",
    "MAP@K = \\frac{1}{|U|}\\sum_{u=1}^{|U|}(AP@K)_u\n",
    "\\end{align*}\n",
    "где $P(k)$ - Precision at k, $rel(k) = 1$, если рекомендация релевантна, иначе $rel(k) = 0$."
   ]
  },
  {
   "cell_type": "markdown",
   "metadata": {
    "id": "YAXMODPIYKXc"
   },
   "source": [
    "## 4. Применение модели\n",
    "\n",
    "Выгрузите датасет `ratings_small.csv`: https://www.kaggle.com/rounakbanik/the-movies-dataset#ratings_small.csv"
   ]
  },
  {
   "cell_type": "code",
   "execution_count": null,
   "metadata": {
    "id": "HYTXY5ZEYKXc"
   },
   "outputs": [],
   "source": [
    "import pandas as pd\n",
    "from sklearn.model_selection import train_test_split"
   ]
  },
  {
   "cell_type": "code",
   "execution_count": null,
   "metadata": {
    "colab": {
     "base_uri": "https://localhost:8080/"
    },
    "id": "yhTF4-zXYKXd",
    "outputId": "9414e33c-bee0-4697-ee37-99f1722f3bed"
   },
   "outputs": [
    {
     "data": {
      "text/plain": [
       "(100004, 4)"
      ]
     },
     "execution_count": 12,
     "metadata": {
      "tags": []
     },
     "output_type": "execute_result"
    }
   ],
   "source": [
    "data = pd.read_csv('ratings_small.csv', index_col=False)\n",
    "data.shape"
   ]
  },
  {
   "cell_type": "code",
   "execution_count": null,
   "metadata": {
    "colab": {
     "base_uri": "https://localhost:8080/"
    },
    "id": "V26YZzOSYKXd",
    "outputId": "93e0c5f7-daba-471c-df5b-9421e03eed5a"
   },
   "outputs": [
    {
     "data": {
      "text/plain": [
       "(1, 671, 671)"
      ]
     },
     "execution_count": 13,
     "metadata": {
      "tags": []
     },
     "output_type": "execute_result"
    }
   ],
   "source": [
    "data.userId.min(), data.userId.max(), len(data.userId.unique())"
   ]
  },
  {
   "cell_type": "code",
   "execution_count": null,
   "metadata": {
    "colab": {
     "base_uri": "https://localhost:8080/"
    },
    "id": "b53OCJ4KYKXd",
    "outputId": "fef8b6e2-ed1f-469c-9695-b4d1affe2158"
   },
   "outputs": [
    {
     "data": {
      "text/plain": [
       "(1, 163949, 9066)"
      ]
     },
     "execution_count": 14,
     "metadata": {
      "tags": []
     },
     "output_type": "execute_result"
    }
   ],
   "source": [
    "data.movieId.min(), data.movieId.max(), len(data.movieId.unique())"
   ]
  },
  {
   "cell_type": "markdown",
   "metadata": {
    "id": "_QAuUPaqYKXd"
   },
   "source": [
    "Для простоты работы с данными, измените нумерацию пользователей и фильмов так, чтобы нумерация начиналась с 0 и шла непрерывно."
   ]
  },
  {
   "cell_type": "code",
   "execution_count": null,
   "metadata": {
    "id": "O5zVrCyMynXU"
   },
   "outputs": [],
   "source": [
    "data['userId'] = data['userId'] - 1"
   ]
  },
  {
   "cell_type": "code",
   "execution_count": null,
   "metadata": {
    "id": "Ucp_EZDXu91l"
   },
   "outputs": [],
   "source": [
    "movie_to_idx = {movie_name : idx for idx, movie_name in enumerate(data.movieId.unique())}\n",
    "idx_to_movie = {i: movie_name for movie_name, i in movie_to_idx.items()}"
   ]
  },
  {
   "cell_type": "code",
   "execution_count": null,
   "metadata": {
    "id": "6A7M1FuYv8v5"
   },
   "outputs": [],
   "source": [
    "data['movieId'] = data['movieId'].apply(lambda x: movie_to_idx[x])"
   ]
  },
  {
   "cell_type": "code",
   "execution_count": null,
   "metadata": {
    "colab": {
     "base_uri": "https://localhost:8080/"
    },
    "id": "iwTE_vl3YKXe",
    "outputId": "c8165759-eaec-4020-e24f-b591091f173c"
   },
   "outputs": [
    {
     "data": {
      "text/plain": [
       "(0, 670, 671)"
      ]
     },
     "execution_count": 18,
     "metadata": {
      "tags": []
     },
     "output_type": "execute_result"
    }
   ],
   "source": [
    "data.userId.min(), data.userId.max(), len(data.userId.unique())"
   ]
  },
  {
   "cell_type": "code",
   "execution_count": null,
   "metadata": {
    "colab": {
     "base_uri": "https://localhost:8080/"
    },
    "id": "T-G7OpYrYKXe",
    "outputId": "b1da6b51-8f62-4dc1-f669-a7fc8dbcfdd0"
   },
   "outputs": [
    {
     "data": {
      "text/plain": [
       "(0, 9065, 9066)"
      ]
     },
     "execution_count": 19,
     "metadata": {
      "tags": []
     },
     "output_type": "execute_result"
    }
   ],
   "source": [
    "data.movieId.min(), data.movieId.max(), len(data.movieId.unique())"
   ]
  },
  {
   "cell_type": "markdown",
   "metadata": {
    "id": "mbXh--S4YKXf"
   },
   "source": [
    "Удалим для наиболее активных пользователей 5 оценок"
   ]
  },
  {
   "cell_type": "code",
   "execution_count": null,
   "metadata": {
    "colab": {
     "base_uri": "https://localhost:8080/"
    },
    "id": "fwqkMibsYKXg",
    "outputId": "a85078a5-3d2e-452c-aa3d-cb86379cce72"
   },
   "outputs": [
    {
     "data": {
      "text/plain": [
       "((99954, 4), (50, 4))"
      ]
     },
     "execution_count": 20,
     "metadata": {
      "tags": []
     },
     "output_type": "execute_result"
    }
   ],
   "source": [
    "active_users = data.userId.value_counts()[:10].index\n",
    "test_data = pd.DataFrame([], columns=data.columns)\n",
    "for user_id in active_users:\n",
    "    _, test = train_test_split(data[data.userId == user_id], test_size=5, random_state=42)\n",
    "    test_data = test_data.append(test, ignore_index=True)\n",
    "    data = data[~((data.userId == user_id) & (data.movieId.isin(test.movieId.values)))]\n",
    "data.shape, test_data.shape"
   ]
  },
  {
   "cell_type": "markdown",
   "metadata": {
    "id": "ToVFCdQ-YKXg"
   },
   "source": [
    "Преобразуем данные в таблицу `X`, с которой может работать `UserBasedRecommendation`, где $X_{ui} = r_{ui}$, если пользователь $u$ поставил оценку фильму $i$, и $X_{ui} = 0$, если пользователь $u$ не проставил оценку фильму $i$.\n",
    "\n",
    "Вам может пригодиться `csr_matrix`."
   ]
  },
  {
   "cell_type": "code",
   "execution_count": null,
   "metadata": {
    "id": "sinQM9wXYKXh"
   },
   "outputs": [],
   "source": [
    "def get_sparse(data):\n",
    "    return scp.coo_matrix(\n",
    "        (\n",
    "            data['rating'],  \n",
    "            (data['userId'], data['movieId'])\n",
    "        ), \n",
    "        shape=(len(np.unique(data['userId'])), len(movie_to_idx))\n",
    "    ).tocsr()"
   ]
  },
  {
   "cell_type": "code",
   "execution_count": null,
   "metadata": {
    "colab": {
     "base_uri": "https://localhost:8080/"
    },
    "id": "0DnG4Dn45hie",
    "outputId": "0f921c07-3307-4497-b68e-bde891ca6c1e"
   },
   "outputs": [
    {
     "data": {
      "text/plain": [
       "array([[2.5, 3. , 3. , ..., 0. , 0. , 0. ],\n",
       "       [0. , 0. , 0. , ..., 0. , 0. , 0. ],\n",
       "       [0. , 0. , 0. , ..., 0. , 0. , 0. ],\n",
       "       ...,\n",
       "       [0. , 0. , 0. , ..., 0. , 0. , 0. ],\n",
       "       [0. , 0. , 0. , ..., 0. , 0. , 0. ],\n",
       "       [0. , 0. , 0. , ..., 0. , 0. , 0. ]])"
      ]
     },
     "execution_count": 22,
     "metadata": {
      "tags": []
     },
     "output_type": "execute_result"
    }
   ],
   "source": [
    "train_data = get_sparse(data)\n",
    "train_data = train_data.todense().A\n",
    "train_data"
   ]
  },
  {
   "cell_type": "markdown",
   "metadata": {
    "id": "NDJ0BQEmYKXh"
   },
   "source": [
    "Для пользователей, у которых были удалены фильмы, найдите топ 100 фильмов, который должен посмотреть каждый из этих пользователей, используя `UserBasedRecommendation`. Не забудьте подобрать параметр alpha."
   ]
  },
  {
   "cell_type": "code",
   "execution_count": null,
   "metadata": {
    "id": "hTn9zxMHRFKB"
   },
   "outputs": [],
   "source": [
    "test_users = list(np.unique(test_data['userId']))"
   ]
  },
  {
   "cell_type": "code",
   "execution_count": null,
   "metadata": {
    "id": "IoJfFrx-kkUF"
   },
   "outputs": [],
   "source": [
    "def calculate_mapk(metric, alpha, n_closest_users):\n",
    "    actual = []\n",
    "    for user in test_users:\n",
    "        actual.append(np.array(test_data[test_data['userId'] == user]['movieId']))\n",
    "\n",
    "    predicted = []\n",
    "    top100 = UserBasedRecommendation(metric=metric, alpha=alpha)\n",
    "    top100.fit(train_data)\n",
    "    for user in test_users:\n",
    "        top100.find_closest_users(user, n_closest_users)\n",
    "        top100_user = top100.make_recommendation(user, 100)\n",
    "        top100_user = list(map(lambda x: x[1], top100_user))\n",
    "        predicted.append(top100_user)\n",
    "\n",
    "    return np.array(actual), np.array(predicted)"
   ]
  },
  {
   "cell_type": "code",
   "execution_count": null,
   "metadata": {
    "id": "Tsg7to5Hl10B"
   },
   "outputs": [],
   "source": [
    "actual, predicted = calculate_mapk('euclidean', 0.8, 10)"
   ]
  },
  {
   "cell_type": "code",
   "execution_count": null,
   "metadata": {
    "id": "uAuh49bhY56H"
   },
   "outputs": [],
   "source": [
    "actual_pear, predicted_pear = calculate_mapk('pearson', 0.3, 10)"
   ]
  },
  {
   "cell_type": "markdown",
   "metadata": {
    "id": "uH0Ljlv5YKXi"
   },
   "source": [
    "Используя метрику `MAP@5`, `MAP@10` и `MAP@100`, определите, насколько эффективна user-based рекомендательная система для данной задачи."
   ]
  },
  {
   "cell_type": "code",
   "execution_count": null,
   "metadata": {
    "id": "beelY_AAYKXj"
   },
   "outputs": [],
   "source": [
    "from utils import mapk, apk"
   ]
  },
  {
   "cell_type": "code",
   "execution_count": null,
   "metadata": {
    "colab": {
     "base_uri": "https://localhost:8080/"
    },
    "id": "fuKhhLwZYKXj",
    "outputId": "f50763f0-c084-4f25-a5c4-2c2c9affdba6"
   },
   "outputs": [
    {
     "name": "stdout",
     "output_type": "stream",
     "text": [
      "Euclidean MAP@5 = 0.09566666666666668\n",
      "Euclidean MAP@10 = 0.10011111111111111\n",
      "Euclidean MAP@100 = 0.10741269924105748\n"
     ]
    }
   ],
   "source": [
    "print(f'Euclidean MAP@5 = {mapk(actual, predicted, 5)}')\n",
    "print(f'Euclidean MAP@10 = {mapk(actual, predicted, 10)}')\n",
    "print(f'Euclidean MAP@100 = {mapk(actual, predicted, 100)}')"
   ]
  },
  {
   "cell_type": "code",
   "execution_count": null,
   "metadata": {
    "colab": {
     "base_uri": "https://localhost:8080/"
    },
    "id": "FnA6hX2QdGNv",
    "outputId": "54de38bf-4d90-4665-dc42-14f54c1fb628"
   },
   "outputs": [
    {
     "name": "stdout",
     "output_type": "stream",
     "text": [
      "Pearson MAP@5 = 0.09666666666666666\n",
      "Pearson MAP@10 = 0.09666666666666666\n",
      "Pearson MAP@100 = 0.10783826712503183\n"
     ]
    }
   ],
   "source": [
    "print(f'Pearson MAP@5 = {mapk(actual_pear, predicted_pear, 5)}')\n",
    "print(f'Pearson MAP@10 = {mapk(actual_pear, predicted_pear, 10)}')\n",
    "print(f'Pearson MAP@100 = {mapk(actual_pear, predicted_pear, 100)}')"
   ]
  },
  {
   "cell_type": "markdown",
   "metadata": {
    "id": "qc_YEMFhYKXj"
   },
   "source": [
    "Как можно улучшить работу модели?\n",
    "\n",
    "<b>Ответ:</b> Попробовать перебрать гиперпараметры модели (перебор ниже) или применить другую метрику близости пользователей, возможно с другой метрикой качество будет выше"
   ]
  },
  {
   "cell_type": "code",
   "execution_count": null,
   "metadata": {
    "colab": {
     "base_uri": "https://localhost:8080/"
    },
    "id": "0orOYy1ijHsm",
    "outputId": "cdc86c8b-4238-4183-9763-d416b9ebd20e"
   },
   "outputs": [
    {
     "name": "stderr",
     "output_type": "stream",
     "text": [
      "100%|██████████| 4/4 [1:14:11<00:00, 1112.98s/it]\n"
     ]
    }
   ],
   "source": [
    "# euclidean\n",
    "max_eucl = 0\n",
    "alpha_euclidean = [0.3, 0.5, 0.7, 0.9]\n",
    "clocest_users_eucl = [5, 10, 20, 30]\n",
    "k = [5, 10, 100]\n",
    "for alpha in tqdm(alpha_euclidean):\n",
    "    for i in k:\n",
    "        for user in clocest_users_eucl:\n",
    "            actual_eucl, predicted_eucl = calculate_mapk('euclidean', alpha, user)\n",
    "            if mapk(actual_eucl, predicted_eucl, i) > max_eucl:\n",
    "                max_eucl = mapk(actual_eucl, predicted_eucl, i)\n",
    "                best_k = i\n",
    "                best_alpha = alpha\n",
    "                best_user = user"
   ]
  },
  {
   "cell_type": "code",
   "execution_count": null,
   "metadata": {
    "colab": {
     "base_uri": "https://localhost:8080/"
    },
    "id": "5y9pjfiv8qvR",
    "outputId": "b407306f-36c0-4027-e3ac-2b68035727d8"
   },
   "outputs": [
    {
     "name": "stdout",
     "output_type": "stream",
     "text": [
      "Euclidean. Лучший результат метрики MAP@100 = 0.107, Лучшие гиперпарметры: k = 100, alpha = 0.3, closest_users = 10 \n"
     ]
    }
   ],
   "source": [
    "print(f'Euclidean. Лучший результат метрики MAP@{best_k} = {round(max_eucl, 3)}, Лучшие гиперпарметры: k = {best_k}, alpha = {best_alpha}, closest_users = {best_user} ')"
   ]
  },
  {
   "cell_type": "code",
   "execution_count": null,
   "metadata": {
    "colab": {
     "base_uri": "https://localhost:8080/"
    },
    "id": "RR5mzwwNkt0L",
    "outputId": "73d3c994-f65b-4e0e-9e30-b49aad70659d"
   },
   "outputs": [
    {
     "name": "stderr",
     "output_type": "stream",
     "text": [
      "100%|██████████| 3/3 [2:13:20<00:00, 2666.76s/it]\n"
     ]
    }
   ],
   "source": [
    "# pearson\n",
    "max_pear = 0\n",
    "alpha_pearson = [0.1, 0.2, 0.3]\n",
    "clocest_users_pear = [5, 10, 30]\n",
    "k = [5, 10, 100]\n",
    "for alpha in tqdm(alpha_pearson):\n",
    "    for i in k:\n",
    "        for user in clocest_users_pear:\n",
    "            actual_pear, predicted_pear = calculate_mapk('pearson', alpha, user)\n",
    "            if mapk(actual_pear, predicted_pear, i) > max_pear:\n",
    "                    max_pear = mapk(actual_pear, predicted_pear, i)\n",
    "                    best_k_pear = i\n",
    "                    best_alpha_pear = alpha\n",
    "                    best_user_pear = user"
   ]
  },
  {
   "cell_type": "code",
   "execution_count": null,
   "metadata": {
    "colab": {
     "base_uri": "https://localhost:8080/"
    },
    "id": "RAeP9SCT_CcT",
    "outputId": "550a8166-c9b5-4049-bb53-70f989c80248"
   },
   "outputs": [
    {
     "name": "stdout",
     "output_type": "stream",
     "text": [
      "Pearson. Лучший результат метрики MAP@100 = 0.108, Лучшие гиперпарметры: k = 100, alpha = 0.3, closest_users = 30 \n"
     ]
    }
   ],
   "source": [
    "print(f'Pearson. Лучший результат метрики MAP@{best_k_pear} = {round(max_pear, 3)}, Лучшие гиперпарметры: k = {best_k_pear}, alpha = {best_alpha_pear}, closest_users = {best_user_pear} ')"
   ]
  },
  {
   "cell_type": "markdown",
   "metadata": {
    "id": "527mdbaUAdxS"
   },
   "source": [
    "**Вывод**: в целом user-based рекомендательная система достаточно неплохо находит похожих пользователей, но в конечном счете фильмы рекомендует не очень хорошо, метрика MAP показала плохое качество"
   ]
  },
  {
   "cell_type": "markdown",
   "metadata": {
    "id": "Rs-BYmke_Cm9"
   },
   "source": [
    "### Источники:\n",
    "1. Преобразование датасета в матрицу рейтингов - ноутбук с семинара\n",
    "\n",
    "2. Метрики mapk и apk - https://github.com/benhamner/Metrics/blob/master/Python/ml_metrics/average_precision.py"
   ]
  }
 ],
 "metadata": {
  "colab": {
   "collapsed_sections": [
    "GR10GlGSYKXb"
   ],
   "name": "recsys_homework.ipynb",
   "provenance": []
  },
  "kernelspec": {
   "display_name": "Python 3",
   "language": "python",
   "name": "python3"
  },
  "language_info": {
   "codemirror_mode": {
    "name": "ipython",
    "version": 3
   },
   "file_extension": ".py",
   "mimetype": "text/x-python",
   "name": "python",
   "nbconvert_exporter": "python",
   "pygments_lexer": "ipython3",
   "version": "3.8.5"
  }
 },
 "nbformat": 4,
 "nbformat_minor": 1
}
