{
  "nbformat": 4,
  "nbformat_minor": 0,
  "metadata": {
    "kernelspec": {
      "display_name": "Python 3",
      "language": "python",
      "name": "python3"
    },
    "language_info": {
      "codemirror_mode": {
        "name": "ipython",
        "version": 3
      },
      "file_extension": ".py",
      "mimetype": "text/x-python",
      "name": "python",
      "nbconvert_exporter": "python",
      "pygments_lexer": "ipython3",
      "version": "3.8.5"
    },
    "colab": {
      "name": "hw_nlp.ipynb",
      "provenance": [],
      "collapsed_sections": []
    }
  },
  "cells": [
    {
      "cell_type": "code",
      "metadata": {
        "colab": {
          "base_uri": "https://localhost:8080/"
        },
        "id": "2_i8agnx2fo3",
        "outputId": "6e35aede-bf20-4f86-a9c0-0485fc78bf58"
      },
      "source": [
        "pip install catboost"
      ],
      "execution_count": null,
      "outputs": [
        {
          "output_type": "stream",
          "text": [
            "Collecting catboost\n",
            "\u001b[?25l  Downloading https://files.pythonhosted.org/packages/47/80/8e9c57ec32dfed6ba2922bc5c96462cbf8596ce1a6f5de532ad1e43e53fe/catboost-0.25.1-cp37-none-manylinux1_x86_64.whl (67.3MB)\n",
            "\u001b[K     |████████████████████████████████| 67.3MB 54kB/s \n",
            "\u001b[?25hRequirement already satisfied: scipy in /usr/local/lib/python3.7/dist-packages (from catboost) (1.4.1)\n",
            "Requirement already satisfied: numpy>=1.16.0 in /usr/local/lib/python3.7/dist-packages (from catboost) (1.19.5)\n",
            "Requirement already satisfied: plotly in /usr/local/lib/python3.7/dist-packages (from catboost) (4.4.1)\n",
            "Requirement already satisfied: pandas>=0.24.0 in /usr/local/lib/python3.7/dist-packages (from catboost) (1.1.5)\n",
            "Requirement already satisfied: six in /usr/local/lib/python3.7/dist-packages (from catboost) (1.15.0)\n",
            "Requirement already satisfied: matplotlib in /usr/local/lib/python3.7/dist-packages (from catboost) (3.2.2)\n",
            "Requirement already satisfied: graphviz in /usr/local/lib/python3.7/dist-packages (from catboost) (0.10.1)\n",
            "Requirement already satisfied: retrying>=1.3.3 in /usr/local/lib/python3.7/dist-packages (from plotly->catboost) (1.3.3)\n",
            "Requirement already satisfied: python-dateutil>=2.7.3 in /usr/local/lib/python3.7/dist-packages (from pandas>=0.24.0->catboost) (2.8.1)\n",
            "Requirement already satisfied: pytz>=2017.2 in /usr/local/lib/python3.7/dist-packages (from pandas>=0.24.0->catboost) (2018.9)\n",
            "Requirement already satisfied: kiwisolver>=1.0.1 in /usr/local/lib/python3.7/dist-packages (from matplotlib->catboost) (1.3.1)\n",
            "Requirement already satisfied: cycler>=0.10 in /usr/local/lib/python3.7/dist-packages (from matplotlib->catboost) (0.10.0)\n",
            "Requirement already satisfied: pyparsing!=2.0.4,!=2.1.2,!=2.1.6,>=2.0.1 in /usr/local/lib/python3.7/dist-packages (from matplotlib->catboost) (2.4.7)\n",
            "Installing collected packages: catboost\n",
            "Successfully installed catboost-0.25.1\n"
          ],
          "name": "stdout"
        }
      ]
    },
    {
      "cell_type": "code",
      "metadata": {
        "id": "eOnM1CAz7mZB"
      },
      "source": [
        "import pandas as pd\n",
        "import numpy as np\n",
        "import nltk\n",
        "from nltk.corpus import stopwords\n",
        "import re\n",
        "from tqdm import tqdm\n",
        "import warnings\n",
        "from sklearn.ensemble import RandomForestRegressor\n",
        "from catboost import CatBoostRegressor\n",
        "from lightgbm import LGBMRegressor\n",
        "from sklearn.model_selection import train_test_split, cross_val_score\n",
        "from sklearn.metrics import mean_squared_error \n",
        "from sklearn import preprocessing\n",
        "warnings.filterwarnings(\"ignore\")"
      ],
      "execution_count": null,
      "outputs": []
    },
    {
      "cell_type": "code",
      "metadata": {
        "colab": {
          "base_uri": "https://localhost:8080/"
        },
        "id": "wP3YnTYQ7tS1",
        "outputId": "c6b2a4f5-2f6c-4f43-fdb9-b69434e48364"
      },
      "source": [
        "from google.colab import drive\n",
        "drive.mount('/content/drive')"
      ],
      "execution_count": null,
      "outputs": [
        {
          "output_type": "stream",
          "text": [
            "Drive already mounted at /content/drive; to attempt to forcibly remount, call drive.mount(\"/content/drive\", force_remount=True).\n"
          ],
          "name": "stdout"
        }
      ]
    },
    {
      "cell_type": "code",
      "metadata": {
        "scrolled": true,
        "id": "pImiMQ557mZH"
      },
      "source": [
        "df_train = pd.read_csv('/content/drive/MyDrive/train.csv',  encoding='ISO-8859-1')\n",
        "df_test = pd.read_csv('/content/drive/MyDrive/test.csv',  encoding='ISO-8859-1')"
      ],
      "execution_count": null,
      "outputs": []
    },
    {
      "cell_type": "code",
      "metadata": {
        "colab": {
          "base_uri": "https://localhost:8080/",
          "height": 204
        },
        "id": "bhxEIK9w7mZI",
        "outputId": "7314cade-0050-46f8-d1ad-c5da2957c981"
      },
      "source": [
        "df_train.head()"
      ],
      "execution_count": null,
      "outputs": [
        {
          "output_type": "execute_result",
          "data": {
            "text/html": [
              "<div>\n",
              "<style scoped>\n",
              "    .dataframe tbody tr th:only-of-type {\n",
              "        vertical-align: middle;\n",
              "    }\n",
              "\n",
              "    .dataframe tbody tr th {\n",
              "        vertical-align: top;\n",
              "    }\n",
              "\n",
              "    .dataframe thead th {\n",
              "        text-align: right;\n",
              "    }\n",
              "</style>\n",
              "<table border=\"1\" class=\"dataframe\">\n",
              "  <thead>\n",
              "    <tr style=\"text-align: right;\">\n",
              "      <th></th>\n",
              "      <th>Id</th>\n",
              "      <th>Hotel_name</th>\n",
              "      <th>Review_Title</th>\n",
              "      <th>Review_Text</th>\n",
              "      <th>Rating</th>\n",
              "    </tr>\n",
              "  </thead>\n",
              "  <tbody>\n",
              "    <tr>\n",
              "      <th>0</th>\n",
              "      <td>0</td>\n",
              "      <td>Park Hyatt</td>\n",
              "      <td>Refuge in Chennai</td>\n",
              "      <td>Excellent room and exercise facility. All arou...</td>\n",
              "      <td>80.0</td>\n",
              "    </tr>\n",
              "    <tr>\n",
              "      <th>1</th>\n",
              "      <td>1</td>\n",
              "      <td>Hilton Chennai</td>\n",
              "      <td>Hilton Chennai</td>\n",
              "      <td>Very comfortable and felt safe. \\r\\nStaff were...</td>\n",
              "      <td>100.0</td>\n",
              "    </tr>\n",
              "    <tr>\n",
              "      <th>2</th>\n",
              "      <td>2</td>\n",
              "      <td>The Royal Regency</td>\n",
              "      <td>No worth the rating shown in websites. Pricing...</td>\n",
              "      <td>Not worth the rating shown. Service is not goo...</td>\n",
              "      <td>71.0</td>\n",
              "    </tr>\n",
              "    <tr>\n",
              "      <th>3</th>\n",
              "      <td>3</td>\n",
              "      <td>Rivera</td>\n",
              "      <td>Good stay</td>\n",
              "      <td>First of all nice &amp; courteous staff, only one ...</td>\n",
              "      <td>86.0</td>\n",
              "    </tr>\n",
              "    <tr>\n",
              "      <th>4</th>\n",
              "      <td>4</td>\n",
              "      <td>Park Hyatt</td>\n",
              "      <td>Needs improvement</td>\n",
              "      <td>Overall ambience of the hotel is very good. In...</td>\n",
              "      <td>86.0</td>\n",
              "    </tr>\n",
              "  </tbody>\n",
              "</table>\n",
              "</div>"
            ],
            "text/plain": [
              "   Id  ... Rating\n",
              "0   0  ...   80.0\n",
              "1   1  ...  100.0\n",
              "2   2  ...   71.0\n",
              "3   3  ...   86.0\n",
              "4   4  ...   86.0\n",
              "\n",
              "[5 rows x 5 columns]"
            ]
          },
          "metadata": {
            "tags": []
          },
          "execution_count": 4
        }
      ]
    },
    {
      "cell_type": "code",
      "metadata": {
        "id": "C2BmvauF6ean"
      },
      "source": [
        "df_train = df_train.dropna()\n",
        "df_test = df_test.dropna()"
      ],
      "execution_count": null,
      "outputs": []
    },
    {
      "cell_type": "code",
      "metadata": {
        "id": "JgL0KUblBlcP"
      },
      "source": [
        "df = pd.concat([df_train, df_test])"
      ],
      "execution_count": null,
      "outputs": []
    },
    {
      "cell_type": "code",
      "metadata": {
        "colab": {
          "base_uri": "https://localhost:8080/",
          "height": 204
        },
        "id": "V_uiGU6DBqvj",
        "outputId": "2c163422-9d88-4913-ff01-024b6156cc04"
      },
      "source": [
        "df = df.reset_index()\n",
        "df.head()"
      ],
      "execution_count": null,
      "outputs": [
        {
          "output_type": "execute_result",
          "data": {
            "text/html": [
              "<div>\n",
              "<style scoped>\n",
              "    .dataframe tbody tr th:only-of-type {\n",
              "        vertical-align: middle;\n",
              "    }\n",
              "\n",
              "    .dataframe tbody tr th {\n",
              "        vertical-align: top;\n",
              "    }\n",
              "\n",
              "    .dataframe thead th {\n",
              "        text-align: right;\n",
              "    }\n",
              "</style>\n",
              "<table border=\"1\" class=\"dataframe\">\n",
              "  <thead>\n",
              "    <tr style=\"text-align: right;\">\n",
              "      <th></th>\n",
              "      <th>index</th>\n",
              "      <th>Id</th>\n",
              "      <th>Hotel_name</th>\n",
              "      <th>Review_Title</th>\n",
              "      <th>Review_Text</th>\n",
              "      <th>Rating</th>\n",
              "    </tr>\n",
              "  </thead>\n",
              "  <tbody>\n",
              "    <tr>\n",
              "      <th>0</th>\n",
              "      <td>0</td>\n",
              "      <td>0</td>\n",
              "      <td>Park Hyatt</td>\n",
              "      <td>Refuge in Chennai</td>\n",
              "      <td>Excellent room and exercise facility. All arou...</td>\n",
              "      <td>80.0</td>\n",
              "    </tr>\n",
              "    <tr>\n",
              "      <th>1</th>\n",
              "      <td>1</td>\n",
              "      <td>1</td>\n",
              "      <td>Hilton Chennai</td>\n",
              "      <td>Hilton Chennai</td>\n",
              "      <td>Very comfortable and felt safe. \\r\\nStaff were...</td>\n",
              "      <td>100.0</td>\n",
              "    </tr>\n",
              "    <tr>\n",
              "      <th>2</th>\n",
              "      <td>2</td>\n",
              "      <td>2</td>\n",
              "      <td>The Royal Regency</td>\n",
              "      <td>No worth the rating shown in websites. Pricing...</td>\n",
              "      <td>Not worth the rating shown. Service is not goo...</td>\n",
              "      <td>71.0</td>\n",
              "    </tr>\n",
              "    <tr>\n",
              "      <th>3</th>\n",
              "      <td>3</td>\n",
              "      <td>3</td>\n",
              "      <td>Rivera</td>\n",
              "      <td>Good stay</td>\n",
              "      <td>First of all nice &amp; courteous staff, only one ...</td>\n",
              "      <td>86.0</td>\n",
              "    </tr>\n",
              "    <tr>\n",
              "      <th>4</th>\n",
              "      <td>4</td>\n",
              "      <td>4</td>\n",
              "      <td>Park Hyatt</td>\n",
              "      <td>Needs improvement</td>\n",
              "      <td>Overall ambience of the hotel is very good. In...</td>\n",
              "      <td>86.0</td>\n",
              "    </tr>\n",
              "  </tbody>\n",
              "</table>\n",
              "</div>"
            ],
            "text/plain": [
              "   index  Id  ...                                        Review_Text Rating\n",
              "0      0   0  ...  Excellent room and exercise facility. All arou...   80.0\n",
              "1      1   1  ...  Very comfortable and felt safe. \\r\\nStaff were...  100.0\n",
              "2      2   2  ...  Not worth the rating shown. Service is not goo...   71.0\n",
              "3      3   3  ...  First of all nice & courteous staff, only one ...   86.0\n",
              "4      4   4  ...  Overall ambience of the hotel is very good. In...   86.0\n",
              "\n",
              "[5 rows x 6 columns]"
            ]
          },
          "metadata": {
            "tags": []
          },
          "execution_count": 7
        }
      ]
    },
    {
      "cell_type": "code",
      "metadata": {
        "colab": {
          "base_uri": "https://localhost:8080/"
        },
        "id": "3j4ospmE-IiS",
        "outputId": "2af40335-52ce-4958-b76d-9c5d6f2980c4"
      },
      "source": [
        "nltk.download('stopwords')"
      ],
      "execution_count": null,
      "outputs": [
        {
          "output_type": "stream",
          "text": [
            "[nltk_data] Downloading package stopwords to /root/nltk_data...\n",
            "[nltk_data]   Package stopwords is already up-to-date!\n"
          ],
          "name": "stdout"
        },
        {
          "output_type": "execute_result",
          "data": {
            "text/plain": [
              "True"
            ]
          },
          "metadata": {
            "tags": []
          },
          "execution_count": 8
        }
      ]
    },
    {
      "cell_type": "code",
      "metadata": {
        "id": "QWqitDRG-M0I"
      },
      "source": [
        "stopwords = set(stopwords.words('english'))"
      ],
      "execution_count": null,
      "outputs": []
    },
    {
      "cell_type": "code",
      "metadata": {
        "id": "D9ERl4Js-M32"
      },
      "source": [
        "def remove_stop_words(sir):\n",
        "    splited = sir.split(' ')\n",
        "    splited = [word for word in splited if word not in stopwords]\n",
        "    return ' '.join(splited)\n",
        "\n",
        "df['Review_Text'] = df['Review_Text'].apply(remove_stop_words)"
      ],
      "execution_count": null,
      "outputs": []
    },
    {
      "cell_type": "code",
      "metadata": {
        "id": "jYf2EZeUFtOJ"
      },
      "source": [
        "expr = r'[^\\w ]'\n",
        "parser=re.compile(expr)\n",
        "df['Review_Text'] = list(map(lambda x: (re.sub(expr, '', x)).split(), df['Review_Text']))"
      ],
      "execution_count": null,
      "outputs": []
    },
    {
      "cell_type": "code",
      "metadata": {
        "id": "EpeR-i9-_Jwp",
        "colab": {
          "base_uri": "https://localhost:8080/"
        },
        "outputId": "98dda1a5-dd68-44a4-fdea-81c688d40fa9"
      },
      "source": [
        "dictionary = []\n",
        "\n",
        "for d in tqdm(df['Review_Text']):\n",
        "    dictionary = np.concatenate((dictionary, np.unique(d)))"
      ],
      "execution_count": null,
      "outputs": [
        {
          "output_type": "stream",
          "text": [
            "100%|██████████| 4279/4279 [01:47<00:00, 39.93it/s]\n"
          ],
          "name": "stderr"
        }
      ]
    },
    {
      "cell_type": "code",
      "metadata": {
        "id": "hWg7UoWnMMiP"
      },
      "source": [
        "dictionary = np.unique(dictionary)"
      ],
      "execution_count": null,
      "outputs": []
    },
    {
      "cell_type": "code",
      "metadata": {
        "id": "Pk-irFAdMTtj"
      },
      "source": [
        "dictionary = list(dictionary)"
      ],
      "execution_count": null,
      "outputs": []
    },
    {
      "cell_type": "code",
      "metadata": {
        "id": "N-UIh7Y1HB9d"
      },
      "source": [
        "from nltk import wordnet, pos_tag\n",
        "def get_wordnet_pos(treebank_tag):\n",
        "    my_switch = {\n",
        "        'J': wordnet.wordnet.ADJ,\n",
        "        'V': wordnet.wordnet.VERB,\n",
        "        'N': wordnet.wordnet.NOUN,\n",
        "        'R': wordnet.wordnet.ADV,\n",
        "    }\n",
        "    for key, item in my_switch.items():\n",
        "        if treebank_tag.startswith(key):\n",
        "            return item\n",
        "    return wordnet.wordnet.NOUN"
      ],
      "execution_count": null,
      "outputs": []
    },
    {
      "cell_type": "code",
      "metadata": {
        "id": "pEGwVZ1YHB_5",
        "colab": {
          "base_uri": "https://localhost:8080/"
        },
        "outputId": "8cbb45f7-bee0-4651-c502-78f66f7e3827"
      },
      "source": [
        "nltk.download('averaged_perceptron_tagger')"
      ],
      "execution_count": null,
      "outputs": [
        {
          "output_type": "stream",
          "text": [
            "[nltk_data] Downloading package averaged_perceptron_tagger to\n",
            "[nltk_data]     /root/nltk_data...\n",
            "[nltk_data]   Package averaged_perceptron_tagger is already up-to-\n",
            "[nltk_data]       date!\n"
          ],
          "name": "stdout"
        },
        {
          "output_type": "execute_result",
          "data": {
            "text/plain": [
              "True"
            ]
          },
          "metadata": {
            "tags": []
          },
          "execution_count": 16
        }
      ]
    },
    {
      "cell_type": "code",
      "metadata": {
        "id": "-c6MLUz_HCD_",
        "colab": {
          "base_uri": "https://localhost:8080/"
        },
        "outputId": "1dc91ae8-4bf3-4c75-d6c5-c369869332a6"
      },
      "source": [
        "nltk.download('wordnet')"
      ],
      "execution_count": null,
      "outputs": [
        {
          "output_type": "stream",
          "text": [
            "[nltk_data] Downloading package wordnet to /root/nltk_data...\n",
            "[nltk_data]   Package wordnet is already up-to-date!\n"
          ],
          "name": "stdout"
        },
        {
          "output_type": "execute_result",
          "data": {
            "text/plain": [
              "True"
            ]
          },
          "metadata": {
            "tags": []
          },
          "execution_count": 17
        }
      ]
    },
    {
      "cell_type": "code",
      "metadata": {
        "id": "AZOd6G59_J1l"
      },
      "source": [
        "from nltk import WordNetLemmatizer\n",
        "def my_lemmatizer(sent):\n",
        "    lemmatizer = WordNetLemmatizer()\n",
        "    tokenized_sent = sent.split()\n",
        "    pos_tagged = [(word, get_wordnet_pos(tag))\n",
        "                 for word, tag in pos_tag(tokenized_sent)]\n",
        "    return ' '.join([lemmatizer.lemmatize(word, tag)\n",
        "                    for word, tag in pos_tagged])"
      ],
      "execution_count": null,
      "outputs": []
    },
    {
      "cell_type": "code",
      "metadata": {
        "id": "_-RdYY1SGaJI"
      },
      "source": [
        "dictionary_lem = np.unique((my_lemmatizer(' '.join(dictionary))).split())"
      ],
      "execution_count": null,
      "outputs": []
    },
    {
      "cell_type": "code",
      "metadata": {
        "colab": {
          "base_uri": "https://localhost:8080/"
        },
        "id": "mfmL5AA8_oew",
        "outputId": "fa641f41-ce3f-465a-b641-64cb6b1c6b7b"
      },
      "source": [
        "df_review_text_train = []\n",
        "for sentence in tqdm(df_train['Review_Text']):\n",
        "        sentence = list(map(lambda x: ' '.join([word for word in x.split() if not word in stopwords]), sentence.split()))\n",
        "        sentence = list(map(lambda x: re.sub(expr, '', x), sentence))\n",
        "        spisok = []\n",
        "        for sent in sentence:\n",
        "            if sent != '':\n",
        "                spisok.append(my_lemmatizer(sent))\n",
        "        df_review_text_train.append(spisok)"
      ],
      "execution_count": null,
      "outputs": [
        {
          "output_type": "stream",
          "text": [
            "100%|██████████| 2136/2136 [00:08<00:00, 247.50it/s]\n"
          ],
          "name": "stderr"
        }
      ]
    },
    {
      "cell_type": "code",
      "metadata": {
        "colab": {
          "base_uri": "https://localhost:8080/"
        },
        "id": "vCHtgfZ4AYrC",
        "outputId": "0e030aa5-f027-4f02-f792-e631122aad62"
      },
      "source": [
        "df_review_text_test = []\n",
        "for sentence in tqdm(df_test['Review_Text']):\n",
        "        sentence = list(map(lambda x: ' '.join([word for word in x.split() if not word in stopwords]), sentence.split()))\n",
        "        sentence = list(map(lambda x: re.sub(expr, '', x), sentence))\n",
        "        spisok = []\n",
        "        for sent in sentence:\n",
        "            if sent != '':\n",
        "                spisok.append(my_lemmatizer(sent))\n",
        "        df_review_text_test.append(spisok)"
      ],
      "execution_count": null,
      "outputs": [
        {
          "output_type": "stream",
          "text": [
            "100%|██████████| 2143/2143 [00:08<00:00, 250.05it/s]\n"
          ],
          "name": "stderr"
        }
      ]
    },
    {
      "cell_type": "code",
      "metadata": {
        "id": "BVBs36-kCM-b"
      },
      "source": [
        "df_lem = df_review_text_train + df_review_text_test"
      ],
      "execution_count": null,
      "outputs": []
    },
    {
      "cell_type": "code",
      "metadata": {
        "id": "IR124uH0E747"
      },
      "source": [
        "df['Review_Text'] = df_lem"
      ],
      "execution_count": null,
      "outputs": []
    },
    {
      "cell_type": "markdown",
      "metadata": {
        "id": "ry9Luzd77b3p"
      },
      "source": [
        "One hot encoding"
      ]
    },
    {
      "cell_type": "code",
      "metadata": {
        "id": "gR_q18KAFMqv"
      },
      "source": [
        "df[dictionary_lem] = 0"
      ],
      "execution_count": null,
      "outputs": []
    },
    {
      "cell_type": "code",
      "metadata": {
        "colab": {
          "base_uri": "https://localhost:8080/",
          "height": 395
        },
        "id": "4y-LmK02FMtV",
        "outputId": "7cfc0c67-2b4b-4b0b-ef42-62a34ee8829a"
      },
      "source": [
        "df.head(3)"
      ],
      "execution_count": null,
      "outputs": [
        {
          "output_type": "execute_result",
          "data": {
            "text/html": [
              "<div>\n",
              "<style scoped>\n",
              "    .dataframe tbody tr th:only-of-type {\n",
              "        vertical-align: middle;\n",
              "    }\n",
              "\n",
              "    .dataframe tbody tr th {\n",
              "        vertical-align: top;\n",
              "    }\n",
              "\n",
              "    .dataframe thead th {\n",
              "        text-align: right;\n",
              "    }\n",
              "</style>\n",
              "<table border=\"1\" class=\"dataframe\">\n",
              "  <thead>\n",
              "    <tr style=\"text-align: right;\">\n",
              "      <th></th>\n",
              "      <th>index</th>\n",
              "      <th>Id</th>\n",
              "      <th>Hotel_name</th>\n",
              "      <th>Review_Title</th>\n",
              "      <th>Review_Text</th>\n",
              "      <th>Rating</th>\n",
              "      <th>0</th>\n",
              "      <th>00</th>\n",
              "      <th>001</th>\n",
              "      <th>01</th>\n",
              "      <th>0430</th>\n",
              "      <th>0500</th>\n",
              "      <th>0930am</th>\n",
              "      <th>1</th>\n",
              "      <th>10</th>\n",
              "      <th>100</th>\n",
              "      <th>1000</th>\n",
              "      <th>1000pm</th>\n",
              "      <th>100100</th>\n",
              "      <th>100716</th>\n",
              "      <th>100ft</th>\n",
              "      <th>100kms</th>\n",
              "      <th>100meters</th>\n",
              "      <th>1010</th>\n",
              "      <th>1015pm</th>\n",
              "      <th>10am</th>\n",
              "      <th>10pm</th>\n",
              "      <th>10th</th>\n",
              "      <th>11</th>\n",
              "      <th>110</th>\n",
              "      <th>1100</th>\n",
              "      <th>111</th>\n",
              "      <th>111111111111111E249</th>\n",
              "      <th>111130pm</th>\n",
              "      <th>115</th>\n",
              "      <th>1150</th>\n",
              "      <th>11am</th>\n",
              "      <th>11pm</th>\n",
              "      <th>11th</th>\n",
              "      <th>12</th>\n",
              "      <th>...</th>\n",
              "      <th>worthless</th>\n",
              "      <th>worthy</th>\n",
              "      <th>would</th>\n",
              "      <th>wow</th>\n",
              "      <th>write</th>\n",
              "      <th>wrong</th>\n",
              "      <th>wry</th>\n",
              "      <th>wud</th>\n",
              "      <th>x</th>\n",
              "      <th>xxxxxx</th>\n",
              "      <th>xxxxxxx</th>\n",
              "      <th>xxxxxxxxxxxxxxxxxxx</th>\n",
              "      <th>yaatra</th>\n",
              "      <th>yacht</th>\n",
              "      <th>yaha</th>\n",
              "      <th>yard</th>\n",
              "      <th>yaru</th>\n",
              "      <th>yeah</th>\n",
              "      <th>year</th>\n",
              "      <th>yellow</th>\n",
              "      <th>yet</th>\n",
              "      <th>ygyugiguug</th>\n",
              "      <th>yhgktrh</th>\n",
              "      <th>yoga</th>\n",
              "      <th>you</th>\n",
              "      <th>young</th>\n",
              "      <th>youre</th>\n",
              "      <th>yourself</th>\n",
              "      <th>yourselves</th>\n",
              "      <th>yrs</th>\n",
              "      <th>ysbut</th>\n",
              "      <th>yukkk</th>\n",
              "      <th>yum</th>\n",
              "      <th>yummacious</th>\n",
              "      <th>yummy</th>\n",
              "      <th>yyy66</th>\n",
              "      <th>zero</th>\n",
              "      <th>zinc</th>\n",
              "      <th>zone</th>\n",
              "      <th>zoo</th>\n",
              "    </tr>\n",
              "  </thead>\n",
              "  <tbody>\n",
              "    <tr>\n",
              "      <th>0</th>\n",
              "      <td>0</td>\n",
              "      <td>0</td>\n",
              "      <td>Park Hyatt</td>\n",
              "      <td>Refuge in Chennai</td>\n",
              "      <td>[Excellent, room, exercise, facility, All, aro...</td>\n",
              "      <td>80.0</td>\n",
              "      <td>0</td>\n",
              "      <td>0</td>\n",
              "      <td>0</td>\n",
              "      <td>0</td>\n",
              "      <td>0</td>\n",
              "      <td>0</td>\n",
              "      <td>0</td>\n",
              "      <td>0</td>\n",
              "      <td>0</td>\n",
              "      <td>0</td>\n",
              "      <td>0</td>\n",
              "      <td>0</td>\n",
              "      <td>0</td>\n",
              "      <td>0</td>\n",
              "      <td>0</td>\n",
              "      <td>0</td>\n",
              "      <td>0</td>\n",
              "      <td>0</td>\n",
              "      <td>0</td>\n",
              "      <td>0</td>\n",
              "      <td>0</td>\n",
              "      <td>0</td>\n",
              "      <td>0</td>\n",
              "      <td>0</td>\n",
              "      <td>0</td>\n",
              "      <td>0</td>\n",
              "      <td>0</td>\n",
              "      <td>0</td>\n",
              "      <td>0</td>\n",
              "      <td>0</td>\n",
              "      <td>0</td>\n",
              "      <td>0</td>\n",
              "      <td>0</td>\n",
              "      <td>0</td>\n",
              "      <td>...</td>\n",
              "      <td>0</td>\n",
              "      <td>0</td>\n",
              "      <td>0</td>\n",
              "      <td>0</td>\n",
              "      <td>0</td>\n",
              "      <td>0</td>\n",
              "      <td>0</td>\n",
              "      <td>0</td>\n",
              "      <td>0</td>\n",
              "      <td>0</td>\n",
              "      <td>0</td>\n",
              "      <td>0</td>\n",
              "      <td>0</td>\n",
              "      <td>0</td>\n",
              "      <td>0</td>\n",
              "      <td>0</td>\n",
              "      <td>0</td>\n",
              "      <td>0</td>\n",
              "      <td>0</td>\n",
              "      <td>0</td>\n",
              "      <td>0</td>\n",
              "      <td>0</td>\n",
              "      <td>0</td>\n",
              "      <td>0</td>\n",
              "      <td>0</td>\n",
              "      <td>0</td>\n",
              "      <td>0</td>\n",
              "      <td>0</td>\n",
              "      <td>0</td>\n",
              "      <td>0</td>\n",
              "      <td>0</td>\n",
              "      <td>0</td>\n",
              "      <td>0</td>\n",
              "      <td>0</td>\n",
              "      <td>0</td>\n",
              "      <td>0</td>\n",
              "      <td>0</td>\n",
              "      <td>0</td>\n",
              "      <td>0</td>\n",
              "      <td>0</td>\n",
              "    </tr>\n",
              "    <tr>\n",
              "      <th>1</th>\n",
              "      <td>1</td>\n",
              "      <td>0</td>\n",
              "      <td>Hilton Chennai</td>\n",
              "      <td>Hilton Chennai</td>\n",
              "      <td>[Very, comfortable, felt, safe, Staff, helpful...</td>\n",
              "      <td>100.0</td>\n",
              "      <td>0</td>\n",
              "      <td>0</td>\n",
              "      <td>0</td>\n",
              "      <td>0</td>\n",
              "      <td>0</td>\n",
              "      <td>0</td>\n",
              "      <td>0</td>\n",
              "      <td>0</td>\n",
              "      <td>0</td>\n",
              "      <td>0</td>\n",
              "      <td>0</td>\n",
              "      <td>0</td>\n",
              "      <td>0</td>\n",
              "      <td>0</td>\n",
              "      <td>0</td>\n",
              "      <td>0</td>\n",
              "      <td>0</td>\n",
              "      <td>0</td>\n",
              "      <td>0</td>\n",
              "      <td>0</td>\n",
              "      <td>0</td>\n",
              "      <td>0</td>\n",
              "      <td>0</td>\n",
              "      <td>0</td>\n",
              "      <td>0</td>\n",
              "      <td>0</td>\n",
              "      <td>0</td>\n",
              "      <td>0</td>\n",
              "      <td>0</td>\n",
              "      <td>0</td>\n",
              "      <td>0</td>\n",
              "      <td>0</td>\n",
              "      <td>0</td>\n",
              "      <td>0</td>\n",
              "      <td>...</td>\n",
              "      <td>0</td>\n",
              "      <td>0</td>\n",
              "      <td>0</td>\n",
              "      <td>0</td>\n",
              "      <td>0</td>\n",
              "      <td>0</td>\n",
              "      <td>0</td>\n",
              "      <td>0</td>\n",
              "      <td>0</td>\n",
              "      <td>0</td>\n",
              "      <td>0</td>\n",
              "      <td>0</td>\n",
              "      <td>0</td>\n",
              "      <td>0</td>\n",
              "      <td>0</td>\n",
              "      <td>0</td>\n",
              "      <td>0</td>\n",
              "      <td>0</td>\n",
              "      <td>0</td>\n",
              "      <td>0</td>\n",
              "      <td>0</td>\n",
              "      <td>0</td>\n",
              "      <td>0</td>\n",
              "      <td>0</td>\n",
              "      <td>0</td>\n",
              "      <td>0</td>\n",
              "      <td>0</td>\n",
              "      <td>0</td>\n",
              "      <td>0</td>\n",
              "      <td>0</td>\n",
              "      <td>0</td>\n",
              "      <td>0</td>\n",
              "      <td>0</td>\n",
              "      <td>0</td>\n",
              "      <td>0</td>\n",
              "      <td>0</td>\n",
              "      <td>0</td>\n",
              "      <td>0</td>\n",
              "      <td>0</td>\n",
              "      <td>0</td>\n",
              "    </tr>\n",
              "    <tr>\n",
              "      <th>2</th>\n",
              "      <td>2</td>\n",
              "      <td>0</td>\n",
              "      <td>The Royal Regency</td>\n",
              "      <td>No worth the rating shown in websites. Pricing...</td>\n",
              "      <td>[Not, worth, rating, show, Service, good, Room...</td>\n",
              "      <td>71.0</td>\n",
              "      <td>0</td>\n",
              "      <td>0</td>\n",
              "      <td>0</td>\n",
              "      <td>0</td>\n",
              "      <td>0</td>\n",
              "      <td>0</td>\n",
              "      <td>0</td>\n",
              "      <td>0</td>\n",
              "      <td>0</td>\n",
              "      <td>0</td>\n",
              "      <td>0</td>\n",
              "      <td>0</td>\n",
              "      <td>0</td>\n",
              "      <td>0</td>\n",
              "      <td>0</td>\n",
              "      <td>0</td>\n",
              "      <td>0</td>\n",
              "      <td>0</td>\n",
              "      <td>0</td>\n",
              "      <td>0</td>\n",
              "      <td>0</td>\n",
              "      <td>0</td>\n",
              "      <td>0</td>\n",
              "      <td>0</td>\n",
              "      <td>0</td>\n",
              "      <td>0</td>\n",
              "      <td>0</td>\n",
              "      <td>0</td>\n",
              "      <td>0</td>\n",
              "      <td>0</td>\n",
              "      <td>0</td>\n",
              "      <td>0</td>\n",
              "      <td>0</td>\n",
              "      <td>0</td>\n",
              "      <td>...</td>\n",
              "      <td>0</td>\n",
              "      <td>0</td>\n",
              "      <td>0</td>\n",
              "      <td>0</td>\n",
              "      <td>0</td>\n",
              "      <td>0</td>\n",
              "      <td>0</td>\n",
              "      <td>0</td>\n",
              "      <td>0</td>\n",
              "      <td>0</td>\n",
              "      <td>0</td>\n",
              "      <td>0</td>\n",
              "      <td>0</td>\n",
              "      <td>0</td>\n",
              "      <td>0</td>\n",
              "      <td>0</td>\n",
              "      <td>0</td>\n",
              "      <td>0</td>\n",
              "      <td>0</td>\n",
              "      <td>0</td>\n",
              "      <td>0</td>\n",
              "      <td>0</td>\n",
              "      <td>0</td>\n",
              "      <td>0</td>\n",
              "      <td>0</td>\n",
              "      <td>0</td>\n",
              "      <td>0</td>\n",
              "      <td>0</td>\n",
              "      <td>0</td>\n",
              "      <td>0</td>\n",
              "      <td>0</td>\n",
              "      <td>0</td>\n",
              "      <td>0</td>\n",
              "      <td>0</td>\n",
              "      <td>0</td>\n",
              "      <td>0</td>\n",
              "      <td>0</td>\n",
              "      <td>0</td>\n",
              "      <td>0</td>\n",
              "      <td>0</td>\n",
              "    </tr>\n",
              "  </tbody>\n",
              "</table>\n",
              "<p>3 rows × 6920 columns</p>\n",
              "</div>"
            ],
            "text/plain": [
              "   index  Id         Hotel_name  ... zinc zone  zoo\n",
              "0      0   0         Park Hyatt  ...    0    0    0\n",
              "1      1   0     Hilton Chennai  ...    0    0    0\n",
              "2      2   0  The Royal Regency  ...    0    0    0\n",
              "\n",
              "[3 rows x 6920 columns]"
            ]
          },
          "metadata": {
            "tags": []
          },
          "execution_count": 25
        }
      ]
    },
    {
      "cell_type": "code",
      "metadata": {
        "colab": {
          "base_uri": "https://localhost:8080/"
        },
        "id": "mfTnC5q7FMvZ",
        "outputId": "f194787c-1f16-48f2-d317-c158b126997a"
      },
      "source": [
        "columns = list(df.columns)[6:]\n",
        "for i in tqdm(range(len(df))):\n",
        "    for j in range(len(columns)):\n",
        "        if columns[j] in df['Review_Text'][i]:\n",
        "            df[columns[j]][i] += 1"
      ],
      "execution_count": null,
      "outputs": [
        {
          "output_type": "stream",
          "text": [
            "100%|██████████| 4279/4279 [04:07<00:00, 17.26it/s]\n"
          ],
          "name": "stderr"
        }
      ]
    },
    {
      "cell_type": "code",
      "metadata": {
        "id": "CPRzGcM2e3kt"
      },
      "source": [
        "df = df.drop(['index', 'Id'], axis=1)"
      ],
      "execution_count": null,
      "outputs": []
    },
    {
      "cell_type": "code",
      "metadata": {
        "id": "TZS_t28lfD9w"
      },
      "source": [
        "df_train = df[:2136]\n",
        "df_test = df[2136:]"
      ],
      "execution_count": null,
      "outputs": []
    },
    {
      "cell_type": "code",
      "metadata": {
        "id": "1_7G3Nu3h6WT"
      },
      "source": [
        "def encoder(df, column):\n",
        "    le = preprocessing.LabelEncoder()\n",
        "    le.fit(list(df[column]))\n",
        "    le.transform(list(df[column]))\n",
        "    return pd.DataFrame(le.transform(list(df[column])))"
      ],
      "execution_count": null,
      "outputs": []
    },
    {
      "cell_type": "code",
      "metadata": {
        "id": "1uWd2iskh7vd"
      },
      "source": [
        "df_train['hotel_name'] = encoder(df_train, 'Hotel_name')"
      ],
      "execution_count": null,
      "outputs": []
    },
    {
      "cell_type": "code",
      "metadata": {
        "id": "KCrv5WDGiQAL"
      },
      "source": [
        "df_train = df_train.drop(['Review_Title', 'Review_Text', 'Hotel_name'], axis=1)"
      ],
      "execution_count": null,
      "outputs": []
    },
    {
      "cell_type": "code",
      "metadata": {
        "id": "15nnypdhgG6y"
      },
      "source": [
        "X = df_train.drop('Rating', axis=1)\n",
        "y = df_train['Rating']"
      ],
      "execution_count": null,
      "outputs": []
    },
    {
      "cell_type": "markdown",
      "metadata": {
        "id": "1FhEx7qt7tRU"
      },
      "source": [
        "Считаем MSE на разных моделях"
      ]
    },
    {
      "cell_type": "code",
      "metadata": {
        "id": "uAhDEBO9hRip",
        "colab": {
          "base_uri": "https://localhost:8080/"
        },
        "outputId": "307d8798-643d-4b9b-f8f5-af3f79f3c0f3"
      },
      "source": [
        "cvs_rf = -1*np.mean(cross_val_score(RandomForestRegressor(), X, y, scoring='neg_mean_squared_error', cv=5))\n",
        "print(f'RandomForestRegressor MSE: {cvs_rf}')"
      ],
      "execution_count": null,
      "outputs": [
        {
          "output_type": "stream",
          "text": [
            "RandomForestRegressor MSE: 222.71762850993622\n"
          ],
          "name": "stdout"
        }
      ]
    },
    {
      "cell_type": "code",
      "metadata": {
        "colab": {
          "base_uri": "https://localhost:8080/"
        },
        "id": "wZWtMPqrz3EZ",
        "outputId": "6b5926c6-c2d2-4b34-b571-66089d92e58c"
      },
      "source": [
        "cvs_cb = -1*np.mean(cross_val_score(CatBoostRegressor(silent=True), X, y, scoring='neg_mean_squared_error', cv=5))\n",
        "print(f'CatBoostRegressor MSE: {cvs_cb}')"
      ],
      "execution_count": null,
      "outputs": [
        {
          "output_type": "stream",
          "text": [
            "CatBoostRegressor MSE: 231.83991638059496\n"
          ],
          "name": "stdout"
        }
      ]
    },
    {
      "cell_type": "code",
      "metadata": {
        "colab": {
          "base_uri": "https://localhost:8080/"
        },
        "id": "LdvPVQ9V3YwH",
        "outputId": "ed9a005f-aa14-42e4-9662-e0c528b29ac2"
      },
      "source": [
        "cvs_lgbm = -1*np.mean(cross_val_score(LGBMRegressor(), X, y, scoring='neg_mean_squared_error', cv=7))\n",
        "print(f'LGBMRegressor MSE: {cvs_lgbm}')"
      ],
      "execution_count": null,
      "outputs": [
        {
          "output_type": "stream",
          "text": [
            "LGBMRegressor MSE: 232.6999262761887\n"
          ],
          "name": "stdout"
        }
      ]
    },
    {
      "cell_type": "markdown",
      "metadata": {
        "id": "__hd-y2r7uK1"
      },
      "source": [
        "Лучший результат показал RandomForestRegressor (MSE = 222.72)"
      ]
    }
  ]
}